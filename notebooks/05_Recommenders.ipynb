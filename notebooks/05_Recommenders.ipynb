{
  "cells": [
    {
      "cell_type": "markdown",
      "id": "c61735ea",
      "metadata": {
        "id": "c61735ea"
      },
      "source": [
        "# Assignment 05\n",
        "\n",
        "## Recommender Systems\n",
        "\n",
        "## CSCI E-108\n",
        "\n",
        "### Luciano Carvalho"
      ]
    },
    {
      "cell_type": "markdown",
      "id": "775d22f6",
      "metadata": {
        "id": "775d22f6"
      },
      "source": [
        "## Introduction\n",
        "\n",
        "Recommender algorithms are widely used in commerce. Further, the basic algorithms have found applications in other areas. In this Assignment you gain some experience working with recommender data, the collaborative filtering algorithm and some versions of the nonnegative matrix factorization algorithm.           \n",
        "\n",
        "This Assignment uses the Python [Surprise](https://surprise.readthedocs.io/en/stable/index.html) package a Scikit for recommender system experimentation. This package is in maintenance mode, but is still useful for learning recommender concepts. If you have not previously installed Surprise you will need to install it. Generally, the best way to install this older package is to run the command below from a command prompt on your system. If you have difficulty, you can refer to [this Stackoverflow thread](https://stackoverflow.com/questions/62042317/cannot-install-scikit-surprise-on-my-jupyter-notebook).      "
      ]
    },
    {
      "cell_type": "code",
      "source": [
        "# prompt: install scikit-surprise package\n",
        "\n",
        "!pip install scikit-surprise\n"
      ],
      "metadata": {
        "colab": {
          "base_uri": "https://localhost:8080/"
        },
        "id": "CKZlgS5xqjqR",
        "outputId": "b5c9e8d1-6f01-48da-beee-003ceabc02ac"
      },
      "id": "CKZlgS5xqjqR",
      "execution_count": 1,
      "outputs": [
        {
          "output_type": "stream",
          "name": "stdout",
          "text": [
            "Collecting scikit-surprise\n",
            "  Downloading scikit_surprise-1.1.4.tar.gz (154 kB)\n",
            "\u001b[?25l     \u001b[90m━━━━━━━━━━━━━━━━━━━━━━━━━━━━━━━━━━━━━━━━\u001b[0m \u001b[32m0.0/154.4 kB\u001b[0m \u001b[31m?\u001b[0m eta \u001b[36m-:--:--\u001b[0m\r\u001b[2K     \u001b[91m━━━━━━━━━━━━━━━━━━━━━━━━━━━━━━━━━━━━━━━\u001b[0m\u001b[91m╸\u001b[0m \u001b[32m153.6/154.4 kB\u001b[0m \u001b[31m4.2 MB/s\u001b[0m eta \u001b[36m0:00:01\u001b[0m\r\u001b[2K     \u001b[90m━━━━━━━━━━━━━━━━━━━━━━━━━━━━━━━━━━━━━━━━\u001b[0m \u001b[32m154.4/154.4 kB\u001b[0m \u001b[31m2.6 MB/s\u001b[0m eta \u001b[36m0:00:00\u001b[0m\n",
            "\u001b[?25h  Installing build dependencies ... \u001b[?25l\u001b[?25hdone\n",
            "  Getting requirements to build wheel ... \u001b[?25l\u001b[?25hdone\n",
            "  Preparing metadata (pyproject.toml) ... \u001b[?25l\u001b[?25hdone\n",
            "Requirement already satisfied: joblib>=1.2.0 in /usr/local/lib/python3.10/dist-packages (from scikit-surprise) (1.4.2)\n",
            "Requirement already satisfied: numpy>=1.19.5 in /usr/local/lib/python3.10/dist-packages (from scikit-surprise) (1.25.2)\n",
            "Requirement already satisfied: scipy>=1.6.0 in /usr/local/lib/python3.10/dist-packages (from scikit-surprise) (1.11.4)\n",
            "Building wheels for collected packages: scikit-surprise\n",
            "  Building wheel for scikit-surprise (pyproject.toml) ... \u001b[?25l\u001b[?25hdone\n",
            "  Created wheel for scikit-surprise: filename=scikit_surprise-1.1.4-cp310-cp310-linux_x86_64.whl size=2357258 sha256=563550ed0d087e56991e639b4ee8bbf0882596f8799271b321b04cf712af1035\n",
            "  Stored in directory: /root/.cache/pip/wheels/4b/3f/df/6acbf0a40397d9bf3ff97f582cc22fb9ce66adde75bc71fd54\n",
            "Successfully built scikit-surprise\n",
            "Installing collected packages: scikit-surprise\n",
            "Successfully installed scikit-surprise-1.1.4\n"
          ]
        }
      ]
    },
    {
      "cell_type": "raw",
      "id": "eb6b84db",
      "metadata": {
        "id": "eb6b84db"
      },
      "source": [
        "conda install -c conda-forge scikit-surprise"
      ]
    },
    {
      "cell_type": "markdown",
      "id": "a1794d61",
      "metadata": {
        "id": "a1794d61"
      },
      "source": [
        "> **Computational note:** The Surprise package was never intended as a production recommender system. If you want to explore options for production scalable recommender systems some options include:   \n",
        "> 1. The Neo4J graph database contains extensive support for enterprise recommendation systems. You can see a tutorial introduction [here](https://neo4j.com/developer/cypher/guide-build-a-recommendation-engine/).   \n",
        "> 2. The major cloud machine learning platforms, such as Keras and PyTorch, have increasing massive scale support for recommendation algorithms. You can find some getting started information for both [Kera](https://keras.io/examples/structured_data/collaborative_filtering_movielens/) and [PyTorch](https://pytorch.org/blog/introducing-torchrec/).\n",
        "\n",
        "Execute the code in the cell below to import the packages you will need for this assignment."
      ]
    },
    {
      "cell_type": "code",
      "execution_count": 2,
      "id": "56c703c5",
      "metadata": {
        "id": "56c703c5"
      },
      "outputs": [],
      "source": [
        "from surprise.prediction_algorithms.matrix_factorization import SVD, NMF\n",
        "from surprise.prediction_algorithms.baseline_only import BaselineOnly\n",
        "from surprise.prediction_algorithms.knns import KNNBasic\n",
        "from surprise import Dataset\n",
        "from surprise import accuracy\n",
        "from surprise.model_selection import cross_validate\n",
        "from surprise.model_selection import train_test_split\n",
        "import numpy as np\n",
        "import matplotlib.pyplot as plt\n",
        "import seaborn as sns\n",
        "\n",
        "%matplotlib inline"
      ]
    },
    {
      "cell_type": "markdown",
      "id": "187e0e31",
      "metadata": {
        "id": "187e0e31"
      },
      "source": [
        "## Load and Explore the Dataset   \n",
        "\n",
        "In this Assignment you will work with the MovieLens 100k dataset. This dataset includes a total of 100,000 movie ratings from IMDB.\n",
        "\n",
        "Before working with recommender algorithms, you will explore these data. Exploration of data is an essential step in any data mining process.     \n",
        "\n",
        "The code in the cell below loads the dataset and splits it into training and testing datasets. Execute this code. If you are asked if you want to download the data you must answer y."
      ]
    },
    {
      "cell_type": "code",
      "execution_count": 3,
      "id": "b13593f0",
      "metadata": {
        "id": "b13593f0",
        "colab": {
          "base_uri": "https://localhost:8080/"
        },
        "outputId": "b0755ab1-7119-4320-c480-8e15e86f2aba"
      },
      "outputs": [
        {
          "output_type": "stream",
          "name": "stdout",
          "text": [
            "Dataset ml-100k could not be found. Do you want to download it? [Y/n] Y\n",
            "Trying to download dataset from https://files.grouplens.org/datasets/movielens/ml-100k.zip...\n",
            "Done! Dataset ml-100k has been saved to /root/.surprise_data/ml-100k\n"
          ]
        }
      ],
      "source": [
        "## Load the movielens-100k dataset\n",
        "## Answer y if you are asked to download the dataset\n",
        "movie_lense_data = Dataset.load_builtin('ml-100k')\n",
        "\n",
        "## Split the dataset into training and test subsets.\n",
        "np.random.seed(4517)\n",
        "ml_trainset, ml_testset = train_test_split(movie_lense_data, test_size=0.20)"
      ]
    },
    {
      "cell_type": "markdown",
      "id": "56d69e4e",
      "metadata": {
        "id": "56d69e4e"
      },
      "source": [
        "Before experimenting with the recommender algorithms we will explore the data. As a first step of the execute the code in the cell below to print some characteristics of the training dataset.  "
      ]
    },
    {
      "cell_type": "code",
      "execution_count": 4,
      "id": "78a87679",
      "metadata": {
        "id": "78a87679",
        "colab": {
          "base_uri": "https://localhost:8080/"
        },
        "outputId": "25443582-b5e8-40a3-ba1a-fef63f8d3f79"
      },
      "outputs": [
        {
          "output_type": "stream",
          "name": "stdout",
          "text": [
            "For training dataset:\n",
            "Number of users = 943\n",
            "Number of items = 1654\n",
            "Number of ratings = 80000\n"
          ]
        }
      ],
      "source": [
        "print('For training dataset:')\n",
        "print(\"Number of users = {}\".format(ml_trainset.n_users))\n",
        "print(\"Number of items = {}\".format(ml_trainset.n_items))\n",
        "print(\"Number of ratings = {}\".format(ml_trainset.n_ratings))"
      ]
    },
    {
      "cell_type": "markdown",
      "id": "b1dd669a",
      "metadata": {
        "id": "b1dd669a"
      },
      "source": [
        "You can see some basic characteristics of the training dataset. If these data were represented as a rectangular table or matrix they would require, over 1.5 million, and at least that many bytes. In practice, a more efficient representation is used.\n",
        "\n",
        "The Surprise package, like all real-world recommender software, uses a space efficient representation. The `ur` attribute of the Surprise data object contains a dictionary with the recommender data. The keys of the dictionary are numeric identifiers of the users. The values of this key-value pairs are a list of tuples. The tuples are key-value pairs, with the key being the item identifier and the rating. In summary, there is a hashed user key to item key-value pairs. This nesting of key-value pairs is necessary since Python dictionaries only support a single hashed key per value.        \n",
        "\n",
        "The code in the cell below prints the list of key-value pairs for a single user key. There are multiple item identifier, rating, tupples for user 5. Execute this code and examine the results.   "
      ]
    },
    {
      "cell_type": "code",
      "execution_count": 5,
      "id": "42fa930b",
      "metadata": {
        "id": "42fa930b",
        "colab": {
          "base_uri": "https://localhost:8080/"
        },
        "outputId": "d2c92a44-182d-4bf2-be4e-1f450cd35a65"
      },
      "outputs": [
        {
          "output_type": "stream",
          "name": "stdout",
          "text": [
            "The number of recommendations = 32\n"
          ]
        },
        {
          "output_type": "execute_result",
          "data": {
            "text/plain": [
              "[(5, 4.0),\n",
              " (339, 4.0),\n",
              " (919, 5.0),\n",
              " (169, 4.0),\n",
              " (574, 2.0),\n",
              " (49, 2.0),\n",
              " (563, 2.0),\n",
              " (144, 5.0),\n",
              " (859, 3.0),\n",
              " (650, 1.0),\n",
              " (4, 4.0),\n",
              " (507, 3.0),\n",
              " (75, 2.0),\n",
              " (289, 2.0),\n",
              " (593, 4.0),\n",
              " (348, 2.0),\n",
              " (160, 4.0),\n",
              " (47, 5.0),\n",
              " (34, 3.0),\n",
              " (904, 2.0),\n",
              " (216, 3.0),\n",
              " (407, 3.0),\n",
              " (322, 2.0),\n",
              " (477, 1.0),\n",
              " (349, 3.0),\n",
              " (557, 4.0),\n",
              " (321, 3.0),\n",
              " (372, 3.0),\n",
              " (955, 2.0),\n",
              " (276, 5.0),\n",
              " (1069, 4.0),\n",
              " (616, 4.0)]"
            ]
          },
          "metadata": {},
          "execution_count": 5
        }
      ],
      "source": [
        "## Print the product-rating tupples in the 'ur' attribute of the data object from user 6\n",
        "print(f\"The number of recommendations = {len(ml_trainset.ur[5])}\")\n",
        "ml_trainset.ur[5]"
      ]
    },
    {
      "cell_type": "markdown",
      "id": "d79af1c7",
      "metadata": {
        "id": "d79af1c7"
      },
      "source": [
        "User 5 has only rated 32 items of 1647 total items.     "
      ]
    },
    {
      "cell_type": "markdown",
      "id": "79f28953",
      "metadata": {
        "id": "79f28953"
      },
      "source": [
        "> **Exercise 05-1:** To gain some understanding of the nature of the ratings, in the cell below create and execute code to compute and print two summary statistics in decimal fraction format. Use the attributes of the training dataset to extract the required parameters. See the foregoing example for an example of accessing the attributes of the data object.        \n",
        "> 1. Fraction of all items rated by user 5.\n",
        "> 2. The fraction of possible item-user pairs in the utility matrix that have non-null values.    "
      ]
    },
    {
      "cell_type": "code",
      "execution_count": 8,
      "id": "e6870b0d",
      "metadata": {
        "id": "e6870b0d",
        "colab": {
          "base_uri": "https://localhost:8080/"
        },
        "outputId": "7a2a19d2-73c9-47b8-ba4e-789df758f7ff"
      },
      "outputs": [
        {
          "output_type": "stream",
          "name": "stdout",
          "text": [
            "Fraction of all items rated by user 5: 0.0193\n",
            "Fraction of non-null item-user pairs: 0.0513\n"
          ]
        }
      ],
      "source": [
        "# 1: Compute the fraction of all items rated by user 5\n",
        "num_ratings_user5 = len(ml_trainset.ur[5])\n",
        "total_items = ml_trainset.n_items\n",
        "fraction_rated_by_user5 = num_ratings_user5 / total_items\n",
        "print(f\"Fraction of all items rated by user 5: {fraction_rated_by_user5:.4f}\")\n",
        "\n",
        "# 2: Compute the fraction of possible item-user pairs in the utility matrix that have non-null values\n",
        "total_possible_pairs = ml_trainset.n_users * ml_trainset.n_items\n",
        "fraction_non_null_pairs = ml_trainset.n_ratings / total_possible_pairs\n",
        "print(f\"Fraction of non-null item-user pairs: {fraction_non_null_pairs:.4f}\")\n",
        "\n"
      ]
    },
    {
      "cell_type": "markdown",
      "id": "2e7ae678",
      "metadata": {
        "id": "2e7ae678"
      },
      "source": [
        "> Q1. Given that real-world online catalog (products, videos, music, etc.) can contain millions of items, do you think these fractions for an individual user and the average user are realistic or too high?"
      ]
    },
    {
      "cell_type": "markdown",
      "id": "15fea552",
      "metadata": {
        "id": "15fea552"
      },
      "source": [
        "> **Answer:** Given that real-world online catalogs can contain millions of items, these fractions (0.0193 for user 5 and 0.0513 for the average user) seem quite high. In reality, with a vast number of items available, it's likely that individual users rate a much smaller fraction of the total items. Thus, these fractions might be higher than what would be expected in a larger dataset"
      ]
    },
    {
      "cell_type": "markdown",
      "id": "8b70a642",
      "metadata": {
        "id": "8b70a642"
      },
      "source": [
        "> 3. Create two lists with the following values, a) list named `mean_ratings` containing the mean rating of each user, and b) a list named `number_ratings` that contains the count of ratings for each user. The user ratings are represented with a Python dictionary, with the user identifier as key, in the `ur` attribute of the training dataset. You can extract the keys (user identifiers) with the `keys` method.  \n",
        "> 4. Once you have completed your code, execute the code in the cell below to display the histograms.  "
      ]
    },
    {
      "cell_type": "code",
      "execution_count": 9,
      "id": "4639c3f9",
      "metadata": {
        "id": "4639c3f9",
        "colab": {
          "base_uri": "https://localhost:8080/",
          "height": 410
        },
        "outputId": "3b160638-84c6-4ab5-d3bf-b163935644f2"
      },
      "outputs": [
        {
          "output_type": "display_data",
          "data": {
            "text/plain": [
              "<Figure size 1500x400 with 2 Axes>"
            ],
            "image/png": "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\n"
          },
          "metadata": {}
        }
      ],
      "source": [
        "## Compute the mean rating for each of the users in the training dataset\n",
        "## Put your code here\n",
        "mean_ratings = []\n",
        "number_ratings = []\n",
        "\n",
        "# 3: Loop through each user in the training set\n",
        "for user_id in ml_trainset.ur.keys():\n",
        "    # 3a: Calculate mean rating for the user\n",
        "    user_ratings = [rating for (_, rating) in ml_trainset.ur[user_id]]\n",
        "    mean_ratings.append(np.mean(user_ratings))\n",
        "\n",
        "    # 3b: Count number of ratings for the user\n",
        "    number_ratings.append(len(user_ratings))\n",
        "\n",
        "## Create histograms of the results\n",
        "fig, ax = plt.subplots(1, 2, figsize=(15, 4))\n",
        "_ = ax[0].hist(mean_ratings, bins=20, alpha=0.5)\n",
        "_ = ax[0].set_xlabel('Mean user rating')\n",
        "_ = ax[0].set_ylabel('Frequency')\n",
        "_ = ax[0].set_title('Distribution of mean user ratings')\n",
        "_ = ax[1].hist(number_ratings, bins=20, alpha=0.5)\n",
        "_ = ax[1].set_xlabel('Number of items rated')\n",
        "_ = ax[1].set_ylabel('Frequency')\n",
        "_ = ax[1].set_title('Distribution of number of items rated by user')\n"
      ]
    },
    {
      "cell_type": "markdown",
      "id": "1b23fd56",
      "metadata": {
        "id": "1b23fd56"
      },
      "source": [
        "> Provide short answers to the following questions:   \n",
        "> Q2. Is the distribution of the mean user ratings a bit skewed? What does this skew tell us?   \n",
        "> Q3. Notice the rapid decay in the frequency of items rated by users. What does this long tail tell you about user behavior?  \n",
        "> **End of exercise.**"
      ]
    },
    {
      "cell_type": "markdown",
      "id": "671d7810",
      "metadata": {
        "id": "671d7810"
      },
      "source": [
        "> **Answers:**\n",
        "\n",
        "> Q2. The distribution of the mean user ratings is slightly skewed to the left. This skew indicates that most users tend to give higher ratings on average, suggesting a general tendency towards positive feedback rather than negative\n",
        "\n",
        "> Q3. The rapid decay and long tail in the distribution of the number of items rated by users indicate that most users rate only a few items, while a small number of users rate many items. This suggests that user engagement varies significantly, with a minority of highly active users contributing a large portion of the ratings"
      ]
    },
    {
      "cell_type": "markdown",
      "id": "4cceab1c",
      "metadata": {
        "id": "4cceab1c"
      },
      "source": [
        "## Baseline Only Model\n",
        "\n",
        "One possible answer to the cold start problem is to use a **baseline only** model. In this model we just use the average or baseline values for users or items to predict ratings. This same approach can be applied to users who consume an item, but provide no rating."
      ]
    },
    {
      "cell_type": "markdown",
      "id": "0a3cc000",
      "metadata": {
        "id": "0a3cc000"
      },
      "source": [
        "> **Exercise 05-2:** You will now create and evaluate a baseline recommender model. Do the following:   \n",
        "> 1. Instantiate a [surprise.prediction_algorithms.baseline_only.BaselineOnly](https://surprise.readthedocs.io/en/stable/basic_algorithms.html) model object and it with the `fit` method using the `ml_trainset` as the argument. Name your model object `baseline_model`.  \n",
        "> 2. Compute the recommender predictions with the `test` method using the `ml_testset` as the argument.   \n",
        "> 3. Compute and print the RMSE using [surprise.accuracy.rmse](https://surprise.readthedocs.io/en/stable/accuracy.html) and MAE using [surprise.accuracy.mae](https://surprise.readthedocs.io/en/stable/accuracy.html) with the predictions as the argument in both cases.  "
      ]
    },
    {
      "cell_type": "code",
      "execution_count": 10,
      "id": "d92d5c6c",
      "metadata": {
        "id": "d92d5c6c",
        "colab": {
          "base_uri": "https://localhost:8080/"
        },
        "outputId": "0e980fea-f912-418e-c21f-c2749591f36b"
      },
      "outputs": [
        {
          "output_type": "stream",
          "name": "stdout",
          "text": [
            "Estimating biases using als...\n",
            "RMSE: 0.9371\n",
            "MAE:  0.7421\n",
            "RMSE: 0.9370602932201032\n",
            "MAE: 0.742095152987082\n"
          ]
        }
      ],
      "source": [
        "np.random.seed(864)\n",
        "\n",
        "# 1: Instantiate the BaselineOnly model and fit it\n",
        "baseline_model = BaselineOnly()\n",
        "baseline_model.fit(ml_trainset)\n",
        "\n",
        "# 2: Compute the predictions using the test set\n",
        "baseline_predictions = baseline_model.test(ml_testset)\n",
        "\n",
        "# 3: Compute and print RMSE and MAE\n",
        "rmse = accuracy.rmse(baseline_predictions)\n",
        "mae = accuracy.mae(baseline_predictions)\n",
        "\n",
        "print(f\"RMSE: {rmse}\")\n",
        "print(f\"MAE: {mae}\")\n"
      ]
    },
    {
      "cell_type": "markdown",
      "id": "3a9ad54e",
      "metadata": {
        "id": "3a9ad54e"
      },
      "source": [
        "> Q1. Does the accuracy performance of this model seem good given its simplicity?   "
      ]
    },
    {
      "cell_type": "markdown",
      "id": "a523a8d3",
      "metadata": {
        "id": "a523a8d3"
      },
      "source": [
        "> **Answer:** Given the simplicity of the BaselineOnly model, which only uses average values for predictions, the RMSE of 0.9371 and MAE of 0.7421 are quite reasonable. These values suggest that the model provides a decent baseline performance, which can serve as a useful benchmark for comparing more complex recommender algorithms"
      ]
    },
    {
      "cell_type": "markdown",
      "id": "238cf7fb",
      "metadata": {
        "id": "238cf7fb"
      },
      "source": [
        "> 4. Execute the code in the cell below to display histograms of the item and user biases."
      ]
    },
    {
      "cell_type": "code",
      "execution_count": 11,
      "id": "e4d87746",
      "metadata": {
        "id": "e4d87746",
        "colab": {
          "base_uri": "https://localhost:8080/",
          "height": 410
        },
        "outputId": "37df2c6f-e6d8-436b-c29f-24e07f0b13a8"
      },
      "outputs": [
        {
          "output_type": "display_data",
          "data": {
            "text/plain": [
              "<Figure size 1500x400 with 2 Axes>"
            ],
            "image/png": "iVBORw0KGgoAAAANSUhEUgAABOEAAAGJCAYAAADMuid7AAAAOXRFWHRTb2Z0d2FyZQBNYXRwbG90bGliIHZlcnNpb24zLjcuMSwgaHR0cHM6Ly9tYXRwbG90bGliLm9yZy/bCgiHAAAACXBIWXMAAA9hAAAPYQGoP6dpAABXAElEQVR4nO3deVwV9f7H8fcB5KDIIipbIuKuuWsRZYpKIppleivNFM20BUullTaXFkpLra7pvd2CrMyyn2lZmbi3oKlplhoKkWQCliYIXlFhfn/08NyOgAqe4QC+no/HPB7Md77znc8MJ/z0OTPfsRiGYQgAAAAAAACAaVycHQAAAAAAAABQ21GEAwAAAAAAAExGEQ4AAAAAAAAwGUU4AAAAAAAAwGQU4QAAAAAAAACTUYQDAAAAAAAATEYRDgAAAAAAADAZRTgAAAAAAADAZBThAAAAAAAAAJNRhANqkWnTpslisVTJsSIjIxUZGWlbX79+vSwWiz788MMqOf6YMWPUrFmzKjlWZRUUFOjOO+9UYGCgLBaLJk+eXG7fZs2aacyYMVUWW2X98ssvslgsevHFF8/btyo/jwAA1HbkedVLRfK8miA5OVkWi0Vbt249b9+zPx8ALhxFOKCaOvMP4ZnFw8NDwcHBio6O1iuvvKJjx4455DgHDx7UtGnTtGPHDoeM50jVObYL8dxzzyk5OVn33HOP3n77bY0aNeqC9929e7emTZumX375xbwAAQCAU5DnVe/YLsTF5HkALl1uzg4AwLnNmDFDYWFhOnXqlHJycrR+/XpNnjxZs2fP1scff6xOnTrZ+j7xxBN69NFHKzT+wYMHNX36dDVr1kxdunS54P1WrVpVoeNUxrlie/3111VSUmJ6DBdj7dq1uuqqqzR16tTz9k1LS5OLy/++F9m9e7emT5+uyMjIav9NcHkq83kEAOBSQp53aeR5tU1VfD6A2ooiHFDNxcTEqEePHrb1hIQErV27Vtdff71uuOEG7dmzR3Xr1pUkubm5yc3N3P+sjx8/rnr16snd3d3U45xPnTp1nHr8C3Ho0CG1b9/+gvparVaTo6l6VfF5BACgJiPPK1tty/Oqi8LCQnl6el70OM7+fAA1GY+jAjVQ37599eSTT2r//v165513bO1lzRWSkpKinj17ytfXV/Xr11ebNm302GOPSfprfo8rrrhCkjR27FjbIxHJycmS/prvoUOHDtq2bZt69eqlevXq2fYtby6I4uJiPfbYYwoMDJSnp6duuOEG/frrr3Z9ypv/7O9jni+2suYKKSws1AMPPKCQkBBZrVa1adNGL774ogzDsOtnsVg0ceJELVu2TB06dJDVatXll1+ulStXln3Bz3Lo0CGNGzdOAQEB8vDwUOfOnfXWW2/Ztp+ZNyUzM1OffvqpLfZzPVr692uSnJysm2++WZLUp08f2/7r16+39f/888917bXXytPTU15eXho0aJB27dplN+aYMWNUv359ZWVl6frrr1f9+vV12WWXad68eZKkH374QX379pWnp6dCQ0O1aNGiCzr/M+bMmaPQ0FDVrVtXvXv31o8//mi3vazPY1JSkvr27St/f39ZrVa1b99e8+fPLzX21q1bFR0drUaNGqlu3boKCwvTHXfcUaH4AACoicjzaleed2Y+3TPndnas06ZNs60fO3ZMkydPVrNmzWS1WuXv76/rrrtO3333nd1+mzdv1oABA+Tj46N69eqpd+/e+vrrr+36nPm87N69W7fddpsaNGignj17nvf8jx8/rrvuuksNGzaUt7e3Ro8erT///NOuz9mfj5MnT+qpp55S9+7d5ePjI09PT1177bVat25dqfEXL16s7t27y8vLS97e3urYsaNefvnl88YF1BbcogDUUKNGjdJjjz2mVatWafz48WX22bVrl66//np16tRJM2bMkNVqVXp6uu0f6Xbt2mnGjBl66qmnNGHCBF177bWSpKuvvto2xuHDhxUTE6Phw4fr9ttvV0BAwDnjevbZZ2WxWPTII4/o0KFDmjt3rqKiorRjxw7bN7kX4kJi+zvDMHTDDTdo3bp1GjdunLp06aIvvvhCDz30kH777TfNmTPHrv9XX32lpUuX6t5775WXl5deeeUVDRs2TFlZWWrYsGG5cf33v/9VZGSk0tPTNXHiRIWFhWnJkiUaM2aMjh49qkmTJqldu3Z6++23NWXKFDVp0kQPPPCAJKlx48YXdO69evXS/fffr1deeUWPPfaY2rVrZ7smkvT2228rNjZW0dHReuGFF3T8+HHNnz9fPXv21Pbt2+2S1uLiYsXExKhXr16aOXOm3n33XU2cOFGenp56/PHHNXLkSA0dOlQLFizQ6NGjFRERobCwsPPGuHDhQh07dkxxcXE6ceKEXn75ZfXt21c//PDDOT8j8+fP1+WXX64bbrhBbm5u+uSTT3TvvfeqpKREcXFxkv5Kfvv376/GjRvr0Ucfla+vr3755RctXbr0gq4fAAA1HXmevdqU553L3XffrQ8//FATJ05U+/btdfjwYX311Vfas2ePunXrJumvx2BjYmLUvXt3TZ06VS4uLrYvOb/88ktdeeWVdmPefPPNatWqlZ577rlSBcuyTJw4Ub6+vpo2bZrS0tI0f/587d+/31Z8LEt+fr7+85//aMSIERo/fryOHTumN954Q9HR0fr2229tjxunpKRoxIgR6tevn1544QVJ0p49e/T1119r0qRJF3HlgBrEAFAtJSUlGZKMLVu2lNvHx8fH6Nq1q2196tSpxt//s54zZ44hyfj999/LHWPLli2GJCMpKanUtt69exuSjAULFpS5rXfv3rb1devWGZKMyy67zMjPz7e1f/DBB4Yk4+WXX7a1hYaGGrGxsecd81yxxcbGGqGhobb1ZcuWGZKMZ555xq7fP/7xD8NisRjp6em2NkmGu7u7Xdv3339vSDJeffXVUsf6u7lz5xqSjHfeecfWdvLkSSMiIsKoX7++3bmHhoYagwYNOud4f+/792uyZMkSQ5Kxbt06u37Hjh0zfH19jfHjx9u15+TkGD4+PnbtsbGxhiTjueees7X9+eefRt26dQ2LxWIsXrzY1v7TTz8ZkoypU6eeM87MzExDklG3bl3jwIEDtvbNmzcbkowpU6bY2s7+PBqGYRw/frzUmNHR0Ubz5s1t6x999NF5P/sAANRk5HmXTp53Jncq6zzPzr18fHyMuLi4cscqKSkxWrVqZURHRxslJSW29uPHjxthYWHGddddZ2s783kZMWLEeWM0jP99Jrt3726cPHnS1j5z5kxDkrF8+XJb29m/y9OnTxtFRUV24/35559GQECAcccdd9jaJk2aZHh7exunT5++oJiA2ojHUYEarH79+ud8e5avr68kafny5ZWe3NZqtWrs2LEX3H/06NHy8vKyrf/jH/9QUFCQPvvss0od/0J99tlncnV11f3332/X/sADD8gwDH3++ed27VFRUWrRooVtvVOnTvL29tbPP/983uMEBgZqxIgRtrY6dero/vvvV0FBgTZs2OCAsylfSkqKjh49qhEjRuiPP/6wLa6urgoPDy/ztv8777zT9rOvr6/atGkjT09P3XLLLbb2Nm3ayNfX97znf8aQIUN02WWX2davvPJKhYeHn/f3/PdvyfPy8vTHH3+od+/e+vnnn5WXl2eLUZJWrFihU6dOXVA8AADUNuR5/3Op5Hm+vr7avHmzDh48WOb2HTt2aN++fbrtttt0+PBhWx5YWFiofv36aePGjaU+C3fffXeFYpgwYYLdnHz33HOP3Nzczvk7dnV1tc0TV1JSoiNHjuj06dPq0aOH3aO0vr6+KiwsVEpKSoViAmoTinBADVZQUGCXCJ3t1ltv1TXXXKM777xTAQEBGj58uD744IMKJWqXXXZZhSZfbdWqld26xWJRy5YtzzkfmiPs379fwcHBpa7HmUc49+/fb9fetGnTUmM0aNCg1JwXZR2nVatWdm8yPddxHG3fvn2S/povpnHjxnbLqlWrdOjQIbv+Hh4epR6P8PHxUZMmTUo9UuDj43Pe8z/j7N+zJLVu3fq8v+evv/5aUVFR8vT0lK+vrxo3bmybf+ZMEa53794aNmyYpk+frkaNGunGG29UUlKSioqKLig2AABqA/K8/7lU8ryZM2fqxx9/VEhIiK688kpNmzbNrnB4Jg+MjY0tlQf+5z//UVFRkS2fOuNCphn5u7N/x/Xr11dQUNB5f8dvvfWWOnXqJA8PDzVs2FCNGzfWp59+ahfPvffeq9atWysmJkZNmjTRHXfcccFz9QG1BXPCATXUgQMHlJeXp5YtW5bbp27dutq4caPWrVunTz/9VCtXrtT777+vvn37atWqVXJ1dT3vcSoyv8eFKm8+ieLi4guKyRHKO45xAXNlONOZxPrtt99WYGBgqe1nvzWtvPN0xvlnZGSoX79+atu2rWbPnq2QkBC5u7vrs88+05w5c2znZrFY9OGHH2rTpk365JNP9MUXX+iOO+7QSy+9pE2bNql+/fqmxQgAQHVAnndxqlOed67rcbZbbrlF1157rT766COtWrVKs2bN0gsvvKClS5cqJibGlivNmjXLNs/a2c7Ok8z4HZ/tnXfe0ZgxYzRkyBA99NBD8vf3l6urqxITE5WRkWHr5+/vrx07duiLL77Q559/rs8//1xJSUkaPXq03csvgNqMO+GAGurtt9+WJEVHR5+zn4uLi/r166fZs2dr9+7devbZZ7V27VrbY4vlJQaVdeYbujMMw1B6errdywIaNGigo0ePltr37G8XKxJbaGioDh48WOqxjZ9++sm23RFCQ0O1b9++Ut8yO/o45Z37mUcr/P39FRUVVWop601mZjj79yxJe/fuLfUms7/75JNPVFRUpI8//lh33XWXBg4cqKioqHKTw6uuukrPPvustm7dqnfffVe7du3S4sWLHXUKAABUW+R59mpyntegQQNJKnVNyrurLigoSPfee6+WLVumzMxMNWzYUM8++6yk/+WB3t7eZeaBUVFRdo+SVsbZv+OCggJlZ2efM8f78MMP1bx5cy1dulSjRo1SdHS0oqKidOLEiVJ93d3dNXjwYL322mvKyMjQXXfdpYULFyo9Pf2i4gZqCopwQA20du1aPf300woLC9PIkSPL7XfkyJFSbWe+NTvzaJ+np6ek0olBZZ15a+YZH374obKzsxUTE2Nra9GihTZt2qSTJ0/a2lasWFHqFfcViW3gwIEqLi7WP//5T7v2OXPmyGKx2B3/YgwcOFA5OTl6//33bW2nT5/Wq6++qvr166t3794OOU555x4dHS1vb28999xzZc6X9vvvvzvk+OezbNky/fbbb7b1b7/9Vps3bz7ndT7zrfTfv4XOy8tTUlKSXb8///yz1DfVZ39uAQCorcjzSqvJeZ63t7caNWqkjRs32rW/9tprduvFxcWlHiX19/dXcHCw7ffZvXt3tWjRQi+++KIKCgpKHcsReeC///1vuxxz/vz5On36dIVzvM2bNys1NdWu3+HDh+3WXVxc1KlTJ0nkeLh08DgqUM19/vnn+umnn3T69Gnl5uZq7dq1SklJUWhoqD7++GN5eHiUu++MGTO0ceNGDRo0SKGhoTp06JBee+01NWnSRD179pT0V6Lk6+urBQsWyMvLS56engoPD6/w/BFn+Pn5qWfPnho7dqxyc3M1d+5ctWzZUuPHj7f1ufPOO/Xhhx9qwIABuuWWW5SRkaF33nnHbgLdisY2ePBg9enTR48//rh++eUXde7cWatWrdLy5cs1efLkUmNX1oQJE/Svf/1LY8aM0bZt29SsWTN9+OGH+vrrrzV37txzzt1SEV26dJGrq6teeOEF5eXlyWq1qm/fvvL399f8+fM1atQodevWTcOHD1fjxo2VlZWlTz/9VNdcc02pBNUMLVu2VM+ePXXPPfeoqKhIc+fOVcOGDfXwww+Xu0///v1t337eddddKigo0Ouvvy5/f39lZ2fb+r311lt67bXXdNNNN6lFixY6duyYXn/9dXl7e2vgwIGmnxsAAFWFPO/SyPPuvPNOPf/887rzzjvVo0cPbdy4UXv37rXrc+zYMTVp0kT/+Mc/1LlzZ9WvX1+rV6/Wli1b9NJLL0n6q2j1n//8RzExMbr88ss1duxYXXbZZfrtt9+0bt06eXt765NPPrmoa3Dy5En169dPt9xyi9LS0vTaa6+pZ8+euuGGG8rd5/rrr9fSpUt10003adCgQcrMzNSCBQvUvn17u2LhnXfeqSNHjqhv375q0qSJ9u/fr1dffVVdunSxzbsH1HrOei0rgHM785rwM4u7u7sRGBhoXHfddcbLL79s94r0M85+df2aNWuMG2+80QgODjbc3d2N4OBgY8SIEcbevXvt9lu+fLnRvn17w83Nze4V6r179zYuv/zyMuMr79X17733npGQkGD4+/sbdevWNQYNGmTs37+/1P4vvfSScdlllxlWq9W45pprjK1bt5Ya81yxnf3qesMwjGPHjhlTpkwxgoODjTp16hitWrUyZs2aZfcKd8P463XwZb3+PTQ01IiNjS3zfP8uNzfXGDt2rNGoUSPD3d3d6NixY5mvnb/QV9eXd+zXX3/daN68ueHq6mpIMtatW2fbtm7dOiM6Otrw8fExPDw8jBYtWhhjxowxtm7dausTGxtreHp6ljpWeb/XC4k3MzPTkGTMmjXLeOmll4yQkBDDarUa1157rfH999/b9T3782gYhvHxxx8bnTp1Mjw8PIxmzZoZL7zwgvHmm28akozMzEzDMAzju+++M0aMGGE0bdrUsFqthr+/v3H99dfbnRsAADUZed65Y6tted7x48eNcePGGT4+PoaXl5dxyy23GIcOHTIkGVOnTjUMwzCKioqMhx56yOjcubPh5eVleHp6Gp07dzZee+21UuNt377dGDp0qNGwYUPDarUaoaGhxi233GKsWbPG1ufM5+X333+/oBjPfCY3bNhgTJgwwWjQoIFRv359Y+TIkcbhw4ft+p79uywpKTGee+45IzQ01LBarUbXrl2NFStWlPo9fvjhh0b//v0Nf39/w93d3WjatKlx1113GdnZ2RcUI1AbWAyjms9CDgAAAAAAANRwzAkHAAAAAAAAmIwiHAAAAAAAAGAyinAAAAAAAACAySjCAQAAAAAAACajCAcAAAAAAACYjCIcAAAAAAAAYDI3ZwdQHZSUlOjgwYPy8vKSxWJxdjgAAKAGMAxDx44dU3BwsFxc+F6zuiLPAwAAFWVWnkcRTtLBgwcVEhLi7DAAAEAN9Ouvv6pJkybODgPlIM8DAACV5eg8jyKcJC8vL0l/XVxvb28nRwMAAGqC/Px8hYSE2PIIVE/keQAAoKLMyvMowkm2RxO8vb1JzgAAQIXwiGP1Rp4HAAAqy9F5HhOYAAAAAAAAACajCAcAAAAAAACYjCIcAAAAAAAAYDKKcAAAAAAAAIDJKMIBAAAAAAAAJqMIBwAAAAAAAJiMIhwAAAAAAABgMopwAAAAAAAAgMkowgEAAAAAAAAmowgHAAAAh9u4caMGDx6s4OBgWSwWLVu2zG67xWIpc5k1a5atT7NmzUptf/7556v4TAAAAByDIhwAAAAcrrCwUJ07d9a8efPK3J6dnW23vPnmm7JYLBo2bJhdvxkzZtj1u++++6oifAAAAIdzc3YAAHAx5qTsdeh4U65r7dDxAOBSFRMTo5iYmHK3BwYG2q0vX75cffr0UfPmze3avby8SvUFALM4Orc8G7kmcGnjTjgAAAA4VW5urj799FONGzeu1Lbnn39eDRs2VNeuXTVr1iydPn36nGMVFRUpPz/fbgEAAKgOuBMOAAAATvXWW2/Jy8tLQ4cOtWu///771a1bN/n5+embb75RQkKCsrOzNXv27HLHSkxM1PTp080OGQAAoMIowgEAAMCp3nzzTY0cOVIeHh527fHx8bafO3XqJHd3d911111KTEyU1Wotc6yEhAS7/fLz8xUSEmJO4AAAABVAEQ4AAABO8+WXXyotLU3vv//+efuGh4fr9OnT+uWXX9SmTZsy+1it1nILdAAAAM7EnHAAAABwmjfeeEPdu3dX586dz9t3x44dcnFxkb+/fxVEBgAA4FjcCQcAAACHKygoUHp6um09MzNTO3bskJ+fn5o2bSrpr0dFlyxZopdeeqnU/qmpqdq8ebP69OkjLy8vpaamasqUKbr99tvVoEGDKjsPAAAAR6EIBwAAAIfbunWr+vTpY1s/M09bbGyskpOTJUmLFy+WYRgaMWJEqf2tVqsWL16sadOmqaioSGFhYZoyZYrdfG8AAAA1CUU4AAAAOFxkZKQMwzhnnwkTJmjChAllbuvWrZs2bdpkRmgAAABOwZxwAAAAAAAAgMm4Ew4AAAAAUGPMSdnr7BAAoFKceidcYmKirrjiCnl5ecnf319DhgxRWlqaXZ/IyEhZLBa75e6777brk5WVpUGDBqlevXry9/fXQw89pNOnT1flqQAAAAAAAADlcuqdcBs2bFBcXJyuuOIKnT59Wo899pj69++v3bt3y9PT09Zv/PjxmjFjhm29Xr16tp+Li4s1aNAgBQYG6ptvvlF2drZGjx6tOnXq6LnnnqvS8wEAAAAAAADK4tQi3MqVK+3Wk5OT5e/vr23btqlXr1629nr16ikwMLDMMVatWqXdu3dr9erVCggIUJcuXfT000/rkUce0bRp0+Tu7m7qOQAAAAAAAADnU61ezJCXlydJ8vPzs2t/99131ahRI3Xo0EEJCQk6fvy4bVtqaqo6duyogIAAW1t0dLTy8/O1a9euMo9TVFSk/Px8uwUAAAAAAAAwS7V5MUNJSYkmT56sa665Rh06dLC133bbbQoNDVVwcLB27typRx55RGlpaVq6dKkkKScnx64AJ8m2npOTU+axEhMTNX36dJPOBAAAAAAAALBXbYpwcXFx+vHHH/XVV1/ZtU+YMMH2c8eOHRUUFKR+/fopIyNDLVq0qNSxEhISFB8fb1vPz89XSEhI5QIHAAAAAAAAzqNaPI46ceJErVixQuvWrVOTJk3O2Tc8PFySlJ6eLkkKDAxUbm6uXZ8z6+XNI2e1WuXt7W23AAAAAAAAAGZxahHOMAxNnDhRH330kdauXauwsLDz7rNjxw5JUlBQkCQpIiJCP/zwgw4dOmTrk5KSIm9vb7Vv396UuAEAAAAAAICKcOrjqHFxcVq0aJGWL18uLy8v2xxuPj4+qlu3rjIyMrRo0SINHDhQDRs21M6dOzVlyhT16tVLnTp1kiT1799f7du316hRozRz5kzl5OToiSeeUFxcnKxWqzNPDwAAAAAAAJDk5Dvh5s+fr7y8PEVGRiooKMi2vP/++5Ikd3d3rV69Wv3791fbtm31wAMPaNiwYfrkk09sY7i6umrFihVydXVVRESEbr/9do0ePVozZsxw1mkBAAAAAAAAdpx6J5xhGOfcHhISog0bNpx3nNDQUH322WeOCgsAAAAAAABwqGrxYgYAAAAAAACgNqMIBwAAAAAAAJiMIhwAAAAAAABgMopwAAAAAAAAgMkowgEAAAAAAAAmowgHAAAAAAAAmIwiHAAAAAAAAGAyN2cHAADVyZyUvQ4ba8p1rR02FgAAAACgZuNOOAAAAAAAAMBkFOEAAAAAAAAAk1GEAwAAAAAAAExGEQ4AAAAAAAAwGS9mAAAAAAA4jCNfdAUAtQl3wgEAAAAAAAAmowgHAAAAAAAAmIwiHAAAAAAAAGAyinAAAAAAAACAySjCAQAAAAAAACajCAcAAACH27hxowYPHqzg4GBZLBYtW7bMbvuYMWNksVjslgEDBtj1OXLkiEaOHClvb2/5+vpq3LhxKigoqMKzAAAAcByKcAAAAHC4wsJCde7cWfPmzSu3z4ABA5SdnW1b3nvvPbvtI0eO1K5du5SSkqIVK1Zo48aNmjBhgtmhAwAAmMLN2QEAAACg9omJiVFMTMw5+1itVgUGBpa5bc+ePVq5cqW2bNmiHj16SJJeffVVDRw4UC+++KKCg4MdHjMAAICZuBMOAAAATrF+/Xr5+/urTZs2uueee3T48GHbttTUVPn6+toKcJIUFRUlFxcXbd68udwxi4qKlJ+fb7cAAABUBxThAAAAUOUGDBighQsXas2aNXrhhRe0YcMGxcTEqLi4WJKUk5Mjf39/u33c3Nzk5+ennJyccsdNTEyUj4+PbQkJCTH1PAAAAC4Uj6MCAACgyg0fPtz2c8eOHdWpUye1aNFC69evV79+/So9bkJCguLj423r+fn5FOIAAEC1wJ1wAAAAcLrmzZurUaNGSk9PlyQFBgbq0KFDdn1Onz6tI0eOlDuPnPTXPHPe3t52CwAAQHVAEQ4AAABOd+DAAR0+fFhBQUGSpIiICB09elTbtm2z9Vm7dq1KSkoUHh7urDABAAAqjcdRAQAA4HAFBQW2u9okKTMzUzt27JCfn5/8/Pw0ffp0DRs2TIGBgcrIyNDDDz+sli1bKjo6WpLUrl07DRgwQOPHj9eCBQt06tQpTZw4UcOHD+fNqAAAoEbiTjgAAAA43NatW9W1a1d17dpVkhQfH6+uXbvqqaeekqurq3bu3KkbbrhBrVu31rhx49S9e3d9+eWXslqttjHeffddtW3bVv369dPAgQPVs2dP/fvf/3bWKQEAAFwU7oQDAACAw0VGRsowjHK3f/HFF+cdw8/PT4sWLXJkWAAAAE7DnXAAAAAAAACAySjCAQAAAAAAACajCAcAAAAAAACYjCIcAAAAAAAAYDKKcAAAAAAAAIDJKMIBAAAAAAAAJqMIBwAAAAAAAJiMIhwAAAAAAABgMopwAAAAAAAAgMkowgEAAAAAAAAmowgHAAAAAAAAmIwiHAAAAAAAAGAyinAAAAAAAACAySjCAQAAAAAAACajCAcAAAAAAACYjCIcAAAAAAAAYDKnFuESExN1xRVXyMvLS/7+/hoyZIjS0tLs+pw4cUJxcXFq2LCh6tevr2HDhik3N9euT1ZWlgYNGqR69erJ399fDz30kE6fPl2VpwIAAAAAAACUy6lFuA0bNiguLk6bNm1SSkqKTp06pf79+6uwsNDWZ8qUKfrkk0+0ZMkSbdiwQQcPHtTQoUNt24uLizVo0CCdPHlS33zzjd566y0lJyfrqaeecsYpAQAAAAAAAKW4OfPgK1eutFtPTk6Wv7+/tm3bpl69eikvL09vvPGGFi1apL59+0qSkpKS1K5dO23atElXXXWVVq1apd27d2v16tUKCAhQly5d9PTTT+uRRx7RtGnT5O7u7oxTAwAAAAAAAGyq1ZxweXl5kiQ/Pz9J0rZt23Tq1ClFRUXZ+rRt21ZNmzZVamqqJCk1NVUdO3ZUQECArU90dLTy8/O1a9euMo9TVFSk/Px8uwUAAAAAAAAwS7UpwpWUlGjy5Mm65ppr1KFDB0lSTk6O3N3d5evra9c3ICBAOTk5tj5/L8Cd2X5mW1kSExPl4+NjW0JCQhx8NgAAAAAAAMD/VJsiXFxcnH788UctXrzY9GMlJCQoLy/Ptvz666+mHxMAAAAAAACXLqfOCXfGxIkTtWLFCm3cuFFNmjSxtQcGBurkyZM6evSo3d1wubm5CgwMtPX59ttv7cY78/bUM33OZrVaZbVaHXwWAAAAAAAAQNmceiecYRiaOHGiPvroI61du1ZhYWF227t37646depozZo1tra0tDRlZWUpIiJCkhQREaEffvhBhw4dsvVJSUmRt7e32rdvXzUnAgAAAAAAAJyDU++Ei4uL06JFi7R8+XJ5eXnZ5nDz8fFR3bp15ePjo3Hjxik+Pl5+fn7y9vbWfffdp4iICF111VWSpP79+6t9+/YaNWqUZs6cqZycHD3xxBOKi4vjbjcAAAAAAABUC04tws2fP1+SFBkZadeelJSkMWPGSJLmzJkjFxcXDRs2TEVFRYqOjtZrr71m6+vq6qoVK1bonnvuUUREhDw9PRUbG6sZM2ZU1WkAAAAAAAAA5+TUIpxhGOft4+HhoXnz5mnevHnl9gkNDdVnn33myNAAAAAAAAAAh6k2b0cFAAAAAAAAaiuKcAAAAAAAAIDJKMIBAAAAAAAAJqMIBwAAAAAAAJiMIhwAAAAcbuPGjRo8eLCCg4NlsVi0bNky27ZTp07pkUceUceOHeXp6ang4GCNHj1aBw8etBujWbNmslgsdsvzzz9fxWcCAADgGBThAAAA4HCFhYXq3LlzmW+4P378uL777js9+eST+u6777R06VKlpaXphhtuKNV3xowZys7Oti333XdfVYQPAADgcG7ODgAAAAC1T0xMjGJiYsrc5uPjo5SUFLu2f/7zn7ryyiuVlZWlpk2b2tq9vLwUGBh4wcctKipSUVGRbT0/P7+CkQMAAJiDIhyAKjUnZa+zQwAAVEN5eXmyWCzy9fW1a3/++ef19NNPq2nTprrttts0ZcoUubmVn8ImJiZq+vTpJkcLAABQcRThAAAA4FQnTpzQI488ohEjRsjb29vWfv/996tbt27y8/PTN998o4SEBGVnZ2v27NnljpWQkKD4+Hjben5+vkJCQkyNHwAA4EJQhAMAAIDTnDp1SrfccosMw9D8+fPttv29mNapUye5u7vrrrvuUmJioqxWa5njWa3WcrcBAAA4Ey9mAAAAgFOcKcDt379fKSkpdnfBlSU8PFynT5/WL7/8UjUBAgAAOBB3wgEAAKDKnSnA7du3T+vWrVPDhg3Pu8+OHTvk4uIif3//KogQAADAsSjCAQAAwOEKCgqUnp5uW8/MzNSOHTvk5+enoKAg/eMf/9B3332nFStWqLi4WDk5OZIkPz8/ubu7KzU1VZs3b1afPn3k5eWl1NRUTZkyRbfffrsaNGjgrNMCAACoNIpwAAAAcLitW7eqT58+tvUz87vFxsZq2rRp+vjjjyVJXbp0sdtv3bp1ioyMlNVq1eLFizVt2jQVFRUpLCxMU6ZMsZsnDgAAoCahCAcAAACHi4yMlGEY5W4/1zZJ6tatmzZt2uTosAAAAJyGFzMAAAAAAAAAJqMIBwAAAAAAAJiMIhwAAAAAAABgMopwAAAAAAAAgMkowgEAAAAAAAAmowgHAAAAAAAAmIwiHAAAAAAAAGAyinAAAAAAAACAySjCAQAAAAAAACajCAcAAAAAAACYjCIcAAAAAAAAYDKKcAAAAAAAAIDJKMIBAAAAAAAAJqMIBwAAAAAAAJisUkW4n3/+2dFxAAAAoBogzwMAADBHpYpwLVu2VJ8+ffTOO+/oxIkTjo4JAAAATkKeBwAAYI5KFeG+++47derUSfHx8QoMDNRdd92lb7/91tGxAQAAoIqR5wEAAJijUkW4Ll266OWXX9bBgwf15ptvKjs7Wz179lSHDh00e/Zs/f77746OEwAAAFWAPA8AAMAcF/ViBjc3Nw0dOlRLlizRCy+8oPT0dD344IMKCQnR6NGjlZ2d7ag4AQAAUIXI8wAAABzroopwW7du1b333qugoCDNnj1bDz74oDIyMpSSkqKDBw/qxhtvdFScAAAAqELkeQAAAI7lVpmdZs+eraSkJKWlpWngwIFauHChBg4cKBeXv2p6YWFhSk5OVrNmzRwZKwAAAExGngcAAGCOShXh5s+frzvuuENjxoxRUFBQmX38/f31xhtvXFRwAAAAqFrkeQAAAOaoVBFu37595+3j7u6u2NjYygwPAAAAJyHPAwAAMEel5oRLSkrSkiVLSrUvWbJEb7311kUHBQAAAOcgzwMAADBHpYpwiYmJatSoUal2f39/PffccxcdFAAAAJyDPA8AAMAclSrCZWVlKSwsrFR7aGiosrKyLjooAAAAOAd5HgAAgDkqVYTz9/fXzp07S7V///33atiw4UUHBQAAAOcgzwMAADBHpV7MMGLECN1///3y8vJSr169JEkbNmzQpEmTNHz4cIcGCAAAgKpDngfUfnNS9jo7BAC4JFWqCPf000/rl19+Ub9+/eTm9tcQJSUlGj16NHOFAAAA1GDkeQAAAOaoVBHO3d1d77//vp5++ml9//33qlu3rjp27KjQ0FBHxwcAAIAqRJ4HAABgjkrNCXdG69atdfPNN+v666+vVGK2ceNGDR48WMHBwbJYLFq2bJnd9jFjxshisdgtAwYMsOtz5MgRjRw5Ut7e3vL19dW4ceNUUFBwMacFAABwyTM7zzMMQ0899ZSCgoJUt25dRUVFad++fXZ9yPMAAEBtUqk74YqLi5WcnKw1a9bo0KFDKikpsdu+du3aCxqnsLBQnTt31h133KGhQ4eW2WfAgAFKSkqyrVutVrvtI0eOVHZ2tlJSUnTq1CmNHTtWEyZM0KJFiyp4VgAAAKiqPG/mzJl65ZVX9NZbbyksLExPPvmkoqOjtXv3bnl4eEgizwMAALVLpYpwkyZNUnJysgYNGqQOHTrIYrFU6uAxMTGKiYk5Zx+r1arAwMAyt+3Zs0crV67Uli1b1KNHD0nSq6++qoEDB+rFF19UcHBwmfsVFRWpqKjItp6fn1+p+AEAAGqbqsjzDMPQ3Llz9cQTT+jGG2+UJC1cuFABAQFatmyZhg8fXuk8DwAAoLqqVBFu8eLF+uCDDzRw4EBHx1PK+vXr5e/vrwYNGqhv37565pln1LBhQ0lSamqqfH19bYmZJEVFRcnFxUWbN2/WTTfdVOaYiYmJmj59uumxAwAA1DRVkedlZmYqJydHUVFRtjYfHx+Fh4crNTVVw4cPr3Sex5etAACguqrUnHDu7u5q2bKlo2MpZcCAAVq4cKHWrFmjF154QRs2bFBMTIyKi4slSTk5OfL397fbx83NTX5+fsrJySl33ISEBOXl5dmWX3/91dTzAAAAqCmqIs87k6cFBATYtQcEBNi2VTbPS0xMlI+Pj20JCQlxcPQAAACVU6ki3AMPPKCXX35ZhmE4Oh47w4cP1w033KCOHTtqyJAhWrFihbZs2aL169df1LhWq1Xe3t52CwAAAKouzzMLX7YCAIDqqlKPo3711Vdat26dPv/8c11++eWqU6eO3falS5c6JLizNW/eXI0aNVJ6err69eunwMBAHTp0yK7P6dOndeTIkXLnkQMAAED5qiLPO5On5ebmKigoyNaem5urLl262PpUJs+zWq2lXuQFAABQHVSqCOfr61vuPBxmOnDggA4fPmxL1iIiInT06FFt27ZN3bt3l/TXG7tKSkoUHh5e5fEBAADUdFWR54WFhSkwMFBr1qyxFd3y8/O1efNm3XPPPZLI8wAAQO1TqSJcUlKSQw5eUFCg9PR023pmZqZ27NghPz8/+fn5afr06Ro2bJgCAwOVkZGhhx9+WC1btlR0dLQkqV27dhowYIDGjx+vBQsW6NSpU5o4caKGDx/OG7MAAAAqoSryvKZNm2ry5Ml65pln1KpVK4WFhenJJ59UcHCwhgwZIok8DwAA1D6VKsJJfz0OsH79emVkZOi2226Tl5eXDh48KG9vb9WvX/+Cxti6dav69OljW4+Pj5ckxcbGav78+dq5c6feeustHT16VMHBwerfv7+efvppu0cM3n33XU2cOFH9+vWTi4uLhg0bpldeeaWypwUADjMnZa9Dx5tyXWuHjgcA5TE7z0tOTtbDDz+swsJCTZgwQUePHlXPnj21cuVKeXh42PYhzwMAALWJxajErLv79+/XgAEDlJWVpaKiIu3du1fNmzfXpEmTVFRUpAULFpgRq2ny8/Pl4+OjvLw8XtIAmMzRhalLCUU4oHqprfkDeR5Q+5GPOQ/5HFAzmJU/VOrtqJMmTVKPHj30559/qm7durb2m266SWvWrHFYcAAAAKha5HkAAADmqNTjqF9++aW++eYbubu727U3a9ZMv/32m0MCAwAAQNUjzwMAADBHpe6EKykpUXFxcan2AwcOyMvL66KDAgAAgHOQ5wEAAJijUnfC9e/fX3PnztW///1vSZLFYlFBQYGmTp2qgQMHOjRAAAAAVB3yPAAwj9nz8THnHFC9VaoI99JLLyk6Olrt27fXiRMndNttt2nfvn1q1KiR3nvvPUfHCAAAgCpCngcAAGCOShXhmjRpou+//16LFy/Wzp07VVBQoHHjxmnkyJF2E/gCAACgZiHPAwAAMEelinCS5Obmpttvv92RsQCohniFPQBcesjzAAAAHK9SRbiFCxeec/vo0aMrFQwAAACcizwPAADAHJUqwk2aNMlu/dSpUzp+/Ljc3d1Vr149kjMAAIAaijwPAADAHC6V2enPP/+0WwoKCpSWlqaePXsyYS8AAEANRp4HAABgjkoV4crSqlUrPf/886W+PQUAAEDNRp4HAABw8RxWhJP+msT34MGDjhwSAAAA1QB5HgAAwMWp1JxwH3/8sd26YRjKzs7WP//5T11zzTUOCQwAAABVjzwPAADAHJUqwg0ZMsRu3WKxqHHjxurbt69eeuklR8QFAAAAJyDPAwAAMEelinAlJSWOjgMAAADVAHkeAACAORw6JxwAAAAAAACA0ip1J1x8fPwF9509e3ZlDgEAAAAnIM8DAAAwR6WKcNu3b9f27dt16tQptWnTRpK0d+9eubq6qlu3brZ+FovFMVECAACgSpDnAQAAmKNSRbjBgwfLy8tLb731lho0aCBJ+vPPPzV27Fhde+21euCBBxwaJAAAAKoGeR4AAIA5KjUn3EsvvaTExERbYiZJDRo00DPPPMNbswAAAGow8jwAAABzVKoIl5+fr99//71U+++//65jx45ddFAAAABwDvI8AAAAc1SqCHfTTTdp7NixWrp0qQ4cOKADBw7o//7v/zRu3DgNHTrU0TECAACgipDnAQAAmKNSc8ItWLBADz74oG677TadOnXqr4Hc3DRu3DjNmjXLoQECAACg6pDnAQAAmKNSRbh69erptdde06xZs5SRkSFJatGihTw9PR0aHAAAAKoWeR4AAIA5KvU46hnZ2dnKzs5Wq1at5OnpKcMwHBUXAAAAnIg8DwAAwLEqVYQ7fPiw+vXrp9atW2vgwIHKzs6WJI0bN47X1gMAANRg5HkAAADmqFQRbsqUKapTp46ysrJUr149W/utt96qlStXOiw4AAAAVC3yPAAAAHNUak64VatW6YsvvlCTJk3s2lu1aqX9+/c7JDAAAABUPfI8AAAAc1TqTrjCwkK7b0bPOHLkiKxW60UHBQAAAOcgzwMAADBHpYpw1157rRYuXGhbt1gsKikp0cyZM9WnTx+HBQcAAICqRZ4HAABgjko9jjpz5kz169dPW7du1cmTJ/Xwww9r165dOnLkiL7++mtHxwgAAIAqQp4HAABgjkrdCdehQwft3btXPXv21I033qjCwkINHTpU27dvV4sWLRwdIwAAAKpIVeZ5zZo1k8ViKbXExcVJkiIjI0ttu/vuux0aAwAAQFWp8J1wp06d0oABA7RgwQI9/vjjZsQEAAAAJ6jqPG/Lli0qLi62rf/444+67rrrdPPNN9vaxo8frxkzZtjWy5qvDgAAoCaocBGuTp062rlzpxmxAAAAwImqOs9r3Lix3frzzz+vFi1aqHfv3ra2evXqKTAwsMpiAgAAMEulHke9/fbb9cYbbzg6FgAAADiZs/K8kydP6p133tEdd9whi8Via3/33XfVqFEjdejQQQkJCTp+/Pg5xykqKlJ+fr7dAgAAUB1U6sUMp0+f1ptvvqnVq1ere/fu8vT0tNs+e/ZshwQHAPifOSl7HTrelOtaO3Q8ALWDs/K8ZcuW6ejRoxozZoyt7bbbblNoaKiCg4O1c+dOPfLII0pLS9PSpUvLHScxMVHTp083JUYAAICLUaEi3M8//6xmzZrpxx9/VLdu3SRJe/fa/0/h37+5BAAAQM3g7DzvjTfeUExMjIKDg21tEyZMsP3csWNHBQUFqV+/fsrIyCj3JREJCQmKj4+3refn5yskJMS0uAEAAC5UhYpwrVq1UnZ2ttatWydJuvXWW/XKK68oICDAlOAAAABQNZyZ5+3fv1+rV68+5x1ukhQeHi5JSk9PL7cIZ7VaZbVaHR4jAADAxarQnHCGYditf/755yosLHRoQAAAAKh6zszzkpKS5O/vr0GDBp2z344dOyRJQUFBVRAVAACAY1VqTrgzzk7WAAAAUDtUVZ5XUlKipKQkxcbGys3tf6lpRkaGFi1apIEDB6phw4bauXOnpkyZol69eqlTp05VEhsAAIAjVagIZ7FYSs0FwhxwAAAANZ+z8rzVq1crKytLd9xxh127u7u7Vq9erblz56qwsFAhISEaNmyYnnjiCdNjAgAAMEOFinCGYWjMmDG2eTZOnDihu+++u9Rbs843nwcA8zj6DZoAgEuDs/K8/v37l3nXXUhIiDZs2ODQYwEAADhThYpwsbGxduu33367Q4MBAACAc5DnAQAAmKtCRbikpCSz4gAAAIATkecBAACYq0JvR3W0jRs3avDgwQoODpbFYtGyZcvsthuGoaeeekpBQUGqW7euoqKitG/fPrs+R44c0ciRI+Xt7S1fX1+NGzdOBQUFVXgWAAAAAAAAwLk5tQhXWFiozp07a968eWVunzlzpl555RUtWLBAmzdvlqenp6Kjo3XixAlbn5EjR2rXrl1KSUnRihUrtHHjRk2YMKGqTgEAAAAAAAA4rwo9jupoMTExiomJKXObYRiaO3eunnjiCd14442SpIULFyogIEDLli3T8OHDtWfPHq1cuVJbtmxRjx49JEmvvvqqBg4cqBdffFHBwcFVdi4AAAAAAABAeZx6J9y5ZGZmKicnR1FRUbY2Hx8fhYeHKzU1VZKUmpoqX19fWwFOkqKiouTi4qLNmzeXO3ZRUZHy8/PtFgAAAAAAAMAs1bYIl5OTI0kKCAiwaw8ICLBty8nJkb+/v912Nzc3+fn52fqUJTExUT4+PrYlJCTEwdEDAAAAAAAA/1Nti3BmSkhIUF5enm359ddfnR0SAAAAAAAAarFqW4QLDAyUJOXm5tq15+bm2rYFBgbq0KFDdttPnz6tI0eO2PqUxWq1ytvb224BAAAAAAAAzFJti3BhYWEKDAzUmjVrbG35+fnavHmzIiIiJEkRERE6evSotm3bZuuzdu1alZSUKDw8vMpjBgAAAAAAAMri1LejFhQUKD093baemZmpHTt2yM/PT02bNtXkyZP1zDPPqFWrVgoLC9OTTz6p4OBgDRkyRJLUrl07DRgwQOPHj9eCBQt06tQpTZw4UcOHD+fNqAAAAAAAAKg2nFqE27p1q/r06WNbj4+PlyTFxsYqOTlZDz/8sAoLCzVhwgQdPXpUPXv21MqVK+Xh4WHb591339XEiRPVr18/ubi4aNiwYXrllVeq/FwAAAAAwFHmpOx1dggAAAdzahEuMjJShmGUu91isWjGjBmaMWNGuX38/Py0aNEiM8IDAAAAAAAAHKLazgkHAAAAAAAA1BYU4QAAAAAAAACTOfVxVACA8zh6rpkp17V26HgAAAAAUJtQhAMAAAAAoBYw84UefOEKXDweRwUAAAAAAABMRhEOAAAAAAAAMBlFOAAAAAAAAMBkFOEAAAAAAAAAk1GEAwAAAAAAAExGEQ4AAAAAAAAwGUU4AAAAAAAAwGQU4QAAAAAAAACTUYQDAAAAAAAATEYRDgAAAAAAADAZRTgAAAAAAADAZBThAAAAAAAAAJNRhAMAAAAAAABMRhEOAAAATjFt2jRZLBa7pW3btrbtJ06cUFxcnBo2bKj69etr2LBhys3NdWLEAAAAlUcRDgAAAE5z+eWXKzs727Z89dVXtm1TpkzRJ598oiVLlmjDhg06ePCghg4d6sRoAQAAKs/N2QEAAADg0uXm5qbAwMBS7Xl5eXrjjTe0aNEi9e3bV5KUlJSkdu3aadOmTbrqqquqOlQAAICLwp1wAAAAcJp9+/YpODhYzZs318iRI5WVlSVJ2rZtm06dOqWoqChb37Zt26pp06ZKTU0td7yioiLl5+fbLQAAANUBRTgAAAA4RXh4uJKTk7Vy5UrNnz9fmZmZuvbaa3Xs2DHl5OTI3d1dvr6+dvsEBAQoJyen3DETExPl4+NjW0JCQkw+CwAAgAvD46gAAABwipiYGNvPnTp1Unh4uEJDQ/XBBx+obt26lRozISFB8fHxtvX8/HwKcQAAoFqgCAcAcIg5KXsdOt6U61o7dDwA1Z+vr69at26t9PR0XXfddTp58qSOHj1qdzdcbm5umXPInWG1WmW1WqsgWgAAgIqhCAc4maMLFwAA1FQFBQXKyMjQqFGj1L17d9WpU0dr1qzRsGHDJElpaWnKyspSRESEkyMFAACoOIpwAAAAcIoHH3xQgwcPVmhoqA4ePKipU6fK1dVVI0aMkI+Pj8aNG6f4+Hj5+fnJ29tb9913nyIiIngzKgAAqJEowgEAAMApDhw4oBEjRujw4cNq3LixevbsqU2bNqlx48aSpDlz5sjFxUXDhg1TUVGRoqOj9dprrzk5agAAgMqhCAcAAACnWLx48Tm3e3h4aN68eZo3b14VRQQAAGAeF2cHAAAAAAAAANR2FOEAAAAAAAAAk1GEAwAAAAAAAEzGnHBAJcxJ2evsEAAAAAAAQA3CnXAAAAAAAACAySjCAQAAAAAAACajCAcAAAAAAACYjCIcAAAAAAAAYDKKcAAAAAAAAIDJKMIBAAAAAAAAJqMIBwAAAAAAAJiMIhwAAAAAAABgMjdnBwAAAAAANc2clL3ODgEAUMNwJxwAAAAAAABgMopwAAAAAAAAgMkowgEAAAAAAAAmowgHAAAAAAAAmKxaF+GmTZsmi8Vit7Rt29a2/cSJE4qLi1PDhg1Vv359DRs2TLm5uU6MGAAAAAAAACitWhfhJOnyyy9Xdna2bfnqq69s26ZMmaJPPvlES5Ys0YYNG3Tw4EENHTrUidECAAAAAAAApbk5O4DzcXNzU2BgYKn2vLw8vfHGG1q0aJH69u0rSUpKSlK7du20adMmXXXVVVUdKgAAAAAAAFCman8n3L59+xQcHKzmzZtr5MiRysrKkiRt27ZNp06dUlRUlK1v27Zt1bRpU6Wmpp5zzKKiIuXn59stAAAAAAAAgFmqdREuPDxcycnJWrlypebPn6/MzExde+21OnbsmHJycuTu7i5fX1+7fQICApSTk3POcRMTE+Xj42NbQkJCTDwLAAAAAAAAXOqq9eOoMTExtp87deqk8PBwhYaG6oMPPlDdunUrPW5CQoLi4+Nt6/n5+RTiAAAAAAAAYJpqfSfc2Xx9fdW6dWulp6crMDBQJ0+e1NGjR+365ObmljmH3N9ZrVZ5e3vbLQAAAAAAAIBZalQRrqCgQBkZGQoKClL37t1Vp04drVmzxrY9LS1NWVlZioiIcGKUAAAAAAAAgL1q/Tjqgw8+qMGDBys0NFQHDx7U1KlT5erqqhEjRsjHx0fjxo1TfHy8/Pz85O3trfvuu08RERG8GRUAAAAAAADVSrUuwh04cEAjRozQ4cOH1bhxY/Xs2VObNm1S48aNJUlz5syRi4uLhg0bpqKiIkVHR+u1115zctQAAAAAAACAvWpdhFu8ePE5t3t4eGjevHmaN29eFUUEAAAAAAAAVFyNmhMOAAAAAAAAqIkowgEAAAAAAAAmq9aPowIALl1zUvY6dLwp17V26HgAAAAAUBHcCQcAAACnSExM1BVXXCEvLy/5+/tryJAhSktLs+sTGRkpi8Vit9x9991OihgAAKDyKMIBAADAKTZs2KC4uDht2rRJKSkpOnXqlPr376/CwkK7fuPHj1d2drZtmTlzppMiBgAAqDweRwUAAIBTrFy50m49OTlZ/v7+2rZtm3r16mVrr1evngIDA6s6PAAAAIfiTjgAAABUC3l5eZIkPz8/u/Z3331XjRo1UocOHZSQkKDjx4+XO0ZRUZHy8/PtFgAAgOqAO+EAAADgdCUlJZo8ebKuueYadejQwdZ+2223KTQ0VMHBwdq5c6ceeeQRpaWlaenSpWWOk5iYqOnTp1dV2ABwyXD0S7POxku0cCmgCAcAAACni4uL048//qivvvrKrn3ChAm2nzt27KigoCD169dPGRkZatGiRalxEhISFB8fb1vPz89XSEiIeYEDAABcIIpwAAAAcKqJEydqxYoV2rhxo5o0aXLOvuHh4ZKk9PT0MotwVqtVVqvVlDgBAAAuBkU4AAAAOIVhGLrvvvv00Ucfaf369QoLCzvvPjt27JAkBQUFmRwdAACAY1GEAwAAgFPExcVp0aJFWr58uby8vJSTkyNJ8vHxUd26dZWRkaFFixZp4MCBatiwoXbu3KkpU6aoV69e6tSpk5OjBwAAqBiKcLgkmD2JKAAAqLj58+dLkiIjI+3ak5KSNGbMGLm7u2v16tWaO3euCgsLFRISomHDhumJJ55wQrQAAAAXhyIcAAAAnMIwjHNuDwkJ0YYNG6ooGgAAAHO5ODsAAAAAAAAAoLajCAcAAAAAAACYjMdRAQCXBEfODTnlutYOGwsAAADApYE74QAAAAAAAACTUYQDAAAAAAAATEYRDgAAAAAAADAZRTgAAAAAAADAZBThAAAAAAAAAJNRhAMAAAAAAABMRhEOAAAAAAAAMBlFOAAAAAAAAMBkbs4OAAAAAMClaU7KXtPGnnJda9PGBgCgMrgTDgAAAAAAADAZd8IBAAAAAACnMvPOWIm7Y1E9cCccAAAAAAAAYDKKcAAAAAAAAIDJKMIBAAAAAAAAJmNOOAAAKsjRc5YwRwkAAABQ+3EnHAAAAAAAAGAy7oRDtWT2m3EAAAAAAACqEkU4AAAAALUOX+oCAKobinAAAAAAAKBWM7Mwz/y+uFAU4eAQfNMIAAAAAABQPl7MAAAAAAAAAJiMIhwAAAAAAABgMopwAAAAAAAAgMmYE+4SxRxuAFB9OPpvMpMDAwAAANUPd8IBAAAAAAAAJqMIBwAAAAAAAJiMIhwAAAAAAABgMuaEAwAAAFAm5hEGgPMz+28l8/3WHrWmCDdv3jzNmjVLOTk56ty5s1599VVdeeWVzg4LAAAAF8nsPI//eQIAAFWhVhTh3n//fcXHx2vBggUKDw/X3LlzFR0drbS0NPn7+zs7PIfgW0gAAHApuhTyPAAAcGmoFXPCzZ49W+PHj9fYsWPVvn17LViwQPXq1dObb77p7NAAAABwEcjzAABAbVHj74Q7efKktm3bpoSEBFubi4uLoqKilJqaWuY+RUVFKioqsq3n5eVJkvLz880N9iKcKCxwdggAgBqiOv97Vpucuc6GYTg5ktqrqvI8s/OsmvzfJDkoADhfTf53pKYyK8+r8UW4P/74Q8XFxQoICLBrDwgI0E8//VTmPomJiZo+fXqp9pCQEFNiBACgKj3m7AAuMYcPH5aPj4+zw6iVakuex3+TAICLwb8jzuPoPK/GF+EqIyEhQfHx8bb1o0ePKjQ0VFlZWSTRJsjPz1dISIh+/fVXeXt7OzucWofray6ur7m4vubi+porLy9PTZs2lZ+fn7NDwd+Q51Ut/s6Yi+trLq6vubi+5uL6msusPK/GF+EaNWokV1dX5ebm2rXn5uYqMDCwzH2sVqusVmupdh8fHz68JvL29ub6mojray6ur7m4vubi+prLxaVWTLFbLZHn1Rz8nTEX19dcXF9zcX3NxfU1l6PzvBqfNbq7u6t79+5as2aNra2kpERr1qxRRESEEyMDAADAxSDPAwAAtUmNvxNOkuLj4xUbG6sePXroyiuv1Ny5c1VYWKixY8c6OzQAAABcBPI8AABQW9SKItytt96q33//XU899ZRycnLUpUsXrVy5stQkvuWxWq2aOnVqmY8u4OJxfc3F9TUX19dcXF9zcX3NxfWtGuR51RvX11xcX3Nxfc3F9TUX19dcZl1fi+Ho960CAAAAAAAAsFPj54QDAAAAAAAAqjuKcAAAAAAAAIDJKMIBAAAAAAAAJqMIBwAAAAAAAJjskizCPfvss7r66qtVr149+fr6XtA+Y8aMkcVisVsGDBhgbqA1VGWur2EYeuqppxQUFKS6desqKipK+/btMzfQGuzIkSMaOXKkvL295evrq3HjxqmgoOCc+0RGRpb6DN99991VFHH1Nm/ePDVr1kweHh4KDw/Xt99+e87+S5YsUdu2beXh4aGOHTvqs88+q6JIa6aKXN/k5ORSn1MPD48qjLZm2bhxowYPHqzg4GBZLBYtW7bsvPusX79e3bp1k9VqVcuWLZWcnGx6nDVVRa/v+vXrS31+LRaLcnJyqiZgSCLPMxt5nvnI8xyLPM9c5HnmIc8zl7PyvEuyCHfy5EndfPPNuueeeyq034ABA5SdnW1b3nvvPZMirNkqc31nzpypV155RQsWLNDmzZvl6emp6OhonThxwsRIa66RI0dq165dSklJ0YoVK7Rx40ZNmDDhvPuNHz/e7jM8c+bMKoi2env//fcVHx+vqVOn6rvvvlPnzp0VHR2tQ4cOldn/m2++0YgRIzRu3Dht375dQ4YM0ZAhQ/Tjjz9WceQ1Q0WvryR5e3vbfU73799fhRHXLIWFhercubPmzZt3Qf0zMzM1aNAg9enTRzt27NDkyZN155136osvvjA50pqpotf3jLS0NLvPsL+/v0kRoizkeeYizzMfeZ7jkOeZizzPXOR55nJanmdcwpKSkgwfH58L6hsbG2vceOONpsZT21zo9S0pKTECAwONWbNm2dqOHj1qWK1W47333jMxwppp9+7dhiRjy5YttrbPP//csFgsxm+//Vbufr179zYmTZpUBRHWLFdeeaURFxdnWy8uLjaCg4ONxMTEMvvfcsstxqBBg+zawsPDjbvuusvUOGuqil7fivxdhj1JxkcffXTOPg8//LBx+eWX27XdeuutRnR0tImR1Q4Xcn3XrVtnSDL+/PPPKokJ50aeZy7yPHOQ5zkWeZ65yPOqDnmeuaoyz7sk74SrrPXr18vf319t2rTRPffco8OHDzs7pFohMzNTOTk5ioqKsrX5+PgoPDxcqampToysekpNTZWvr6969Ohha4uKipKLi4s2b958zn3fffddNWrUSB06dFBCQoKOHz9udrjV2smTJ7Vt2za7z56Li4uioqLK/eylpqba9Zek6OhoPqtlqMz1laSCggKFhoYqJCREN954o3bt2lUV4V4S+PxWjS5duigoKEjXXXedvv76a2eHgwtEnmcO8ryKIc9zHPI8c5HnVT98fqvGxeZ5bibEVCsNGDBAQ4cOVVhYmDIyMvTYY48pJiZGqampcnV1dXZ4NdqZZ6gDAgLs2gMCAphHpww5OTmlbnl1c3OTn5/fOa/XbbfdptDQUAUHB2vnzp165JFHlJaWpqVLl5odcrX1xx9/qLi4uMzP3k8//VTmPjk5OXxWL1Blrm+bNm305ptvqlOnTsrLy9OLL76oq6++Wrt27VKTJk2qIuxarbzPb35+vv773/+qbt26ToqsdggKCtKCBQvUo0cPFRUV6T//+Y8iIyO1efNmdevWzdnh4RzI88xDnlcx5HmOQ55nLvK86oc8z1yOyvNqTRHu0Ucf1QsvvHDOPnv27FHbtm0rNf7w4cNtP3fs2FGdOnVSixYttH79evXr169SY9YkZl9fXPg1rqy/zyXSsWNHBQUFqV+/fsrIyFCLFi0qPS7gSBEREYqIiLCtX3311WrXrp3+9a9/6emnn3ZiZMD5tWnTRm3atLGtX3311crIyNCcOXP09ttvOzGymo88z1zkeeYjzwPI81CzOSrPqzVFuAceeEBjxow5Z5/mzZs77HjNmzdXo0aNlJ6efkkkZ2Ze38DAQElSbm6ugoKCbO25ubnq0qVLpcasiS70GgcGBpaa7PT06dM6cuSI7VpeiPDwcElSenr6JZucNWrUSK6ursrNzbVrz83NLfdaBgYGVqj/pawy1/dsderUUdeuXZWenm5GiJec8j6/3t7efDtqkiuvvFJfffWVs8Oo8cjzzEWeZz7yvKpHnmcu8rzqhzyv6lUmz6s1RbjGjRurcePGVXa8AwcO6PDhw3bJRG1m5vUNCwtTYGCg1qxZY0vG8vPztXnz5gq/2awmu9BrHBERoaNHj2rbtm3q3r27JGnt2rUqKSmxJVwXYseOHZJ0yXyGy+Lu7q7u3btrzZo1GjJkiCSppKREa9as0cSJE8vcJyIiQmvWrNHkyZNtbSkpKXbf6uEvlbm+ZysuLtYPP/yggQMHmhjppSMiIkKfffaZXRufX3Pt2LHjkv476yjkeeYizzMfeV7VI88zF3le9UOeV/Uqledd1Gsdaqj9+/cb27dvN6ZPn27Ur1/f2L59u7F9+3bj2LFjtj5t2rQxli5dahiGYRw7dsx48MEHjdTUVCMzM9NYvXq10a1bN6NVq1bGiRMnnHUa1VZFr69hGMbzzz9v+Pr6GsuXLzd27txp3HjjjUZYWJjx3//+1xmnUO0NGDDA6Nq1q7F582bjq6++Mlq1amWMGDHCtv3AgQNGmzZtjM2bNxuGYRjp6enGjBkzjK1btxqZmZnG8uXLjebNmxu9evVy1ilUG4sXLzasVquRnJxs7N6925gwYYLh6+tr5OTkGIZhGKNGjTIeffRRW/+vv/7acHNzM1588UVjz549xtSpU406deoYP/zwg7NOoVqr6PWdPn268cUXXxgZGRnGtm3bjOHDhxseHh7Grl27nHUK1dqxY8dsf2MlGbNnzza2b99u7N+/3zAMw3j00UeNUaNG2fr//PPPRr169YyHHnrI2LNnjzFv3jzD1dXVWLlypbNOoVqr6PWdM2eOsWzZMmPfvn3GDz/8YEyaNMlwcXExVq9e7axTuCSR55mLPM985HmOQ55nLvI8c5HnmctZed4lWYSLjY01JJVa1q1bZ+sjyUhKSjIMwzCOHz9u9O/f32jcuLFRp04dIzQ01Bg/frztjwvsVfT6GsZfr69/8sknjYCAAMNqtRr9+vUz0tLSqj74GuLw4cPGiBEjjPr16xve3t7G2LFj7ZLfzMxMu2uelZVl9OrVy/Dz8zOsVqvRsmVL46GHHjLy8vKcdAbVy6uvvmo0bdrUcHd3N6688kpj06ZNtm29e/c2YmNj7fp/8MEHRuvWrQ13d3fj8ssvNz799NMqjrhmqcj1nTx5sq1vQECAMXDgQOO7775zQtQ1w5lXpZ+9nLmmsbGxRu/evUvt06VLF8Pd3d1o3ry53d9i2Kvo9X3hhReMFi1aGB4eHoafn58RGRlprF271jnBX8LI88xFnmc+8jzHIs8zF3meecjzzOWsPM9iGIZRsXvnAAAAAAAAAFSEi7MDAAAAAAAAAGo7inAAAAAAAACAySjCAQAAAAAAACajCAcAAAAAAACYjCIcAAAAAAAAYDKKcAAAAAAAAIDJKMIBAAAAAAAAJqMIBwAAAAAAAJiMIhwAVEKzZs00d+7cc/axWCxatmxZlcQDAAAAxyDPA2AWinAAaoQxY8ZoyJAhtvXIyEhNnjzZafFciOzsbMXExDg7DAAAgGqtvLwuOTlZvr6+VR7PhSDPA1AZbs4OAABqq8DAQGeHAAAAgHKcOnVKderUqdS+5HkAKoM74QDUOGPGjNGGDRv08ssvy2KxyGKx6JdffpEk/fjjj4qJiVH9+vUVEBCgUaNG6Y8//rDtGxkZqfvuu0+TJ09WgwYNFBAQoNdff12FhYUaO3asvLy81LJlS33++efnjePYsWMaMWKEPD09ddlll2nevHl2289+TOGRRx5R69atVa9ePTVv3lxPPvmkTp06Zdv+/fffq0+fPvLy8pK3t7e6d++urVu3XtzFAgAAqCXWr1+vK6+8Up6envL19dU111yj/fv327YvX75c3bp1k4eHh5o3b67p06fr9OnTtu0Wi0Xz58/XDTfcIE9PTz377LPlHos8D4AZKMIBqHFefvllRUREaPz48crOzlZ2drZCQkJ09OhR9e3bV127dtXWrVu1cuVK5ebm6pZbbrHb/6233lKjRo307bff6r777tM999yjm2++WVdffbW+++479e/fX6NGjdLx48fPGcesWbPUuXNnbd++XY8++qgmTZqklJSUcvt7eXkpOTlZu3fv1ssvv6zXX39dc+bMsW0fOXKkmjRpoi1btmjbtm169NFHK/3tLAAAQG1y+vRpDRkyRL1799bOnTuVmpqqCRMmyGKxSJK+/PJLjR49WpMmTdLu3bv1r3/9S8nJyaUKbdOmTdNNN92kH374QXfccUe5xyPPA2AGi2EYhrODAIDzGTNmjI4ePWr7xjEyMlJdunSxmzT3mWee0ZdffqkvvvjC1nbgwAGFhIQoLS1NrVu3VmRkpIqLi/Xll19KkoqLi+Xj46OhQ4dq4cKFkqScnBwFBQUpNTVVV111VZnxNGvWTO3atbO7Y2748OHKz8/XZ599Jumvb0g/+ugju7ns/u7FF1/U4sWLbd+Cent769VXX1VsbGylrhEAAEBNVFZeJ/01J9zkyZN19OhRHTlyRA0bNtT69evVu3fvUmNERUWpX79+SkhIsLW98847evjhh3Xw4EFJf+VmkydPtiuOlYU8D4BZuBMOQK3x/fffa926dapfv75tadu2rSQpIyPD1q9Tp062n11dXdWwYUN17NjR1hYQECBJOnTo0DmPFxERUWp9z5495fZ///33dc011ygwMFD169fXE088oaysLNv2+Ph43XnnnYqKitLzzz9vFzMAAMClzM/PT2PGjFF0dLQGDx6sl19+WdnZ2bbt33//vWbMmGGXB555auLvTzf06NHjgo5HngfADBThANQaBQUFGjx4sHbs2GG37Nu3T7169bL1O/vWf4vFYtd25rGGkpISh8WWmpqqkSNHauDAgVqxYoW2b9+uxx9/XCdPnrT1mTZtmnbt2qVBgwZp7dq1at++vT766COHxQAAAFAdeXt7Ky8vr1T70aNH5ePjY1tPSkpSamqqrr76ar3//vtq3bq1Nm3aJOmvPHD69Ol2OeAPP/ygffv2ycPDwzaGp6enw+MnzwNwoXg7KoAayd3dXcXFxXZt3bp10//93/+pWbNmcnMz/8/bmaTv7+vt2rUrs+8333yj0NBQPf7447a2v08kfEbr1q3VunVrTZkyRSNGjFBSUpJuuukmxwYOAABQjbRp00arVq0q1f7dd9+pdevWdm1du3ZV165dlZCQoIiICC1atEhXXXWVunXrprS0NLVs2dIhMZHnATADd8IBqJGaNWumzZs365dfftEff/yhkpISxcXF6ciRIxoxYoS2bNmijIwMffHFFxo7dmypgp0jfP3115o5c6b27t2refPmacmSJZo0aVKZfVu1aqWsrCwtXrxYGRkZeuWVV+y+/fzvf/+riRMnav369dq/f7++/vprbdmypdxkDwAAoLa45557tHfvXt1///3auXOn0tLSNHv2bL333nt64IEHJEmZmZlKSEhQamqq9u/fr1WrVmnfvn22XOmpp57SwoULNX36dO3atUt79uzR4sWL9cQTT1QqJvI8AGagCAegRnrwwQfl6uqq9u3bq3HjxsrKylJwcLC+/vprFRcXq3///urYsaMmT54sX19fubg4/s/dAw88oK1bt6pr16565plnNHv2bEVHR5fZ94YbbtCUKVM0ceJEdenSRd98842efPJJ23ZXV1cdPnxYo0ePVuvWrXXLLbcoJiZG06dPd3jcAAAA1Unz5s21ceNG/fTTT4qKilJ4eLg++OADLVmyRAMGDJAk1atXTz/99JOGDRum1q1ba8KECYqLi9Ndd90lSYqOjtaKFSu0atUqXXHFFbrqqqs0Z84chYaGViom8jwAZuDtqAAAAAAAAIDJuBMOAAAAAAAAMBlFOAAAAAAAAMBkFOEAAAAAAAAAk1GEAwAAAAAAAExGEQ4AAAAAAAAwGUU4AAAAAAAAwGQU4QAAAAAAAACTUYQDAAAAAAAATEYRDgAAAAAAADAZRTgAAAAAAADAZBThAAAAAAAAAJP9P9ZqH6PHL+dyAAAAAElFTkSuQmCC\n"
          },
          "metadata": {}
        }
      ],
      "source": [
        "## plot the biases\n",
        "fig,ax= plt.subplots(1,2,figsize=(15,4))\n",
        "_=ax[0].hist(baseline_model.bi, bins=20, alpha=0.5)\n",
        "_=ax[0].set_xlabel('Item bias')\n",
        "_=ax[0].set_ylabel('Frequency')\n",
        "_=ax[0].set_title('Distribution of item bias')\n",
        "_=ax[0].set_xlim(-1.5,1.5)\n",
        "_=ax[1].hist(baseline_model.bu, bins=20, alpha=0.5)\n",
        "_=ax[1].set_xlabel('User bias')\n",
        "_=ax[1].set_ylabel('Frequency')\n",
        "_=ax[1].set_title('Distribution of user bias')\n",
        "_=ax[1].set_xlim(-1.5,1.5)"
      ]
    },
    {
      "cell_type": "markdown",
      "id": "820d4896",
      "metadata": {
        "id": "820d4896"
      },
      "source": [
        "> Q2. These bias values are approximately Normally distributed, but with somewhat heavy tails. Examine the range of these biases. What does the fact that these ranges are small compared to the range of ratings tell you about the magnitude of the bias adjustments?      "
      ]
    },
    {
      "cell_type": "markdown",
      "id": "9bb87ece",
      "metadata": {
        "id": "9bb87ece"
      },
      "source": [
        "> **Answer:** The small range of the bias values compared to the range of ratings indicates that the bias adjustments are relatively modest. The majority of the prediction comes from the overall average rating, with biases providing fine-tuning rather than large adjustments"
      ]
    },
    {
      "cell_type": "markdown",
      "id": "289257c3",
      "metadata": {
        "id": "289257c3"
      },
      "source": [
        "> 5. Ideally, the biases should be uniformly distributed with identifier. In other words, statistically independent of the identifiers. In other words, **homoskedastic**. Execute the code to display the relationship."
      ]
    },
    {
      "cell_type": "code",
      "execution_count": 12,
      "id": "2ea4f961",
      "metadata": {
        "id": "2ea4f961",
        "colab": {
          "base_uri": "https://localhost:8080/",
          "height": 410
        },
        "outputId": "1381c893-4b96-4441-a237-901df266ce02"
      },
      "outputs": [
        {
          "output_type": "display_data",
          "data": {
            "text/plain": [
              "<Figure size 1500x400 with 2 Axes>"
            ],
            "image/png": "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\n"
          },
          "metadata": {}
        }
      ],
      "source": [
        "## plot the biases\n",
        "fig,ax= plt.subplots(1,2,figsize=(15,4))\n",
        "_=ax[0].scatter(range(len(baseline_model.bi)), baseline_model.bi)\n",
        "_=ax[0].set_xlabel('Item identifier')\n",
        "_=ax[0].set_ylabel('Bias value')\n",
        "_=ax[0].set_title('Item bias vs. item identifier')\n",
        "_=ax[1].scatter(range(len(baseline_model.bu)), baseline_model.bu)\n",
        "_=ax[1].set_xlabel('User identifier')\n",
        "_=ax[1].set_ylabel('Bias value')\n",
        "_=ax[1].set_title('User bias vs. user identifier')"
      ]
    },
    {
      "cell_type": "markdown",
      "id": "b12326c3",
      "metadata": {
        "id": "b12326c3"
      },
      "source": [
        "> Q3. Does the distribution of the biases look largely uniform with item identifier or not?    \n",
        "> Q4. Does the distribution of the biases look largely uniform with user identifier or not?   "
      ]
    },
    {
      "cell_type": "markdown",
      "id": "9f781f6d",
      "metadata": {
        "id": "9f781f6d"
      },
      "source": [
        "> **Answers:**\n",
        "\n",
        "> Q3. The distribution of the item biases does not look perfectly uniform with the item identifier. There are variations in the bias values, but no clear pattern is observed. This suggests that while the biases are somewhat spread out, they are not entirely uniform across item identifiers\n",
        "\n",
        "> Q4. The distribution of the user biases also does not look perfectly uniform with the user identifier. Similar to the item biases, there are variations, but no distinct pattern is evident. This indicates that user biases are somewhat distributed, but not uniformly across user identifiers"
      ]
    },
    {
      "cell_type": "markdown",
      "id": "f394b431",
      "metadata": {
        "id": "f394b431"
      },
      "source": [
        "## Collaborative Filtering Model  \n",
        "\n",
        "The collaborative filtering model is an unsupervised learning model using similarity item-item or user-user similarity measures. Items with the highest similarity measures are recommended.  "
      ]
    },
    {
      "cell_type": "markdown",
      "id": "f1cbee48",
      "metadata": {
        "id": "f1cbee48"
      },
      "source": [
        "> **Exercise 05-3:** You will now create and evaluate a baseline recommender model. Do the following:   \n",
        "> 1. Instantiate a [surprise.prediction_algorithms.knns.KNNBasic](https://surprise.readthedocs.io/en/stable/knn_inspired.html) model object and it with the `fit` method using the `ml_trainset` as the argument. Name your model object `collaborative_filter_model`.  \n",
        "> 2. Compute the recommender predictions with the `test` method using the `ml_testset` as the argument.   \n",
        "> 3. Compute and print the RMSE using `surprise.accuracy.rmse and MAE using `surprise.accuracy.mae` with the predictions as the argument in both cases.  "
      ]
    },
    {
      "cell_type": "code",
      "execution_count": 13,
      "id": "472e0513",
      "metadata": {
        "id": "472e0513",
        "colab": {
          "base_uri": "https://localhost:8080/"
        },
        "outputId": "03b64d20-af21-4d4f-8b20-c1687200bf7c"
      },
      "outputs": [
        {
          "output_type": "stream",
          "name": "stdout",
          "text": [
            "Computing the msd similarity matrix...\n",
            "Done computing similarity matrix.\n",
            "RMSE: 0.9676\n",
            "MAE:  0.7636\n",
            "RMSE: 0.9676139209075455\n",
            "MAE: 0.7636210441523836\n"
          ]
        }
      ],
      "source": [
        "np.random.seed(258)\n",
        "\n",
        "# 1: Instantiate the KNNBasic model and fit it\n",
        "collaborative_filter_model = KNNBasic()\n",
        "collaborative_filter_model.fit(ml_trainset)\n",
        "\n",
        "# 2: Compute the predictions using the test set\n",
        "collaborative_filter_predictions = collaborative_filter_model.test(ml_testset)\n",
        "\n",
        "# 3: Compute and print RMSE and MAE\n",
        "rmse = accuracy.rmse(collaborative_filter_predictions)\n",
        "mae = accuracy.mae(collaborative_filter_predictions)\n",
        "\n",
        "print(f\"RMSE: {rmse}\")\n",
        "print(f\"MAE: {mae}\")\n"
      ]
    },
    {
      "cell_type": "markdown",
      "id": "0a130312",
      "metadata": {
        "id": "0a130312"
      },
      "source": [
        "> Provide short answers to the following questions:     \n",
        "> Q1. Compare the performance of this model to the baseline model. Is it better or worse?     \n",
        "> Q2. Keeping in mind that the rating sampling is more dense that a real-world example, what does this tell you about the effectiveness of a baseline model vs. the model based on similarity.    \n",
        "  "
      ]
    },
    {
      "cell_type": "markdown",
      "id": "1de3d8f1",
      "metadata": {
        "id": "1de3d8f1"
      },
      "source": [
        "> **Answers:**\n",
        "\n",
        "> Q1. The performance of the collaborative filtering model (RMSE: 0.9676, MAE: 0.7636) is slightly worse than the baseline model (RMSE: 0.9371, MAE: 0.7421).\n",
        "\n",
        "> Q2. The slightly worse performance of the similarity-based model compared to the baseline model, despite the dense rating sampling, suggests that baseline models can be quite effective. In real-world scenarios with sparser data, baseline models might perform even better relative to similarity-based models, indicating that simple average-based predictions can be robust and reliable"
      ]
    },
    {
      "cell_type": "markdown",
      "id": "39b69bfe",
      "metadata": {
        "id": "39b69bfe"
      },
      "source": [
        "> 4. The distribution of the similarities gives insight into the behavior of the model. Execute the code in the to display the histogram of the user-user similarity measures.   "
      ]
    },
    {
      "cell_type": "code",
      "execution_count": 14,
      "id": "bf7db96b",
      "metadata": {
        "id": "bf7db96b",
        "colab": {
          "base_uri": "https://localhost:8080/",
          "height": 430
        },
        "outputId": "0b6cbf1c-ae63-4ce9-ef5f-1b515eadf66f"
      },
      "outputs": [
        {
          "output_type": "display_data",
          "data": {
            "text/plain": [
              "<Figure size 640x480 with 1 Axes>"
            ],
            "image/png": "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\n"
          },
          "metadata": {}
        }
      ],
      "source": [
        "_=plt.hist(collaborative_filter_model.sim.flatten(), bins=40, alpha=0.5)"
      ]
    },
    {
      "cell_type": "markdown",
      "id": "34716d92",
      "metadata": {
        "id": "34716d92"
      },
      "source": [
        "> Q3. Examine the plot. Notice there are a number of similarities which are or are close to 0 or 1, and another spike around 0.5. Is the distribution of these similarities skewed? If so, what does this skew tell you about how strong a predictor similarity can be in this case.    \n",
        "> **End of exercise.**"
      ]
    },
    {
      "cell_type": "markdown",
      "id": "b2f4c0ae",
      "metadata": {
        "id": "b2f4c0ae"
      },
      "source": [
        "> **Answer:** Yes, the distribution of these similarities is skewed. The presence of many similarities close to 0 and 1, along with a spike around 0.5, indicates that there are a substantial number of item pairs that are either very dissimilar (similarity close to 0) or very similar (similarity close to 1). The skew suggests that while some items are highly similar and can be strong predictors, there is a large portion of items with weak or no similarity, limiting the overall effectiveness of similarity as a predictor in this case"
      ]
    },
    {
      "cell_type": "markdown",
      "id": "49f7c1c1",
      "metadata": {
        "id": "49f7c1c1"
      },
      "source": [
        "## Matrix Factorization Methods   \n",
        "\n",
        "Matrix factorization algorithms are generally considered to be the state of the art for recommenders. The matrix factorization methods find a set of latent (non-observable) factor variable values, which are used to compute rating estimates. Additionally, user and item rating bias adjustments are applied.    "
      ]
    },
    {
      "cell_type": "markdown",
      "id": "52747377",
      "metadata": {
        "id": "52747377"
      },
      "source": [
        "> **Exercise 05-4:** You will now create and evaluate a baseline recommender model. Do the following:   \n",
        "> 1. Instantiate a [surprise.prediction_algorithms.matrix_factorization.SVD](https://surprise.readthedocs.io/en/stable/matrix_factorization.html) model object, using 10 factors, and it with the `fit` method using the `ml_trainset` as the argument. Name your model object `svd_model`.  \n",
        "> 2. Compute the recommender predictions with the `test` method using the `ml_testset` as the argument.   \n",
        "> 3. Compute and print the RMSE using `surprise.accuracy.rmse` and MAE using `surprise.accuracy.mae` with the predictions as the argument in both cases.  "
      ]
    },
    {
      "cell_type": "code",
      "execution_count": 15,
      "id": "2c5acf53",
      "metadata": {
        "id": "2c5acf53",
        "colab": {
          "base_uri": "https://localhost:8080/"
        },
        "outputId": "e2a96906-b4eb-4249-ca9f-9fe906ec8860"
      },
      "outputs": [
        {
          "output_type": "stream",
          "name": "stdout",
          "text": [
            "RMSE: 0.9304\n",
            "MAE:  0.7337\n",
            "RMSE: 0.9304151651950228\n",
            "MAE: 0.733697555718317\n"
          ]
        }
      ],
      "source": [
        "np.random.seed(9741)\n",
        "\n",
        "# 1: Instantiate the SVD model with 10 factors and fit it\n",
        "svd_model = SVD(n_factors=10)\n",
        "svd_model.fit(ml_trainset)\n",
        "\n",
        "# 2: Compute the predictions using the test set\n",
        "svd_predictions = svd_model.test(ml_testset)\n",
        "\n",
        "# 3: Compute and print RMSE and MAE\n",
        "rmse = accuracy.rmse(svd_predictions)\n",
        "mae = accuracy.mae(svd_predictions)\n",
        "\n",
        "print(f\"RMSE: {rmse}\")\n",
        "print(f\"MAE: {mae}\")\n"
      ]
    },
    {
      "cell_type": "markdown",
      "id": "76cd2919",
      "metadata": {
        "id": "76cd2919"
      },
      "source": [
        "> Provide short answers to the following questions:   \n",
        "> Q1. Compare the performance of this model to the baseline model. Is it better or worse?     \n",
        "> Q2. Keeping in mind that the rating sampling is more dense that a real-world example, what does this tell you about the effectiveness of a baseline model vs. the model based on latent factors.    \n"
      ]
    },
    {
      "cell_type": "markdown",
      "id": "3b22b947",
      "metadata": {
        "id": "3b22b947"
      },
      "source": [
        "> **Answers:**\n",
        "\n",
        "> Q1. The performance of the SVD matrix factorization model (RMSE: 0.9304, MAE: 0.7337) is slightly better than the baseline model (RMSE: 0.9371, MAE: 0.7421)\n",
        "\n",
        "> Q2. The improved performance of the SVD model indicates that latent factor models can capture more nuanced patterns in the data compared to baseline models. Even with denser rating sampling, the latent factors provide a more sophisticated and accurate representation of user-item interactions. This suggests that in real-world scenarios, where data might be sparser, latent factor models could offer significant advantages over simpler baseline models"
      ]
    },
    {
      "cell_type": "markdown",
      "id": "8eeb2ef1",
      "metadata": {
        "id": "8eeb2ef1"
      },
      "source": [
        "> 4. The distribution of the item and factor values gives insight into the behavior of the model. Execute the code in the to display the histograms of the factors for items and users.     "
      ]
    },
    {
      "cell_type": "code",
      "execution_count": 16,
      "id": "b6bd4f30",
      "metadata": {
        "id": "b6bd4f30",
        "colab": {
          "base_uri": "https://localhost:8080/",
          "height": 445
        },
        "outputId": "a84b4a6d-6fbd-4995-f766-9d667e3692e9"
      },
      "outputs": [
        {
          "output_type": "stream",
          "name": "stdout",
          "text": [
            "Shape of item factor matrix: (1654, 10)\n",
            "Shape of user factor matrix: (943, 10)\n"
          ]
        },
        {
          "output_type": "display_data",
          "data": {
            "text/plain": [
              "<Figure size 1500x400 with 2 Axes>"
            ],
            "image/png": "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\n"
          },
          "metadata": {}
        }
      ],
      "source": [
        "print('Shape of item factor matrix: {}'.format(svd_model.qi.shape))\n",
        "print('Shape of user factor matrix: {}'.format(svd_model.pu.shape))\n",
        "\n",
        "## Create a histograms of the factor values\n",
        "fig,ax= plt.subplots(1,2,figsize=(15,4))\n",
        "_=ax[0].hist(svd_model.qi.flatten(), bins=20, alpha=0.5)\n",
        "_=ax[0].set_xlabel('Item factor values')\n",
        "_=ax[0].set_ylabel('Frequency')\n",
        "_=ax[0].set_title('Distribution of item factor values')\n",
        "_=ax[0].set_xlim(-.75,.75)\n",
        "_=ax[1].hist(svd_model.pu.flatten(), bins=20, alpha=0.5)\n",
        "_=ax[1].set_xlabel('User factor values')\n",
        "_=ax[1].set_ylabel('Frequency')\n",
        "_=ax[1].set_title('Distribution of user factor values')\n",
        "_=ax[1].set_xlim(-.75,.75)"
      ]
    },
    {
      "cell_type": "markdown",
      "id": "fe0342c0",
      "metadata": {
        "id": "fe0342c0"
      },
      "source": [
        "> 5. Finally, you will compute the compression of the factor model compared to a model using the full utility matrix."
      ]
    },
    {
      "cell_type": "code",
      "execution_count": 18,
      "id": "e4efb4e0",
      "metadata": {
        "id": "e4efb4e0",
        "colab": {
          "base_uri": "https://localhost:8080/"
        },
        "outputId": "a1e3b93b-7e1f-483e-9fa3-8849a75a2fa1"
      },
      "outputs": [
        {
          "output_type": "stream",
          "name": "stdout",
          "text": [
            "Total number of reviews = 80000\n",
            "Bytes for all review tuples = 643772\n",
            "Values in P = 9430\n",
            "Values in Q = 16540\n",
            "Total bytes for P + Q = 103880\n"
          ]
        }
      ],
      "source": [
        "## Calculation of compression of factor model\n",
        "\n",
        "n_factors = 10  # Define the number of factors used in the SVD model\n",
        "\n",
        "n_reviews = 0\n",
        "for key in ml_trainset.ur.keys():\n",
        "    n_reviews += len(ml_trainset.ur[key])\n",
        "print(f\"Total number of reviews = {n_reviews}\")\n",
        "utility_bytes = 8*n_reviews + 4*ml_trainset.n_users\n",
        "print(f\"Bytes for all review tuples = {utility_bytes}\")\n",
        "\n",
        "P_size = n_factors * ml_trainset.n_users\n",
        "Q_size = n_factors * ml_trainset.n_items\n",
        "print(f\"Values in P = {P_size}\")\n",
        "print(f\"Values in Q = {Q_size}\")\n",
        "PQ_bytes = 4 * (P_size + Q_size)\n",
        "print(f\"Total bytes for P + Q = {PQ_bytes}\")"
      ]
    },
    {
      "cell_type": "markdown",
      "id": "e046cf72",
      "metadata": {
        "id": "e046cf72"
      },
      "source": [
        "> Provide short answers to the following questions:     \n",
        "> Q3. Examine the distribution of the factor values. Compare these values to the distribution of baseline or bias values for the Baseline model. What do the differences in the range of values tell you about the effect of subtracting the bias terms before computing the factor values?     \n",
        "> Q4. Notice the dimensions of factor matrices computed, Q, P. Is this representation compact compared to the original data set, and why?     \n",
        "> **End of exercise.**"
      ]
    },
    {
      "cell_type": "markdown",
      "id": "58397961",
      "metadata": {
        "id": "58397961"
      },
      "source": [
        "> **Answers:**\n",
        "\n",
        "> Q3. The factor values for both items and users have a more compact range compared to the baseline or bias values. This suggests that subtracting the bias terms before computing the factor values helps in normalizing the data, isolating the latent factors more effectively. It allows the model to focus on underlying patterns rather than raw rating values, leading to a more refined and nuanced representation\n",
        "\n",
        "> Q4. Yes, the representation is significantly more compact. The total bytes for the factor matrices (103,880 bytes) are much smaller compared to the bytes for all review tuples (643,772 bytes). This reduction in size is due to the matrix factorization approach, which condenses the information into latent factors, thereby reducing the dimensionality and storing less data while retaining essential patterns and relationships within the dataset."
      ]
    },
    {
      "cell_type": "markdown",
      "id": "2cfda811",
      "metadata": {
        "id": "2cfda811"
      },
      "source": [
        "#### Copyright 2021, 2022, 2023, Stephen F Elston. All rights reserved."
      ]
    },
    {
      "cell_type": "code",
      "execution_count": null,
      "id": "557b7b3d",
      "metadata": {
        "id": "557b7b3d"
      },
      "outputs": [],
      "source": []
    }
  ],
  "metadata": {
    "kernelspec": {
      "display_name": "Python 3 (ipykernel)",
      "language": "python",
      "name": "python3"
    },
    "language_info": {
      "codemirror_mode": {
        "name": "ipython",
        "version": 3
      },
      "file_extension": ".py",
      "mimetype": "text/x-python",
      "name": "python",
      "nbconvert_exporter": "python",
      "pygments_lexer": "ipython3",
      "version": "3.9.18"
    },
    "colab": {
      "provenance": []
    }
  },
  "nbformat": 4,
  "nbformat_minor": 5
}
  {
   "cell_type": "markdown",
   "id": "775d22f6",
   "metadata": {},
   "source": [
    "## Introduction \n",
    "\n",
    "Recommender algorithms are widely used in commerce. Further, the basic algorithms have found applications in other areas. In this Assignment you gain some experience working with recommender data, the collaborative filtering algorithm and some versions of the nonnegative matrix factorization algorithm.           \n",
    "\n",
    "This Assignment uses the Python [Surprise](https://surprise.readthedocs.io/en/stable/index.html) package a Scikit for recommender system experimentation. This package is in maintenance mode, but is still useful for learning recommender concepts. If you have not previously installed Surprise you will need to install it. Generally, the best way to install this older package is to run the command below from a command prompt on your system. If you have difficulty, you can refer to [this Stackoverflow thread](https://stackoverflow.com/questions/62042317/cannot-install-scikit-surprise-on-my-jupyter-notebook).      "
   ]
  },
  {
   "cell_type": "raw",
   "id": "eb6b84db",
   "metadata": {},
   "source": [
    "conda install -c conda-forge scikit-surprise"
   ]
  },
  {
   "cell_type": "markdown",
   "id": "a1794d61",
   "metadata": {},
   "source": [
    "> **Computational note:** The Surprise package was never intended as a production recommender system. If you want to explore options for production scalable recommender systems some options include:   \n",
    "> 1. The Neo4J graph database contains extensive support for enterprise recommendation systems. You can see a tutorial introduction [here](https://neo4j.com/developer/cypher/guide-build-a-recommendation-engine/).   \n",
    "> 2. The major cloud machine learning platforms, such as Keras and PyTorch, have increasing massive scale support for recommendation algorithms. You can find some getting started information for both [Kera](https://keras.io/examples/structured_data/collaborative_filtering_movielens/) and [PyTorch](https://pytorch.org/blog/introducing-torchrec/).\n",
    "\n",
    "Execute the code in the cell below to import the packages you will need for this assignment. "
   ]
  },
  {
   "cell_type": "code",
   "execution_count": null,
   "id": "56c703c5",
   "metadata": {},
   "outputs": [],
   "source": [
    "from surprise.prediction_algorithms.matrix_factorization import SVD, NMF\n",
    "from surprise.prediction_algorithms.baseline_only import BaselineOnly\n",
    "from surprise.prediction_algorithms.knns import KNNBasic\n",
    "from surprise import Dataset\n",
    "from surprise import accuracy\n",
    "from surprise.model_selection import cross_validate\n",
    "from surprise.model_selection import train_test_split\n",
    "import numpy as np\n",
    "import matplotlib.pyplot as plt\n",
    "import seaborn as sns\n",
    "\n",
    "%matplotlib inline"
   ]
  },
  {
   "cell_type": "markdown",
   "id": "187e0e31",
   "metadata": {},
   "source": [
    "## Load and Explore the Dataset   \n",
    "\n",
    "In this Assignment you will work with the MovieLens 100k dataset. This dataset includes a total of 100,000 movie ratings from IMDB. \n",
    "\n",
    "Before working with recommender algorithms, you will explore these data. Exploration of data is an essential step in any data mining process.     \n",
    "\n",
    "The code in the cell below loads the dataset and splits it into training and testing datasets. Execute this code. If you are asked if you want to download the data you must answer y. "
   ]
  },
  {
   "cell_type": "code",
   "execution_count": null,
   "id": "b13593f0",
   "metadata": {},
   "outputs": [],
   "source": [
    "## Load the movielens-100k dataset \n",
    "## Answer y if you are asked to download the dataset\n",
    "movie_lense_data = Dataset.load_builtin('ml-100k')\n",
    "\n",
    "## Split the dataset into training and test subsets.\n",
    "np.random.seed(4517)\n",
    "ml_trainset, ml_testset = train_test_split(movie_lense_data, test_size=0.20)"
   ]
  },
  {
   "cell_type": "markdown",
   "id": "56d69e4e",
   "metadata": {},
   "source": [
    "Before experimenting with the recommender algorithms we will explore the data. As a first step of the execute the code in the cell below to print some characteristics of the training dataset.  "
   ]
  },
  {
   "cell_type": "code",
   "execution_count": null,
   "id": "78a87679",
   "metadata": {},
   "outputs": [],
   "source": [
    "print('For training dataset:')\n",
    "print(\"Number of users = {}\".format(ml_trainset.n_users))\n",
    "print(\"Number of items = {}\".format(ml_trainset.n_items))\n",
    "print(\"Number of ratings = {}\".format(ml_trainset.n_ratings))"
   ]
  },
  {
   "cell_type": "markdown",
   "id": "b1dd669a",
   "metadata": {},
   "source": [
    "You can see some basic characteristics of the training dataset. If these data were represented as a rectangular table or matrix they would require, over 1.5 million, and at least that many bytes. In practice, a more efficient representation is used. \n",
    "\n",
    "The Surprise package, like all real-world recommender software, uses a space efficient representation. The `ur` attribute of the Surprise data object contains a dictionary with the recommender data. The keys of the dictionary are numeric identifiers of the users. The values of this key-value pairs are a list of tuples. The tuples are key-value pairs, with the key being the item identifier and the rating. In summary, there is a hashed user key to item key-value pairs. This nesting of key-value pairs is necessary since Python dictionaries only support a single hashed key per value.        \n",
    "\n",
    "The code in the cell below prints the list of key-value pairs for a single user key. There are multiple item identifier, rating, tupples for user 5. Execute this code and examine the results.   "
   ]
  },
  {
   "cell_type": "code",
   "execution_count": null,
   "id": "42fa930b",
   "metadata": {},
   "outputs": [],
   "source": [
    "## Print the product-rating tupples in the 'ur' attribute of the data object from user 6\n",
    "print(f\"The number of recommendations = {len(ml_trainset.ur[5])}\")\n",
    "ml_trainset.ur[5]"
   ]
  },
  {
   "cell_type": "markdown",
   "id": "d79af1c7",
   "metadata": {},
   "source": [
    "User 5 has only rated 32 items of 1647 total items.     "
   ]
  },
  {
   "cell_type": "markdown",
   "id": "79f28953",
   "metadata": {},
   "source": [
    "> **Exercise 05-1:** To gain some understanding of the nature of the ratings, in the cell below create and execute code to compute and print two summary statistics in decimal fraction format. Use the attributes of the training dataset to extract the required parameters. See the foregoing example for an example of accessing the attributes of the data object.        \n",
    "> 1. Fraction of all items rated by user 5. \n",
    "> 2. The fraction of possible item-user pairs in the utility matrix that have non-null values.        \n",
    "> **Hint:** Keep in mind that we are using a dictionary as the data struvture here. Dictionaries are based on key-value pairs. Therefore, the key for any user is their user ID, and the values are the ratings for that user.  "
   ]
  },
  {
   "cell_type": "code",
   "execution_count": null,
   "id": "e6870b0d",
   "metadata": {},
   "outputs": [],
   "source": [
    "## Put your code here\n",
    "\n",
    "\n"
   ]
  },
  {
   "cell_type": "markdown",
   "id": "2e7ae678",
   "metadata": {},
   "source": [
    "> Q1. Given that real-world online catalog (products, videos, music, etc.) can contain millions of items, do you think these fractions for an individual user and the average user are realistic or too high? "
   ]
  },
  {
   "cell_type": "markdown",
   "id": "15fea552",
   "metadata": {},
   "source": [
    "> **Answer:**     "
   ]
  },
  {
   "cell_type": "markdown",
   "id": "8b70a642",
   "metadata": {},
   "source": [
    "> 3. Create two lists with the following values, a) list named `mean_ratings` containing the mean rating of each user, and b) a list named `number_ratings` that contains the count of ratings for each user. The user ratings are represented with a Python dictionary, with the user identifier as key, in the `ur` attribute of the training dataset. You can extract the keys (user identifiers) with the `keys` method.  \n",
    "> 4. Once you have completed your code, execute the code in the cell below to display the histograms.  "
   ]
  },
  {
   "cell_type": "code",
   "execution_count": null,
   "id": "4639c3f9",
   "metadata": {},
   "outputs": [],
   "source": [
    "## Compute the mean rating for each of the users in the training dataset\n",
    "## Put your code here\n",
    "\n",
    "\n",
    "\n",
    "\n",
    "\n",
    "    \n",
    "## Create a histograms of the results\n",
    "fig,ax= plt.subplots(1,2,figsize=(15,4))\n",
    "_=ax[0].hist(mean_ratings, bins=20, alpha=0.5) \n",
    "_=ax[0].set_xlabel('Mean user rating')\n",
    "_=ax[0].set_ylabel('Frequency')\n",
    "_=ax[0].set_title('Distribution of mean user ratings')\n",
    "_=ax[1].hist(number_ratings, bins=20, alpha=0.5) \n",
    "_=ax[1].set_xlabel('Number of items rated')\n",
    "_=ax[1].set_ylabel('Frequency')\n",
    "_=ax[1].set_title('Distribution of number of items rated by user')"
   ]
  },
  {
   "cell_type": "markdown",
   "id": "1b23fd56",
   "metadata": {},
   "source": [
    "> Provide short answers to the following questions:   \n",
    "> Q2. Is the distribution of the mean user ratings a bit skewed? What does this skew tell us?   \n",
    "> Q3. Notice the rapid decay in the frequency of items rated by users. What does this long tail tell you about user behavior?  \n",
    "> **End of exercise.**"
   ]
  },
  {
   "cell_type": "markdown",
   "id": "671d7810",
   "metadata": {},
   "source": [
    "> **Answers:**   \n",
    "> Q2.        \n",
    "> Q3.     "
   ]
  },
  {
   "cell_type": "markdown",
   "id": "4cceab1c",
   "metadata": {},
   "source": [
    "## Baseline Only Model\n",
    "\n",
    "One possible answer to the cold start problem is to use a **baseline only** model. In this model we just use the average or baseline values for users or items to predict ratings. This same approach can be applied to users who consume an item, but provide no rating."
   ]
  },
  {
   "cell_type": "markdown",
   "id": "0a3cc000",
   "metadata": {},
   "source": [
    "> **Exercise 05-2:** You will now create and evaluate a baseline recommender model. Do the following:   \n",
    "> 1. Instantiate a [surprise.prediction_algorithms.baseline_only.BaselineOnly](https://surprise.readthedocs.io/en/stable/basic_algorithms.html) model object and it with the `fit` method using the `ml_trainset` as the argument. Name your model object `baseline_model`.  \n",
    "> 2. Compute the recommender predictions with the `test` method using the `ml_testset` as the argument.   \n",
    "> 3. Compute and print the RMSE using [surprise.accuracy.rmse](https://surprise.readthedocs.io/en/stable/accuracy.html) and MAE using [surprise.accuracy.mae](https://surprise.readthedocs.io/en/stable/accuracy.html) with the predictions as the argument in both cases.  "
   ]
  },
  {
   "cell_type": "code",
   "execution_count": null,
   "id": "d92d5c6c",
   "metadata": {},
   "outputs": [],
   "source": [
    "np.random.seed(864)\n",
    "## Instantiate the model object and fit to the training data  \n",
    "# Put your code below\n",
    "\n",
    "\n",
    "\n",
    "## Compute the predicitons from the model \n",
    "# Put your code below\n",
    "\n",
    "\n",
    "# Compute some model performance statistics\n",
    "# Put your code below\n",
    "\n"
   ]
  },
  {
   "cell_type": "markdown",
   "id": "3a9ad54e",
   "metadata": {},
   "source": [
    "> Q1. Does the accuracy performance of this model seem good given its simplicity?   "
   ]
  },
  {
   "cell_type": "markdown",
   "id": "a523a8d3",
   "metadata": {},
   "source": [
    "> **Answer:**    "
   ]
  },
  {
   "cell_type": "markdown",
   "id": "238cf7fb",
   "metadata": {},
   "source": [
    "> 4. Execute the code in the cell below to display histograms of the item and user biases. "
   ]
  },
  {
   "cell_type": "code",
   "execution_count": null,
   "id": "e4d87746",
   "metadata": {},
   "outputs": [],
   "source": [
    "## plot the biases\n",
    "fig,ax= plt.subplots(1,2,figsize=(15,4))\n",
    "_=ax[0].hist(baseline_model.bi, bins=20, alpha=0.5) \n",
    "_=ax[0].set_xlabel('Item bias')\n",
    "_=ax[0].set_ylabel('Frequency')\n",
    "_=ax[0].set_title('Distribution of item bias')\n",
    "_=ax[0].set_xlim(-1.5,1.5)\n",
    "_=ax[1].hist(baseline_model.bu, bins=20, alpha=0.5) \n",
    "_=ax[1].set_xlabel('User bias')\n",
    "_=ax[1].set_ylabel('Frequency')\n",
    "_=ax[1].set_title('Distribution of user bias')\n",
    "_=ax[1].set_xlim(-1.5,1.5)"
   ]
  },
  {
   "cell_type": "markdown",
   "id": "820d4896",
   "metadata": {},
   "source": [
    "> Q2. These bias values are approximately Normally distributed, but with somewhat heavy tails. Examine the range of these biases. What does the fact that these ranges are small compared to the range of ratings tell you about the magnitude of the bias adjustments?      "
   ]
  },
  {
   "cell_type": "markdown",
   "id": "9bb87ece",
   "metadata": {},
   "source": [
    "> **Answer:**     "
   ]
  },
  {
   "cell_type": "markdown",
   "id": "289257c3",
   "metadata": {},
   "source": [
    "> 5. Ideally, the biases should be uniformly distributed with identifier. In other words, statistically independent of the identifiers. In other words, **homoskedastic**. Execute the code to display the relationship. "
   ]
  },
  {
   "cell_type": "code",
   "execution_count": null,
   "id": "2ea4f961",
   "metadata": {},
   "outputs": [],
   "source": [
    "## plot the biases\n",
    "fig,ax= plt.subplots(1,2,figsize=(15,4))\n",
    "_=ax[0].scatter(range(len(baseline_model.bi)), baseline_model.bi) \n",
    "_=ax[0].set_xlabel('Item identifier')\n",
    "_=ax[0].set_ylabel('Bias value')\n",
    "_=ax[0].set_title('Item bias vs. item identifier')\n",
    "_=ax[1].scatter(range(len(baseline_model.bu)), baseline_model.bu) \n",
    "_=ax[1].set_xlabel('User identifier')\n",
    "_=ax[1].set_ylabel('Bias value')\n",
    "_=ax[1].set_title('User bias vs. user identifier')"
   ]
  },
  {
   "cell_type": "markdown",
   "id": "b12326c3",
   "metadata": {},
   "source": [
    "> Q3. Does the distribution of the biases look largely uniform with item identifier or not?    \n",
    "> Q4. Does the distribution of the biases look largely uniform with user identifier or not?   "
   ]
  },
  {
   "cell_type": "markdown",
   "id": "9f781f6d",
   "metadata": {},
   "source": [
    "> **Answers:**   \n",
    "> Q3.       \n",
    "> Q4.     "
   ]
  },
  {
   "cell_type": "markdown",
   "id": "f394b431",
   "metadata": {},
   "source": [
    "## Collaborative Filtering Model  \n",
    "\n",
    "The collaborative filtering model is an unsupervised learning model using similarity item-item or user-user similarity measures. Items with the highest similarity measures are recommended.  "
   ]
  },
  {
   "cell_type": "markdown",
   "id": "f1cbee48",
   "metadata": {},
   "source": [
    "> **Exercise 05-3:** You will now create and evaluate a baseline recommender model. Do the following:   \n",
    "> 1. Instantiate a [surprise.prediction_algorithms.knns.KNNBasic](https://surprise.readthedocs.io/en/stable/knn_inspired.html) model object and it with the `fit` method using the `ml_trainset` as the argument. Name your model object `collaborative_filter_model`.  \n",
    "> 2. Compute the recommender predictions with the `test` method using the `ml_testset` as the argument.   \n",
    "> 3. Compute and print the RMSE using `surprise.accuracy.rmse and MAE using `surprise.accuracy.mae` with the predictions as the argument in both cases.  "
   ]
  },
  {
   "cell_type": "code",
   "execution_count": null,
   "id": "472e0513",
   "metadata": {},
   "outputs": [],
   "source": [
    "np.random.seed(258)\n",
    "## Instantiate the model object and fit to the training data  \n",
    "## Put your code here\n",
    "\n",
    "\n",
    "\n",
    "## Compute the predicitons from the model \n",
    "## Put your code here\n",
    "\n",
    "\n",
    "# Compute some model performance statistics\n",
    "## Put your code here\n",
    "\n"
   ]
  },
  {
   "cell_type": "markdown",
   "id": "0a130312",
   "metadata": {},
   "source": [
    "> Provide short answers to the following questions:     \n",
    "> Q1. Compare the performance of this model to the baseline model. Is it better or worse?     \n",
    "> Q2. Keeping in mind that the rating sampling is more dense that a real-world example, what does this tell you about the effectiveness of a baseline model vs. the model based on similarity.    \n",
    "  "
   ]
  },
  {
   "cell_type": "markdown",
   "id": "1de3d8f1",
   "metadata": {},
   "source": [
    "> **Answers:**       \n",
    "> Q1.           \n",
    "> Q2.     "
   ]
  },
  {
   "cell_type": "markdown",
   "id": "39b69bfe",
   "metadata": {},
   "source": [
    "> 4. The distribution of the similarities gives insight into the behavior of the model. Execute the code in the to display the histogram of the user-user similarity measures.   "
   ]
  },
  {
   "cell_type": "code",
   "execution_count": null,
   "id": "bf7db96b",
   "metadata": {},
   "outputs": [],
   "source": [
    "_=plt.hist(collaborative_filter_model.sim.flatten(), bins=40, alpha=0.5)"
   ]
  },
  {
   "cell_type": "markdown",
   "id": "34716d92",
   "metadata": {},
   "source": [
    "> Q3. Examine the plot. Notice there are a number of similarities which are or are close to 0 or 1, and another spike around 0.5. Is the distribution of these similarities skewed? If so, what does this skew tell you about how strong a predictor similarity can be in this case.    \n",
    "> **End of exercise.**"
   ]
  },
  {
   "cell_type": "markdown",
   "id": "b2f4c0ae",
   "metadata": {},
   "source": [
    "> **Answer:**           "
   ]
  },
  {
   "cell_type": "markdown",
   "id": "49f7c1c1",
   "metadata": {},
   "source": [
    "## Matrix Factorization Methods   \n",
    "\n",
    "Matrix factorization algorithms are generally considered to be the state of the art for recommenders. The matrix factorization methods find a set of latent (non-observable) factor variable values, which are used to compute rating estimates. Additionally, user and item rating bias adjustments are applied.    "
   ]
  },
  {
   "cell_type": "markdown",
   "id": "52747377",
   "metadata": {},
   "source": [
    "> **Exercise 05-4:** You will now create and evaluate a baseline recommender model. Do the following:   \n",
    "> 1. Instantiate a [surprise.prediction_algorithms.matrix_factorization.SVD](https://surprise.readthedocs.io/en/stable/matrix_factorization.html) model object, using 10 factors, and it with the `fit` method using the `ml_trainset` as the argument. Name your model object `svd_model`.  \n",
    "> 2. Compute the recommender predictions with the `test` method using the `ml_testset` as the argument.   \n",
    "> 3. Compute and print the RMSE using `surprise.accuracy.rmse` and MAE using `surprise.accuracy.mae` with the predictions as the argument in both cases.  "
   ]
  },
  {
   "cell_type": "code",
   "execution_count": null,
   "id": "2c5acf53",
   "metadata": {},
   "outputs": [],
   "source": [
    "np.random.seed(9741)\n",
    "## Instantiate the model object and fit to the training data  \n",
    "## Put your code here\n",
    "\n",
    "\n",
    "\n",
    "## Compute the predicitons from the model \n",
    "## Put your code here\n",
    "\n",
    "\n",
    "# Compute some model performance statistics\n",
    "## Put your code here\n",
    "\n"
   ]
  },
  {
   "cell_type": "markdown",
   "id": "76cd2919",
   "metadata": {},
   "source": [
    "> Provide short answers to the following questions:   \n",
    "> Q1. Compare the performance of this model to the baseline model. Is it better or worse?     \n",
    "> Q2. Keeping in mind that the rating sampling is more dense that a real-world example, what does this tell you about the effectiveness of a baseline model vs. the model based on latent factors.    \n"
   ]
  },
  {
   "cell_type": "markdown",
   "id": "3b22b947",
   "metadata": {},
   "source": [
    "> **Answers:**       \n",
    "> Q1.        \n",
    "> Q2.    "
   ]
  },
  {
   "cell_type": "markdown",
   "id": "8eeb2ef1",
   "metadata": {},
   "source": [
    "> 4. The distribution of the item and factor values gives insight into the behavior of the model. Execute the code in the to display the histograms of the factors for items and users.     "
   ]
  },
  {
   "cell_type": "code",
   "execution_count": null,
   "id": "b6bd4f30",
   "metadata": {},
   "outputs": [],
   "source": [
    "print('Shape of item factor matrix: {}'.format(svd_model.qi.shape))\n",
    "print('Shape of user factor matrix: {}'.format(svd_model.pu.shape))\n",
    "\n",
    "## Create a histograms of the factor values\n",
    "fig,ax= plt.subplots(1,2,figsize=(15,4))\n",
    "_=ax[0].hist(svd_model.qi.flatten(), bins=20, alpha=0.5) \n",
    "_=ax[0].set_xlabel('Item factor values')\n",
    "_=ax[0].set_ylabel('Frequency')\n",
    "_=ax[0].set_title('Distribution of item factor values')\n",
    "_=ax[0].set_xlim(-.75,.75)\n",
    "_=ax[1].hist(svd_model.pu.flatten(), bins=20, alpha=0.5) \n",
    "_=ax[1].set_xlabel('User factor values')\n",
    "_=ax[1].set_ylabel('Frequency')\n",
    "_=ax[1].set_title('Distribution of user factor values')\n",
    "_=ax[1].set_xlim(-.75,.75)"
   ]
  },
  {
   "cell_type": "markdown",
   "id": "fe0342c0",
   "metadata": {},
   "source": [
    "> 5. Finally, you will compute the compression of the factor model compared to a model using the full utility matrix. "
   ]
  },
  {
   "cell_type": "code",
   "execution_count": null,
   "id": "e4efb4e0",
   "metadata": {},
   "outputs": [],
   "source": [
    "## Calculation of compression of factor model   \n",
    "n_reviews = 0\n",
    "for key in ml_trainset.ur.keys(): \n",
    "    n_reviews += len(ml_trainset.ur[key])\n",
    "print(f\"Total number of reviews = {n_reviews}\")\n",
    "utility_bytes = 8*n_reviews + 4*ml_trainset.n_users\n",
    "print(f\"Bytes for all review tuples = {utility_bytes}\")\n",
    "\n",
    "P_size = n_factors * ml_trainset.n_users\n",
    "Q_size = n_factors * ml_trainset.n_items\n",
    "print(f\"Values in P = {P_size}\")\n",
    "print(f\"Values in Q = {Q_size}\")\n",
    "PQ_bytes = 4 * (P_size + Q_size)\n",
    "print(f\"Total bytes for P + Q = {PQ_bytes}\")"
   ]
  },
  {
   "cell_type": "markdown",
   "id": "e046cf72",
   "metadata": {},
   "source": [
    "> Provide short answers to the following questions:     \n",
    "> Q3. Examine the distribution of the factor values. Compare these values to the distribution of baseline or bias values for the Baseline model. What do the differences in the range of values tell you about the effect of subtracting the bias terms before computing the factor values?     \n",
    "> Q4. Notice the dimensions of factor matrices computed, Q, P. Is this representation compact compared to the original data set, and why?     \n",
    "> **End of exercise.**"
   ]
  },
  {
   "cell_type": "markdown",
   "id": "58397961",
   "metadata": {},
   "source": [
    "> **Answers:**   \n",
    "> Q3.     \n",
    "> Q4.    "
   ]
  },
  {
   "cell_type": "markdown",
   "id": "2cfda811",
   "metadata": {},
   "source": [
    "#### Copyright 2021, 2022, 2023, Stephen F Elston. All rights reserved. "
   ]
  },
  {
   "cell_type": "code",
   "execution_count": null,
   "id": "557b7b3d",
   "metadata": {},
   "outputs": [],
   "source": []
  }
 ],
 "metadata": {
  "kernelspec": {
   "display_name": "Python 3 (ipykernel)",
   "language": "python",
   "name": "python3"
  },
  "language_info": {
   "codemirror_mode": {
    "name": "ipython",
    "version": 3
   },
   "file_extension": ".py",
   "mimetype": "text/x-python",
   "name": "python",
   "nbconvert_exporter": "python",
   "pygments_lexer": "ipython3",
   "version": "3.9.18"
  }
 },
 "nbformat": 4,
 "nbformat_minor": 5
}
