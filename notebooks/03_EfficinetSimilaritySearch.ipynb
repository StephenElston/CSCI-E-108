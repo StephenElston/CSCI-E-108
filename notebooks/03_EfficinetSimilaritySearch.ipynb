{
  "cells": [
    {
      "cell_type": "markdown",
      "metadata": {
        "id": "HviTgqEVYIf7"
      },
      "source": [
        "# Efficient Similarity Search    \n",
        "\n",
        "## CSCI E-108      \n",
        "\n",
        "### Luciano Carvalho"
      ]
    },
    {
      "cell_type": "markdown",
      "metadata": {
        "id": "oAKo-ttTYIf8"
      },
      "source": [
        "In these exercises you will gain some experience with methods for efficient similarity search. A naive similarity search requires a brute-force computation of all pairwise distances, in the chosen metrics. The brute-force approach is not scalable with computational complexity for $n$ observations is $O(n^2)$. For massive dataset we need much more efficient methods. Here, we will explore two possibilities:        \n",
        "1. [**KD trees**](https://en.wikipedia.org/wiki/K-d_tree) are constructed from recurrsive binary splits. For a dataset with $n$ observatrions and dimensionality, $d$, the computational complexity is $O\\big(d\\ n \\log(n) \\big)$. While not ideal linear scaling, $O(n)$,the KD tree is a significant improvement over brute-force methods. Generally, KD-trees are considered to be efficient for large datasets with $d \\le 20$. For higher dimensional data, R-trees and ball trees can be extended to higher dimensional data. We will apply ball trees for clustering and dimensionality reduction with the spectral clustering and UMAP algorithms.     \n",
        "2. [**Mini-hashing**](https://en.wikipedia.org/wiki/MinHash) and [**locally sensitive hashing (LSH)**](https://en.wikipedia.org/wiki/Locality-sensitive_hashing#:~:text=In%20computer%20science%2C%20locality%2Dsensitive,universe%20of%20possible%20input%20items.)) can be applied to massive very high dimensional dataset. The mini-hash algorithm creates sketches of the observations that approximate the Jacard similarity between two varaibles. Multiple bands of sketches are combined to create locally sensive hashes with lower false positive and false negative rates.     \n",
        "\n",
        "Before proceeding to the exercises, execute the code in the cell below to import the required packages.  "
      ]
    },
    {
      "cell_type": "code",
      "execution_count": 17,
      "metadata": {
        "id": "GJloNoewYIf9"
      },
      "outputs": [],
      "source": [
        "import os\n",
        "import time\n",
        "import itertools\n",
        "import collections\n",
        "import numpy as np\n",
        "import pandas as pd\n",
        "import matplotlib.pyplot as plt\n",
        "from sklearn import datasets\n",
        "from sklearn.neighbors import KDTree\n",
        "from sklearn.model_selection import train_test_split\n",
        "import math"
      ]
    },
    {
      "cell_type": "markdown",
      "metadata": {
        "id": "Bux_U5HDYIf9"
      },
      "source": [
        "## Similarity Search with KD Trees     \n",
        "\n",
        "We will now explore a basic example of using a KD tree to find nearest neighbors. We will use a small (toy) dataset of characteristics and metabolic measurements taken from 442 diabetes patients. The KD tree algorithm will be used to find the nearest neightbors of the patients, based on the Euclidean distrance between the observation vectors.    \n",
        "\n",
        "### Load the dataset\n",
        "\n",
        "The diabetes dataset is in the [Scikit Learn Datasets package](https://scikit-learn.org/stable/api/sklearn.datasets.html).This dataset has already been clearned, missing values dealt with, and standardized (zero mean, unite variance). Therefore, we will skip the usual exploration and preparation steps.     \n",
        "\n",
        "Execute the code in the cell below to load the dataset and split it into two data frames, one for training and one for test.  "
      ]
    },
    {
      "cell_type": "code",
      "execution_count": 18,
      "metadata": {
        "colab": {
          "base_uri": "https://localhost:8080/"
        },
        "id": "ZzalfJ5TYIf-",
        "outputId": "14c1e548-123b-405d-e4d1-e4f3080a9f35"
      },
      "outputs": [
        {
          "output_type": "stream",
          "name": "stdout",
          "text": [
            "Dimensions of training data frame = (422, 10)\n",
            "    age_years       sex       BMI  Average_BP  serum_cholesterol       LDL  \\\n",
            "0   -0.078165 -0.044642 -0.073030   -0.057313          -0.084126 -0.074277   \n",
            "1   -0.016412 -0.044642  0.054152    0.070072          -0.033216 -0.027931   \n",
            "2    0.005383  0.050680 -0.001895    0.008101          -0.004321 -0.015719   \n",
            "3    0.030811 -0.044642  0.005650    0.011544           0.078236  0.077913   \n",
            "4   -0.005515  0.050680 -0.011595    0.011544          -0.022208 -0.015406   \n",
            "5    0.001751  0.050680 -0.006206   -0.019442          -0.009825  0.004949   \n",
            "6    0.063504  0.050680 -0.025607    0.011544           0.064477  0.048477   \n",
            "7   -0.001882 -0.044642  0.054152   -0.066506           0.072732  0.056619   \n",
            "8    0.041708 -0.044642 -0.007284    0.028758          -0.042848 -0.048286   \n",
            "9   -0.001882 -0.044642 -0.064408    0.011544           0.027326  0.037517   \n",
            "10  -0.027310  0.050680  0.060618    0.107944           0.012191 -0.017598   \n",
            "11  -0.060003 -0.044642  0.044451   -0.019442          -0.009825 -0.007577   \n",
            "12   0.016281  0.050680 -0.021295   -0.009113           0.034206  0.047850   \n",
            "13   0.012648  0.050680 -0.020218   -0.002228           0.038334  0.053174   \n",
            "14   0.045341  0.050680  0.068163    0.008101          -0.016704  0.004636   \n",
            "15   0.019913 -0.044642 -0.057941   -0.057313          -0.001569 -0.012587   \n",
            "16  -0.052738 -0.044642 -0.062252   -0.026328          -0.005697 -0.005072   \n",
            "17   0.023546  0.050680 -0.030996   -0.005670          -0.016704  0.017788   \n",
            "18   0.038076  0.050680 -0.024529    0.004658          -0.026336 -0.026366   \n",
            "19   0.009016  0.050680 -0.039618    0.028758           0.038334  0.073529   \n",
            "\n",
            "         HDL  total_chol_over_HDL  log_serum_triglycerides  Glucose_level  \n",
            "0  -0.024993            -0.039493                -0.018114      -0.083920  \n",
            "1   0.008142            -0.039493                -0.027129      -0.009362  \n",
            "2  -0.002903            -0.002592                 0.038394      -0.013504  \n",
            "3  -0.043401             0.108111                 0.066051       0.019633  \n",
            "4  -0.021311            -0.002592                 0.011011       0.069338  \n",
            "5  -0.039719             0.034309                 0.014821       0.098333  \n",
            "6   0.030232            -0.002592                 0.038394       0.019633  \n",
            "7  -0.043401             0.084863                 0.084492       0.048628  \n",
            "8   0.052322            -0.076395                -0.072133       0.023775  \n",
            "9  -0.013948             0.034309                 0.011785      -0.054925  \n",
            "10 -0.002903            -0.002592                 0.070207       0.135612  \n",
            "11  0.022869            -0.039493                -0.027129      -0.009362  \n",
            "12  0.000779            -0.002592                -0.012909       0.023775  \n",
            "13 -0.006584             0.034309                -0.005142      -0.009362  \n",
            "14 -0.076536             0.071210                 0.032432      -0.017646  \n",
            "15  0.074412            -0.039493                -0.061176      -0.075636  \n",
            "16  0.030232            -0.039493                -0.030748      -0.071494  \n",
            "17 -0.032356            -0.002592                -0.074093      -0.034215  \n",
            "18  0.015505            -0.039493                -0.015999      -0.025930  \n",
            "19 -0.072854             0.108111                 0.015568      -0.046641  \n"
          ]
        }
      ],
      "source": [
        "train_size = 20\n",
        "column_names = ['age_years',\n",
        "                'sex',\n",
        "                'BMI',\n",
        "                'Average_BP',\n",
        "                'serum_cholesterol',\n",
        "                'LDL',\n",
        "                'HDL',\n",
        "                'total_chol_over_HDL',\n",
        "                'log_serum_triglycerides',\n",
        "                'Glucose_level']\n",
        "\n",
        "diabetes_test, diabetes_train = train_test_split(datasets.load_diabetes()['data'], train_size=train_size)\n",
        "\n",
        "diabetes_train = pd.DataFrame(diabetes_train, columns=column_names)\n",
        "diabetes_test = pd.DataFrame(diabetes_test, columns=column_names)\n",
        "print('Dimensions of training data frame = ' + str(diabetes_train.shape))\n",
        "print(diabetes_test)"
      ]
    },
    {
      "cell_type": "markdown",
      "metadata": {
        "id": "WpIF2Vn7YIf-"
      },
      "source": [
        "Notice that each of the observations is a numeric vector with 10 variables. These variables have all be standardized.    "
      ]
    },
    {
      "cell_type": "markdown",
      "metadata": {
        "id": "cDtKeJkwYIf-"
      },
      "source": [
        "### Constructing and querying the KD-Tree   \n",
        "\n",
        "The code in the cell below constructs the KD-tree as a KD-tree object with the required arguments. Execute the code."
      ]
    },
    {
      "cell_type": "code",
      "execution_count": 19,
      "metadata": {
        "colab": {
          "base_uri": "https://localhost:8080/"
        },
        "id": "PKtANt7dYIf-",
        "outputId": "da78f601-05b2-4742-c8a0-70855a79f1e5"
      },
      "outputs": [
        {
          "output_type": "stream",
          "name": "stdout",
          "text": [
            "CPU times: user 5.23 ms, sys: 2 µs, total: 5.23 ms\n",
            "Wall time: 5.87 ms\n"
          ]
        }
      ],
      "source": [
        "%time KD_tree = KDTree(diabetes_train, leaf_size=10, metric='euclidean')"
      ]
    },
    {
      "cell_type": "markdown",
      "metadata": {
        "id": "IWugZT5tYIf-"
      },
      "source": [
        "Notice how quickly the tree was constructed. This should not be surprising given the small data set and low dimensionality of the data.   \n",
        "\n",
        "With the tree constructed we can now query the tree with the test data. The number of near neighbors is specified as 1 so that the query returns the single nearest neighbors.    \n",
        "\n",
        "> **Note:** In this case we are interested in similarity with each of the observations used to construct the KD-tree, so we use $k=1$ nearest neighbors. For other purposes, such as constructing a nearest neighbor graph, a larger value of $k$ is used. We will encounter a number algorithms using nearest neighbor graphs in subsequent lessons.   "
      ]
    },
    {
      "cell_type": "code",
      "execution_count": 20,
      "metadata": {
        "colab": {
          "base_uri": "https://localhost:8080/",
          "height": 711
        },
        "id": "FdbI_OmzYIf-",
        "outputId": "7a0d327b-2aef-4fc2-ce63-4caa23782666"
      },
      "outputs": [
        {
          "output_type": "stream",
          "name": "stdout",
          "text": [
            "CPU times: user 3.13 ms, sys: 1 µs, total: 3.13 ms\n",
            "Wall time: 2.77 ms\n"
          ]
        },
        {
          "output_type": "execute_result",
          "data": {
            "text/plain": [
              "    Nearest Neighbor  Distance\n",
              "12               118  0.043169\n",
              "15                42  0.043512\n",
              "13               242  0.049183\n",
              "18               417  0.049703\n",
              "17               116  0.058791\n",
              "2                407  0.059684\n",
              "16               350  0.060332\n",
              "4                125  0.062380\n",
              "6                148  0.062539\n",
              "11                30  0.063069\n",
              "0                412  0.065713\n",
              "1                394  0.066260\n",
              "5                207  0.072018\n",
              "9                255  0.076202\n",
              "19                35  0.076528\n",
              "14               162  0.080001\n",
              "8                313  0.083086\n",
              "3                346  0.086518\n",
              "7                293  0.087387\n",
              "10               303  0.095511"
            ],
            "text/html": [
              "\n",
              "  <div id=\"df-f20d6041-e211-4593-8cc2-6889a91796ce\" class=\"colab-df-container\">\n",
              "    <div>\n",
              "<style scoped>\n",
              "    .dataframe tbody tr th:only-of-type {\n",
              "        vertical-align: middle;\n",
              "    }\n",
              "\n",
              "    .dataframe tbody tr th {\n",
              "        vertical-align: top;\n",
              "    }\n",
              "\n",
              "    .dataframe thead th {\n",
              "        text-align: right;\n",
              "    }\n",
              "</style>\n",
              "<table border=\"1\" class=\"dataframe\">\n",
              "  <thead>\n",
              "    <tr style=\"text-align: right;\">\n",
              "      <th></th>\n",
              "      <th>Nearest Neighbor</th>\n",
              "      <th>Distance</th>\n",
              "    </tr>\n",
              "  </thead>\n",
              "  <tbody>\n",
              "    <tr>\n",
              "      <th>12</th>\n",
              "      <td>118</td>\n",
              "      <td>0.043169</td>\n",
              "    </tr>\n",
              "    <tr>\n",
              "      <th>15</th>\n",
              "      <td>42</td>\n",
              "      <td>0.043512</td>\n",
              "    </tr>\n",
              "    <tr>\n",
              "      <th>13</th>\n",
              "      <td>242</td>\n",
              "      <td>0.049183</td>\n",
              "    </tr>\n",
              "    <tr>\n",
              "      <th>18</th>\n",
              "      <td>417</td>\n",
              "      <td>0.049703</td>\n",
              "    </tr>\n",
              "    <tr>\n",
              "      <th>17</th>\n",
              "      <td>116</td>\n",
              "      <td>0.058791</td>\n",
              "    </tr>\n",
              "    <tr>\n",
              "      <th>2</th>\n",
              "      <td>407</td>\n",
              "      <td>0.059684</td>\n",
              "    </tr>\n",
              "    <tr>\n",
              "      <th>16</th>\n",
              "      <td>350</td>\n",
              "      <td>0.060332</td>\n",
              "    </tr>\n",
              "    <tr>\n",
              "      <th>4</th>\n",
              "      <td>125</td>\n",
              "      <td>0.062380</td>\n",
              "    </tr>\n",
              "    <tr>\n",
              "      <th>6</th>\n",
              "      <td>148</td>\n",
              "      <td>0.062539</td>\n",
              "    </tr>\n",
              "    <tr>\n",
              "      <th>11</th>\n",
              "      <td>30</td>\n",
              "      <td>0.063069</td>\n",
              "    </tr>\n",
              "    <tr>\n",
              "      <th>0</th>\n",
              "      <td>412</td>\n",
              "      <td>0.065713</td>\n",
              "    </tr>\n",
              "    <tr>\n",
              "      <th>1</th>\n",
              "      <td>394</td>\n",
              "      <td>0.066260</td>\n",
              "    </tr>\n",
              "    <tr>\n",
              "      <th>5</th>\n",
              "      <td>207</td>\n",
              "      <td>0.072018</td>\n",
              "    </tr>\n",
              "    <tr>\n",
              "      <th>9</th>\n",
              "      <td>255</td>\n",
              "      <td>0.076202</td>\n",
              "    </tr>\n",
              "    <tr>\n",
              "      <th>19</th>\n",
              "      <td>35</td>\n",
              "      <td>0.076528</td>\n",
              "    </tr>\n",
              "    <tr>\n",
              "      <th>14</th>\n",
              "      <td>162</td>\n",
              "      <td>0.080001</td>\n",
              "    </tr>\n",
              "    <tr>\n",
              "      <th>8</th>\n",
              "      <td>313</td>\n",
              "      <td>0.083086</td>\n",
              "    </tr>\n",
              "    <tr>\n",
              "      <th>3</th>\n",
              "      <td>346</td>\n",
              "      <td>0.086518</td>\n",
              "    </tr>\n",
              "    <tr>\n",
              "      <th>7</th>\n",
              "      <td>293</td>\n",
              "      <td>0.087387</td>\n",
              "    </tr>\n",
              "    <tr>\n",
              "      <th>10</th>\n",
              "      <td>303</td>\n",
              "      <td>0.095511</td>\n",
              "    </tr>\n",
              "  </tbody>\n",
              "</table>\n",
              "</div>\n",
              "    <div class=\"colab-df-buttons\">\n",
              "\n",
              "  <div class=\"colab-df-container\">\n",
              "    <button class=\"colab-df-convert\" onclick=\"convertToInteractive('df-f20d6041-e211-4593-8cc2-6889a91796ce')\"\n",
              "            title=\"Convert this dataframe to an interactive table.\"\n",
              "            style=\"display:none;\">\n",
              "\n",
              "  <svg xmlns=\"http://www.w3.org/2000/svg\" height=\"24px\" viewBox=\"0 -960 960 960\">\n",
              "    <path d=\"M120-120v-720h720v720H120Zm60-500h600v-160H180v160Zm220 220h160v-160H400v160Zm0 220h160v-160H400v160ZM180-400h160v-160H180v160Zm440 0h160v-160H620v160ZM180-180h160v-160H180v160Zm440 0h160v-160H620v160Z\"/>\n",
              "  </svg>\n",
              "    </button>\n",
              "\n",
              "  <style>\n",
              "    .colab-df-container {\n",
              "      display:flex;\n",
              "      gap: 12px;\n",
              "    }\n",
              "\n",
              "    .colab-df-convert {\n",
              "      background-color: #E8F0FE;\n",
              "      border: none;\n",
              "      border-radius: 50%;\n",
              "      cursor: pointer;\n",
              "      display: none;\n",
              "      fill: #1967D2;\n",
              "      height: 32px;\n",
              "      padding: 0 0 0 0;\n",
              "      width: 32px;\n",
              "    }\n",
              "\n",
              "    .colab-df-convert:hover {\n",
              "      background-color: #E2EBFA;\n",
              "      box-shadow: 0px 1px 2px rgba(60, 64, 67, 0.3), 0px 1px 3px 1px rgba(60, 64, 67, 0.15);\n",
              "      fill: #174EA6;\n",
              "    }\n",
              "\n",
              "    .colab-df-buttons div {\n",
              "      margin-bottom: 4px;\n",
              "    }\n",
              "\n",
              "    [theme=dark] .colab-df-convert {\n",
              "      background-color: #3B4455;\n",
              "      fill: #D2E3FC;\n",
              "    }\n",
              "\n",
              "    [theme=dark] .colab-df-convert:hover {\n",
              "      background-color: #434B5C;\n",
              "      box-shadow: 0px 1px 3px 1px rgba(0, 0, 0, 0.15);\n",
              "      filter: drop-shadow(0px 1px 2px rgba(0, 0, 0, 0.3));\n",
              "      fill: #FFFFFF;\n",
              "    }\n",
              "  </style>\n",
              "\n",
              "    <script>\n",
              "      const buttonEl =\n",
              "        document.querySelector('#df-f20d6041-e211-4593-8cc2-6889a91796ce button.colab-df-convert');\n",
              "      buttonEl.style.display =\n",
              "        google.colab.kernel.accessAllowed ? 'block' : 'none';\n",
              "\n",
              "      async function convertToInteractive(key) {\n",
              "        const element = document.querySelector('#df-f20d6041-e211-4593-8cc2-6889a91796ce');\n",
              "        const dataTable =\n",
              "          await google.colab.kernel.invokeFunction('convertToInteractive',\n",
              "                                                    [key], {});\n",
              "        if (!dataTable) return;\n",
              "\n",
              "        const docLinkHtml = 'Like what you see? Visit the ' +\n",
              "          '<a target=\"_blank\" href=https://colab.research.google.com/notebooks/data_table.ipynb>data table notebook</a>'\n",
              "          + ' to learn more about interactive tables.';\n",
              "        element.innerHTML = '';\n",
              "        dataTable['output_type'] = 'display_data';\n",
              "        await google.colab.output.renderOutput(dataTable, element);\n",
              "        const docLink = document.createElement('div');\n",
              "        docLink.innerHTML = docLinkHtml;\n",
              "        element.appendChild(docLink);\n",
              "      }\n",
              "    </script>\n",
              "  </div>\n",
              "\n",
              "\n",
              "<div id=\"df-040f54e1-df6b-46d3-a0ba-6dd670ecefed\">\n",
              "  <button class=\"colab-df-quickchart\" onclick=\"quickchart('df-040f54e1-df6b-46d3-a0ba-6dd670ecefed')\"\n",
              "            title=\"Suggest charts\"\n",
              "            style=\"display:none;\">\n",
              "\n",
              "<svg xmlns=\"http://www.w3.org/2000/svg\" height=\"24px\"viewBox=\"0 0 24 24\"\n",
              "     width=\"24px\">\n",
              "    <g>\n",
              "        <path d=\"M19 3H5c-1.1 0-2 .9-2 2v14c0 1.1.9 2 2 2h14c1.1 0 2-.9 2-2V5c0-1.1-.9-2-2-2zM9 17H7v-7h2v7zm4 0h-2V7h2v10zm4 0h-2v-4h2v4z\"/>\n",
              "    </g>\n",
              "</svg>\n",
              "  </button>\n",
              "\n",
              "<style>\n",
              "  .colab-df-quickchart {\n",
              "      --bg-color: #E8F0FE;\n",
              "      --fill-color: #1967D2;\n",
              "      --hover-bg-color: #E2EBFA;\n",
              "      --hover-fill-color: #174EA6;\n",
              "      --disabled-fill-color: #AAA;\n",
              "      --disabled-bg-color: #DDD;\n",
              "  }\n",
              "\n",
              "  [theme=dark] .colab-df-quickchart {\n",
              "      --bg-color: #3B4455;\n",
              "      --fill-color: #D2E3FC;\n",
              "      --hover-bg-color: #434B5C;\n",
              "      --hover-fill-color: #FFFFFF;\n",
              "      --disabled-bg-color: #3B4455;\n",
              "      --disabled-fill-color: #666;\n",
              "  }\n",
              "\n",
              "  .colab-df-quickchart {\n",
              "    background-color: var(--bg-color);\n",
              "    border: none;\n",
              "    border-radius: 50%;\n",
              "    cursor: pointer;\n",
              "    display: none;\n",
              "    fill: var(--fill-color);\n",
              "    height: 32px;\n",
              "    padding: 0;\n",
              "    width: 32px;\n",
              "  }\n",
              "\n",
              "  .colab-df-quickchart:hover {\n",
              "    background-color: var(--hover-bg-color);\n",
              "    box-shadow: 0 1px 2px rgba(60, 64, 67, 0.3), 0 1px 3px 1px rgba(60, 64, 67, 0.15);\n",
              "    fill: var(--button-hover-fill-color);\n",
              "  }\n",
              "\n",
              "  .colab-df-quickchart-complete:disabled,\n",
              "  .colab-df-quickchart-complete:disabled:hover {\n",
              "    background-color: var(--disabled-bg-color);\n",
              "    fill: var(--disabled-fill-color);\n",
              "    box-shadow: none;\n",
              "  }\n",
              "\n",
              "  .colab-df-spinner {\n",
              "    border: 2px solid var(--fill-color);\n",
              "    border-color: transparent;\n",
              "    border-bottom-color: var(--fill-color);\n",
              "    animation:\n",
              "      spin 1s steps(1) infinite;\n",
              "  }\n",
              "\n",
              "  @keyframes spin {\n",
              "    0% {\n",
              "      border-color: transparent;\n",
              "      border-bottom-color: var(--fill-color);\n",
              "      border-left-color: var(--fill-color);\n",
              "    }\n",
              "    20% {\n",
              "      border-color: transparent;\n",
              "      border-left-color: var(--fill-color);\n",
              "      border-top-color: var(--fill-color);\n",
              "    }\n",
              "    30% {\n",
              "      border-color: transparent;\n",
              "      border-left-color: var(--fill-color);\n",
              "      border-top-color: var(--fill-color);\n",
              "      border-right-color: var(--fill-color);\n",
              "    }\n",
              "    40% {\n",
              "      border-color: transparent;\n",
              "      border-right-color: var(--fill-color);\n",
              "      border-top-color: var(--fill-color);\n",
              "    }\n",
              "    60% {\n",
              "      border-color: transparent;\n",
              "      border-right-color: var(--fill-color);\n",
              "    }\n",
              "    80% {\n",
              "      border-color: transparent;\n",
              "      border-right-color: var(--fill-color);\n",
              "      border-bottom-color: var(--fill-color);\n",
              "    }\n",
              "    90% {\n",
              "      border-color: transparent;\n",
              "      border-bottom-color: var(--fill-color);\n",
              "    }\n",
              "  }\n",
              "</style>\n",
              "\n",
              "  <script>\n",
              "    async function quickchart(key) {\n",
              "      const quickchartButtonEl =\n",
              "        document.querySelector('#' + key + ' button');\n",
              "      quickchartButtonEl.disabled = true;  // To prevent multiple clicks.\n",
              "      quickchartButtonEl.classList.add('colab-df-spinner');\n",
              "      try {\n",
              "        const charts = await google.colab.kernel.invokeFunction(\n",
              "            'suggestCharts', [key], {});\n",
              "      } catch (error) {\n",
              "        console.error('Error during call to suggestCharts:', error);\n",
              "      }\n",
              "      quickchartButtonEl.classList.remove('colab-df-spinner');\n",
              "      quickchartButtonEl.classList.add('colab-df-quickchart-complete');\n",
              "    }\n",
              "    (() => {\n",
              "      let quickchartButtonEl =\n",
              "        document.querySelector('#df-040f54e1-df6b-46d3-a0ba-6dd670ecefed button');\n",
              "      quickchartButtonEl.style.display =\n",
              "        google.colab.kernel.accessAllowed ? 'block' : 'none';\n",
              "    })();\n",
              "  </script>\n",
              "</div>\n",
              "\n",
              "    </div>\n",
              "  </div>\n"
            ],
            "application/vnd.google.colaboratory.intrinsic+json": {
              "type": "dataframe",
              "summary": "{\n  \"name\": \"distance_frame\",\n  \"rows\": 20,\n  \"fields\": [\n    {\n      \"column\": \"Nearest Neighbor\",\n      \"properties\": {\n        \"dtype\": \"number\",\n        \"std\": 132,\n        \"min\": 30,\n        \"max\": 417,\n        \"num_unique_values\": 20,\n        \"samples\": [\n          118,\n          346,\n          162\n        ],\n        \"semantic_type\": \"\",\n        \"description\": \"\"\n      }\n    },\n    {\n      \"column\": \"Distance\",\n      \"properties\": {\n        \"dtype\": \"number\",\n        \"std\": 0.014864792129964229,\n        \"min\": 0.04316925698328622,\n        \"max\": 0.09551118522079728,\n        \"num_unique_values\": 20,\n        \"samples\": [\n          0.04316925698328622,\n          0.08651762394944634,\n          0.08000061846385563\n        ],\n        \"semantic_type\": \"\",\n        \"description\": \"\"\n      }\n    }\n  ]\n}"
            }
          },
          "metadata": {},
          "execution_count": 20
        }
      ],
      "source": [
        "np.random.seed(4545)\n",
        "%time distances, neighbors = KD_tree.query(diabetes_test, k=1)\n",
        "distance_frame = pd.DataFrame({'Nearest Neighbor':neighbors.ravel(), 'Distance':distances.ravel()})\n",
        "distance_frame.sort_values('Distance')"
      ]
    },
    {
      "cell_type": "markdown",
      "metadata": {
        "id": "tguyPgf7YIf-"
      },
      "source": [
        "Next print some summary statistics for the 20 queries just performed on the KD-tree by executing the code in the cell below.  "
      ]
    },
    {
      "cell_type": "code",
      "execution_count": 21,
      "metadata": {
        "colab": {
          "base_uri": "https://localhost:8080/"
        },
        "id": "LmKKq63dYIf_",
        "outputId": "6df6d073-77f5-4912-f324-48f4d74a4143"
      },
      "outputs": [
        {
          "output_type": "stream",
          "name": "stdout",
          "text": [
            "Stats for the tree\n",
            "Number of trims =   156 \n",
            "number of leaves =   281 \n",
            "number of splits =    417\n"
          ]
        }
      ],
      "source": [
        "print(\"Stats for the tree\")\n",
        "print(\"Number of trims = %5d \\nnumber of leaves = %5d \\nnumber of splits = %6d\" % KD_tree.get_tree_stats())"
      ]
    },
    {
      "cell_type": "markdown",
      "metadata": {
        "id": "cLgghv-LYIf_"
      },
      "source": [
        "Finally, we can filter by similarities to find the nodes of the KD-tree that are similar to the new observations in the test dataset by applying a threshold to the distance measure. For the purpose of demonstration, we select an arbitrary distance threshold to filter on. Execute the code in the cell below to apply a similarity threshold and display the results.   "
      ]
    },
    {
      "cell_type": "code",
      "execution_count": 22,
      "metadata": {
        "colab": {
          "base_uri": "https://localhost:8080/"
        },
        "id": "IChTbEqvYIf_",
        "outputId": "cc0d9563-7f41-4e72-bf6a-451d1453a0ff"
      },
      "outputs": [
        {
          "output_type": "stream",
          "name": "stdout",
          "text": [
            "With divisor = 2.5 and distance threshold = 0.0382\n",
            "\n",
            "The total number of similar cases = 0\n",
            "Empty DataFrame\n",
            "Columns: [Sample, Neighbor, Distance]\n",
            "Index: []\n"
          ]
        }
      ],
      "source": [
        "divisor = 2.5\n",
        "distance_threshold = round(np.max(distance_frame.Distance)/divisor, 4)\n",
        "print('With divisor = ' + str(divisor) + ' and distance threshold = ' + str(distance_threshold))\n",
        "mask = distances < distance_threshold\n",
        "\n",
        "n_samples = len(diabetes_test)\n",
        "similarity_results = pd.DataFrame({'Sample':range(n_samples), 'Neighbor':neighbors.ravel(), 'Distance':distance_frame.Distance}).loc[mask.ravel(),:]\n",
        "similarity_results.sort_values('Distance', inplace=True)\n",
        "\n",
        "print('\\nThe total number of similar cases = ' + str(sum(mask)[0]))\n",
        "print(similarity_results)"
      ]
    },
    {
      "cell_type": "markdown",
      "metadata": {
        "id": "II0av74BYIf_"
      },
      "source": [
        "> **Exercise 03-1:** Examine the results of the similarity search using the KD-tree algorithm and answer the following questions:\n",
        "> 1. Given the number of splits (nodes) and number of leaves of the KD-tree from the statistics printed above, do you think this tree is shallow and wide or narrow and deep, and why?         "
      ]
    },
    {
      "cell_type": "markdown",
      "metadata": {
        "id": "oXuOpQ7IYIf_"
      },
      "source": [
        "> **Answer:**\n",
        "\n",
        "> 1. Given the KD-tree statistics, with 364 splits (nodes) and 225 leaves, the tree is more likely narrow and deep. This is because the high number of splits relative to the number of leaves indicates a greater depth with more hierarchical levels. The tree has undergone substantial divisions, forming a deeper structure rather than a wide spread, which is typical for efficient partitioning and search in high-dimensional spaces."
      ]
    },
    {
      "cell_type": "markdown",
      "metadata": {
        "id": "H0njhxDWYIf_"
      },
      "source": [
        "> 2. If `[100, 1000, 10000, 100000, 1000000]` times as many samples had been used construct and query the KD-tree, what is the expected wall clock tome required for construction and query of the KD-tree? To answer this question you need to compute the compuational complexity for these operations relative to the sames used in the running example. Use the cell below to compute and display a table of the results of your calculation. Your table should have columns showing the multiplier, the expected construction time annd the expected query time.      "
      ]
    },
    {
      "cell_type": "code",
      "execution_count": 23,
      "metadata": {
        "colab": {
          "base_uri": "https://localhost:8080/",
          "height": 237
        },
        "id": "dcl7Z8PfYIf_",
        "outputId": "cc7825f8-9515-46d6-8de5-dd4e0c8c066c"
      },
      "outputs": [
        {
          "output_type": "execute_result",
          "data": {
            "text/plain": [
              "   Multiplier  Construction Time (sec)  Query Time (sec)\n",
              "0         1.0             2.400000e-03          0.002000\n",
              "1       100.0             4.605170e+02          4.605170\n",
              "2      1000.0             6.907755e+03          6.907755\n",
              "3     10000.0             9.210340e+04          9.210340\n",
              "4    100000.0             1.151293e+06         11.512925\n",
              "5   1000000.0             1.381551e+07         13.815511"
            ],
            "text/html": [
              "\n",
              "  <div id=\"df-1e86af0e-03d0-4dd0-8c59-94e41e0e3f81\" class=\"colab-df-container\">\n",
              "    <div>\n",
              "<style scoped>\n",
              "    .dataframe tbody tr th:only-of-type {\n",
              "        vertical-align: middle;\n",
              "    }\n",
              "\n",
              "    .dataframe tbody tr th {\n",
              "        vertical-align: top;\n",
              "    }\n",
              "\n",
              "    .dataframe thead th {\n",
              "        text-align: right;\n",
              "    }\n",
              "</style>\n",
              "<table border=\"1\" class=\"dataframe\">\n",
              "  <thead>\n",
              "    <tr style=\"text-align: right;\">\n",
              "      <th></th>\n",
              "      <th>Multiplier</th>\n",
              "      <th>Construction Time (sec)</th>\n",
              "      <th>Query Time (sec)</th>\n",
              "    </tr>\n",
              "  </thead>\n",
              "  <tbody>\n",
              "    <tr>\n",
              "      <th>0</th>\n",
              "      <td>1.0</td>\n",
              "      <td>2.400000e-03</td>\n",
              "      <td>0.002000</td>\n",
              "    </tr>\n",
              "    <tr>\n",
              "      <th>1</th>\n",
              "      <td>100.0</td>\n",
              "      <td>4.605170e+02</td>\n",
              "      <td>4.605170</td>\n",
              "    </tr>\n",
              "    <tr>\n",
              "      <th>2</th>\n",
              "      <td>1000.0</td>\n",
              "      <td>6.907755e+03</td>\n",
              "      <td>6.907755</td>\n",
              "    </tr>\n",
              "    <tr>\n",
              "      <th>3</th>\n",
              "      <td>10000.0</td>\n",
              "      <td>9.210340e+04</td>\n",
              "      <td>9.210340</td>\n",
              "    </tr>\n",
              "    <tr>\n",
              "      <th>4</th>\n",
              "      <td>100000.0</td>\n",
              "      <td>1.151293e+06</td>\n",
              "      <td>11.512925</td>\n",
              "    </tr>\n",
              "    <tr>\n",
              "      <th>5</th>\n",
              "      <td>1000000.0</td>\n",
              "      <td>1.381551e+07</td>\n",
              "      <td>13.815511</td>\n",
              "    </tr>\n",
              "  </tbody>\n",
              "</table>\n",
              "</div>\n",
              "    <div class=\"colab-df-buttons\">\n",
              "\n",
              "  <div class=\"colab-df-container\">\n",
              "    <button class=\"colab-df-convert\" onclick=\"convertToInteractive('df-1e86af0e-03d0-4dd0-8c59-94e41e0e3f81')\"\n",
              "            title=\"Convert this dataframe to an interactive table.\"\n",
              "            style=\"display:none;\">\n",
              "\n",
              "  <svg xmlns=\"http://www.w3.org/2000/svg\" height=\"24px\" viewBox=\"0 -960 960 960\">\n",
              "    <path d=\"M120-120v-720h720v720H120Zm60-500h600v-160H180v160Zm220 220h160v-160H400v160Zm0 220h160v-160H400v160ZM180-400h160v-160H180v160Zm440 0h160v-160H620v160ZM180-180h160v-160H180v160Zm440 0h160v-160H620v160Z\"/>\n",
              "  </svg>\n",
              "    </button>\n",
              "\n",
              "  <style>\n",
              "    .colab-df-container {\n",
              "      display:flex;\n",
              "      gap: 12px;\n",
              "    }\n",
              "\n",
              "    .colab-df-convert {\n",
              "      background-color: #E8F0FE;\n",
              "      border: none;\n",
              "      border-radius: 50%;\n",
              "      cursor: pointer;\n",
              "      display: none;\n",
              "      fill: #1967D2;\n",
              "      height: 32px;\n",
              "      padding: 0 0 0 0;\n",
              "      width: 32px;\n",
              "    }\n",
              "\n",
              "    .colab-df-convert:hover {\n",
              "      background-color: #E2EBFA;\n",
              "      box-shadow: 0px 1px 2px rgba(60, 64, 67, 0.3), 0px 1px 3px 1px rgba(60, 64, 67, 0.15);\n",
              "      fill: #174EA6;\n",
              "    }\n",
              "\n",
              "    .colab-df-buttons div {\n",
              "      margin-bottom: 4px;\n",
              "    }\n",
              "\n",
              "    [theme=dark] .colab-df-convert {\n",
              "      background-color: #3B4455;\n",
              "      fill: #D2E3FC;\n",
              "    }\n",
              "\n",
              "    [theme=dark] .colab-df-convert:hover {\n",
              "      background-color: #434B5C;\n",
              "      box-shadow: 0px 1px 3px 1px rgba(0, 0, 0, 0.15);\n",
              "      filter: drop-shadow(0px 1px 2px rgba(0, 0, 0, 0.3));\n",
              "      fill: #FFFFFF;\n",
              "    }\n",
              "  </style>\n",
              "\n",
              "    <script>\n",
              "      const buttonEl =\n",
              "        document.querySelector('#df-1e86af0e-03d0-4dd0-8c59-94e41e0e3f81 button.colab-df-convert');\n",
              "      buttonEl.style.display =\n",
              "        google.colab.kernel.accessAllowed ? 'block' : 'none';\n",
              "\n",
              "      async function convertToInteractive(key) {\n",
              "        const element = document.querySelector('#df-1e86af0e-03d0-4dd0-8c59-94e41e0e3f81');\n",
              "        const dataTable =\n",
              "          await google.colab.kernel.invokeFunction('convertToInteractive',\n",
              "                                                    [key], {});\n",
              "        if (!dataTable) return;\n",
              "\n",
              "        const docLinkHtml = 'Like what you see? Visit the ' +\n",
              "          '<a target=\"_blank\" href=https://colab.research.google.com/notebooks/data_table.ipynb>data table notebook</a>'\n",
              "          + ' to learn more about interactive tables.';\n",
              "        element.innerHTML = '';\n",
              "        dataTable['output_type'] = 'display_data';\n",
              "        await google.colab.output.renderOutput(dataTable, element);\n",
              "        const docLink = document.createElement('div');\n",
              "        docLink.innerHTML = docLinkHtml;\n",
              "        element.appendChild(docLink);\n",
              "      }\n",
              "    </script>\n",
              "  </div>\n",
              "\n",
              "\n",
              "<div id=\"df-c28bc545-6ecd-41a9-bce4-51bc3ee1c217\">\n",
              "  <button class=\"colab-df-quickchart\" onclick=\"quickchart('df-c28bc545-6ecd-41a9-bce4-51bc3ee1c217')\"\n",
              "            title=\"Suggest charts\"\n",
              "            style=\"display:none;\">\n",
              "\n",
              "<svg xmlns=\"http://www.w3.org/2000/svg\" height=\"24px\"viewBox=\"0 0 24 24\"\n",
              "     width=\"24px\">\n",
              "    <g>\n",
              "        <path d=\"M19 3H5c-1.1 0-2 .9-2 2v14c0 1.1.9 2 2 2h14c1.1 0 2-.9 2-2V5c0-1.1-.9-2-2-2zM9 17H7v-7h2v7zm4 0h-2V7h2v10zm4 0h-2v-4h2v4z\"/>\n",
              "    </g>\n",
              "</svg>\n",
              "  </button>\n",
              "\n",
              "<style>\n",
              "  .colab-df-quickchart {\n",
              "      --bg-color: #E8F0FE;\n",
              "      --fill-color: #1967D2;\n",
              "      --hover-bg-color: #E2EBFA;\n",
              "      --hover-fill-color: #174EA6;\n",
              "      --disabled-fill-color: #AAA;\n",
              "      --disabled-bg-color: #DDD;\n",
              "  }\n",
              "\n",
              "  [theme=dark] .colab-df-quickchart {\n",
              "      --bg-color: #3B4455;\n",
              "      --fill-color: #D2E3FC;\n",
              "      --hover-bg-color: #434B5C;\n",
              "      --hover-fill-color: #FFFFFF;\n",
              "      --disabled-bg-color: #3B4455;\n",
              "      --disabled-fill-color: #666;\n",
              "  }\n",
              "\n",
              "  .colab-df-quickchart {\n",
              "    background-color: var(--bg-color);\n",
              "    border: none;\n",
              "    border-radius: 50%;\n",
              "    cursor: pointer;\n",
              "    display: none;\n",
              "    fill: var(--fill-color);\n",
              "    height: 32px;\n",
              "    padding: 0;\n",
              "    width: 32px;\n",
              "  }\n",
              "\n",
              "  .colab-df-quickchart:hover {\n",
              "    background-color: var(--hover-bg-color);\n",
              "    box-shadow: 0 1px 2px rgba(60, 64, 67, 0.3), 0 1px 3px 1px rgba(60, 64, 67, 0.15);\n",
              "    fill: var(--button-hover-fill-color);\n",
              "  }\n",
              "\n",
              "  .colab-df-quickchart-complete:disabled,\n",
              "  .colab-df-quickchart-complete:disabled:hover {\n",
              "    background-color: var(--disabled-bg-color);\n",
              "    fill: var(--disabled-fill-color);\n",
              "    box-shadow: none;\n",
              "  }\n",
              "\n",
              "  .colab-df-spinner {\n",
              "    border: 2px solid var(--fill-color);\n",
              "    border-color: transparent;\n",
              "    border-bottom-color: var(--fill-color);\n",
              "    animation:\n",
              "      spin 1s steps(1) infinite;\n",
              "  }\n",
              "\n",
              "  @keyframes spin {\n",
              "    0% {\n",
              "      border-color: transparent;\n",
              "      border-bottom-color: var(--fill-color);\n",
              "      border-left-color: var(--fill-color);\n",
              "    }\n",
              "    20% {\n",
              "      border-color: transparent;\n",
              "      border-left-color: var(--fill-color);\n",
              "      border-top-color: var(--fill-color);\n",
              "    }\n",
              "    30% {\n",
              "      border-color: transparent;\n",
              "      border-left-color: var(--fill-color);\n",
              "      border-top-color: var(--fill-color);\n",
              "      border-right-color: var(--fill-color);\n",
              "    }\n",
              "    40% {\n",
              "      border-color: transparent;\n",
              "      border-right-color: var(--fill-color);\n",
              "      border-top-color: var(--fill-color);\n",
              "    }\n",
              "    60% {\n",
              "      border-color: transparent;\n",
              "      border-right-color: var(--fill-color);\n",
              "    }\n",
              "    80% {\n",
              "      border-color: transparent;\n",
              "      border-right-color: var(--fill-color);\n",
              "      border-bottom-color: var(--fill-color);\n",
              "    }\n",
              "    90% {\n",
              "      border-color: transparent;\n",
              "      border-bottom-color: var(--fill-color);\n",
              "    }\n",
              "  }\n",
              "</style>\n",
              "\n",
              "  <script>\n",
              "    async function quickchart(key) {\n",
              "      const quickchartButtonEl =\n",
              "        document.querySelector('#' + key + ' button');\n",
              "      quickchartButtonEl.disabled = true;  // To prevent multiple clicks.\n",
              "      quickchartButtonEl.classList.add('colab-df-spinner');\n",
              "      try {\n",
              "        const charts = await google.colab.kernel.invokeFunction(\n",
              "            'suggestCharts', [key], {});\n",
              "      } catch (error) {\n",
              "        console.error('Error during call to suggestCharts:', error);\n",
              "      }\n",
              "      quickchartButtonEl.classList.remove('colab-df-spinner');\n",
              "      quickchartButtonEl.classList.add('colab-df-quickchart-complete');\n",
              "    }\n",
              "    (() => {\n",
              "      let quickchartButtonEl =\n",
              "        document.querySelector('#df-c28bc545-6ecd-41a9-bce4-51bc3ee1c217 button');\n",
              "      quickchartButtonEl.style.display =\n",
              "        google.colab.kernel.accessAllowed ? 'block' : 'none';\n",
              "    })();\n",
              "  </script>\n",
              "</div>\n",
              "\n",
              "  <div id=\"id_1f0c6e7e-d523-4a7d-84a0-a1c1a134a084\">\n",
              "    <style>\n",
              "      .colab-df-generate {\n",
              "        background-color: #E8F0FE;\n",
              "        border: none;\n",
              "        border-radius: 50%;\n",
              "        cursor: pointer;\n",
              "        display: none;\n",
              "        fill: #1967D2;\n",
              "        height: 32px;\n",
              "        padding: 0 0 0 0;\n",
              "        width: 32px;\n",
              "      }\n",
              "\n",
              "      .colab-df-generate:hover {\n",
              "        background-color: #E2EBFA;\n",
              "        box-shadow: 0px 1px 2px rgba(60, 64, 67, 0.3), 0px 1px 3px 1px rgba(60, 64, 67, 0.15);\n",
              "        fill: #174EA6;\n",
              "      }\n",
              "\n",
              "      [theme=dark] .colab-df-generate {\n",
              "        background-color: #3B4455;\n",
              "        fill: #D2E3FC;\n",
              "      }\n",
              "\n",
              "      [theme=dark] .colab-df-generate:hover {\n",
              "        background-color: #434B5C;\n",
              "        box-shadow: 0px 1px 3px 1px rgba(0, 0, 0, 0.15);\n",
              "        filter: drop-shadow(0px 1px 2px rgba(0, 0, 0, 0.3));\n",
              "        fill: #FFFFFF;\n",
              "      }\n",
              "    </style>\n",
              "    <button class=\"colab-df-generate\" onclick=\"generateWithVariable('time_estimates')\"\n",
              "            title=\"Generate code using this dataframe.\"\n",
              "            style=\"display:none;\">\n",
              "\n",
              "  <svg xmlns=\"http://www.w3.org/2000/svg\" height=\"24px\"viewBox=\"0 0 24 24\"\n",
              "       width=\"24px\">\n",
              "    <path d=\"M7,19H8.4L18.45,9,17,7.55,7,17.6ZM5,21V16.75L18.45,3.32a2,2,0,0,1,2.83,0l1.4,1.43a1.91,1.91,0,0,1,.58,1.4,1.91,1.91,0,0,1-.58,1.4L9.25,21ZM18.45,9,17,7.55Zm-12,3A5.31,5.31,0,0,0,4.9,8.1,5.31,5.31,0,0,0,1,6.5,5.31,5.31,0,0,0,4.9,4.9,5.31,5.31,0,0,0,6.5,1,5.31,5.31,0,0,0,8.1,4.9,5.31,5.31,0,0,0,12,6.5,5.46,5.46,0,0,0,6.5,12Z\"/>\n",
              "  </svg>\n",
              "    </button>\n",
              "    <script>\n",
              "      (() => {\n",
              "      const buttonEl =\n",
              "        document.querySelector('#id_1f0c6e7e-d523-4a7d-84a0-a1c1a134a084 button.colab-df-generate');\n",
              "      buttonEl.style.display =\n",
              "        google.colab.kernel.accessAllowed ? 'block' : 'none';\n",
              "\n",
              "      buttonEl.onclick = () => {\n",
              "        google.colab.notebook.generateWithVariable('time_estimates');\n",
              "      }\n",
              "      })();\n",
              "    </script>\n",
              "  </div>\n",
              "\n",
              "    </div>\n",
              "  </div>\n"
            ],
            "application/vnd.google.colaboratory.intrinsic+json": {
              "type": "dataframe",
              "variable_name": "time_estimates",
              "summary": "{\n  \"name\": \"time_estimates\",\n  \"rows\": 6,\n  \"fields\": [\n    {\n      \"column\": \"Multiplier\",\n      \"properties\": {\n        \"dtype\": \"number\",\n        \"std\": 401084.38961582637,\n        \"min\": 1.0,\n        \"max\": 1000000.0,\n        \"num_unique_values\": 6,\n        \"samples\": [\n          1.0,\n          100.0,\n          1000000.0\n        ],\n        \"semantic_type\": \"\",\n        \"description\": \"\"\n      }\n    },\n    {\n      \"column\": \"Construction Time (sec)\",\n      \"properties\": {\n        \"dtype\": \"number\",\n        \"std\": 5556441.874055317,\n        \"min\": 0.0024,\n        \"max\": 13815510.557964273,\n        \"num_unique_values\": 6,\n        \"samples\": [\n          0.0024,\n          460.51701859880916,\n          13815510.557964273\n        ],\n        \"semantic_type\": \"\",\n        \"description\": \"\"\n      }\n    },\n    {\n      \"column\": \"Query Time (sec)\",\n      \"properties\": {\n        \"dtype\": \"number\",\n        \"std\": 4.973535123228199,\n        \"min\": 0.002,\n        \"max\": 13.815510557964274,\n        \"num_unique_values\": 6,\n        \"samples\": [\n          0.002,\n          4.605170185988092,\n          13.815510557964274\n        ],\n        \"semantic_type\": \"\",\n        \"description\": \"\"\n      }\n    }\n  ]\n}"
            }
          },
          "metadata": {},
          "execution_count": 23
        }
      ],
      "source": [
        "run_times = [100, 1000, 10000, 100000, 1000000]\n",
        "n_times = len(run_times)\n",
        "initial_construction_time = 2.4e-3\n",
        "initial_query_time = 2.0e-3\n",
        "n_rows = n_times + 1\n",
        "\n",
        "time_estimates = pd.DataFrame({'Multiplier':[np.nan]*n_rows, 'Construction Time (sec)':[np.nan]*n_rows, 'Query Time (sec)':[np.nan]*n_rows})\n",
        "time_estimates.iloc[0,:] = [1, initial_construction_time, initial_query_time]\n",
        "\n",
        "for i in range(n_times):\n",
        "    index = i + 1\n",
        "    time_estimates.iloc[index,:] = [run_times[i], run_times[i] * math.log(run_times[i]), math.log(run_times[i])]\n",
        "time_estimates"
      ]
    },
    {
      "cell_type": "markdown",
      "metadata": {
        "id": "0nEfd83HYIf_"
      },
      "source": [
        "> 2. What does the difference in growth of the construction time and query time tell you about the scalability of $n\\ log(n)$ vs. $log(n)$ compuational complexity?  \n",
        "> 3. There is wide range of nearest nearest neighbor distances found in the similarity search. Filtering by a distance threshold has reduced the number of similar candidates. Consider a case where you need to filter 10,000,000 cases down to 100 most similar to present top a user as search results. Given the scalablity of the query do you think this query and filtering can be done in a real-time maner of less than 20 seconds and why?     "
      ]
    },
    {
      "cell_type": "markdown",
      "metadata": {
        "id": "bq57-gfqYIf_"
      },
      "source": [
        "> **Answers:**\n",
        "\n",
        "> 2. The difference in growth between the construction time (which follows $n$ $log$($n$) complexity) and the query time (which follows $log$($n$) complexity) demonstrates that $log$($n$) scales significantly better. As the number of samples increases, the construction time grows much faster than the query time. This indicates that while building the KD-tree becomes increasingly expensive with larger datasets, querying the tree remains relatively efficient. Therefore, KD-trees are well-suited for scenarios where the construction cost can be amortized over many queries, benefiting from the efficient query performance.\n",
        "\n",
        "> 3. Given the scalability of the KD-tree query with $log$($n$) complexity, filtering 10,000,000 cases down to the 100 most similar can be done in real-time. Based on the computational complexity, the query time for 10,000,000 samples would be approximately $log$($10,000,000$), which is around $16$. This suggests that even for large datasets, the query time remains manageable, and performing this operation in less than 20 seconds is feasible, especially with optimized implementations and modern computational resources.\n",
        "\n"
      ]
    },
    {
      "cell_type": "markdown",
      "metadata": {
        "id": "WFWQ1NACYIf_"
      },
      "source": [
        "## Locally Sensitive Hashing\n",
        "\n",
        "\n",
        "> **Reference.** This notebook is derived from an example in [Jonathan Kernes' GitHub repository](https://github.com/Jmkernes/Locality-sensitive-hashing-tutorial).\n",
        "\n",
        "> **Note:** A more comprehsnive and more production ready versions of LSH algorithms can be foud in the [DataaSketch](https://ekzhu.com/datasketch/index.html) packge.  \n",
        "\n",
        "In these exercises you will work with mini-hashes and locally-sensitive hashes on a small test dataset. The dataset comprises 4 articles from CNN.com. The 5th item in the dataset is a test document that is a concatenation of sections of 3 of the CNN articles, first, second and fourth. This 5th article is expected to produce artificially high similarity scores. With this small dataset you can easily compare approximations from the hashing methods to the fully Jaccard similarity scores between the text files.  \n",
        "\n",
        "Key steps in this example are:\n",
        "1. Clean and split each text file into a set of K-shingles, using a shingling function.     \n",
        "2. Compute the Jaccard similarity (intersection over union) between all pairs using the full set of shingles, no approximation.   \n",
        "3. Create and apply a MinHashing class which does the following:\n",
        "    - Initialize a dictionary of key-value pairs for the shingles.\n",
        "    - Apply minhashing on a shingle set with \"universal hashing\".\n",
        "    - Create a function to compute a **signature matrix**.\n",
        "4. Evaluate the effectiveness of mini-hashing by computing Jaccard similarity scores of all document pairs.\n",
        "5. Use locally sensitive hashing (LSH) to find **candidate pairs** of high similarity documents. Specifically, use a banded signature matrix to find all pairs whose estimated similarity is above a threshold. A hash table for band and column column ids to enable fast, $O(n)$, comparisons.\n",
        "\n",
        "To begin, execute the code in the cell below to import the required packages."
      ]
    },
    {
      "cell_type": "markdown",
      "metadata": {
        "id": "XoLMs4ldYIf_"
      },
      "source": [
        "## Min-Hashing without Locality Sensitive Hashing\n",
        "\n",
        "To begin you will create, execute and evaluate a basic mini-hashing algorithm. This mini-hashing process will then become the basis for the locally sensitive hashing (LSH) algorithm you will work with later in these exercises."
      ]
    },
    {
      "cell_type": "markdown",
      "metadata": {
        "id": "FL4pmHK0YIgA"
      },
      "source": [
        "### Load the Documents\n",
        "\n",
        "The code in the cell below loads the **corpus** of 5 documents. In text processing a corpus is any collection of related documents. Execute the code to load the document files and display the first 500 characters of each text document.    \n",
        "\n",
        "> **Note:** Depending on your file system, you may need to change the `HOME` and `DIR` variables."
      ]
    },
    {
      "cell_type": "code",
      "execution_count": 24,
      "metadata": {
        "id": "R07r6uJ8YIgA",
        "colab": {
          "base_uri": "https://localhost:8080/"
        },
        "outputId": "1bc2bf85-ab74-4299-cd7f-bffef2d926d0"
      },
      "outputs": [
        {
          "output_type": "stream",
          "name": "stdout",
          "text": [
            "\n",
            "First 500 characters of document 0\n",
            "\n",
            "Washington (CNN)White House chief of staff Mark Meadows told Food and Drug Administration Commissioner Dr. Stephen Hahn he needed to grant an emergency use authorization for Pfizer/BioNTech's coronavirus vaccine by the end of Friday, and if not, he needs to resign, an administration official and a source familiar with the situation tell CNN.\n",
            "\n",
            "Another person familiar with matter, who also confirmed the demand that the vaccine be authorized by the end of Friday, said President Donald Trump has bee\n",
            "\n",
            "First 500 characters of document 1\n",
            "\n",
            "Investigators with the Manhattan district attorney's office have interviewed several employees at President Donald Trump's lender and insurer in recent weeks as part of a wide-ranging investigation into the Trump Organization, according to multiple people familiar with the investigation.\n",
            "\n",
            "Two employees of Deutsche Bank, which has loaned more than $300 million to the Trump Organization, were interviewed by prosecutors, according to sources familiar with the matter.\n",
            "The interviews took place after\n",
            "\n",
            "First 500 characters of document 2\n",
            "\n",
            "In the final days of his desperate, dishonest campaign to upend last month's election, President Donald Trump tossed off a particularly audacious and offensive challenge aimed at those he somehow thinks can change the outcome.\n",
            "\n",
            "\"Let's see if they have the courage to do what everybody in this country knows is right,\" he said.\n",
            "With time running out, his blatant hope was to intimidate and bait state legislatures or the Supreme Court into overturning a vote of the people, by legislative or judicial \n",
            "\n",
            "First 500 characters of document 3\n",
            "\n",
            "ew quarantine hobbies have unearthed new passions, some bringing with them a literal silver lining.\n",
            "This year, backyard archaeologists in the United Kingdom have recorded discoveries of more than 47,000 objects, the British Museum announced this week.\n",
            "Regular people found the vast majority of the historical artifacts by traversing the countryside with metal detectors, before adding or updating records through the museum's Portable Antiquities Scheme.\n",
            "The British Museum said the program also saw \n",
            "\n",
            "First 500 characters of document 4\n",
            "\n",
            "ew quarantine hobbies have unearthed new passions, some bringing with them a literal silver lining.\n",
            "This year, backyard archaeologists in the United Kingdom have recorded discoveries of more than 47,000 objects, the British Museum announced this week.\n",
            "Regular people found the vast majority of the historical artifacts by traversing the countryside with metal detectors, before adding or updating records through the museum's Portable Antiquities Scheme.\n",
            "The British Museum said the program also saw \n"
          ]
        }
      ],
      "source": [
        "HOME = os.getcwd()\n",
        "DIR = '/content/sampledocs/'\n",
        "TARGET = os.path.join(HOME, DIR)\n",
        "\n",
        "def print_articles(docs, num_characters=500):\n",
        "    for i in range(len(docs)):\n",
        "        print('\\nFirst 500 characters of document ' + str(i) + '\\n')\n",
        "        print(docs[i][:500])\n",
        "\n",
        "documents = []\n",
        "for article in sorted(os.listdir(TARGET)):\n",
        "#for article in os.listdir(TARGET):\n",
        "    if article == 'stopwords':\n",
        "        continue\n",
        "    path = os.path.join(TARGET, article)\n",
        "    with open(path, 'r') as file:\n",
        "        documents.append(file.read())\n",
        "\n",
        "print_articles(documents)"
      ]
    },
    {
      "cell_type": "markdown",
      "metadata": {
        "id": "lN2sKPVHYIgA"
      },
      "source": [
        "The text of these documents appear to have structure common to news articles. The question you will investigate is the similarity of these articles to each other, and particularly the last article, which is comprised of elements of documents, 0, 1 and 3."
      ]
    },
    {
      "cell_type": "markdown",
      "metadata": {
        "id": "LdK5aVXBYIgA"
      },
      "source": [
        "### Document Preparation\n",
        "\n",
        "The first step in determining document similarity is to prepare the document text. Many text preprocessing steps are used in text mining. In this case, we will just do these minimum steps:\n",
        "1. Remove **Stop words** from the text. Stop words are common words very likely to occur multiple times in most any document. Since stop words occur frequently, yet have little or no semantic value, they bias the similarity between documents. Examples of common stop words are 'and' or 'the'. The code in the cell below creates a list of stop words from a file. If a stop word is encountered in the text of one of the documents, the stop word and surrounding white space is replaced by a single white space character, ' '.        \n",
        "2. Remove end of line characters, '\\n', and replace them with white space, ' '.\n",
        "3. Convert all characters to lower case.   \n",
        "\n",
        "Execute the code in the cell below to create and display the list of stop words."
      ]
    },
    {
      "cell_type": "code",
      "execution_count": 25,
      "metadata": {
        "id": "v-0NGP8LYIgA",
        "colab": {
          "base_uri": "https://localhost:8080/"
        },
        "outputId": "54871092-272e-4632-820c-3b46b9cd5594"
      },
      "outputs": [
        {
          "output_type": "stream",
          "name": "stdout",
          "text": [
            "['i', 'me', 'my', 'myself', 'we', 'our', 'ours', 'ourselves', 'you', 'your', 'yours', 'yourself', 'yourselves', 'he', 'him', 'his', 'himself', 'she', 'her', 'hers', 'herself', 'it', 'its', 'itself', 'they', 'them', 'their', 'theirs', 'themselves', 'what', 'which', 'who', 'whom', 'this', 'that', 'these', 'those', 'am', 'is', 'are', 'was', 'were', 'be', 'been', 'being', 'have', 'has', 'had', 'having', 'do', 'does', 'did', 'doing', 'a', 'an', 'the', 'and', 'but', 'if', 'or', 'because', 'as', 'until', 'while', 'of', 'at', 'by', 'for', 'with', 'about', 'against', 'between', 'into', 'through', 'during', 'before', 'after', 'above', 'below', 'to', 'from', 'up', 'down', 'in', 'out', 'on', 'off', 'over', 'under', 'again', 'further', 'then', 'once', 'here', 'there', 'when', 'where', 'why', 'how', 'all', 'any', 'both', 'each', 'few', 'more', 'most', 'other', 'some', 'such', 'no', 'nor', 'not', 'only', 'own', 'same', 'so', 'than', 'too', 'very', 's', 't', 'can', 'will', 'just', 'don', 'should', 'now']\n"
          ]
        }
      ],
      "source": [
        "stopwords = []\n",
        "with open(os.path.join(TARGET, 'stopwords'), 'r') as file:\n",
        "    for line in file:\n",
        "        stopwords.append(line.strip())\n",
        "\n",
        "print(stopwords)"
      ]
    },
    {
      "cell_type": "markdown",
      "metadata": {
        "id": "arNlNcvUYIgA"
      },
      "source": [
        "Examine the list of stop words. Notice that they are all common words that generally have low semantic value.   \n",
        "\n",
        "The code in the cell below does the following:    \n",
        "1. Applies the preprocessing steps to each of the documents.    \n",
        "2. Computes and displays some simple summary statistics about the documents.   \n",
        "3. Displays the first 500 characters of the processed documents.    \n",
        "\n",
        "Execute this code."
      ]
    },
    {
      "cell_type": "code",
      "execution_count": 26,
      "metadata": {
        "id": "3_Ob2d7SYIgA",
        "colab": {
          "base_uri": "https://localhost:8080/"
        },
        "outputId": "327882ae-a1f8-44e8-b5ee-f6917a7a016b"
      },
      "outputs": [
        {
          "output_type": "stream",
          "name": "stdout",
          "text": [
            "Average char-length: 3651.6\n",
            "Min char-length: 2412\n",
            "Max char-length: 5873\n",
            "\n",
            "\n",
            "\n",
            "First 500 characters of document 0\n",
            "\n",
            "washington (cnn)white house chief staff mark meadows told food drug administration commissioner dr. stephen hahn needed grant emergency use authorization pfizer/biontech's coronavirus vaccine end friday, not, needs resign, administration official source familiar situation tell cnn.  another person familiar matter, also confirmed demand vaccine authorized end friday, said president donald trump venting fda chief since vaccine rolled uk earlier week. two men call friday morning. white house offici\n",
            "\n",
            "First 500 characters of document 1\n",
            "\n",
            "investigators manhattan district attorney's office interviewed several employees president donald trump's lender insurer recent weeks part wide-ranging investigation trump organization, according multiple people familiar investigation.  two employees deutsche bank, loaned $300 million trump organization, interviewed prosecutors, according sources familiar matter. interviews took place november presidential election, people said, focused general questions bankers assess loans underwriting criteri\n",
            "\n",
            "First 500 characters of document 2\n",
            "\n",
            "in final days desperate, dishonest campaign upend last month's election, president donald trump tossed particularly audacious offensive challenge aimed somehow thinks change outcome.  \"let's see courage everybody country knows right,\" said. time running out, blatant hope intimidate bait state legislatures supreme court overturning vote people, legislative judicial fiat. trump's perverse definition \"courage\" \"right,\" course, amounts willingness bend truth prize continuation office american democr\n",
            "\n",
            "First 500 characters of document 3\n",
            "\n",
            "ew quarantine hobbies unearthed new passions, bringing literal silver lining. year, backyard archaeologists united kingdom recorded discoveries 47,000 objects, british museum announced week. regular people found vast majority historical artifacts traversing countryside metal detectors, adding updating records museum's portable antiquities scheme. british museum said program also saw uptick people updating digital records antiquities country full lockdown march 22 may 13. database contains record\n",
            "\n",
            "First 500 characters of document 4\n",
            "\n",
            "ew quarantine hobbies unearthed new passions, bringing literal silver lining. year, backyard archaeologists united kingdom recorded discoveries 47,000 objects, british museum announced week. regular people found vast majority historical artifacts traversing countryside metal detectors, adding updating records museum's portable antiquities scheme. british museum said program also saw uptick people updating digital records antiquities country full lockdown march 22 may 13. database contains record\n"
          ]
        }
      ],
      "source": [
        "for i, doc in enumerate(documents):\n",
        "    doc = doc.strip().replace('\\n', ' ').lower()\n",
        "    for word in stopwords:\n",
        "        doc = doc.replace(' '+word+' ', ' ')\n",
        "    documents[i] = doc\n",
        "\n",
        "print(f\"Average char-length: \\\n",
        "{np.mean(np.array([len(x) for x in documents]))}\")\n",
        "print(f\"Min char-length: {min(len(x) for x in documents)}\")\n",
        "print(f\"Max char-length: {max(len(x) for x in documents)}\")\n",
        "\n",
        "print('\\n')\n",
        "print_articles(documents)"
      ]
    },
    {
      "cell_type": "markdown",
      "metadata": {
        "id": "5I7HSAx0YIgA"
      },
      "source": [
        "There are several observations one can make about the processed documents:   \n",
        "1. All of the documents are in a similar size range.   \n",
        "2. The preprocessing steps have been successfully carried out with stop words and end of line characters gone and the characters all lower case."
      ]
    },
    {
      "cell_type": "markdown",
      "metadata": {
        "id": "hLM8CHjAYIgA"
      },
      "source": [
        "### Shingling Documents\n",
        "\n",
        "Now you are ready to shingle the documents.  \n",
        "\n",
        "> **Exercise 3-2:** You will complete the `getShingles` function below. The function uses a [Python set](https://python-reference.readthedocs.io/en/latest/docs/sets/) to create the shingles for each document. Here, we use character shingles, including white space, number and punctuation. The missing code uses a moving window of length $k$ to find the shingles. Now write code doing the following:    \n",
        "> 1. Loop over the rage of possible overlapping windows of length K.     \n",
        "> 2. In each window add the resulting shingle to the set. You can find a short overview of the Python set add method [here](https://www.w3schools.com/python/python_sets_add.asp).  \n",
        "> 3. Execute your code and examine the results."
      ]
    },
    {
      "cell_type": "code",
      "execution_count": 29,
      "metadata": {
        "id": "NLTSPOeVYIgA",
        "colab": {
          "base_uri": "https://localhost:8080/"
        },
        "outputId": "5d586ff2-32bf-4433-a459-f34725b0af33"
      },
      "outputs": [
        {
          "output_type": "stream",
          "name": "stdout",
          "text": [
            "Shingles for the first document:\n",
            "{'oncer', ' hous', 'e vac', 'y.\"th', ' food', 'ign, ', 'idenc', 's and', 'eeks,', 'fect ', 'ine.\"', ' put ', 're au', 'sly p', '. \"fd', 'estio', ' poss', 'y req', 't tru', 'ed co', \" fda'\", 'stion', 'd thu', 's tak', '!!!\" ', 'vacci', ',\" tr', 'irmed', 'ful a', 'uated', 'th va', 'hen h', 'nn.  ', ' deve', ' \"sto', ' phon', 'atien', 'ortun', 'g aut', '.\" tr', 'tweet', 'e rol', 'rks f', ' warn', 'ar ma', 'hahn ', 'rests', ' \"yes', 'ne en', ' pres', ' ques', ' revi', 'mes s', 'on po', 'leave', 'ntati', 'ers f', 'scien', 'rough', 'ously', 'nts r', 'takin', 'on te', 'ent a', 'spare', 'would', 'ws wo', 'ld pu', ' (cnn', 'at. s', 'lling', 's dou', 'luate', ' time', 'o con', 'nald ', ', als', 'oint.', 'ficia', 'dditi', 'ief s', 'ckly,', \"n's j\", 'sk fo', 'te sc', 'ne pe', ' monc', 'p wan', 'ning.', 'thori', 'ntist', 'blic,', 'nounc', 'eleme', ' \"a b', 'conce', 's (em', '. sci', 'ent-e', 'food ', 'ed at', 'steph', 'n, pe', 'ng ga', 'ss re', 't mor', ' reco', 'other', 'mend ', 'tappe', 'ment.', ' make', 'ularl', 's exp', ' use ', 'd was', 'pth r', 'n con', 'ple s', 'ay, n', ' post', ' jake', 'resse', 'ws ha', 'nt wa', ' look', 'l cnn', 'tory ', 'ocess', 'd tru', 'ublic', 'and h', 'ntinu', 'noted', ' cnn.', 'd pre', 'e cal', 'n pre', ' task', 'day c', 'onal ', 'uld p', 'y, sa', 'mand ', 'ahn u', 'es po', 'da co', 'ner d', 'iar c', 'ion o', 'ce --', 'chief', 't mak', 'rue r', \"sn't \", 'ine c', 'dows ', 'eek. ', 'e tol', 'oppor', ' live', 'lic f', 'terno', 'us po', 'tted ', 'covid', 'e fam', 'nd ha', 'mprom', 'oroug', 'on pi', 'uests', 'ine e', 'ling ', '. pub', 'd sta', 'nce v', ' rais', 'e off', 'ged p', 'e hou', '\" \"i ', 'n off', 'aviru', 'ton p', ' chie', \"'t gr\", 'ay, s', 'r pre', 'ubtfu', 'nting', 't,\" h', 'rt.va', ' @ste', \"'s sa\", 'ry ri', 'on is', 'he le', 'itude', 'ss, c', 'lear ', 'a vot', 'aff. ', 'need ', 'dence', ' offi', 'cess,', \"'s co\", 't, th', ', adm', 'ed uk', ' thin', 'vernm', 'ting ', 'er dr', 'al fa', 'op ad', 'see u', 'se of', ' invo', 'n hah', 'ontin', 'ite h', ' pfiz', 'g gam', ', new', 'exten', 'ts ev', 'ay re', 'poten', 'eed l', 'ually', \"ech's\", 'amili', 'itica', 'valua', 'promi', 'sts t', 'd mom', 's, de', \"t's t\", 'weete', 'inist', 'rmini', 'mark ', 'on va', 'his u', 'n-dep', 'ear m', 'ntifi', 'rking', 'first', 'larly', ' big,', 'force', 'y eff', 'ke th', 'ent p', 'on ev', 'adows', 'itiou', 'g fda', 'er-bi', 'annou', 'state', ' proc', 'n. so', 'reat ', 'd saf', 'ng ad', '@stev', 'turn,', 'se fi', 'ty pe', ' publ', 'oncef', 'en sa', 'en ha', 'ng ex', 'phen ', ' gove', 'rolle', 'eaves', ' sign', 'ial s', 'iar p', ', tra', '. sou', 'n pos', 'revie', 'ves!!', 'ident', 'rsday', 'ef si', 'nvers', 'uest,', 's!!!\"', 'n, re', 'told ', 'med d', ' covi', 's aut', 'd pub', ' one ', 'ergen', 'dates', \"izer'\", 'ernoo', 'ue pr', 'ment ', ', sai', 'said.', 'ible ', 'emand', ' sour', ' expe', 'recom', 'velop', \"r's e\", 'tephe', 'ely r', 'ger s', 'ks, o', 'et da', 'meado', 'te co', ' morn', 'egula', \"s' po\", 'ence,', 'tious', ', rem', 'ue wo', ' clea', 'se co', 'on ad', 'right', 'ay la', ' cont', '\"to s', '\"stop', 'comme', 'thurs', 'cy gr', 'lop v', 'aoui,', 'd, tu', 'r per', 'ing f', 's lik', \"ent's\", 'efda,', '\" bid', 'orona', 'grity', 'ndue ', 'r/bio', 'l eff', 'iden ', 'e chi', 'ug ad', 'ne au', 'd uk ', 's saf', 'ed pu', 's jak', 'ld ma', 'nd va', 's eva', '. two', 'ed. \"', 'y fir', 'ig, o', 'ssure', 'on sa', 't ann', 'ingto', 'rs fd', 'aking', ',\" sa', 's tow', 'all f', 'nment', 'erned', 'int.\"', 'egrit', 'ions ', \"'s un\", '(cnn)', 's thi', ' effi', 's pro', ' tapp', 'l inf', 'onfir', 'ncy, ', 'e thr', 'under', 'gency', ' fda ', 'effec', 'addit', 'k. tw', '. \"ye', 'ed fd', 'resen', 'k ear', 'autho', 'r wee', 'ons c', ' week', 'n sai', 'st re', 's fru', 'donal', 'ince ', 'ory r', 'oward', '. \"th', ' disp', 'ow, d', 'cnn)w', 'icien', '. fda', 't sav', 'cing ', 'on, f', 'ncy u', 'esent', 'coura', ' \"get', 'd hah', 'dress', 'ow tu', 'rt sa', ' trum', 'and v', 'phone', 't. sc', 'd. \"t', 'ce fa', '!\" pr', 'ted f', 'e pol', 'er ac', 'slow ', 'mp ad', ' matt', 'fda c', 'y vac', 'tatem', 'inue ', '. ste', ' resi', 'neede', 'top a', 'te ho', 'epth ', ' blun', \"ment'\", ', thi', 'warni', 't und', 'ine a', 'iliar', 'cial ', 'temen', 'cient', 'own i', 'ome e', 'quick', 'e pro', 'rce f', 'gton ', 's wou', 'ows w', 'da en', 'f sta', 'likel', 'ons e', 'st-ra', 'dr. h', 'ople ', 'rivat', 'ed. b', 'ity l', 'ly, n', \"dent'\", ' rema', ' drug', 's dem', ' vote', ' news', 'ption', 'p adm', 'al ef', ' vent', 'ess t', ' safe', 'anoth', 'ted d', 'isput', 'n, fi', 'ial e', 'fearf', 'use o', 's gov', '. \"st', 's tol', 'lic c', 'k mea', 'nentl', '-elec', 'ise a', '/bion', 's poi', 'uld u', 'd dem', 'll re', 'ld, s', 'head ', 'ommen', 'senta', 'ght w', 'ask f', 'evefd', 'ant e', 'free ', 'son s', 'm vac', 'ource', 'paren', 'ld un', 'ut un', ' end ', 'ized ', \"'s au\", 'a big', 'on (c', 'anspa', 'rn, c', 'ffect', 'publi', 'ed re', 'ssuin', \"isn't\", 'ates ', 'use a', \"ne's \", 'n add', 'ists ', 'ed \"a', ' slow', 'r pub', '\"thes', 'red. ', \"zer's\", 'e sai', 'fda,\"', 'drug ', 'pecte', 'roces', 'g.\" w', ' enco', 'aves ', 'izer/', 'clear', 'tegri', 'ying ', 'ce va', 'dr. m', 'after', 'o def', 'calle', ' want', ' conf', 'grant', 'art s', 'p ven', 'pport', '.\" \"g', 'onavi', 'ight ', 'said ', ' fami', \"orts'\", 'cribe', 'ot, n', ' inte', 'ccine', 'ier w', 'e -- ', 'day. ', 'de \"t', 'c exp', 'nt-el', 'ssibl', 'ests ', ' peop', 'n eff', \"e's s\", ' priv', ' desc', \"'s ex\", 'y, ca', 'ign p', 'e pub', 'f. fd', 'towar', 'large', 'oubtf', 'cerne', 'st,\" ', 't,\" s', 'ay, c', 'fendi', 'es, t', 'd. bl', 'essur', 'cy us', 'g tel', ', com', 'ellin', \"t's e\", 'ine, ', 'make ', 'y led', 'e clo', 'taff.', 'entia', 'dr. s', 'merge', 'scrip', 'ay mo', 'cript', 'e, it', 'admin', 'nt em', 'cal i', 'ng co', 'noon.', 's nee', 'rustr', 'a com', 'rmed ', ' advi', 'd gra', 'l fam', 'ul al', 'mp ve', ' tran', 'ce cl', 'aying', 'e lea', 'ncour', 'w, dr', 'ratio', 'ermin', 'offic', 'n cou', 'ibed ', ' old,', 'rlier', ' towa', 'tient', 'rged ', 'ort.v', 'r sig', 'ce to', 'call ', '-dept', 'these', 'atitu', 'hn ne', 'rante', 'on fa', 't wel', 'ents ', 'is un', 'inkin', 's ext', 'satio', 'er/bi', ' \"i w', 's pub', 'l fda', '\"the ', 'olled', \"'s em\", 'd at.', ' comm', 'cnn. ', ' conv', 'g exp', 'fda \"', 'er \"t', 'ted i', 'ted. ', 'hursd', 'tuati', 'ward ', ' led ', 'cent ', 'i wan', 'ong w', 'nt an', ' adde', 'ude \"', 'perso', 'ed de', 'f mig', 'ecomm', 'ient ', 'ovid-', 'entat', 'r act', ' doub', 's pos', '. hah', 't dam', 'ce ef', ' thre', 'ort d', ' impa', ' rece', ' conc', 'ess, ', 'rted ', 't joe', '\" pre', 'ing.\"', 'regul', '. whi', 'uence', 's sta', 'es no', 'ion m', 'ek. t', ' savi', 'er pe', ' -- p', 'elop ', 'actua', 'y mor', 's, ad', 'onver', '\"i wa', 'sione', ' pick', 'uted ', 'ornin', 'ss, d', 'famil', 'g adm', 'al to', 'ded g', 'ar pr', 'nspar', 'cine ', 'ed mo', ' emer', 's vac', 'fda e', 'd. \"s', ' whit', 'ime l', 'e add', 'agenc', '\"a bi', 'ged c', 're st', ' dr. ', 'id. p', 'ressu', 'o men', ' leav', 'and, ', 'ed st', 'tuall', ' two ', ' immi', 'ne pu', 'editi', 'litic', 'n pic', ' afte', ', tur', 'nue w', 'nal t', 'ency,', 'situa', ' and,', \"er's \", 'y. dr', 'n pho', 'urce ', 'e cor', 'e cov', 'coron', ' repr', ', fre', 'grown', 'gh, i', ' note', 'iday ', 'nity ', 'cks, ', ' effe', 'bed \"', 'e cle', 'sourc', 't dev', 'eded ', 'tart ', 'ng cn', 'nt, t', 'te pr', 'sign,', 'c int', 'ated ', ' upda', 'rogre', 'ell r', '\"an e', 'rent,', 'remar', 'ntly.', 'inter', 'ials ', 'rized', ' heal', 'n (cn', 'ent m', ' twee', 'ompro', 'ss an', 'ne ad', 'y rai', 'tial ', 'ay co', 'ice. ', 'firme', ' dema', 'arger', 'ng fd', 'eques', 'think', 'ugh, ', 'ific ', 'ines ', 'fety.', 'ituat', 'oon. ', \"ch's \", 'wo me', 'hite ', 'e fir', ', dr.', 'eat l', 'noon ', 'might', ' said', 's new', 'on, p', 'al so', 'ay af', 'uing ', 'r. st', 'xtent', 's mea', 'y rec', 'n qui', 'ogres', ' see ', 'cy, f', 'fda v', ', sou', 'ining', '.\" ha', 'nd fr', 'lic h', 'n imp', 'arnin', 'nn. s', 'liar ', 'ald t', 'ows h', 'old c', ' frid', 'ic fa', 'rt de', 'ld tr', 'day m', ' (eme', ' expr', 'nking', 'r dr.', 'ump t', \"cine'\", 's unc', 's cor', 'minis', 'ephen', ' come', 'ef \"r', 'w tur', 'g whi', 'ng te', 'unt w', ' bide', 'en, r', 'ly pf', 'this ', 'conve', 'eport', 'fort.', '\"this', 'ing g', ' lead', 'd fda', \"nt's \", 'iar s', 'horiz', 'confi', '- pol', 'op va', 'eeds ', '\" tru', 'ports', ', per', 'ioner', 'y dis', 'ng li', \"'s ef\", 'ts pu', 'ected', '!!\" p', ' dam ', 'l top', 'iday,', 'da ch', 'dmini', 'e,\" b', 'ity p', 'rk me', ' like', 'zed i', 'ss au', 'day, ', 'se au', 'week.', '.vacc', 'arful', 'ew.\" ', 'nt fr', 'tions', 'kly d', 'g. wh', '-19, ', 'ce sa', 'ffort', 'ning ', 's, th', 'iptio', 'tent ', 'g ele', 'undue', 'nk op', 's inv', 'kly, ', 'aith ', 'nflue', 'rmine', 'event', 'ld cn', 'ing a', ' comp', 'e exp', 't pri', 'ahn n', ' addr', 'dded ', 'tenti', 'e, so', '.  an', 's tas', 'orted', 'ss to', 'se wh', \" isn'\", ' rush', 'presi', 'one p', 'rump ', 'eview', 'ds re', 'e bid', 'oner ', 'milia', 'kely ', 'dispu', 'est,\"', 'frust', 'ing t', 'progr', 'mmitt', 's now', ' play', 'ked a', 'd fri', 'accin', 'afety', 'aid. ', 'siden', 'ssed ', ' anot', 'repor', 'xpres', '-- po', 'es!!!', ', one', 'ad us', ') req', 'ws to', 't war', 'alth ', 'aid p', 'uld m', 'so co', 'ed va', 'tunit', 'e sto', 'ety e', 'ustra', \"fda's\", 's, on', 'p gro', 'ng wh', 'rts e', \"h's c\", ', fir', 'hingt', 'arent', 'trati', 'd dru', 'ly fi', 'oking', 'ation', 'ntere', ' mark', 'ally ', 'me lo', 'uatio', 'nn tr', 'y, no', 'puted', 'depth', 'patie', 'ly ra', 'izer-', 'laoui', 'ence.', 'da vo', 'point', 'entin', 'ws de', 'ff ma', 'ng.\" ', ' work', 'nt. p', 'time ', 'r \"th', 'ng ch', 't-ele', 'n com', 'ickly', '.\" wh', 'g cnn', 'ard v', ' uncl', 'ed us', 'end a', ' stat', 'task ', ' firs', ', tho', 'n.  a', 'two m', 'ion c', 'ic, c', 'y. \"y', ' repo', 'e end', 'y pfi', 'king ', 'shing', 'endin', ' grow', 'ntech', ', cou', 'g, ol', ' elem', 'ved v', 'y, fr', 'ts ta', 'wn im', 'the l', 'ce. f', 'led f', 'e sci', 'minin', ' agen', 'suing', 'sers ', 'uld c', 'post,', ' thor', 'teres', 'ursda', 'rtle.', 'ar si', 'n) re', \"rts' \", 'fice.', 'weeks', 'n eve', 'rst r', 'all c', 'ty le', 'one c', 'uncin', 'll fr', 'urtle', 'tiona', 'd rep', 'urage', 'aving', '9, to', 't, ne', 'ent t', ' grat', 'frida', 'taff ', 'ion t', 'titud', ' quic', 'uickl', 'ure s', 'ts in', 'ouse ', ' sinc', 'rson ', 'ashin', 'blic ', 'ng el', 'evalu', 'nfide', '.\"thi', 'ner a', 'ht we', 'navir', 'ahn s', 'day a', 'c, co', \"d it'\", 'her p', 'long ', 'cef s', 'pfize', 's res', 'rd va', 'c fai', 'd us ', 'healt', 'on pr', 'ded a', 'house', 'isers', 'untru', 'd aut', 'arks ', ' hahn', ' gran', 'd cnn', 'l sou', 'exper', 'ce,\" ', 'overn', 'ng au', 'lead\"', 'uk ea', 'e whi', 'ripti', 'epres', 'y aft', 'ct jo', 'n vac', 'end f', 'biden', 'istra', 'ed gr', 's, co', 'ts up', ' roll', 'nt mo', 'nd ag', 'sible', ' prog', 'rning', 'otent', 'ost, ', 'rus t', 'close', 'ookin', '\"fda ', 'late ', 'ion q', 'virus', 'erest', 'btful', ' unde', 't eme', ' anno', 'sts i', 'savin', 'zer-b', 'tific', 'ed en', 'ontec', 'iden,', 'nce e', 'ump a', 'sts u', 'possi', 'oon e', 'escri', \"' pot\", 'cine,', 'l fri', 'sday ', 'e pre', 'oe bi', ' thur', 'aid s', 'on pf', 'ateme', 'r con', 'tevef', 'start', 'g chi', ' issu', 'e.\" \"', 'ke ta', 'ws li', 'updat', 'ribed', 'looki', 'arly ', 'iew.\"', 'ood d', 'ement', 'r mea', ', not', 'ark m', 'al in', ' top ', '\"get ', 'ld co', ', hea', 'slaou', 'on co', ' turn', 'ts fe', 'r sit', 'sign ', 'ead u', 'per \"', ' cnn ', ',\" bi', 'ess a', ' exte', 'w.\" t', 'mmine', \"it's \", 'day l', 't. pe', 'old, ', 'er we', 'rnmen', 'nce,\"', 'encou', 'nts n', 'ect j', 'ef st', 'nothe', 'n pfi', 'g liv', 'ntegr', 'mine ', 'raise', 'n. \"f', 'oment', 'id al', 'ese f', 'vefda', 'id co', 'sure ', 'nt pr', 'issui', 'ue re', 'sed g', 'ect u', 'mp tw', 'pper ', 'old f', 'earli', 'ikely', 'da,\" ', 'k for', 'y use', ' us g', 'apper', ',\" ha', 'ffici', 'big, ', 'ly di', 'uesti', 'ent w', 'ing c', 'al qu', ' uk e', 'hn @s', 'not, ', 'ted s', 'ble l', 'unity', ' call', 'irus ', ' \"reg', 'hese ', 'telli', 'ing l', 'picks', 'ed th', 'defen', 'erson', 'rate ', 'lose ', 'ently', 'ess r', 'eadow', 'id st', 'y gra', \"t's d\", 'rus v', 'stop ', 'ld fo', 'd-19,', 'along', 'usly ', 'd loo', '.\" \"i', 'prese', 'an ef', 'ty ef', 'entis', 'd mak', 'izati', 'emerg', 'on) r', 'lso c', 'e, tr', 'nderm', 'now, ', 'als w', 'n pol', 'venti', ' not,', 'eted.', 'monce', \"h's (\", 'tell ', 'ear p', 'ed au', 'ossib', 'games', 'ntrue', 'me en', 'rce t', 'mpati', 'ive, ', \" it's\", 's fea', 'n isn', 'd vac', 'rts f', 'cine.', 'ss ne', 'ants ', 'ames ', 'to sc', 'iousl', 'use c', 'f sla', 'ition', 'ne, i', 'tude ', 'us va', 'morni', 'ief \"', 'since', 'ecent', ' also', 'den s', 'viser', \", it'\", 'ine r', 'worki', 'al sa', 'ould ', 'n tel', 'en ca', 'ed fr', 'op pl', ' now,', 'ctual', 'ooked', 'ounci', 'ar co', 'ure a', 'biont', 'aluat', 'eople', 'cienc', \"'s fr\", 'd imm', 'ired.', 'ealth', 'momen', ' \"to ', 'aid i', '19, t', 'reque', 'orkin', \"nn's \", 'want ', 'ntial', 'lect ', 'expec', 'ed is', 'sh ma', 'resid', 'eds r', 'perts', 'ef sl', 'mise ', 'ahn @', 'ted w', 'ion, ', 'd con', 'eks, ', 'expre', 'so de', \"t's f\", 'oliti', 'could', 'f mar', 'e wor', ' scie', 't.vac', 'uncle', 'olved', 'ety. ', 'nce -', 'pedit', 'r. ha', 'r, al', 'erts ', ', slo', 'ratit', ' staf', 'rst-r', 'hone ', 'earfu', 'us go', 'ic in', 'nal q', 'r mat', 'o sci', 'impat', 'l sai', 'dam v', 'oriza', 'd iss', 'lier ', 'ink o', ', nee', 'lth e', 'ng ti', 't wee', 'xpert', 't-rat', 'nistr', 'a,\" t', 'ly.\"t', 'ng. w', 'irst ', 'd. pu', 'ress ', 's chi', 'sts p', 'thoro', 'deman', \"'s do\", ' auth', 'entif', 'also ', 'integ', 'ows t', 'playi', 'ronav', 'ne co', 'ed wa', ' well', 'ed lo', 'n @st', \"da's \", 'e eff', 'g tim', 'rant ', 'e. fr', ' earl', 'ff. f', 'ned r', 'rity ', 'cted ', ' coul', 'ourag', 'ersat', 'portu', 'nn)wh', '\" \"ge', 'fecti', 'fety ', 'ditio', 't gra', 'yes, ', 'ump v', ', cal', 'ny va', 'aid c', 'ther ', ' stor', 'd als', ' woul', 'ssion', 'rce s', 'ed sa', 'ff mi', 'ves o', 'ws me', 'effor', 'gn pr', 'n pro', 'mmend', 'd foo', 't don', 'nes p', 'ake t', 'l chi', 'd, sl', 'th re', 'story', 'versa', 'urn, ', 'tists', 'e aut', 'staff', \"'s ja\", 'ith v', 'den, ', ')whit', 'ommis', 'se ch', 'fizer', 'ee po', 'nnoun', 'h vac', 'i, he', 'nt tr', 'es of', 'ate s', 'rful ', 'blunt', 'ftern', 'ay. d', 'effic', ' star', 'many ', 'ad\" f', 'xpedi', ' defe', 'advis', 'ion) ', 'rug a', 'fiden', 'scrib', 'luenc', 'arlie', 'ctive', 'ving ', \"t's u\", 'd put', 'ts ne', 'ncy g', 'strat', 'repre', 'riday', 'e rep', 's fri', 'id-19', 'ives!', ' pote', '\"yes,', 'ly re', ' game', 'a enc', ' admi', 'ne ca', 'horou', \" cnn'\", 'led u', \"cnn's\", 'ernme', ' situ', ' vacc', 'resig', 'ul fd', 's unt', 'put u', 's fda', 'rned ', 'le se', 'nt ma', 'ight,', 'joe b', 'grati', ' poli', 'ransp', 'xpect', 'ion i', 'se ad', 'son f', 'any v', 'se pu', 'trans', 'lled ', 'ter, ', 'nd, t', 'ce.\" ', 'ddres', 's rec', 'ical ', 'zer/b', 'ent f', 'tion,', ' forc', 'lso d', 'st, n', 'ding ', 'eside', 'proce', ', old', 'hn ur', ' late', 'n urg', 'hn sa', 'icks,', ' addi', 'lemen', 'volve', 'g con', ' many', 'e see', 'fic i', 't lat', 'ns ex', ', des', 'n)whi', 'raged', 'iday.', 'd \"an', 'ent d', \"'s (e\", 'ionte', 'top p', 'ise p', ' alon', ' coro', ' head', 'well ', 'devel', '-rate', ' turt', 'nfirm', 'priva', 'ate p', ', tol', 'id. \"', 'doubt', 'e.\" h', 'ows d', ' larg', 'nt do', 'cines', 'es pr', 'd com', 'tes p', 's hah', 'tion)', ' actu', 'iency', 'h rev', 'ar me', 'ump w', ' fait', 'fluen', ' \"the', 'ui, h', \"ts' p\", ' undu', 'rush ', ' \"an ', 'zed e', 'e \"to', 'n, ad', 'eeded', 'er si', 'tly.\"', 'id pr', 'evelo', ' migh', 'dent ', 'r. mo', 'get d', 'ted a', 'l alo', 'ted m', 'ncern', 'onfid', 'tatio', 'on me', 'h exp', ' wash', 'ts ru', 'hn qu', ' eval', 'jake ', 'gular', 'anted', ' even', 's off', 'hink ', 'h, in', 'minen', ' mome', ' joe ', 'lic, ', 'nt we', 'e adv', ' dona', 'ead\" ', 's rus', ' told', 'nclea', 'le.\" ', 'd des', 'romis', 'tinue', ' in-d', 'vid-1', 'rtuni', 's eff', ' at. ', ', in-', 'ct un', 'mment', 'mp gr', 'inent', 'ing. ', 'irst-', 'r-bio', 'faith', 'porte', 'll cn', 'lunt ', 'aged ', ' \"fda', 'ments', 'urged', 'ks, a', 'ine p', 'trump', 'ne, s', 'e per', 'n mea', 'c con', 'oui, ', 'l int', 'am va', 'ton (', '\" whi', ' frus', 'emark', 'on. \"', 'polit', '-bion', 'on ph', 'k opp', 'y peo', 'low t', ' men ', '\" fri', 'immin', 'ial f', 'nted ', 'essed', '. blu', ' free', 'on of', 'n nee', ' step', ' mead', '. fri', 'looke', 'mitte', ' untr', 'ional', 'n, co', \"'s th\", 'ncef ', 'd age', 'ic co', 'commi', 'dvise', 'son a', 'e con', 'conti', 'ent. ', 'view.', 'ush m', 'missi', '. dr.', '\" sai', 'us ta', 'nes n', 'hreat', 'elect', 'orce ', 'y rig', 'spute', 'rce c', 't rep', 'rsati', 'y lar', 'tion ', 'ommit', ' poin', 'ivate', ' effo', 'd\" fr', 'd und', 'ar pu', 'mmiss', 'rger ', 'th ex', 'id it', 'descr', 'ose w', 'aise ', 'ate c', 'on qu', 'safet', 'e und', 'gn, a', 'news ', 'zatio', 'ence ', '  ano', 'exped', 'rgenc', ' pers', 'ess n', 'rizat', '\" hah', ' taki', 'vent ', 'cess ', 've, t', 'ne ex', 'ion v', 'influ', 'f \"re', 'ienti', 'ency ', 'cials', 'hief ', 'rnoon', 'hinki', 'issio', 'eeted', 'a \"a ', 'n fam', 'tical', \"n't g\", 'n cal', 'tter,', 'omise', 'cnn t', 'ic ex', 't fri', ', con', 'white', 'ngton', 'pdate', 'ump g', ' tell', 'layin', 'lly f', 'aid a', 'ectiv', 'es st', \"tech'\", 's eme', 'lic e', '. per', ' fire', 'tle.\"', 'ough,', ' righ', 'ed im', 'threa', 'da \"a', 'peopl', 'gn pf', 'ls wo', 'vate ', 'fired', ' urge', 'dent-', 'od dr', 'ell c', 'ght,\"', \"a's a\", 'ahn q', 'll ch', 'nding', 'due p', 'ty. \"', 'g add', \"ine's\", 'h man', 'ake c', 'ffice', 'nt au', 'mp wa', ' us p', 'ant m', 'e tap', 'ficie', 'in-de', 'rly r', 'ks fr', 'men c', 'e loo', 'ent, ', ' need', 'lives', 'p twe', ' slao', 'at la', 'quest', 'gress', 'day r', 'tive,', 'f sin', 'l que', 'ckly ', 'uthor', 'ted t', 'gover', 'washi', '(emer', 'turtl', 'ful f', 'ic he', 'alled', 's upd', 'itted', 'd end', 'efend', 'compr', 'ke cl', 'ht,\" ', ' oppo', 'c hea', 'ne.\" ', 'ee un', 'press', ' fear', 'y con', 'ews m', 'voted', 'esign', 'oked ', 'invol', 'wants', 'ews l', '. mon', 'ns ch', 'rown ', 'atter', 'nvolv', 'matte', 'onald', 'l res', 'fort ', 'p pla', '\"regu', 'orize', 'ing e', 'er, a', 'aff m', 'ncing', 'le le', 'dermi', 't aut', 'steve', 'added', 'needs', 'n tru', 'tful ', 'oted ', ', add', 'lved ', 'ree p', 'ion p', 'marks', ' requ', 'ne ro', 'true ', 'iar m', ' clos', 'a chi', ' infl', 'p vac', 'addre', 'come ', 'recen', 'nce.\"', 'icial'}\n"
          ]
        }
      ],
      "source": [
        "# create K-shingles by sliding window approach\n",
        "def getShingles(str1, K=5):\n",
        "    d1 = set()\n",
        "    # 1. Loop over the range of possible overlapping windows of length K\n",
        "    for i in range(len(str1) - K + 1):\n",
        "        # 2. In each window, add the resulting shingle to the set\n",
        "        shingle = str1[i:i + K]\n",
        "        d1.add(shingle)\n",
        "    return d1\n",
        "\n",
        "# Apply the getShingles function to each document\n",
        "doc_shingles = [getShingles(s, 5) for s in documents]\n",
        "\n",
        "# Display the shingles for the first document to examine the results\n",
        "print(\"Shingles for the first document:\")\n",
        "print(doc_shingles[0])\n"
      ]
    },
    {
      "cell_type": "markdown",
      "metadata": {
        "id": "Iy9Ecci6YIgA"
      },
      "source": [
        "> Notice that the number of **resulting** shingles is less than the number of windows. Why would this condition arise from using a Python set and what does it mean in terms of occurrence of the shingles in a document from the univerisal set?        \n",
        "> **End of exercise.**     "
      ]
    },
    {
      "cell_type": "markdown",
      "metadata": {
        "id": "22LtRUBRYIgB"
      },
      "source": [
        "> **Answer:** The number of resulting shingles is less than the number of windows because a Python set removes duplicate elements. This means that each unique shingle is only stored once, regardless of how many times it appears in the document. Consequently, the set contains only unique shingles, reducing the total count compared to the number of windows. This indicates that some shingles occur more than once in the document, highlighting repetitive patterns or common sequences within the text.\n",
        "\n"
      ]
    },
    {
      "cell_type": "markdown",
      "metadata": {
        "id": "706a4iQ-YIgB"
      },
      "source": [
        "### Compute the Jaccard similarity      \n",
        "\n",
        "> **Exercise 3-3:** The code in the cell below uses the sets of shingles to compute the Jaccard similarity between the five documents. Two lists are created, one for the pair labels and one for the Jaccard similarity.\n",
        "> You will complete the `jaccardSim` function. The function should return the length of the **intersection** of the data set divided by the length of the **union** of the set. Use the built in Python methods [intersection](https://www.w3schools.com/python/ref_set_intersection.asp) and [union](https://python-reference.readthedocs.io/en/latest/docs/sets/union.html) compute the intersection and the union of the shingle sets.       "
      ]
    },
    {
      "cell_type": "code",
      "execution_count": 30,
      "metadata": {
        "id": "LrOyAtE2YIgB",
        "colab": {
          "base_uri": "https://localhost:8080/"
        },
        "outputId": "3741591b-70a4-44ec-8a85-724f5adfb128"
      },
      "outputs": [
        {
          "output_type": "stream",
          "name": "stdout",
          "text": [
            "**True similarity scores**\n",
            "Pair\tScore\n",
            "--------------\n",
            "(0, 1)\t0.093\n",
            "(0, 2)\t0.069\n",
            "(0, 3)\t0.050\n",
            "(0, 4)\t0.336\n",
            "(1, 2)\t0.081\n",
            "(1, 3)\t0.052\n",
            "(1, 4)\t0.295\n",
            "(2, 3)\t0.052\n",
            "(2, 4)\t0.083\n",
            "(3, 4)\t0.400\n"
          ]
        }
      ],
      "source": [
        "def jaccardSim(d1, d2):\n",
        "    ## Your code goes below\n",
        "    intersection = d1.intersection(d2)  # Compute the intersection\n",
        "    union = d1.union(d2)  # Compute the union\n",
        "    return len(intersection) / len(union)  # Return the Jaccard similarity\n",
        "\n",
        "pair_labels = []\n",
        "pair_sims = []\n",
        "for x1, x2 in itertools.combinations(zip(range(len(doc_shingles)), doc_shingles), 2):\n",
        "    pair_labels.append((x1[0], x2[0]))\n",
        "    pair_sims.append(jaccardSim(x1[1], x2[1]))\n",
        "\n",
        "print(f\"**True similarity scores**\")\n",
        "print(\"Pair\\tScore\")\n",
        "print(\"-\"*14)\n",
        "for pair, score in zip(pair_labels, pair_sims):\n",
        "    print(f\"{pair}\\t{score:.3f}\")\n"
      ]
    },
    {
      "cell_type": "markdown",
      "metadata": {
        "id": "7fjDLsewYIgB"
      },
      "source": [
        "> Which 3 of these similarity pairs have the largest Jaccard similarity scores and given the nature of these documents, is this result expected?     \n",
        "> **End of exercise.**"
      ]
    },
    {
      "cell_type": "markdown",
      "metadata": {
        "id": "W1ORFKSVYIgB"
      },
      "source": [
        "> **Answer:** The three pairs with the largest Jaccard similarity scores are: (3,4):0.400 ; (0,4):0.336 ; (1,4):0.295 . Given the nature of these documents, this result is expected. Document 4 is a concatenation of sections from documents 0, 1, and 3, so it shares significant content with these documents. This results in higher Jaccard similarity scores when comparing document 4 with documents 0, 1, and 3. The highest similarity is with document 3, followed by documents 0 and 1, which aligns with the fact that document 4 contains significant portions of these documents."
      ]
    },
    {
      "cell_type": "markdown",
      "metadata": {
        "id": "wYptzDPcYIgB"
      },
      "source": [
        "### Prepare a Shingle Dictionary with Universal Set   \n",
        "\n",
        "To prepare for mini-hashing of these documents a shingle dictionary using the universal set of shingles must be created. The code in the cell below does the following:  \n",
        "1. Uses the Python `set.union` method to create a Python with the universal set of shingles.   \n",
        "2. Instantiate a Python dictionary using the universal set as the key values.    \n",
        "3. Print the number of unique shingles found.     \n",
        "Execute this code.   "
      ]
    },
    {
      "cell_type": "code",
      "execution_count": 31,
      "metadata": {
        "id": "Hlt7Uh0KYIgE",
        "colab": {
          "base_uri": "https://localhost:8080/"
        },
        "outputId": "2e402992-36d8-4622-aed9-d5bf985b310f"
      },
      "outputs": [
        {
          "output_type": "stream",
          "name": "stdout",
          "text": [
            "Number of unique shingles = 7536\n"
          ]
        }
      ],
      "source": [
        "## Find the univeral set as the union of all shingles and\n",
        "## then create a dictionary using the universal set as keys.\n",
        "universal_set = set.union(*doc_shingles)\n",
        "shingle_dict = dict(zip(list(universal_set),range(len(universal_set))))\n",
        "print(f\"Number of unique shingles = {len(shingle_dict)}\")"
      ]
    },
    {
      "cell_type": "markdown",
      "metadata": {
        "id": "pPvQytYyYIgE"
      },
      "source": [
        "As is typical for even small documents, the number of unique shingles is quite large.       \n",
        "\n",
        "Next, execute the code in the cell below to display the first 40 of these shingles."
      ]
    },
    {
      "cell_type": "code",
      "execution_count": 32,
      "metadata": {
        "id": "0ckthYrdYIgE",
        "colab": {
          "base_uri": "https://localhost:8080/"
        },
        "outputId": "2df8e0bf-b4c3-4e7c-9a42-396314bb82dd"
      },
      "outputs": [
        {
          "output_type": "execute_result",
          "data": {
            "text/plain": [
              "['votes',\n",
              " 'oncer',\n",
              " ' hous',\n",
              " 'ud, i',\n",
              " 'onall',\n",
              " 'ists.',\n",
              " 'le sa',\n",
              " 're au',\n",
              " 'sly p',\n",
              " 'ars o',\n",
              " \"i's w\",\n",
              " 't tru',\n",
              " 'n jan',\n",
              " 'yee a',\n",
              " 'idst ',\n",
              " 'irmed',\n",
              " 'th va',\n",
              " ' \"sto',\n",
              " 'wed p',\n",
              " 'appea',\n",
              " 'atien',\n",
              " 'tness',\n",
              " ' bear',\n",
              " 'entur',\n",
              " 'ortun',\n",
              " 'ageou',\n",
              " 'led j',\n",
              " 'crime',\n",
              " 'tweet',\n",
              " 'imida',\n",
              " 'ar ma',\n",
              " \"p's b\",\n",
              " 'ures ',\n",
              " 'leave',\n",
              " 'se de',\n",
              " 'ntati',\n",
              " 'atrio',\n",
              " 'ers f',\n",
              " 'e two',\n",
              " 'own t']"
            ]
          },
          "metadata": {},
          "execution_count": 32
        }
      ],
      "source": [
        "list(shingle_dict.keys())[:40]"
      ]
    },
    {
      "cell_type": "markdown",
      "metadata": {
        "id": "LzIPwwAyYIgE"
      },
      "source": [
        "It is no surprise that each shingle contains 5 characters. Notice that these characters can include white space and punctuation.   "
      ]
    },
    {
      "cell_type": "markdown",
      "metadata": {
        "id": "TM2wUi3fYIgE"
      },
      "source": [
        "### 3. Define the HashManager class\n",
        "\n",
        "The MashManager class is used to instantiate and manage the capable of creating a signature matrix. To maintain reasonable performance and minimize memory use on the sparse characteristic matrix, this class **only works with Python sets**, not arrays. Unfortunately, using sets leads to some more difficult to understand code.    \n",
        "\n",
        "Looking at how the provided test cases are executed will help you understand how the methods of this class are used. The methods are:   \n",
        "1. `_initParams`, initializes the signature matrix as random numbers in the range $[0,size\\ of\\ universal\\ set-1]$, using [numpy.random.randint](https://numpy.org/doc/stable/reference/random/generated/numpy.random.randint.html).\n",
        "2. `_permuteRow`, computes a hash of the row indicies used to find permutations of the characteristic matrix.    \n",
        "3. `__call__` does the heavy lifting:  \n",
        "  - Create a new signature matrix if required.  \n",
        "  - Initialize the signature matrix with infinity values, [numpy.inf](https://numpy.org/devdocs/reference/constants.html).\n",
        "  - Loop over all documents and for each shingle in each document updated the signature matrix if the new values of the mini-hash are less that the old values.    \n",
        "\n",
        "Execute the code in the cell below to initialize the HashManager class and run some test cases.  "
      ]
    },
    {
      "cell_type": "code",
      "execution_count": 33,
      "metadata": {
        "id": "p83BidAkYIgE",
        "colab": {
          "base_uri": "https://localhost:8080/"
        },
        "outputId": "aa04b2f1-d625-4670-bdd2-db58ca0f4cd0"
      },
      "outputs": [
        {
          "output_type": "stream",
          "name": "stdout",
          "text": [
            "Initialization test: passed\n",
            "Set parameters to right size: passed\n",
            "Permuting a row integer returns array: passed\n",
            "Compute minhashed signature matrix: passed\n"
          ]
        }
      ],
      "source": [
        "# Create a hash function\n",
        "# define as a callable class, so that we only\n",
        "# intialize random functions once\n",
        "class HashManager():\n",
        "    def __init__(self, shingle_dict):\n",
        "        self.shingle_dict = shingle_dict\n",
        "        self.N = len(shingle_dict)\n",
        "        self.params = None\n",
        "\n",
        "    def _initParams(self, n_sig):\n",
        "        self.params = np.random.randint(self.N, size=[n_sig,2])\n",
        "\n",
        "    def _permuteRow(self, row):\n",
        "        return (self.params@np.array([1,row]))%self.N\n",
        "\n",
        "    def __call__(self, docs, n_sig, init=True):\n",
        "        # Initialize if we change signature matrix length\n",
        "        # or if we request to re-initialize\n",
        "        if self.params is None or len(self.params) != n_sig or init:\n",
        "            self._initParams(n_sig)\n",
        "\n",
        "        #initialize signature matrix\n",
        "        sig = np.full((n_sig, len(docs)), np.inf)\n",
        "\n",
        "        # each doc in docs is assumed to be an iterable object\n",
        "        for j, doc in enumerate(docs):\n",
        "            for shingle in doc:\n",
        "                orig_row = shingle_dict[shingle]\n",
        "                curr_col = self._permuteRow(orig_row)\n",
        "                sig[:,j] = np.minimum(sig[:,j],curr_col)\n",
        "        return sig.astype(int)\n",
        "\n",
        "# run some tests:\n",
        "try:\n",
        "    print(\"Initialization test: \", end=\"\")\n",
        "    hm = HashManager(shingle_dict)\n",
        "    print(\"passed\")\n",
        "\n",
        "    print(\"Set parameters to right size: \", end=\"\")\n",
        "    hm._initParams(n_sig=4)\n",
        "    assert(hm.params.shape == (4,2))\n",
        "    print(\"passed\")\n",
        "\n",
        "    print(\"Permuting a row integer returns array: \", end=\"\")\n",
        "    curr_col = hm._permuteRow(3)\n",
        "    assert(curr_col.shape == (4,))\n",
        "    print(\"passed\")\n",
        "\n",
        "    print(\"Compute minhashed signature matrix: \", end=\"\")\n",
        "    hm(doc_shingles, 4)\n",
        "    print(\"passed\")\n",
        "except Exception as e:\n",
        "    print(\"failure\")\n",
        "    print(e.args)"
      ]
    },
    {
      "cell_type": "markdown",
      "metadata": {
        "id": "O37KMa0NYIgE"
      },
      "source": [
        "With the `HashManager` class defined, execute the code in the cell below to create an instance."
      ]
    },
    {
      "cell_type": "code",
      "execution_count": 34,
      "metadata": {
        "id": "TkLJU4IKYIgE"
      },
      "outputs": [],
      "source": [
        "np.random.seed(4856)\n",
        "hm = HashManager(shingle_dict)"
      ]
    },
    {
      "cell_type": "markdown",
      "metadata": {
        "id": "kCdlGWKkYIgE"
      },
      "source": [
        "###  Mini-Hashing Performance\n",
        "\n",
        "Now you will compute and compare similarity scores between the simple mini-hash approximation and the full Jaccard similarity using the shingled documents.\n",
        "\n",
        "The following functions are provided:   \n",
        "1. `trueSimScores` function computes the Jaccard similarities of each possible combination of the shingled documents.   \n",
        "2. `sigSimScores` function computes the Jarracd similarities between each possible combination of mini-hashes of a document.  \n",
        "3. `candidatePairs` function finds combinations of mini-hashes that have a similarity greater than the threshold.  \n",
        "4. `printScoreComparison` function prints the comparison between the mini-hash similarity and the full Jaccard similarity. Similarities computed by Jaccard similarity on the full set of shingles are assumed to be the ground truth.  \n",
        "5. `accMatrix`function prints some summary statistics comparing the similarity methods.    \n",
        "\n",
        "Execute this code and examine the results.   "
      ]
    },
    {
      "cell_type": "code",
      "execution_count": 35,
      "metadata": {
        "id": "VEFlmAEIYIgF",
        "colab": {
          "base_uri": "https://localhost:8080/"
        },
        "outputId": "7fefe1ff-1d07-41ec-bf77-4b0e85ebb36d"
      },
      "outputs": [
        {
          "output_type": "stream",
          "name": "stdout",
          "text": [
            "Comparison of similarity scores between mini-hash approximation and full Jaccard similarity\n",
            "Pair\t\tApprox\t\tTrue\t\t%Error\n",
            "(0, 1)\t\t0.400\t\t0.093\t\t329.27\n",
            "(0, 2)\t\t0.300\t\t0.069\t\t335.77\n",
            "(0, 3)\t\t0.600\t\t0.050\t\t1096.84\n",
            "(0, 4)\t\t0.500\t\t0.336\t\t48.65\n",
            "(1, 2)\t\t0.500\t\t0.081\t\t517.81\n",
            "(1, 3)\t\t0.400\t\t0.052\t\t674.42\n",
            "(1, 4)\t\t0.600\t\t0.295\t\t103.63\n",
            "(2, 3)\t\t0.500\t\t0.052\t\t863.36\n",
            "(2, 4)\t\t0.700\t\t0.083\t\t743.93\n",
            "(3, 4)\t\t0.800\t\t0.400\t\t99.83\n",
            "Variance = 11.520987939694912\n",
            "\n",
            "\n",
            "Comparison of similarity measure methods at threshold = 0.25\n",
            "Pairs by full Jaccard similarity: {(0, 4), (3, 4), (1, 4)}\n",
            "Candidate pairs from mini-hashing: {(0, 1), (2, 4), (1, 2), (0, 4), (3, 4), (0, 3), (1, 4), (2, 3), (0, 2), (1, 3)}\n",
            "\n",
            "\n",
            "False negatives: 0\n",
            "Potential false positives: 7\n"
          ]
        }
      ],
      "source": [
        "def trueSimScores(doc_shingles):\n",
        "    pair_labels = []\n",
        "    pair_sims = []\n",
        "    idxs = range(len(doc_shingles))\n",
        "    for x1, x2 in itertools.combinations(zip(idxs,doc_shingles), 2):\n",
        "        pair_labels.append((x1[0], x2[0]))\n",
        "        pair_sims.append(jaccardSim(x1[1], x2[1]))\n",
        "    return dict(zip(pair_labels, pair_sims))\n",
        "\n",
        "def sigSimScores(sig_mat):\n",
        "    cols = sig_mat.T\n",
        "    idxs = range(sig_mat.shape[1])\n",
        "\n",
        "    pair_labels = []\n",
        "    pair_sims = []\n",
        "    for (i,col1), (j,col2) in itertools.combinations(zip(idxs, cols),2):\n",
        "        pair_labels.append((i,j))\n",
        "        pair_sims.append(np.mean(col1==col2))\n",
        "    return dict(zip(pair_labels, pair_sims))\n",
        "\n",
        "def printScoreComparison(true_dict, approx_dict):\n",
        "    print(f\"Comparison of similarity scores between mini-hash approximation and full Jaccard similarity\")\n",
        "    print(\"Pair\\t\\tApprox\\t\\tTrue\\t\\t%Error\")\n",
        "    errors =[]\n",
        "    for pair, true_value in true_dict.items():\n",
        "        approx_value = approx_dict[pair]\n",
        "        err = abs(true_value-approx_value)/true_value\n",
        "        errors.append(err)\n",
        "        print(f\"{pair}\\t\\t{approx_value:.3f}\\t\\t{true_value:.3f}\\t\\t{100*err:.2f}\")\n",
        "    print(f\"Variance = {np.var(errors)}\")\n",
        "\n",
        "def candidatePairs(score_dict, threshold):\n",
        "    return set(pair for pair, scr in score_dict.items() if scr>=threshold)\n",
        "\n",
        "def accMatrix(true_dict, approx_dict, threshold):\n",
        "    true_pairs = candidatePairs(true_dict, threshold)\n",
        "    approx_pairs = candidatePairs(approx_dict, threshold)\n",
        "\n",
        "    false_negatives = len(true_pairs.difference(approx_pairs))\n",
        "    false_positives = len(approx_pairs.difference(true_pairs))\n",
        "\n",
        "    print('\\n')\n",
        "    print(f\"False negatives: {false_negatives}\")\n",
        "    print(f\"Potential false positives: {false_positives}\")\n",
        "\n",
        "np.random.seed(9844)\n",
        "sig_mat = hm(doc_shingles, 10)\n",
        "true_score_dict = trueSimScores(doc_shingles)\n",
        "approx_score_dict = sigSimScores(sig_mat)\n",
        "printScoreComparison(true_score_dict, approx_score_dict)\n",
        "\n",
        "threshold = 0.25\n",
        "print('\\n\\nComparison of similarity measure methods at threshold = ' + str(threshold))\n",
        "print(\"Pairs by full Jaccard similarity:\",candidatePairs(true_score_dict, threshold))\n",
        "print(\"Candidate pairs from mini-hashing:\",candidatePairs(approx_score_dict, threshold))\n",
        "accMatrix(true_score_dict, approx_score_dict, threshold)\n"
      ]
    },
    {
      "cell_type": "markdown",
      "metadata": {
        "id": "CopEzTHUYIgF"
      },
      "source": [
        "> **Exercise 3-4** Provide short answers to the following questions:    \n",
        "> 1. Tables of performance statistics are printed above. The first table compares the pair-wise similarity measures. The second table compares the similar pairs found by both methods. What do these summaries tell you about the variance of the mini-hash approximation and why is this result expected.\n",
        "> 2. Based on the results displayued, explain the false negatives and false positives counts given the pairs found by the full Jaccard similarity and mini-hashing.      \n",
        "> **End of exercise.**"
      ]
    },
    {
      "cell_type": "markdown",
      "metadata": {
        "id": "O-NSWZy7YIgF"
      },
      "source": [
        "> **Answers:**\n",
        "\n",
        "> 1. The first table shows the comparison between the mini-hash approximation and the full Jaccard similarity, indicating significant variance in the approximation error. The variance of 11.52 suggests that the mini-hash approximation has a considerable spread in errors across different document pairs. This result is expected because mini-hashing provides an estimate rather than an exact value, which can introduce substantial deviations from the true similarity, especially with a limited number of hash functions (in this case, 10). The approximation improves with more hash functions, but some variance is inherent due to the probabilistic nature of the method.\n",
        "\n",
        "> 2. The second table compares the similar pairs found by the full Jaccard similarity and mini-hashing at a threshold of 0.25. There are no false negatives, meaning all pairs identified as similar by the full Jaccard similarity are also found by the mini-hashing method. However, there are 7 potential false positives, indicating that the mini-hashing method identified some pairs as similar that were not considered similar by the full Jaccard similarity. This outcome is typical in approximate methods like mini-hashing, where the goal is to reduce computational complexity at the cost of precision, leading to some pairs being incorrectly classified as similar due to the inherent randomness and approximations in the hashing process."
      ]
    },
    {
      "cell_type": "markdown",
      "metadata": {
        "id": "WcfhTcQLYIgF"
      },
      "source": [
        "## Locality Sensitive Hashing\n",
        "\n",
        "### Banding Signature Matrix\n",
        "\n",
        "You have just seen that the basic mini-hashing algorithm has high variance. Algorithms which band the signature matrix can significantly reduce this variance, by averaging out independent errors. Mini-hash estimates of similarity are computed for each of $b$ bands of the signature matrix. If the signature matrix has $n$ rows, we divide it into $b$ bands each of width $r$, such that $n = b*r$.\n",
        "\n",
        "Let $p$ be the true similarity score (match percent) between a pair. The probability of matching every hash in a band is:\n",
        "\n",
        "$$\\text{prob. all hashes match } = p^r$$\n",
        "\n",
        "The probability of one of $r$ hashes mismatch is:  \n",
        "\n",
        "$$\\text{prob. one hash mismatch } = 1 - p^r$$\n",
        "\n",
        "Now, the probability that at least 1 of the 𝑟 mini-hashes disagree in the 𝑏 bands:\n",
        "\n",
        "$$\\text{prob. no bands match } = (1-p^r)^b$$\n",
        "\n",
        "Therefore, the probability that the $b$ bands do match, is:\n",
        "\n",
        "$$P(\\geq 1\\text{ match}) = 1-(1-p^r)^b$$\n",
        "\n",
        "For a decision threshold of $1/2$, the decision criteria used is that two variables are a candidate pair if $p \\geq 1/2$. For a fixed value of $n$, the number of mini-hashes, one can tune the mini-hash by choosing $r$ and $b$ to approximately a step function around the true value of $p$. The goal is to find all true candidate pairs while minimizing false positive detections. This requirement dictates that some analysis is required to optimize for specific problems.  \n",
        "\n",
        "The code in the cell below computes and displays the decision curves for a fixed $n$ for various values of ${r,b}$.  "
      ]
    },
    {
      "cell_type": "code",
      "execution_count": 36,
      "metadata": {
        "id": "OmRpDBMpYIgF",
        "colab": {
          "base_uri": "https://localhost:8080/",
          "height": 472
        },
        "outputId": "cd95822d-1e83-4e0a-8ada-5970850a6490"
      },
      "outputs": [
        {
          "output_type": "display_data",
          "data": {
            "text/plain": [
              "<Figure size 640x480 with 1 Axes>"
            ],
            "image/png": "[encoded data removed]"
          },
          "metadata": {}
        }
      ],
      "source": [
        "import matplotlib.pyplot as plt\n",
        "n = 200\n",
        "ops = [(2,100),(4,50),(10,20),(20,10),(50,4),(100,2)]\n",
        "yval = lambda p,r,b: 1-(1-p**r)**b\n",
        "pts = np.linspace(0,1,100)\n",
        "for op in ops:\n",
        "    plt.plot(pts, yval(pts,op[0],op[1]), label=op)\n",
        "plt.hlines(0.5,0,1, linestyles ='dashed', colors ='k')\n",
        "plt.vlines(0.5,0,1, linestyles ='-.', colors ='k')\n",
        "plt.legend()\n",
        "plt.xlabel('p')\n",
        "plt.ylabel('Probability')\n",
        "plt.title(\"legend: (r,b). p_true=0.5 (vertical line)\")\n",
        "plt.show()"
      ]
    },
    {
      "cell_type": "markdown",
      "metadata": {
        "id": "dv473a0GYIgF"
      },
      "source": [
        "> **Exercise 3-5:** Examine the curves in the plot and provide short .\n",
        "> 1. How does the position of the curve change with values of r and b for a fixed n and how does this change the optimal decision threshold?\n",
        "> 2. How will the rate of true positives and false positives change with r and b? Hint, note how the steepness of the curve changes with r and b.    \n",
        "> **End of exercise.**"
      ]
    },
    {
      "cell_type": "markdown",
      "metadata": {
        "id": "X9GePHx7YIgF"
      },
      "source": [
        "> **Answers:**\n",
        "\n",
        "> 1. As r increases and b decreases, the curve shifts to the right, making the decision threshold stricter. This means a higher true similarity score p is needed for the probability to exceed 0.5. Conversely, when r decreases and b increases, the curve shifts to the left, making the threshold more lenient.\n",
        "\n",
        "> 2. As r increases and b decreases, the curve becomes steeper, reducing false positives but also potentially reducing true positives if the threshold is too strict. When r decreases and b increases, the curve flattens, increasing the chance of false positives but also potentially increasing true positives by lowering the threshold."
      ]
    },
    {
      "cell_type": "markdown",
      "metadata": {
        "id": "J68cq4thYIgG"
      },
      "source": [
        "### Finding optimal parameters\n",
        "\n",
        "Consider the variables for the decision problem of determining which pairs of variables are similar:  \n",
        "- $p$, the **crossover point** or **decision point**, values above p are considered similar.   \n",
        "- $b$, the number of bands of the signature matrix.  \n",
        "- $r$, the number of mini-hashes in each band.  \n",
        "- $n$, the number of samples, with $n=br$.\n",
        "\n",
        "For a fixed $n, p$ it is possible to solve for the optimal values r,b. Conversely of a fixed $n,r,b$ we can determine the crossover point $p$ for the decision, $p=f(b,r)$. Let's start with $p=1/2$.\n",
        "$$1/2 = 1-(1-p^r)^b$$\n",
        "$$ 1-p^r = 2^{-1/b}$$\n",
        "$$p = (1-2^{-1/b})^{1/r} = (1-e^{-(1/b)\\ln2})^{1/r} \\approx (1/b)^{1/r}*\\text{const}$$\n",
        "\n",
        "If we fix $r$ and $p$, we can find the required number of bands to be about\n",
        "$b \\approx 1/p^r$\n",
        "\n",
        "You have already scene how changing $r$ and $b$ for a fixed $n$ shifts the decision curve. The code in the cell below plots the decision function curve for several optimal values of $r,b$ with increasing $n$. The values of $r$ are considered optimal since the crossing point, $p=0.5, for each combination. Execute the code and examine the results.      "
      ]
    },
    {
      "cell_type": "code",
      "execution_count": 37,
      "metadata": {
        "id": "7pNkHSCuYIgG",
        "colab": {
          "base_uri": "https://localhost:8080/",
          "height": 449
        },
        "outputId": "93259323-a6c8-42c8-8e88-3d8724fb450e"
      },
      "outputs": [
        {
          "output_type": "display_data",
          "data": {
            "text/plain": [
              "<Figure size 640x480 with 1 Axes>"
            ],
            "image/png": "[encoded data removed]"
          },
          "metadata": {}
        }
      ],
      "source": [
        "x = np.linspace(0,1,100)\n",
        "for b,r,col in [(5,3,'r'),(40,6,'b'),(150,8,'g'),(700,10,'b')]:\n",
        "    y = 1-(1-x**r)**b\n",
        "    plt.plot(x,y,c=col,label=f\"b={b},r={r}, n={b*r}\")\n",
        "plt.hlines(0.5,0,1, linestyles ='dashed', colors ='k')\n",
        "plt.vlines(0.5,0,1, linestyles ='-.', colors ='k')\n",
        "plt.legend()\n",
        "plt.xlabel('p')\n",
        "plt.ylabel('Probability')\n",
        "\n",
        "plt.legend()\n",
        "plt.show()"
      ]
    },
    {
      "cell_type": "markdown",
      "metadata": {
        "id": "ggARL-UwYIgG"
      },
      "source": [
        "> **Exercise 3-6:** Keeping in mind that a steeper curve is a better decision function, for optimal $r,b$, what do these curves tell you about the value of increasing $n$.    \n",
        "> **End of exercise.**"
      ]
    },
    {
      "cell_type": "markdown",
      "metadata": {
        "id": "AgpqqYETYIgG"
      },
      "source": [
        "> **Answer:** When n increases, the curves become steeper, which means a more accurate decision function. A steeper curve means better differentiation between similar and dissimilar pairs. Therefore, increasing n improves the precision of the similarity detection, making the decision function more reliable."
      ]
    },
    {
      "cell_type": "markdown",
      "metadata": {
        "id": "Jk9Wy51iYIgG"
      },
      "source": [
        "### LSH with Banded Mini-Hash\n",
        "\n",
        "Let's try a simple example of banded mini-hashing. Specifically, the OR-AND method is applied to a banded signature matrix.       \n",
        "The code in the cell below implements the algorithm is a straight-forward way. While not optimal in terms of computational complexity, the code is intended to make the algorithm clear. The functions provided are:    \n",
        "1. `bandedCandidatePair`, is a function which first computes a logical array of matches between two columns, then divides that array into $b$ bands and determines if any of these bands are all true values, or all matches. The signature matrix is divided into bands using [numpy.array_split](https://numpy.org/doc/stable/reference/generated/numpy.array_split.html).\n",
        "2. `bandedCandidatePairs`, calls the bandedCandidatePair function for each combination of columns, and if that function returns a logical true (a match of at least one band) the keys for the pair are added to the pairs list.\n",
        "\n",
        "Execute the code and examine the results.  "
      ]
    },
    {
      "cell_type": "code",
      "execution_count": 38,
      "metadata": {
        "id": "bSf0XrILYIgG",
        "colab": {
          "base_uri": "https://localhost:8080/"
        },
        "outputId": "e53e08d7-aa28-4703-ecbd-1cbdac5aeafa"
      },
      "outputs": [
        {
          "output_type": "stream",
          "name": "stdout",
          "text": [
            "\n",
            "Pairs found by Jaccard similarity of all shingles: {(0, 4), (3, 4), (1, 4)}\n",
            "Pairs found with LSH: {(0, 4), (3, 4), (1, 4)}\n",
            "Simple MinHash pairs: {(0, 1), (2, 4), (1, 2), (0, 4), (3, 4), (0, 3), (1, 4), (2, 3), (0, 2), (1, 3)}\n"
          ]
        }
      ],
      "source": [
        "def bandedCandidatePair(col1, col2, b, r):\n",
        "    \"\"\"Returns a boolean if the two columns are a candidate pair\n",
        "    inputs must obey n=len(col1)=len(col2)=b*r\"\"\"\n",
        "    n = len(col1)\n",
        "    assert(n==b*r)\n",
        "    assert(n==len(col2))\n",
        "    truth_array = (col1==col2)\n",
        "    return any(all(band) for band in np.array_split(truth_array,b))\n",
        "\n",
        "def bandedCandidatePairs(sig_mat, b, r):\n",
        "    d = sig_mat.shape[1]\n",
        "    idxs = range(d)\n",
        "    cols = [sig_mat[:,i] for i in range(d)]\n",
        "    pairs = set()\n",
        "    for (i,col1), (j,col2) in itertools.combinations(zip(idxs,cols),2):\n",
        "        if bandedCandidatePair(col1,col2,b,r):\n",
        "            pairs.add((i,j))\n",
        "    return pairs\n",
        "\n",
        "# set p = 0.3 arbitrarily\n",
        "p = 0.25\n",
        "n = 120\n",
        "b = 20\n",
        "r = 6\n",
        "\n",
        "# see how many candidate pairs we got right!\n",
        "np.random.seed(57988)\n",
        "sig_mat = hm(doc_shingles, n)\n",
        "true_score_dict = trueSimScores(doc_shingles)\n",
        "\n",
        "print(\"\\nPairs found by Jaccard similarity of all shingles:\",candidatePairs(true_score_dict, p))\n",
        "print(\"Pairs found with LSH:\",bandedCandidatePairs(sig_mat, b, r))\n",
        "print(\"Simple MinHash pairs:\",candidatePairs(approx_score_dict, p))"
      ]
    },
    {
      "cell_type": "markdown",
      "metadata": {
        "id": "2MTs5YLHYIgG"
      },
      "source": [
        "> **Exercise 03-7:** Provide short answers to the following questions:    \n",
        "> 1. Examine the code in the `return` statement of the `bandedCandidatePair` function. Explain why this code implements the OR-AND construction algorithm.  \n",
        "> 2. Compare the candidate pairs found by the three methods. Given the composition of document 4 which errors are made in terms of false positive and false negative by each of the methods, and what does this result tell you about their respective accuracies?"
      ]
    },
    {
      "cell_type": "markdown",
      "metadata": {
        "id": "Qf49OFHMYIgG"
      },
      "source": [
        "> **Answers:**\n",
        "\n",
        "> 1. The return statement in the bandedCandidatePair implements the OR-AND construction algorithm by dividing the truth_array into b bands using np.array_split.\n",
        "\n",
        "> 2. The LSH method provided the most accurate results, matching the true similarity pairs without any false positives or false negatives. This demonstrates its effectiveness in reducing variance and accurately identifying similar pairs. While Simple MinHash found all true pairs, it also introduced several false positives, indicating higher variance and lower specificity compared to LSH."
      ]
    },
    {
      "cell_type": "markdown",
      "metadata": {
        "id": "O1NOCc1jYIgG"
      },
      "source": [
        "### Efficient LSH algorithm  \n",
        "\n",
        "The banded OR-AND mini-hashing has produced better results than simple mini-hashing. However, the algorithm used required matching $\\frac{n(n-1)}{2}$ or $\\mathcal{O}(n^2)$ matching operations. Clever use of a hash table allows us to create an equivalent algorithm with  $\\mathcal{O}(n)$ time complexity.   \n",
        "\n",
        "The code in the cell below uses a hash table constructed with a [collections.defaultdict](https://docs.python.org/3/library/collections.html#collections.defaultdict) to match candidate pairs. Execute the code and examine the results.   "
      ]
    },
    {
      "cell_type": "code",
      "execution_count": 39,
      "metadata": {
        "id": "CtLJhe5aYIgH",
        "colab": {
          "base_uri": "https://localhost:8080/"
        },
        "outputId": "7ac83221-093a-41c8-9fd4-2dc779292935"
      },
      "outputs": [
        {
          "output_type": "stream",
          "name": "stdout",
          "text": [
            "True pairs:\t {(0, 4), (3, 4), (1, 4)}\n",
            "LSH pairs:\t {(0, 4), (3, 4)}\n",
            "Fast LSH pairs:\t {(0, 4), (3, 4)}\n",
            "MinHash pairs:\t {(0, 1), (2, 4), (1, 2), (0, 4), (3, 4), (0, 3), (1, 4), (2, 3), (0, 2), (1, 3)}\n"
          ]
        }
      ],
      "source": [
        "def fastCandidatePairs(sig_mat, b, r):\n",
        "    n, d = sig_mat.shape\n",
        "    assert(n==b*r)\n",
        "    hashbuckets = collections.defaultdict(set)\n",
        "    bands = np.array_split(sig_mat, b, axis=0)\n",
        "    for i,band in enumerate(bands):\n",
        "        for j in range(d):\n",
        "            # The last value must be made a string, to prevent accidental\n",
        "            # key collisions of r+1 integers when we really only want\n",
        "            # keys of r integers plus a band index\n",
        "            band_id = tuple(list(band[:,j])+[str(i)])\n",
        "            hashbuckets[band_id].add(j)\n",
        "    candidate_pairs = set()\n",
        "    for bucket in hashbuckets.values():\n",
        "        if len(bucket) > 1:\n",
        "            for pair in itertools.combinations(bucket, 2):\n",
        "                candidate_pairs.add(pair)\n",
        "    return candidate_pairs\n",
        "\n",
        "\n",
        "#p = 0.30\n",
        "p = 0.25\n",
        "n = 120\n",
        "b = 20\n",
        "r = 6\n",
        "\n",
        "# see how many candidate pairs we got right!\n",
        "np.random.seed(1267)\n",
        "sig_mat = hm(doc_shingles, n)\n",
        "true_score_dict = trueSimScores(doc_shingles)\n",
        "approx_score_dict = sigSimScores(sig_mat)\n",
        "print('True pairs:\\t', candidatePairs(true_score_dict, p))\n",
        "print(\"LSH pairs:\\t\", bandedCandidatePairs(sig_mat, b, r))\n",
        "print(\"Fast LSH pairs:\\t\", fastCandidatePairs(sig_mat, b, r))\n",
        "print(\"MinHash pairs:\\t\", candidatePairs(approx_score_dict, p))"
      ]
    },
    {
      "cell_type": "markdown",
      "metadata": {
        "id": "joCgPgA7YIgH"
      },
      "source": [
        "> **Exercise 03-8:** Examine the `fastCandidatePairs` function. Explain why this algorithm is equivalent to the OR-AND construction examined for Exercise 03-6, but yet can run in $O(n)$ time.    \n",
        "> **End of Exercise.**"
      ]
    },
    {
      "cell_type": "markdown",
      "metadata": {
        "id": "nVLztJB3YIgH"
      },
      "source": [
        "> **Answer:** The fastCandidatePairs function achieves equivalence to the OR-AND construction by using a hash table to efficiently group and compare columns. This reduces the time complexity from $\\mathcal{O}(n^2)$ to $\\mathcal{O}(n)$, making it much more scalable for larger datasets while maintaining the accuracy of the LSH method."
      ]
    },
    {
      "cell_type": "markdown",
      "metadata": {
        "id": "U2ltXoiSYIgH"
      },
      "source": [
        "> **Exercise 03-9:** The LSH and fast LSH algorithms both make the same error in this case. Is there an efficient way to improve on this result? Yes. We can take advantage of the fact that most similar pairs hash to the same bucket, we can do the following:    \n",
        "> 1. Find the full Jacard similarities of only the pairs in the bucket. The limited number of pairs candidates makes this calculation efficient.    \n",
        "> 2. Filter the full Jarard similarities by a threshold.       \n",
        "> Examine and execute the code in the cell below.   "
      ]
    },
    {
      "cell_type": "code",
      "execution_count": 40,
      "metadata": {
        "id": "cBKONM_rYIgH",
        "colab": {
          "base_uri": "https://localhost:8080/"
        },
        "outputId": "c2a996c2-788f-4362-d74a-0ca15f2abe24"
      },
      "outputs": [
        {
          "output_type": "stream",
          "name": "stdout",
          "text": [
            "The similaritiy of the pairs in the bucket = [0.336 0.4  ]\n",
            "**True similarity scores**\n",
            "Pair\tScore\n",
            "--------------\n",
            "(0, 4)\t0.336\n",
            "(3, 4)\t0.400\n"
          ]
        }
      ],
      "source": [
        "pair_labels = []\n",
        "pair_sims = []\n",
        "for x1, x2 in bandedCandidatePairs(sig_mat, b, r):\n",
        "    pair_labels.append((x1,x2))\n",
        "    pair_sims.append(jaccardSim(doc_shingles[x1],doc_shingles[x2]))\n",
        "\n",
        "print('The similaritiy of the pairs in the bucket = ' + str(np.round(pair_sims, 3)))\n",
        "threshold = 0.25\n",
        "print(f\"**True similarity scores**\")\n",
        "print(\"Pair\\tScore\")\n",
        "print(\"-\"*14)\n",
        "for pair, score in zip(pair_labels, pair_sims):\n",
        "    if score > threshold: print(f\"{pair}\\t{score:.3f}\")"
      ]
    },
    {
      "cell_type": "markdown",
      "metadata": {
        "id": "RFBBIEmxYIgH"
      },
      "source": [
        "> This simple algorithm has filtered out false positive errors. Explain why this approach is compuationally efficeint compare to testing pairwise similarities.  "
      ]
    },
    {
      "cell_type": "markdown",
      "metadata": {
        "id": "wxpJn6rVYIgH"
      },
      "source": [
        "> **Answer:**\n",
        "> - Reduction in Pairwise Comparisons: By focusing on candidate pairs identified through LSH, we drastically reduce the number of pairs for which we need to compute the Jaccard similarity. This step avoids the $\\mathcal{O}(n^2)$ complexity of brute-force pairwise comparisons.\n",
        "> - Efficient Filtering: The subsequent filtering based on the true Jaccard similarity ensures that only relevant pairs are considered, minimizing the impact of false positives and improving overall accuracy.\n",
        "\n",
        "> In summary, this approach efficiently combines the speed of LSH for candidate pair identification with the accuracy of full Jaccard similarity for validation, resulting in a scalable and precise method for similarity detection."
      ]
    },
    {
      "cell_type": "markdown",
      "metadata": {
        "id": "FbQD1dEpYIgH"
      },
      "source": [
        "#### Copywrite 2022, 2023, 2024 Stephen F Elston. All rights reserved.  "
      ]
    },
    {
      "cell_type": "code",
      "execution_count": null,
      "metadata": {
        "id": "FiPVa-H-YIgH"
      },
      "outputs": [],
      "source": []
    }
  ],
  "metadata": {
    "kernelspec": {
      "display_name": "Python 3 (ipykernel)",
      "language": "python",
      "name": "python3"
    },
    "language_info": {
      "codemirror_mode": {
        "name": "ipython",
        "version": 3
      },
      "file_extension": ".py",
      "mimetype": "text/x-python",
      "name": "python",
      "nbconvert_exporter": "python",
      "pygments_lexer": "ipython3",
      "version": "3.9.18"
    },
    "colab": {
      "provenance": []
    }
  },
  "nbformat": 4,
  "nbformat_minor": 0
}