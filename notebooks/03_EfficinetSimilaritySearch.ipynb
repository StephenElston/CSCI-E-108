{
  "cells": [
    {
      "cell_type": "markdown",
      "metadata": {
        "id": "HviTgqEVYIf7"
      },
      "source": [
        "# Efficient Similarity Search    \n",
        "\n",
        "## CSCI E-108      \n",
        "\n",
        "### Luciano Carvalho"
      ]
    },
    {
      "cell_type": "markdown",
      "metadata": {
        "id": "oAKo-ttTYIf8"
      },
      "source": [
        "In these exercises you will gain some experience with methods for efficient similarity search. A naive similarity search requires a brute-force computation of all pairwise distances, in the chosen metrics. The brute-force approach is not scalable with computational complexity for $n$ observations is $O(n^2)$. For massive dataset we need much more efficient methods. Here, we will explore two possibilities:        \n",
        "1. [**KD trees**](https://en.wikipedia.org/wiki/K-d_tree) are constructed from recurrsive binary splits. For a dataset with $n$ observatrions and dimensionality, $d$, the computational complexity is $O\\big(d\\ n \\log(n) \\big)$. While not ideal linear scaling, $O(n)$,the KD tree is a significant improvement over brute-force methods. Generally, KD-trees are considered to be efficient for large datasets with $d \\le 20$. For higher dimensional data, R-trees and ball trees can be extended to higher dimensional data. We will apply ball trees for clustering and dimensionality reduction with the spectral clustering and UMAP algorithms.     \n",
        "2. [**Mini-hashing**](https://en.wikipedia.org/wiki/MinHash) and [**locally sensitive hashing (LSH)**](https://en.wikipedia.org/wiki/Locality-sensitive_hashing#:~:text=In%20computer%20science%2C%20locality%2Dsensitive,universe%20of%20possible%20input%20items.)) can be applied to massive very high dimensional dataset. The mini-hash algorithm creates sketches of the observations that approximate the Jacard similarity between two varaibles. Multiple bands of sketches are combined to create locally sensive hashes with lower false positive and false negative rates.     \n",
        "\n",
        "Before proceeding to the exercises, execute the code in the cell below to import the required packages.  "
      ]
    },
    {
      "cell_type": "code",
      "execution_count": 1,
      "metadata": {
        "id": "GJloNoewYIf9"
      },
      "outputs": [],
      "source": [
        "import os\n",
        "import time\n",
        "import itertools\n",
        "import collections\n",
        "import numpy as np\n",
        "import pandas as pd\n",
        "import matplotlib.pyplot as plt\n",
        "from sklearn import datasets\n",
        "from sklearn.neighbors import KDTree\n",
        "from sklearn.model_selection import train_test_split\n",
        "import math"
      ]
    },
    {
      "cell_type": "markdown",
      "metadata": {
        "id": "Bux_U5HDYIf9"
      },
      "source": [
        "## Similarity Search with KD Trees     \n",
        "\n",
        "We will now explore a basic example of using a KD tree to find nearest neighbors. We will use a small (toy) dataset of characteristics and metabolic measurements taken from 442 diabetes patients. The KD tree algorithm will be used to find the nearest neightbors of the patients, based on the Euclidean distrance between the observation vectors.    \n",
        "\n",
        "### Load the dataset\n",
        "\n",
        "The diabetes dataset is in the [Scikit Learn Datasets package](https://scikit-learn.org/stable/api/sklearn.datasets.html).This dataset has already been clearned, missing values dealt with, and standardized (zero mean, unite variance). Therefore, we will skip the usual exploration and preparation steps.     \n",
        "\n",
        "Execute the code in the cell below to load the dataset and split it into two data frames, one for training and one for test.  "
      ]
    },
    {
      "cell_type": "code",
      "execution_count": 2,
      "metadata": {
        "colab": {
          "base_uri": "https://localhost:8080/"
        },
        "id": "ZzalfJ5TYIf-",
        "outputId": "b543d925-e272-44cc-ad15-eba879ddd855"
      },
      "outputs": [
        {
          "output_type": "stream",
          "name": "stdout",
          "text": [
            "Dimensions of training data frame = (422, 10)\n",
            "    age_years       sex       BMI  Average_BP  serum_cholesterol       LDL  \\\n",
            "0    0.009016 -0.044642 -0.024529   -0.026328           0.098876  0.094196   \n",
            "1    0.016281 -0.044642  0.017506   -0.022885           0.060349  0.044406   \n",
            "2   -0.027310  0.050680  0.060618    0.107944           0.012191 -0.017598   \n",
            "3    0.027178  0.050680 -0.006206    0.028758          -0.016704 -0.001627   \n",
            "4    0.012648 -0.044642  0.022895    0.052858           0.008063 -0.028558   \n",
            "5    0.030811  0.050680  0.046607   -0.015999           0.020446  0.050669   \n",
            "6   -0.034575  0.050680 -0.025607   -0.017135           0.001183 -0.002880   \n",
            "7    0.074401 -0.044642  0.034751    0.094172           0.057597  0.020293   \n",
            "8    0.027178 -0.044642  0.049840   -0.055006          -0.002945  0.040648   \n",
            "9    0.023546 -0.044642  0.110198    0.063187           0.013567 -0.032942   \n",
            "10   0.048974 -0.044642 -0.042852   -0.053870           0.045213  0.050042   \n",
            "11  -0.070900 -0.044642  0.092953    0.012680           0.020446  0.042527   \n",
            "12   0.067136  0.050680 -0.041774    0.011544           0.002559  0.005889   \n",
            "13  -0.049105 -0.044642  0.025051    0.008101           0.020446  0.017788   \n",
            "14   0.019913 -0.044642 -0.040696   -0.015999          -0.008449 -0.017598   \n",
            "15  -0.023677 -0.044642  0.040140   -0.012556          -0.009825 -0.001001   \n",
            "16   0.034443  0.050680  0.028284   -0.033213          -0.045599 -0.009769   \n",
            "17   0.045341 -0.044642  0.071397    0.001215          -0.009825 -0.001001   \n",
            "18   0.041708  0.050680 -0.015906    0.017293          -0.037344 -0.013840   \n",
            "19   0.005383 -0.044642 -0.057941   -0.022885          -0.067615 -0.068328   \n",
            "\n",
            "         HDL  total_chol_over_HDL  log_serum_triglycerides  Glucose_level  \n",
            "0   0.070730            -0.002592                -0.021395       0.007207  \n",
            "1   0.030232            -0.002592                 0.037236      -0.001078  \n",
            "2  -0.002903            -0.002592                 0.070207       0.135612  \n",
            "3  -0.058127             0.034309                 0.029297       0.032059  \n",
            "4   0.037595            -0.039493                 0.054720      -0.025930  \n",
            "5  -0.058127             0.071210                 0.006207       0.007207  \n",
            "6   0.008142            -0.015508                 0.014821       0.040343  \n",
            "7   0.022869            -0.002592                 0.073799      -0.021788  \n",
            "8  -0.058127             0.052759                -0.052963      -0.005220  \n",
            "9  -0.024993             0.020655                 0.099241       0.023775  \n",
            "10  0.033914            -0.002592                -0.025953      -0.063209  \n",
            "11  0.000779             0.000360                -0.054540      -0.001078  \n",
            "12  0.041277            -0.039493                -0.059471      -0.021788  \n",
            "13  0.052322            -0.039493                -0.041176       0.007207  \n",
            "14  0.052322            -0.039493                -0.030748       0.003064  \n",
            "15 -0.002903            -0.002592                -0.011897      -0.038357  \n",
            "16 -0.050764            -0.002592                -0.059471      -0.021788  \n",
            "17  0.015505            -0.039493                -0.041176      -0.071494  \n",
            "18 -0.024993            -0.011080                -0.046883       0.015491  \n",
            "19 -0.054446            -0.002592                 0.042897      -0.083920  \n"
          ]
        }
      ],
      "source": [
        "train_size = 20\n",
        "column_names = ['age_years',\n",
        "                'sex',\n",
        "                'BMI',\n",
        "                'Average_BP',\n",
        "                'serum_cholesterol',\n",
        "                'LDL',\n",
        "                'HDL',\n",
        "                'total_chol_over_HDL',\n",
        "                'log_serum_triglycerides',\n",
        "                'Glucose_level']\n",
        "\n",
        "diabetes_test, diabetes_train = train_test_split(datasets.load_diabetes()['data'], train_size=train_size)\n",
        "\n",
        "diabetes_train = pd.DataFrame(diabetes_train, columns=column_names)\n",
        "diabetes_test = pd.DataFrame(diabetes_test, columns=column_names)\n",
        "print('Dimensions of training data frame = ' + str(diabetes_train.shape))\n",
        "print(diabetes_test)"
      ]
    },
    {
      "cell_type": "markdown",
      "metadata": {
        "id": "WpIF2Vn7YIf-"
      },
      "source": [
        "Notice that each of the observations is a numeric vector with 10 variables. These variables have all be standardized.    "
      ]
    },
    {
      "cell_type": "markdown",
      "metadata": {
        "id": "cDtKeJkwYIf-"
      },
      "source": [
        "### Constructing and querying the KD-Tree   \n",
        "\n",
        "The code in the cell below constructs the KD-tree as a KD-tree object with the required arguments. Execute the code."
      ]
    },
    {
      "cell_type": "code",
      "execution_count": 3,
      "metadata": {
        "colab": {
          "base_uri": "https://localhost:8080/"
        },
        "id": "PKtANt7dYIf-",
        "outputId": "48a9de33-fbb7-4c6f-a864-90ded43be9c1"
      },
      "outputs": [
        {
          "output_type": "stream",
          "name": "stdout",
          "text": [
            "CPU times: user 3.77 ms, sys: 10 µs, total: 3.78 ms\n",
            "Wall time: 12.7 ms\n"
          ]
        }
      ],
      "source": [
        "%time KD_tree = KDTree(diabetes_train, leaf_size=10, metric='euclidean')"
      ]
    },
    {
      "cell_type": "markdown",
      "metadata": {
        "id": "IWugZT5tYIf-"
      },
      "source": [
        "Notice how quickly the tree was constructed. This should not be surprising given the small data set and low dimensionality of the data.   \n",
        "\n",
        "With the tree constructed we can now query the tree with the test data. The number of near neighbors is specified as 1 so that the query returns the single nearest neighbors.    \n",
        "\n",
        "> **Note:** In this case we are interested in similarity with each of the observations used to construct the KD-tree, so we use $k=1$ nearest neighbors. For other purposes, such as constructing a nearest neighbor graph, a larger value of $k$ is used. We will encounter a number algorithms using nearest neighbor graphs in subsequent lessons.   "
      ]
    },
    {
      "cell_type": "code",
      "execution_count": 4,
      "metadata": {
        "colab": {
          "base_uri": "https://localhost:8080/",
          "height": 711
        },
        "id": "FdbI_OmzYIf-",
        "outputId": "d86d8b19-47a6-4e67-b38f-9d24447ee559"
      },
      "outputs": [
        {
          "output_type": "stream",
          "name": "stdout",
          "text": [
            "CPU times: user 3.06 ms, sys: 186 µs, total: 3.24 ms\n",
            "Wall time: 20.2 ms\n"
          ]
        },
        {
          "output_type": "execute_result",
          "data": {
            "text/plain": [
              "    Nearest Neighbor  Distance\n",
              "14                39  0.043343\n",
              "18               333  0.045836\n",
              "6                 36  0.046689\n",
              "1                 65  0.046869\n",
              "13               197  0.047649\n",
              "3                 50  0.053443\n",
              "15               350  0.054334\n",
              "12                21  0.055637\n",
              "5                137  0.058744\n",
              "7                415  0.060016\n",
              "8                 37  0.067077\n",
              "9                146  0.067569\n",
              "16               333  0.072292\n",
              "4                 98  0.072621\n",
              "17               365  0.079680\n",
              "10               142  0.083790\n",
              "11               103  0.093236\n",
              "0                349  0.093352\n",
              "2                121  0.095511\n",
              "19               295  0.107390"
            ],
            "text/html": [
              "\n",
              "  <div id=\"df-6f2f27be-0c89-42d3-b4ed-c4f4cbb95726\" class=\"colab-df-container\">\n",
              "    <div>\n",
              "<style scoped>\n",
              "    .dataframe tbody tr th:only-of-type {\n",
              "        vertical-align: middle;\n",
              "    }\n",
              "\n",
              "    .dataframe tbody tr th {\n",
              "        vertical-align: top;\n",
              "    }\n",
              "\n",
              "    .dataframe thead th {\n",
              "        text-align: right;\n",
              "    }\n",
              "</style>\n",
              "<table border=\"1\" class=\"dataframe\">\n",
              "  <thead>\n",
              "    <tr style=\"text-align: right;\">\n",
              "      <th></th>\n",
              "      <th>Nearest Neighbor</th>\n",
              "      <th>Distance</th>\n",
              "    </tr>\n",
              "  </thead>\n",
              "  <tbody>\n",
              "    <tr>\n",
              "      <th>14</th>\n",
              "      <td>39</td>\n",
              "      <td>0.043343</td>\n",
              "    </tr>\n",
              "    <tr>\n",
              "      <th>18</th>\n",
              "      <td>333</td>\n",
              "      <td>0.045836</td>\n",
              "    </tr>\n",
              "    <tr>\n",
              "      <th>6</th>\n",
              "      <td>36</td>\n",
              "      <td>0.046689</td>\n",
              "    </tr>\n",
              "    <tr>\n",
              "      <th>1</th>\n",
              "      <td>65</td>\n",
              "      <td>0.046869</td>\n",
              "    </tr>\n",
              "    <tr>\n",
              "      <th>13</th>\n",
              "      <td>197</td>\n",
              "      <td>0.047649</td>\n",
              "    </tr>\n",
              "    <tr>\n",
              "      <th>3</th>\n",
              "      <td>50</td>\n",
              "      <td>0.053443</td>\n",
              "    </tr>\n",
              "    <tr>\n",
              "      <th>15</th>\n",
              "      <td>350</td>\n",
              "      <td>0.054334</td>\n",
              "    </tr>\n",
              "    <tr>\n",
              "      <th>12</th>\n",
              "      <td>21</td>\n",
              "      <td>0.055637</td>\n",
              "    </tr>\n",
              "    <tr>\n",
              "      <th>5</th>\n",
              "      <td>137</td>\n",
              "      <td>0.058744</td>\n",
              "    </tr>\n",
              "    <tr>\n",
              "      <th>7</th>\n",
              "      <td>415</td>\n",
              "      <td>0.060016</td>\n",
              "    </tr>\n",
              "    <tr>\n",
              "      <th>8</th>\n",
              "      <td>37</td>\n",
              "      <td>0.067077</td>\n",
              "    </tr>\n",
              "    <tr>\n",
              "      <th>9</th>\n",
              "      <td>146</td>\n",
              "      <td>0.067569</td>\n",
              "    </tr>\n",
              "    <tr>\n",
              "      <th>16</th>\n",
              "      <td>333</td>\n",
              "      <td>0.072292</td>\n",
              "    </tr>\n",
              "    <tr>\n",
              "      <th>4</th>\n",
              "      <td>98</td>\n",
              "      <td>0.072621</td>\n",
              "    </tr>\n",
              "    <tr>\n",
              "      <th>17</th>\n",
              "      <td>365</td>\n",
              "      <td>0.079680</td>\n",
              "    </tr>\n",
              "    <tr>\n",
              "      <th>10</th>\n",
              "      <td>142</td>\n",
              "      <td>0.083790</td>\n",
              "    </tr>\n",
              "    <tr>\n",
              "      <th>11</th>\n",
              "      <td>103</td>\n",
              "      <td>0.093236</td>\n",
              "    </tr>\n",
              "    <tr>\n",
              "      <th>0</th>\n",
              "      <td>349</td>\n",
              "      <td>0.093352</td>\n",
              "    </tr>\n",
              "    <tr>\n",
              "      <th>2</th>\n",
              "      <td>121</td>\n",
              "      <td>0.095511</td>\n",
              "    </tr>\n",
              "    <tr>\n",
              "      <th>19</th>\n",
              "      <td>295</td>\n",
              "      <td>0.107390</td>\n",
              "    </tr>\n",
              "  </tbody>\n",
              "</table>\n",
              "</div>\n",
              "    <div class=\"colab-df-buttons\">\n",
              "\n",
              "  <div class=\"colab-df-container\">\n",
              "    <button class=\"colab-df-convert\" onclick=\"convertToInteractive('df-6f2f27be-0c89-42d3-b4ed-c4f4cbb95726')\"\n",
              "            title=\"Convert this dataframe to an interactive table.\"\n",
              "            style=\"display:none;\">\n",
              "\n",
              "  <svg xmlns=\"http://www.w3.org/2000/svg\" height=\"24px\" viewBox=\"0 -960 960 960\">\n",
              "    <path d=\"M120-120v-720h720v720H120Zm60-500h600v-160H180v160Zm220 220h160v-160H400v160Zm0 220h160v-160H400v160ZM180-400h160v-160H180v160Zm440 0h160v-160H620v160ZM180-180h160v-160H180v160Zm440 0h160v-160H620v160Z\"/>\n",
              "  </svg>\n",
              "    </button>\n",
              "\n",
              "  <style>\n",
              "    .colab-df-container {\n",
              "      display:flex;\n",
              "      gap: 12px;\n",
              "    }\n",
              "\n",
              "    .colab-df-convert {\n",
              "      background-color: #E8F0FE;\n",
              "      border: none;\n",
              "      border-radius: 50%;\n",
              "      cursor: pointer;\n",
              "      display: none;\n",
              "      fill: #1967D2;\n",
              "      height: 32px;\n",
              "      padding: 0 0 0 0;\n",
              "      width: 32px;\n",
              "    }\n",
              "\n",
              "    .colab-df-convert:hover {\n",
              "      background-color: #E2EBFA;\n",
              "      box-shadow: 0px 1px 2px rgba(60, 64, 67, 0.3), 0px 1px 3px 1px rgba(60, 64, 67, 0.15);\n",
              "      fill: #174EA6;\n",
              "    }\n",
              "\n",
              "    .colab-df-buttons div {\n",
              "      margin-bottom: 4px;\n",
              "    }\n",
              "\n",
              "    [theme=dark] .colab-df-convert {\n",
              "      background-color: #3B4455;\n",
              "      fill: #D2E3FC;\n",
              "    }\n",
              "\n",
              "    [theme=dark] .colab-df-convert:hover {\n",
              "      background-color: #434B5C;\n",
              "      box-shadow: 0px 1px 3px 1px rgba(0, 0, 0, 0.15);\n",
              "      filter: drop-shadow(0px 1px 2px rgba(0, 0, 0, 0.3));\n",
              "      fill: #FFFFFF;\n",
              "    }\n",
              "  </style>\n",
              "\n",
              "    <script>\n",
              "      const buttonEl =\n",
              "        document.querySelector('#df-6f2f27be-0c89-42d3-b4ed-c4f4cbb95726 button.colab-df-convert');\n",
              "      buttonEl.style.display =\n",
              "        google.colab.kernel.accessAllowed ? 'block' : 'none';\n",
              "\n",
              "      async function convertToInteractive(key) {\n",
              "        const element = document.querySelector('#df-6f2f27be-0c89-42d3-b4ed-c4f4cbb95726');\n",
              "        const dataTable =\n",
              "          await google.colab.kernel.invokeFunction('convertToInteractive',\n",
              "                                                    [key], {});\n",
              "        if (!dataTable) return;\n",
              "\n",
              "        const docLinkHtml = 'Like what you see? Visit the ' +\n",
              "          '<a target=\"_blank\" href=https://colab.research.google.com/notebooks/data_table.ipynb>data table notebook</a>'\n",
              "          + ' to learn more about interactive tables.';\n",
              "        element.innerHTML = '';\n",
              "        dataTable['output_type'] = 'display_data';\n",
              "        await google.colab.output.renderOutput(dataTable, element);\n",
              "        const docLink = document.createElement('div');\n",
              "        docLink.innerHTML = docLinkHtml;\n",
              "        element.appendChild(docLink);\n",
              "      }\n",
              "    </script>\n",
              "  </div>\n",
              "\n",
              "\n",
              "<div id=\"df-95591c3c-23e0-484a-bc15-c52bca3e3996\">\n",
              "  <button class=\"colab-df-quickchart\" onclick=\"quickchart('df-95591c3c-23e0-484a-bc15-c52bca3e3996')\"\n",
              "            title=\"Suggest charts\"\n",
              "            style=\"display:none;\">\n",
              "\n",
              "<svg xmlns=\"http://www.w3.org/2000/svg\" height=\"24px\"viewBox=\"0 0 24 24\"\n",
              "     width=\"24px\">\n",
              "    <g>\n",
              "        <path d=\"M19 3H5c-1.1 0-2 .9-2 2v14c0 1.1.9 2 2 2h14c1.1 0 2-.9 2-2V5c0-1.1-.9-2-2-2zM9 17H7v-7h2v7zm4 0h-2V7h2v10zm4 0h-2v-4h2v4z\"/>\n",
              "    </g>\n",
              "</svg>\n",
              "  </button>\n",
              "\n",
              "<style>\n",
              "  .colab-df-quickchart {\n",
              "      --bg-color: #E8F0FE;\n",
              "      --fill-color: #1967D2;\n",
              "      --hover-bg-color: #E2EBFA;\n",
              "      --hover-fill-color: #174EA6;\n",
              "      --disabled-fill-color: #AAA;\n",
              "      --disabled-bg-color: #DDD;\n",
              "  }\n",
              "\n",
              "  [theme=dark] .colab-df-quickchart {\n",
              "      --bg-color: #3B4455;\n",
              "      --fill-color: #D2E3FC;\n",
              "      --hover-bg-color: #434B5C;\n",
              "      --hover-fill-color: #FFFFFF;\n",
              "      --disabled-bg-color: #3B4455;\n",
              "      --disabled-fill-color: #666;\n",
              "  }\n",
              "\n",
              "  .colab-df-quickchart {\n",
              "    background-color: var(--bg-color);\n",
              "    border: none;\n",
              "    border-radius: 50%;\n",
              "    cursor: pointer;\n",
              "    display: none;\n",
              "    fill: var(--fill-color);\n",
              "    height: 32px;\n",
              "    padding: 0;\n",
              "    width: 32px;\n",
              "  }\n",
              "\n",
              "  .colab-df-quickchart:hover {\n",
              "    background-color: var(--hover-bg-color);\n",
              "    box-shadow: 0 1px 2px rgba(60, 64, 67, 0.3), 0 1px 3px 1px rgba(60, 64, 67, 0.15);\n",
              "    fill: var(--button-hover-fill-color);\n",
              "  }\n",
              "\n",
              "  .colab-df-quickchart-complete:disabled,\n",
              "  .colab-df-quickchart-complete:disabled:hover {\n",
              "    background-color: var(--disabled-bg-color);\n",
              "    fill: var(--disabled-fill-color);\n",
              "    box-shadow: none;\n",
              "  }\n",
              "\n",
              "  .colab-df-spinner {\n",
              "    border: 2px solid var(--fill-color);\n",
              "    border-color: transparent;\n",
              "    border-bottom-color: var(--fill-color);\n",
              "    animation:\n",
              "      spin 1s steps(1) infinite;\n",
              "  }\n",
              "\n",
              "  @keyframes spin {\n",
              "    0% {\n",
              "      border-color: transparent;\n",
              "      border-bottom-color: var(--fill-color);\n",
              "      border-left-color: var(--fill-color);\n",
              "    }\n",
              "    20% {\n",
              "      border-color: transparent;\n",
              "      border-left-color: var(--fill-color);\n",
              "      border-top-color: var(--fill-color);\n",
              "    }\n",
              "    30% {\n",
              "      border-color: transparent;\n",
              "      border-left-color: var(--fill-color);\n",
              "      border-top-color: var(--fill-color);\n",
              "      border-right-color: var(--fill-color);\n",
              "    }\n",
              "    40% {\n",
              "      border-color: transparent;\n",
              "      border-right-color: var(--fill-color);\n",
              "      border-top-color: var(--fill-color);\n",
              "    }\n",
              "    60% {\n",
              "      border-color: transparent;\n",
              "      border-right-color: var(--fill-color);\n",
              "    }\n",
              "    80% {\n",
              "      border-color: transparent;\n",
              "      border-right-color: var(--fill-color);\n",
              "      border-bottom-color: var(--fill-color);\n",
              "    }\n",
              "    90% {\n",
              "      border-color: transparent;\n",
              "      border-bottom-color: var(--fill-color);\n",
              "    }\n",
              "  }\n",
              "</style>\n",
              "\n",
              "  <script>\n",
              "    async function quickchart(key) {\n",
              "      const quickchartButtonEl =\n",
              "        document.querySelector('#' + key + ' button');\n",
              "      quickchartButtonEl.disabled = true;  // To prevent multiple clicks.\n",
              "      quickchartButtonEl.classList.add('colab-df-spinner');\n",
              "      try {\n",
              "        const charts = await google.colab.kernel.invokeFunction(\n",
              "            'suggestCharts', [key], {});\n",
              "      } catch (error) {\n",
              "        console.error('Error during call to suggestCharts:', error);\n",
              "      }\n",
              "      quickchartButtonEl.classList.remove('colab-df-spinner');\n",
              "      quickchartButtonEl.classList.add('colab-df-quickchart-complete');\n",
              "    }\n",
              "    (() => {\n",
              "      let quickchartButtonEl =\n",
              "        document.querySelector('#df-95591c3c-23e0-484a-bc15-c52bca3e3996 button');\n",
              "      quickchartButtonEl.style.display =\n",
              "        google.colab.kernel.accessAllowed ? 'block' : 'none';\n",
              "    })();\n",
              "  </script>\n",
              "</div>\n",
              "\n",
              "    </div>\n",
              "  </div>\n"
            ],
            "application/vnd.google.colaboratory.intrinsic+json": {
              "type": "dataframe",
              "summary": "{\n  \"name\": \"distance_frame\",\n  \"rows\": 20,\n  \"fields\": [\n    {\n      \"column\": \"Nearest Neighbor\",\n      \"properties\": {\n        \"dtype\": \"number\",\n        \"std\": 134,\n        \"min\": 21,\n        \"max\": 415,\n        \"num_unique_values\": 19,\n        \"samples\": [\n          39,\n          50,\n          146\n        ],\n        \"semantic_type\": \"\",\n        \"description\": \"\"\n      }\n    },\n    {\n      \"column\": \"Distance\",\n      \"properties\": {\n        \"dtype\": \"number\",\n        \"std\": 0.01935594600094599,\n        \"min\": 0.043342589039392324,\n        \"max\": 0.10739026977543163,\n        \"num_unique_values\": 20,\n        \"samples\": [\n          0.043342589039392324,\n          0.0933515012253449,\n          0.08379044080648637\n        ],\n        \"semantic_type\": \"\",\n        \"description\": \"\"\n      }\n    }\n  ]\n}"
            }
          },
          "metadata": {},
          "execution_count": 4
        }
      ],
      "source": [
        "np.random.seed(4545)\n",
        "%time distances, neighbors = KD_tree.query(diabetes_test, k=1)\n",
        "distance_frame = pd.DataFrame({'Nearest Neighbor':neighbors.ravel(), 'Distance':distances.ravel()})\n",
        "distance_frame.sort_values('Distance')"
      ]
    },
    {
      "cell_type": "markdown",
      "metadata": {
        "id": "tguyPgf7YIf-"
      },
      "source": [
        "Next print some summary statistics for the 20 queries just performed on the KD-tree by executing the code in the cell below.  "
      ]
    },
    {
      "cell_type": "code",
      "execution_count": 5,
      "metadata": {
        "colab": {
          "base_uri": "https://localhost:8080/"
        },
        "id": "LmKKq63dYIf_",
        "outputId": "82e289bf-eaf1-42c9-f4d8-6b73db2a119c"
      },
      "outputs": [
        {
          "output_type": "stream",
          "name": "stdout",
          "text": [
            "Stats for the tree\n",
            "Number of trims =   183 \n",
            "number of leaves =   256 \n",
            "number of splits =    419\n"
          ]
        }
      ],
      "source": [
        "print(\"Stats for the tree\")\n",
        "print(\"Number of trims = %5d \\nnumber of leaves = %5d \\nnumber of splits = %6d\" % KD_tree.get_tree_stats())"
      ]
    },
    {
      "cell_type": "markdown",
      "metadata": {
        "id": "cLgghv-LYIf_"
      },
      "source": [
        "Finally, we can filter by similarities to find the nodes of the KD-tree that are similar to the new observations in the test dataset by applying a threshold to the distance measure. For the purpose of demonstration, we select an arbitrary distance threshold to filter on. Execute the code in the cell below to apply a similarity threshold and display the results.   "
      ]
    },
    {
      "cell_type": "code",
      "execution_count": 6,
      "metadata": {
        "colab": {
          "base_uri": "https://localhost:8080/"
        },
        "id": "IChTbEqvYIf_",
        "outputId": "35c15741-e284-4dfc-f001-b02dd5d30612"
      },
      "outputs": [
        {
          "output_type": "stream",
          "name": "stdout",
          "text": [
            "With divisor = 2.5 and distance threshold = 0.043\n",
            "\n",
            "The total number of similar cases = 0\n",
            "Empty DataFrame\n",
            "Columns: [Sample, Neighbor, Distance]\n",
            "Index: []\n"
          ]
        }
      ],
      "source": [
        "divisor = 2.5\n",
        "distance_threshold = round(np.max(distance_frame.Distance)/divisor, 4)\n",
        "print('With divisor = ' + str(divisor) + ' and distance threshold = ' + str(distance_threshold))\n",
        "mask = distances < distance_threshold\n",
        "\n",
        "n_samples = len(diabetes_test)\n",
        "similarity_results = pd.DataFrame({'Sample':range(n_samples), 'Neighbor':neighbors.ravel(), 'Distance':distance_frame.Distance}).loc[mask.ravel(),:]\n",
        "similarity_results.sort_values('Distance', inplace=True)\n",
        "\n",
        "print('\\nThe total number of similar cases = ' + str(sum(mask)[0]))\n",
        "print(similarity_results)"
      ]
    },
    {
      "cell_type": "markdown",
      "metadata": {
        "id": "II0av74BYIf_"
      },
      "source": [
        "> **Exercise 03-1:** Examine the results of the similarity search using the KD-tree algorithm and answer the following questions:\n",
        "> 1. Given the number of splits (nodes) and number of leaves of the KD-tree from the statistics printed above, do you think this tree is shallow and wide or narrow and deep, and why?         "
      ]
    },
    {
      "cell_type": "markdown",
      "metadata": {
        "id": "oXuOpQ7IYIf_"
      },
      "source": [
        "> **Answer:**\n",
        "\n",
        "> 1. Given the KD-tree statistics, with 364 splits (nodes) and 225 leaves, the tree is more likely narrow and deep. This is because the high number of splits relative to the number of leaves indicates a greater depth with more hierarchical levels. The tree has undergone substantial divisions, forming a deeper structure rather than a wide spread, which is typical for efficient partitioning and search in high-dimensional spaces."
      ]
    },
    {
      "cell_type": "markdown",
      "metadata": {
        "id": "H0njhxDWYIf_"
      },
      "source": [
        "> 2. If `[100, 1000, 10000, 100000, 1000000]` times as many samples had been used construct and query the KD-tree, what is the expected wall clock tome required for construction and query of the KD-tree? To answer this question you need to compute the compuational complexity for these operations relative to the sames used in the running example. Use the cell below to compute and display a table of the results of your calculation. Your table should have columns showing the multiplier, the expected construction time annd the expected query time.      "
      ]
    },
    {
      "cell_type": "code",
      "execution_count": 7,
      "metadata": {
        "colab": {
          "base_uri": "https://localhost:8080/",
          "height": 237
        },
        "id": "dcl7Z8PfYIf_",
        "outputId": "36d5835e-8a56-4ad4-9a35-8bb63a92af10"
      },
      "outputs": [
        {
          "output_type": "execute_result",
          "data": {
            "text/plain": [
              "   Multiplier  Construction Time (sec)  Query Time (sec)\n",
              "0         1.0             2.400000e-03          0.002000\n",
              "1       100.0             4.605170e+02          4.605170\n",
              "2      1000.0             6.907755e+03          6.907755\n",
              "3     10000.0             9.210340e+04          9.210340\n",
              "4    100000.0             1.151293e+06         11.512925\n",
              "5   1000000.0             1.381551e+07         13.815511"
            ],
            "text/html": [
              "\n",
              "  <div id=\"df-649c22f7-0fd5-458d-9b86-ec7d3795f3fb\" class=\"colab-df-container\">\n",
              "    <div>\n",
              "<style scoped>\n",
              "    .dataframe tbody tr th:only-of-type {\n",
              "        vertical-align: middle;\n",
              "    }\n",
              "\n",
              "    .dataframe tbody tr th {\n",
              "        vertical-align: top;\n",
              "    }\n",
              "\n",
              "    .dataframe thead th {\n",
              "        text-align: right;\n",
              "    }\n",
              "</style>\n",
              "<table border=\"1\" class=\"dataframe\">\n",
              "  <thead>\n",
              "    <tr style=\"text-align: right;\">\n",
              "      <th></th>\n",
              "      <th>Multiplier</th>\n",
              "      <th>Construction Time (sec)</th>\n",
              "      <th>Query Time (sec)</th>\n",
              "    </tr>\n",
              "  </thead>\n",
              "  <tbody>\n",
              "    <tr>\n",
              "      <th>0</th>\n",
              "      <td>1.0</td>\n",
              "      <td>2.400000e-03</td>\n",
              "      <td>0.002000</td>\n",
              "    </tr>\n",
              "    <tr>\n",
              "      <th>1</th>\n",
              "      <td>100.0</td>\n",
              "      <td>4.605170e+02</td>\n",
              "      <td>4.605170</td>\n",
              "    </tr>\n",
              "    <tr>\n",
              "      <th>2</th>\n",
              "      <td>1000.0</td>\n",
              "      <td>6.907755e+03</td>\n",
              "      <td>6.907755</td>\n",
              "    </tr>\n",
              "    <tr>\n",
              "      <th>3</th>\n",
              "      <td>10000.0</td>\n",
              "      <td>9.210340e+04</td>\n",
              "      <td>9.210340</td>\n",
              "    </tr>\n",
              "    <tr>\n",
              "      <th>4</th>\n",
              "      <td>100000.0</td>\n",
              "      <td>1.151293e+06</td>\n",
              "      <td>11.512925</td>\n",
              "    </tr>\n",
              "    <tr>\n",
              "      <th>5</th>\n",
              "      <td>1000000.0</td>\n",
              "      <td>1.381551e+07</td>\n",
              "      <td>13.815511</td>\n",
              "    </tr>\n",
              "  </tbody>\n",
              "</table>\n",
              "</div>\n",
              "    <div class=\"colab-df-buttons\">\n",
              "\n",
              "  <div class=\"colab-df-container\">\n",
              "    <button class=\"colab-df-convert\" onclick=\"convertToInteractive('df-649c22f7-0fd5-458d-9b86-ec7d3795f3fb')\"\n",
              "            title=\"Convert this dataframe to an interactive table.\"\n",
              "            style=\"display:none;\">\n",
              "\n",
              "  <svg xmlns=\"http://www.w3.org/2000/svg\" height=\"24px\" viewBox=\"0 -960 960 960\">\n",
              "    <path d=\"M120-120v-720h720v720H120Zm60-500h600v-160H180v160Zm220 220h160v-160H400v160Zm0 220h160v-160H400v160ZM180-400h160v-160H180v160Zm440 0h160v-160H620v160ZM180-180h160v-160H180v160Zm440 0h160v-160H620v160Z\"/>\n",
              "  </svg>\n",
              "    </button>\n",
              "\n",
              "  <style>\n",
              "    .colab-df-container {\n",
              "      display:flex;\n",
              "      gap: 12px;\n",
              "    }\n",
              "\n",
              "    .colab-df-convert {\n",
              "      background-color: #E8F0FE;\n",
              "      border: none;\n",
              "      border-radius: 50%;\n",
              "      cursor: pointer;\n",
              "      display: none;\n",
              "      fill: #1967D2;\n",
              "      height: 32px;\n",
              "      padding: 0 0 0 0;\n",
              "      width: 32px;\n",
              "    }\n",
              "\n",
              "    .colab-df-convert:hover {\n",
              "      background-color: #E2EBFA;\n",
              "      box-shadow: 0px 1px 2px rgba(60, 64, 67, 0.3), 0px 1px 3px 1px rgba(60, 64, 67, 0.15);\n",
              "      fill: #174EA6;\n",
              "    }\n",
              "\n",
              "    .colab-df-buttons div {\n",
              "      margin-bottom: 4px;\n",
              "    }\n",
              "\n",
              "    [theme=dark] .colab-df-convert {\n",
              "      background-color: #3B4455;\n",
              "      fill: #D2E3FC;\n",
              "    }\n",
              "\n",
              "    [theme=dark] .colab-df-convert:hover {\n",
              "      background-color: #434B5C;\n",
              "      box-shadow: 0px 1px 3px 1px rgba(0, 0, 0, 0.15);\n",
              "      filter: drop-shadow(0px 1px 2px rgba(0, 0, 0, 0.3));\n",
              "      fill: #FFFFFF;\n",
              "    }\n",
              "  </style>\n",
              "\n",
              "    <script>\n",
              "      const buttonEl =\n",
              "        document.querySelector('#df-649c22f7-0fd5-458d-9b86-ec7d3795f3fb button.colab-df-convert');\n",
              "      buttonEl.style.display =\n",
              "        google.colab.kernel.accessAllowed ? 'block' : 'none';\n",
              "\n",
              "      async function convertToInteractive(key) {\n",
              "        const element = document.querySelector('#df-649c22f7-0fd5-458d-9b86-ec7d3795f3fb');\n",
              "        const dataTable =\n",
              "          await google.colab.kernel.invokeFunction('convertToInteractive',\n",
              "                                                    [key], {});\n",
              "        if (!dataTable) return;\n",
              "\n",
              "        const docLinkHtml = 'Like what you see? Visit the ' +\n",
              "          '<a target=\"_blank\" href=https://colab.research.google.com/notebooks/data_table.ipynb>data table notebook</a>'\n",
              "          + ' to learn more about interactive tables.';\n",
              "        element.innerHTML = '';\n",
              "        dataTable['output_type'] = 'display_data';\n",
              "        await google.colab.output.renderOutput(dataTable, element);\n",
              "        const docLink = document.createElement('div');\n",
              "        docLink.innerHTML = docLinkHtml;\n",
              "        element.appendChild(docLink);\n",
              "      }\n",
              "    </script>\n",
              "  </div>\n",
              "\n",
              "\n",
              "<div id=\"df-19ab2874-ae7d-4568-86ec-3ca2891a2dde\">\n",
              "  <button class=\"colab-df-quickchart\" onclick=\"quickchart('df-19ab2874-ae7d-4568-86ec-3ca2891a2dde')\"\n",
              "            title=\"Suggest charts\"\n",
              "            style=\"display:none;\">\n",
              "\n",
              "<svg xmlns=\"http://www.w3.org/2000/svg\" height=\"24px\"viewBox=\"0 0 24 24\"\n",
              "     width=\"24px\">\n",
              "    <g>\n",
              "        <path d=\"M19 3H5c-1.1 0-2 .9-2 2v14c0 1.1.9 2 2 2h14c1.1 0 2-.9 2-2V5c0-1.1-.9-2-2-2zM9 17H7v-7h2v7zm4 0h-2V7h2v10zm4 0h-2v-4h2v4z\"/>\n",
              "    </g>\n",
              "</svg>\n",
              "  </button>\n",
              "\n",
              "<style>\n",
              "  .colab-df-quickchart {\n",
              "      --bg-color: #E8F0FE;\n",
              "      --fill-color: #1967D2;\n",
              "      --hover-bg-color: #E2EBFA;\n",
              "      --hover-fill-color: #174EA6;\n",
              "      --disabled-fill-color: #AAA;\n",
              "      --disabled-bg-color: #DDD;\n",
              "  }\n",
              "\n",
              "  [theme=dark] .colab-df-quickchart {\n",
              "      --bg-color: #3B4455;\n",
              "      --fill-color: #D2E3FC;\n",
              "      --hover-bg-color: #434B5C;\n",
              "      --hover-fill-color: #FFFFFF;\n",
              "      --disabled-bg-color: #3B4455;\n",
              "      --disabled-fill-color: #666;\n",
              "  }\n",
              "\n",
              "  .colab-df-quickchart {\n",
              "    background-color: var(--bg-color);\n",
              "    border: none;\n",
              "    border-radius: 50%;\n",
              "    cursor: pointer;\n",
              "    display: none;\n",
              "    fill: var(--fill-color);\n",
              "    height: 32px;\n",
              "    padding: 0;\n",
              "    width: 32px;\n",
              "  }\n",
              "\n",
              "  .colab-df-quickchart:hover {\n",
              "    background-color: var(--hover-bg-color);\n",
              "    box-shadow: 0 1px 2px rgba(60, 64, 67, 0.3), 0 1px 3px 1px rgba(60, 64, 67, 0.15);\n",
              "    fill: var(--button-hover-fill-color);\n",
              "  }\n",
              "\n",
              "  .colab-df-quickchart-complete:disabled,\n",
              "  .colab-df-quickchart-complete:disabled:hover {\n",
              "    background-color: var(--disabled-bg-color);\n",
              "    fill: var(--disabled-fill-color);\n",
              "    box-shadow: none;\n",
              "  }\n",
              "\n",
              "  .colab-df-spinner {\n",
              "    border: 2px solid var(--fill-color);\n",
              "    border-color: transparent;\n",
              "    border-bottom-color: var(--fill-color);\n",
              "    animation:\n",
              "      spin 1s steps(1) infinite;\n",
              "  }\n",
              "\n",
              "  @keyframes spin {\n",
              "    0% {\n",
              "      border-color: transparent;\n",
              "      border-bottom-color: var(--fill-color);\n",
              "      border-left-color: var(--fill-color);\n",
              "    }\n",
              "    20% {\n",
              "      border-color: transparent;\n",
              "      border-left-color: var(--fill-color);\n",
              "      border-top-color: var(--fill-color);\n",
              "    }\n",
              "    30% {\n",
              "      border-color: transparent;\n",
              "      border-left-color: var(--fill-color);\n",
              "      border-top-color: var(--fill-color);\n",
              "      border-right-color: var(--fill-color);\n",
              "    }\n",
              "    40% {\n",
              "      border-color: transparent;\n",
              "      border-right-color: var(--fill-color);\n",
              "      border-top-color: var(--fill-color);\n",
              "    }\n",
              "    60% {\n",
              "      border-color: transparent;\n",
              "      border-right-color: var(--fill-color);\n",
              "    }\n",
              "    80% {\n",
              "      border-color: transparent;\n",
              "      border-right-color: var(--fill-color);\n",
              "      border-bottom-color: var(--fill-color);\n",
              "    }\n",
              "    90% {\n",
              "      border-color: transparent;\n",
              "      border-bottom-color: var(--fill-color);\n",
              "    }\n",
              "  }\n",
              "</style>\n",
              "\n",
              "  <script>\n",
              "    async function quickchart(key) {\n",
              "      const quickchartButtonEl =\n",
              "        document.querySelector('#' + key + ' button');\n",
              "      quickchartButtonEl.disabled = true;  // To prevent multiple clicks.\n",
              "      quickchartButtonEl.classList.add('colab-df-spinner');\n",
              "      try {\n",
              "        const charts = await google.colab.kernel.invokeFunction(\n",
              "            'suggestCharts', [key], {});\n",
              "      } catch (error) {\n",
              "        console.error('Error during call to suggestCharts:', error);\n",
              "      }\n",
              "      quickchartButtonEl.classList.remove('colab-df-spinner');\n",
              "      quickchartButtonEl.classList.add('colab-df-quickchart-complete');\n",
              "    }\n",
              "    (() => {\n",
              "      let quickchartButtonEl =\n",
              "        document.querySelector('#df-19ab2874-ae7d-4568-86ec-3ca2891a2dde button');\n",
              "      quickchartButtonEl.style.display =\n",
              "        google.colab.kernel.accessAllowed ? 'block' : 'none';\n",
              "    })();\n",
              "  </script>\n",
              "</div>\n",
              "\n",
              "  <div id=\"id_5be98a7f-67e4-4d58-815c-1d34d1dbb241\">\n",
              "    <style>\n",
              "      .colab-df-generate {\n",
              "        background-color: #E8F0FE;\n",
              "        border: none;\n",
              "        border-radius: 50%;\n",
              "        cursor: pointer;\n",
              "        display: none;\n",
              "        fill: #1967D2;\n",
              "        height: 32px;\n",
              "        padding: 0 0 0 0;\n",
              "        width: 32px;\n",
              "      }\n",
              "\n",
              "      .colab-df-generate:hover {\n",
              "        background-color: #E2EBFA;\n",
              "        box-shadow: 0px 1px 2px rgba(60, 64, 67, 0.3), 0px 1px 3px 1px rgba(60, 64, 67, 0.15);\n",
              "        fill: #174EA6;\n",
              "      }\n",
              "\n",
              "      [theme=dark] .colab-df-generate {\n",
              "        background-color: #3B4455;\n",
              "        fill: #D2E3FC;\n",
              "      }\n",
              "\n",
              "      [theme=dark] .colab-df-generate:hover {\n",
              "        background-color: #434B5C;\n",
              "        box-shadow: 0px 1px 3px 1px rgba(0, 0, 0, 0.15);\n",
              "        filter: drop-shadow(0px 1px 2px rgba(0, 0, 0, 0.3));\n",
              "        fill: #FFFFFF;\n",
              "      }\n",
              "    </style>\n",
              "    <button class=\"colab-df-generate\" onclick=\"generateWithVariable('time_estimates')\"\n",
              "            title=\"Generate code using this dataframe.\"\n",
              "            style=\"display:none;\">\n",
              "\n",
              "  <svg xmlns=\"http://www.w3.org/2000/svg\" height=\"24px\"viewBox=\"0 0 24 24\"\n",
              "       width=\"24px\">\n",
              "    <path d=\"M7,19H8.4L18.45,9,17,7.55,7,17.6ZM5,21V16.75L18.45,3.32a2,2,0,0,1,2.83,0l1.4,1.43a1.91,1.91,0,0,1,.58,1.4,1.91,1.91,0,0,1-.58,1.4L9.25,21ZM18.45,9,17,7.55Zm-12,3A5.31,5.31,0,0,0,4.9,8.1,5.31,5.31,0,0,0,1,6.5,5.31,5.31,0,0,0,4.9,4.9,5.31,5.31,0,0,0,6.5,1,5.31,5.31,0,0,0,8.1,4.9,5.31,5.31,0,0,0,12,6.5,5.46,5.46,0,0,0,6.5,12Z\"/>\n",
              "  </svg>\n",
              "    </button>\n",
              "    <script>\n",
              "      (() => {\n",
              "      const buttonEl =\n",
              "        document.querySelector('#id_5be98a7f-67e4-4d58-815c-1d34d1dbb241 button.colab-df-generate');\n",
              "      buttonEl.style.display =\n",
              "        google.colab.kernel.accessAllowed ? 'block' : 'none';\n",
              "\n",
              "      buttonEl.onclick = () => {\n",
              "        google.colab.notebook.generateWithVariable('time_estimates');\n",
              "      }\n",
              "      })();\n",
              "    </script>\n",
              "  </div>\n",
              "\n",
              "    </div>\n",
              "  </div>\n"
            ],
            "application/vnd.google.colaboratory.intrinsic+json": {
              "type": "dataframe",
              "variable_name": "time_estimates",
              "summary": "{\n  \"name\": \"time_estimates\",\n  \"rows\": 6,\n  \"fields\": [\n    {\n      \"column\": \"Multiplier\",\n      \"properties\": {\n        \"dtype\": \"number\",\n        \"std\": 401084.38961582637,\n        \"min\": 1.0,\n        \"max\": 1000000.0,\n        \"num_unique_values\": 6,\n        \"samples\": [\n          1.0,\n          100.0,\n          1000000.0\n        ],\n        \"semantic_type\": \"\",\n        \"description\": \"\"\n      }\n    },\n    {\n      \"column\": \"Construction Time (sec)\",\n      \"properties\": {\n        \"dtype\": \"number\",\n        \"std\": 5556441.874055317,\n        \"min\": 0.0024,\n        \"max\": 13815510.557964273,\n        \"num_unique_values\": 6,\n        \"samples\": [\n          0.0024,\n          460.51701859880916,\n          13815510.557964273\n        ],\n        \"semantic_type\": \"\",\n        \"description\": \"\"\n      }\n    },\n    {\n      \"column\": \"Query Time (sec)\",\n      \"properties\": {\n        \"dtype\": \"number\",\n        \"std\": 4.973535123228199,\n        \"min\": 0.002,\n        \"max\": 13.815510557964274,\n        \"num_unique_values\": 6,\n        \"samples\": [\n          0.002,\n          4.605170185988092,\n          13.815510557964274\n        ],\n        \"semantic_type\": \"\",\n        \"description\": \"\"\n      }\n    }\n  ]\n}"
            }
          },
          "metadata": {},
          "execution_count": 7
        }
      ],
      "source": [
        "run_times = [100, 1000, 10000, 100000, 1000000]\n",
        "n_times = len(run_times)\n",
        "initial_construction_time = 2.4e-3\n",
        "initial_query_time = 2.0e-3\n",
        "n_rows = n_times + 1\n",
        "\n",
        "time_estimates = pd.DataFrame({'Multiplier':[np.nan]*n_rows, 'Construction Time (sec)':[np.nan]*n_rows, 'Query Time (sec)':[np.nan]*n_rows})\n",
        "time_estimates.iloc[0,:] = [1, initial_construction_time, initial_query_time]\n",
        "\n",
        "for i in range(n_times):\n",
        "    index = i + 1\n",
        "    time_estimates.iloc[index,:] = [run_times[i], run_times[i] * math.log(run_times[i]), math.log(run_times[i])]\n",
        "time_estimates"
      ]
    },
    {
      "cell_type": "markdown",
      "metadata": {
        "id": "0nEfd83HYIf_"
      },
      "source": [
        "> 2. What does the difference in growth of the construction time and query time tell you about the scalability of $n\\ log(n)$ vs. $log(n)$ compuational complexity?  \n",
        "> 3. There is wide range of nearest nearest neighbor distances found in the similarity search. Filtering by a distance threshold has reduced the number of similar candidates. Consider a case where you need to filter 10,000,000 cases down to 100 most similar to present top a user as search results. Given the scalablity of the query do you think this query and filtering can be done in a real-time maner of less than 20 seconds and why?     "
      ]
    },
    {
      "cell_type": "markdown",
      "metadata": {
        "id": "bq57-gfqYIf_"
      },
      "source": [
        "> **Answers:**\n",
        "\n",
        "> 2. The difference in growth between the construction time (which follows $n$ $log$($n$) complexity) and the query time (which follows $log$($n$) complexity) demonstrates that $log$($n$) scales significantly better. As the number of samples increases, the construction time grows much faster than the query time. This indicates that while building the KD-tree becomes increasingly expensive with larger datasets, querying the tree remains relatively efficient. Therefore, KD-trees are well-suited for scenarios where the construction cost can be amortized over many queries, benefiting from the efficient query performance.\n",
        "\n",
        "> 3. Given the scalability of the KD-tree query with $log$($n$) complexity, filtering 10,000,000 cases down to the 100 most similar can be done in real-time. Based on the computational complexity, the query time for 10,000,000 samples would be approximately $log$($10,000,000$), which is around $16$. This suggests that even for large datasets, the query time remains manageable, and performing this operation in less than 20 seconds is feasible, especially with optimized implementations and modern computational resources.\n",
        "\n"
      ]
    },
    {
      "cell_type": "markdown",
      "metadata": {
        "id": "WFWQ1NACYIf_"
      },
      "source": [
        "## Locally Sensitive Hashing\n",
        "\n",
        "\n",
        "> **Reference.** This notebook is derived from an example in [Jonathan Kernes' GitHub repository](https://github.com/Jmkernes/Locality-sensitive-hashing-tutorial).\n",
        "\n",
        "> **Note:** A more comprehsnive and more production ready versions of LSH algorithms can be foud in the [DataaSketch](https://ekzhu.com/datasketch/index.html) packge.  \n",
        "\n",
        "In these exercises you will work with mini-hashes and locally-sensitive hashes on a small test dataset. The dataset comprises 4 articles from CNN.com. The 5th item in the dataset is a test document that is a concatenation of sections of 3 of the CNN articles, first, second and fourth. This 5th article is expected to produce artificially high similarity scores. With this small dataset you can easily compare approximations from the hashing methods to the fully Jaccard similarity scores between the text files.  \n",
        "\n",
        "Key steps in this example are:\n",
        "1. Clean and split each text file into a set of K-shingles, using a shingling function.     \n",
        "2. Compute the Jaccard similarity (intersection over union) between all pairs using the full set of shingles, no approximation.   \n",
        "3. Create and apply a MinHashing class which does the following:\n",
        "    - Initialize a dictionary of key-value pairs for the shingles.\n",
        "    - Apply minhashing on a shingle set with \"universal hashing\".\n",
        "    - Create a function to compute a **signature matrix**.\n",
        "4. Evaluate the effectiveness of mini-hashing by computing Jaccard similarity scores of all document pairs.\n",
        "5. Use locally sensitive hashing (LSH) to find **candidate pairs** of high similarity documents. Specifically, use a banded signature matrix to find all pairs whose estimated similarity is above a threshold. A hash table for band and column column ids to enable fast, $O(n)$, comparisons.\n",
        "\n",
        "To begin, execute the code in the cell below to import the required packages."
      ]
    },
    {
      "cell_type": "markdown",
      "metadata": {
        "id": "XoLMs4ldYIf_"
      },
      "source": [
        "## Min-Hashing without Locality Sensitive Hashing\n",
        "\n",
        "To begin you will create, execute and evaluate a basic mini-hashing algorithm. This mini-hashing process will then become the basis for the locally sensitive hashing (LSH) algorithm you will work with later in these exercises."
      ]
    },
    {
      "cell_type": "markdown",
      "metadata": {
        "id": "FL4pmHK0YIgA"
      },
      "source": [
        "### Load the Documents\n",
        "\n",
        "The code in the cell below loads the **corpus** of 5 documents. In text processing a corpus is any collection of related documents. Execute the code to load the document files and display the first 500 characters of each text document.    \n",
        "\n",
        "> **Note:** Depending on your file system, you may need to change the `HOME` and `DIR` variables."
      ]
    },
    {
      "cell_type": "code",
      "execution_count": 9,
      "metadata": {
        "id": "R07r6uJ8YIgA",
        "colab": {
          "base_uri": "https://localhost:8080/"
        },
        "outputId": "b6aed846-3635-4760-adb6-049f3afb1274"
      },
      "outputs": [
        {
          "output_type": "stream",
          "name": "stdout",
          "text": [
            "\n",
            "First 500 characters of document 0\n",
            "\n",
            "Washington (CNN)White House chief of staff Mark Meadows told Food and Drug Administration Commissioner Dr. Stephen Hahn he needed to grant an emergency use authorization for Pfizer/BioNTech's coronavirus vaccine by the end of Friday, and if not, he needs to resign, an administration official and a source familiar with the situation tell CNN.\n",
            "\n",
            "Another person familiar with matter, who also confirmed the demand that the vaccine be authorized by the end of Friday, said President Donald Trump has bee\n",
            "\n",
            "First 500 characters of document 1\n",
            "\n",
            "Investigators with the Manhattan district attorney's office have interviewed several employees at President Donald Trump's lender and insurer in recent weeks as part of a wide-ranging investigation into the Trump Organization, according to multiple people familiar with the investigation.\n",
            "\n",
            "Two employees of Deutsche Bank, which has loaned more than $300 million to the Trump Organization, were interviewed by prosecutors, according to sources familiar with the matter.\n",
            "The interviews took place after\n",
            "\n",
            "First 500 characters of document 2\n",
            "\n",
            "In the final days of his desperate, dishonest campaign to upend last month's election, President Donald Trump tossed off a particularly audacious and offensive challenge aimed at those he somehow thinks can change the outcome.\n",
            "\n",
            "\"Let's see if they have the courage to do what everybody in this country knows is right,\" he said.\n",
            "With time running out, his blatant hope was to intimidate and bait state legislatures or the Supreme Court into overturning a vote of the people, by legislative or judicial \n",
            "\n",
            "First 500 characters of document 3\n",
            "\n",
            "ew quarantine hobbies have unearthed new passions, some bringing with them a literal silver lining.\n",
            "This year, backyard archaeologists in the United Kingdom have recorded discoveries of more than 47,000 objects, the British Museum announced this week.\n",
            "Regular people found the vast majority of the historical artifacts by traversing the countryside with metal detectors, before adding or updating records through the museum's Portable Antiquities Scheme.\n",
            "The British Museum said the program also saw \n",
            "\n",
            "First 500 characters of document 4\n",
            "\n",
            "ew quarantine hobbies have unearthed new passions, some bringing with them a literal silver lining.\n",
            "This year, backyard archaeologists in the United Kingdom have recorded discoveries of more than 47,000 objects, the British Museum announced this week.\n",
            "Regular people found the vast majority of the historical artifacts by traversing the countryside with metal detectors, before adding or updating records through the museum's Portable Antiquities Scheme.\n",
            "The British Museum said the program also saw \n"
          ]
        }
      ],
      "source": [
        "HOME = os.getcwd()\n",
        "DIR = '/content/sampledocs/'\n",
        "TARGET = os.path.join(HOME, DIR)\n",
        "\n",
        "def print_articles(docs, num_characters=500):\n",
        "    for i in range(len(docs)):\n",
        "        print('\\nFirst 500 characters of document ' + str(i) + '\\n')\n",
        "        print(docs[i][:500])\n",
        "\n",
        "documents = []\n",
        "for article in sorted(os.listdir(TARGET)):\n",
        "#for article in os.listdir(TARGET):\n",
        "    if article == 'stopwords':\n",
        "        continue\n",
        "    path = os.path.join(TARGET, article)\n",
        "    with open(path, 'r') as file:\n",
        "        documents.append(file.read())\n",
        "\n",
        "print_articles(documents)"
      ]
    },
    {
      "cell_type": "markdown",
      "metadata": {
        "id": "lN2sKPVHYIgA"
      },
      "source": [
        "The text of these documents appear to have structure common to news articles. The question you will investigate is the similarity of these articles to each other, and particularly the last article, which is comprised of elements of documents, 0, 1 and 3."
      ]
    },
    {
      "cell_type": "markdown",
      "metadata": {
        "id": "LdK5aVXBYIgA"
      },
      "source": [
        "### Document Preparation\n",
        "\n",
        "The first step in determining document similarity is to prepare the document text. Many text preprocessing steps are used in text mining. In this case, we will just do these minimum steps:\n",
        "1. Remove **Stop words** from the text. Stop words are common words very likely to occur multiple times in most any document. Since stop words occur frequently, yet have little or no semantic value, they bias the similarity between documents. Examples of common stop words are 'and' or 'the'. The code in the cell below creates a list of stop words from a file. If a stop word is encountered in the text of one of the documents, the stop word and surrounding white space is replaced by a single white space character, ' '.        \n",
        "2. Remove end of line characters, '\\n', and replace them with white space, ' '.\n",
        "3. Convert all characters to lower case.   \n",
        "\n",
        "Execute the code in the cell below to create and display the list of stop words."
      ]
    },
    {
      "cell_type": "code",
      "execution_count": 10,
      "metadata": {
        "id": "v-0NGP8LYIgA",
        "colab": {
          "base_uri": "https://localhost:8080/"
        },
        "outputId": "3d87f386-8ed6-4dd1-9103-9b3aba04f93a"
      },
      "outputs": [
        {
          "output_type": "stream",
          "name": "stdout",
          "text": [
            "['i', 'me', 'my', 'myself', 'we', 'our', 'ours', 'ourselves', 'you', 'your', 'yours', 'yourself', 'yourselves', 'he', 'him', 'his', 'himself', 'she', 'her', 'hers', 'herself', 'it', 'its', 'itself', 'they', 'them', 'their', 'theirs', 'themselves', 'what', 'which', 'who', 'whom', 'this', 'that', 'these', 'those', 'am', 'is', 'are', 'was', 'were', 'be', 'been', 'being', 'have', 'has', 'had', 'having', 'do', 'does', 'did', 'doing', 'a', 'an', 'the', 'and', 'but', 'if', 'or', 'because', 'as', 'until', 'while', 'of', 'at', 'by', 'for', 'with', 'about', 'against', 'between', 'into', 'through', 'during', 'before', 'after', 'above', 'below', 'to', 'from', 'up', 'down', 'in', 'out', 'on', 'off', 'over', 'under', 'again', 'further', 'then', 'once', 'here', 'there', 'when', 'where', 'why', 'how', 'all', 'any', 'both', 'each', 'few', 'more', 'most', 'other', 'some', 'such', 'no', 'nor', 'not', 'only', 'own', 'same', 'so', 'than', 'too', 'very', 's', 't', 'can', 'will', 'just', 'don', 'should', 'now']\n"
          ]
        }
      ],
      "source": [
        "stopwords = []\n",
        "with open(os.path.join(TARGET, 'stopwords'), 'r') as file:\n",
        "    for line in file:\n",
        "        stopwords.append(line.strip())\n",
        "\n",
        "print(stopwords)"
      ]
    },
    {
      "cell_type": "markdown",
      "metadata": {
        "id": "arNlNcvUYIgA"
      },
      "source": [
        "Examine the list of stop words. Notice that they are all common words that generally have low semantic value.   \n",
        "\n",
        "The code in the cell below does the following:    \n",
        "1. Applies the preprocessing steps to each of the documents.    \n",
        "2. Computes and displays some simple summary statistics about the documents.   \n",
        "3. Displays the first 500 characters of the processed documents.    \n",
        "\n",
        "Execute this code."
      ]
    },
    {
      "cell_type": "code",
      "execution_count": 11,
      "metadata": {
        "id": "3_Ob2d7SYIgA",
        "colab": {
          "base_uri": "https://localhost:8080/"
        },
        "outputId": "a14e2c4e-2aa1-4255-8232-e740b38a015a"
      },
      "outputs": [
        {
          "output_type": "stream",
          "name": "stdout",
          "text": [
            "Average char-length: 3651.6\n",
            "Min char-length: 2412\n",
            "Max char-length: 5873\n",
            "\n",
            "\n",
            "\n",
            "First 500 characters of document 0\n",
            "\n",
            "washington (cnn)white house chief staff mark meadows told food drug administration commissioner dr. stephen hahn needed grant emergency use authorization pfizer/biontech's coronavirus vaccine end friday, not, needs resign, administration official source familiar situation tell cnn.  another person familiar matter, also confirmed demand vaccine authorized end friday, said president donald trump venting fda chief since vaccine rolled uk earlier week. two men call friday morning. white house offici\n",
            "\n",
            "First 500 characters of document 1\n",
            "\n",
            "investigators manhattan district attorney's office interviewed several employees president donald trump's lender insurer recent weeks part wide-ranging investigation trump organization, according multiple people familiar investigation.  two employees deutsche bank, loaned $300 million trump organization, interviewed prosecutors, according sources familiar matter. interviews took place november presidential election, people said, focused general questions bankers assess loans underwriting criteri\n",
            "\n",
            "First 500 characters of document 2\n",
            "\n",
            "in final days desperate, dishonest campaign upend last month's election, president donald trump tossed particularly audacious offensive challenge aimed somehow thinks change outcome.  \"let's see courage everybody country knows right,\" said. time running out, blatant hope intimidate bait state legislatures supreme court overturning vote people, legislative judicial fiat. trump's perverse definition \"courage\" \"right,\" course, amounts willingness bend truth prize continuation office american democr\n",
            "\n",
            "First 500 characters of document 3\n",
            "\n",
            "ew quarantine hobbies unearthed new passions, bringing literal silver lining. year, backyard archaeologists united kingdom recorded discoveries 47,000 objects, british museum announced week. regular people found vast majority historical artifacts traversing countryside metal detectors, adding updating records museum's portable antiquities scheme. british museum said program also saw uptick people updating digital records antiquities country full lockdown march 22 may 13. database contains record\n",
            "\n",
            "First 500 characters of document 4\n",
            "\n",
            "ew quarantine hobbies unearthed new passions, bringing literal silver lining. year, backyard archaeologists united kingdom recorded discoveries 47,000 objects, british museum announced week. regular people found vast majority historical artifacts traversing countryside metal detectors, adding updating records museum's portable antiquities scheme. british museum said program also saw uptick people updating digital records antiquities country full lockdown march 22 may 13. database contains record\n"
          ]
        }
      ],
      "source": [
        "for i, doc in enumerate(documents):\n",
        "    doc = doc.strip().replace('\\n', ' ').lower()\n",
        "    for word in stopwords:\n",
        "        doc = doc.replace(' '+word+' ', ' ')\n",
        "    documents[i] = doc\n",
        "\n",
        "print(f\"Average char-length: \\\n",
        "{np.mean(np.array([len(x) for x in documents]))}\")\n",
        "print(f\"Min char-length: {min(len(x) for x in documents)}\")\n",
        "print(f\"Max char-length: {max(len(x) for x in documents)}\")\n",
        "\n",
        "print('\\n')\n",
        "print_articles(documents)"
      ]
    },
    {
      "cell_type": "markdown",
      "metadata": {
        "id": "5I7HSAx0YIgA"
      },
      "source": [
        "There are several observations one can make about the processed documents:   \n",
        "1. All of the documents are in a similar size range.   \n",
        "2. The preprocessing steps have been successfully carried out with stop words and end of line characters gone and the characters all lower case."
      ]
    },
    {
      "cell_type": "markdown",
      "metadata": {
        "id": "hLM8CHjAYIgA"
      },
      "source": [
        "### Shingling Documents\n",
        "\n",
        "Now you are ready to shingle the documents.  \n",
        "\n",
        "> **Exercise 3-2:** You will complete the `getShingles` function below. The function uses a [Python set](https://python-reference.readthedocs.io/en/latest/docs/sets/) to create the shingles for each document. Here, we use character shingles, including white space, number and punctuation. The missing code uses a moving window of length $k$ to find the shingles. Now write code doing the following:    \n",
        "> 1. Loop over the rage of possible overlapping windows of length K.     \n",
        "> 2. In each window add the resulting shingle to the set. You can find a short overview of the Python set add method [here](https://www.w3schools.com/python/python_sets_add.asp).  \n",
        "> 3. Execute your code and examine the results."
      ]
    },
    {
      "cell_type": "code",
      "execution_count": 12,
      "metadata": {
        "id": "NLTSPOeVYIgA"
      },
      "outputs": [],
      "source": [
        "# create K-shingles by sliding window approach\n",
        "def getShingles(str1, K=5):\n",
        "    d1 = set()\n",
        "    ## Your code goes below\n",
        "\n",
        "\n",
        "\n",
        "\n",
        "    return d1\n",
        "\n",
        "doc_shingles = [getShingles(s, 5) for s in documents]"
      ]
    },
    {
      "cell_type": "markdown",
      "metadata": {
        "id": "Iy9Ecci6YIgA"
      },
      "source": [
        "> Notice that the number of resulting shingles is less than the number of windows. Why would this condition arise from using a Python set and what does it mean in terms of occurrence of the shingles in a document from the univerisal set?        \n",
        "> **End of exercise.**     "
      ]
    },
    {
      "cell_type": "markdown",
      "metadata": {
        "id": "22LtRUBRYIgB"
      },
      "source": [
        "> **Answer:**\n",
        "\n"
      ]
    },
    {
      "cell_type": "markdown",
      "metadata": {
        "id": "706a4iQ-YIgB"
      },
      "source": [
        "### Compute the Jaccard similarity      \n",
        "\n",
        "> **Exercise 3-3:** The code in the cell below uses the sets of shingles to compute the Jaccard similarity between the five documents. Two lists are created, one for the pair labels and one for the Jaccard similarity.\n",
        "> You will complete the `jaccardSim` function. The function should return the length of the **intersection** of the data set divided by the length of the **union** of the set. Use the built in Python methods [intersection](https://www.w3schools.com/python/ref_set_intersection.asp) and [union](https://python-reference.readthedocs.io/en/latest/docs/sets/union.html) compute the intersection and the union of the shingle sets.       "
      ]
    },
    {
      "cell_type": "code",
      "execution_count": 13,
      "metadata": {
        "id": "LrOyAtE2YIgB",
        "colab": {
          "base_uri": "https://localhost:8080/",
          "height": 106
        },
        "outputId": "ad5b78d9-9bdb-4323-e89f-b9a28bc95113"
      },
      "outputs": [
        {
          "output_type": "error",
          "ename": "IndentationError",
          "evalue": "expected an indented block after function definition on line 1 (<ipython-input-13-60e0bba893c9>, line 6)",
          "traceback": [
            "\u001b[0;36m  File \u001b[0;32m\"<ipython-input-13-60e0bba893c9>\"\u001b[0;36m, line \u001b[0;32m6\u001b[0m\n\u001b[0;31m    pair_labels = []\u001b[0m\n\u001b[0m    ^\u001b[0m\n\u001b[0;31mIndentationError\u001b[0m\u001b[0;31m:\u001b[0m expected an indented block after function definition on line 1\n"
          ]
        }
      ],
      "source": [
        "def jaccardSim(d1,d2):\n",
        "    ## Your code goes below\n",
        "\n",
        "\n",
        "\n",
        "pair_labels = []\n",
        "pair_sims = []\n",
        "for x1, x2 in itertools.combinations(zip(range(len(doc_shingles)),doc_shingles), 2):\n",
        "    pair_labels.append((x1[0],x2[0]))\n",
        "    pair_sims.append(jaccardSim(x1[1],x2[1]))\n",
        "\n",
        "print(f\"**True similarity scores**\")\n",
        "print(\"Pair\\tScore\")\n",
        "print(\"-\"*14)\n",
        "for pair, score in zip(pair_labels, pair_sims):\n",
        "    print(f\"{pair}\\t{score:.3f}\")"
      ]
    },
    {
      "cell_type": "markdown",
      "metadata": {
        "id": "7fjDLsewYIgB"
      },
      "source": [
        "> Which 3 of these similarity pairs have the largest Jaccard similarity scores and given the nature of these documents, is this result expected?     \n",
        "> **End of exercise.**"
      ]
    },
    {
      "cell_type": "markdown",
      "metadata": {
        "id": "W1ORFKSVYIgB"
      },
      "source": [
        "> **Answer:**     "
      ]
    },
    {
      "cell_type": "markdown",
      "metadata": {
        "id": "wYptzDPcYIgB"
      },
      "source": [
        "### Prepare a Shingle Dictionary with Universal Set   \n",
        "\n",
        "To prepare for mini-hashing of these documents a shingle dictionary using the universal set of shingles must be created. The code in the cell below does the following:  \n",
        "1. Uses the Python `set.union` method to create a Python with the universal set of shingles.   \n",
        "2. Instantiate a Python dictionary using the universal set as the key values.    \n",
        "3. Print the number of unique shingles found.     \n",
        "Execute this code.   "
      ]
    },
    {
      "cell_type": "code",
      "execution_count": null,
      "metadata": {
        "id": "Hlt7Uh0KYIgE"
      },
      "outputs": [],
      "source": [
        "## Find the univeral set as the union of all shingles and\n",
        "## then create a dictionary using the universal set as keys.\n",
        "universal_set = set.union(*doc_shingles)\n",
        "shingle_dict = dict(zip(list(universal_set),range(len(universal_set))))\n",
        "print(f\"Number of unique shingles = {len(shingle_dict)}\")"
      ]
    },
    {
      "cell_type": "markdown",
      "metadata": {
        "id": "pPvQytYyYIgE"
      },
      "source": [
        "As is typical for even small documents, the number of unique shingles is quite large.       \n",
        "\n",
        "Next, execute the code in the cell below to display the first 40 of these shingles."
      ]
    },
    {
      "cell_type": "code",
      "execution_count": null,
      "metadata": {
        "id": "0ckthYrdYIgE"
      },
      "outputs": [],
      "source": [
        "list(shingle_dict.keys())[:40]"
      ]
    },
    {
      "cell_type": "markdown",
      "metadata": {
        "id": "LzIPwwAyYIgE"
      },
      "source": [
        "It is no surprise that each shingle contains 5 characters. Notice that these characters can include white space and punctuation.   "
      ]
    },
    {
      "cell_type": "markdown",
      "metadata": {
        "id": "TM2wUi3fYIgE"
      },
      "source": [
        "### 3. Define the HashManager class\n",
        "\n",
        "The MashManager class is used to instantiate and manage the capable of creating a signature matrix. To maintain reasonable performance and minimize memory use on the sparse characteristic matrix, this class **only works with Python sets**, not arrays. Unfortunately, using sets leads to some more difficult to understand code.    \n",
        "\n",
        "Looking at how the provided test cases are executed will help you understand how the methods of this class are used. The methods are:   \n",
        "1. `_initParams`, initializes the signature matrix as random numbers in the range $[0,size\\ of\\ universal\\ set-1]$, using [numpy.random.randint](https://numpy.org/doc/stable/reference/random/generated/numpy.random.randint.html).\n",
        "2. `_permuteRow`, computes a hash of the row indicies used to find permutations of the characteristic matrix.    \n",
        "3. `__call__` does the heavy lifting:  \n",
        "  - Create a new signature matrix if required.  \n",
        "  - Initialize the signature matrix with infinity values, [numpy.inf](https://numpy.org/devdocs/reference/constants.html).\n",
        "  - Loop over all documents and for each shingle in each document updated the signature matrix if the new values of the mini-hash are less that the old values.    \n",
        "\n",
        "Execute the code in the cell below to initialize the HashManager class and run some test cases.  "
      ]
    },
    {
      "cell_type": "code",
      "execution_count": null,
      "metadata": {
        "id": "p83BidAkYIgE"
      },
      "outputs": [],
      "source": [
        "# Create a hash function\n",
        "# define as a callable class, so that we only\n",
        "# intialize random functions once\n",
        "class HashManager():\n",
        "    def __init__(self, shingle_dict):\n",
        "        self.shingle_dict = shingle_dict\n",
        "        self.N = len(shingle_dict)\n",
        "        self.params = None\n",
        "\n",
        "    def _initParams(self, n_sig):\n",
        "        self.params = np.random.randint(self.N, size=[n_sig,2])\n",
        "\n",
        "    def _permuteRow(self, row):\n",
        "        return (self.params@np.array([1,row]))%self.N\n",
        "\n",
        "    def __call__(self, docs, n_sig, init=True):\n",
        "        # Initialize if we change signature matrix length\n",
        "        # or if we request to re-initialize\n",
        "        if self.params is None or len(self.params) != n_sig or init:\n",
        "            self._initParams(n_sig)\n",
        "\n",
        "        #initialize signature matrix\n",
        "        sig = np.full((n_sig, len(docs)), np.inf)\n",
        "\n",
        "        # each doc in docs is assumed to be an iterable object\n",
        "        for j, doc in enumerate(docs):\n",
        "            for shingle in doc:\n",
        "                orig_row = shingle_dict[shingle]\n",
        "                curr_col = self._permuteRow(orig_row)\n",
        "                sig[:,j] = np.minimum(sig[:,j],curr_col)\n",
        "        return sig.astype(int)\n",
        "\n",
        "# run some tests:\n",
        "try:\n",
        "    print(\"Initialization test: \", end=\"\")\n",
        "    hm = HashManager(shingle_dict)\n",
        "    print(\"passed\")\n",
        "\n",
        "    print(\"Set parameters to right size: \", end=\"\")\n",
        "    hm._initParams(n_sig=4)\n",
        "    assert(hm.params.shape == (4,2))\n",
        "    print(\"passed\")\n",
        "\n",
        "    print(\"Permuting a row integer returns array: \", end=\"\")\n",
        "    curr_col = hm._permuteRow(3)\n",
        "    assert(curr_col.shape == (4,))\n",
        "    print(\"passed\")\n",
        "\n",
        "    print(\"Compute minhashed signature matrix: \", end=\"\")\n",
        "    hm(doc_shingles, 4)\n",
        "    print(\"passed\")\n",
        "except Exception as e:\n",
        "    print(\"failure\")\n",
        "    print(e.args)"
      ]
    },
    {
      "cell_type": "markdown",
      "metadata": {
        "id": "O37KMa0NYIgE"
      },
      "source": [
        "With the `HashManager` class defined, execute the code in the cell below to create an instance."
      ]
    },
    {
      "cell_type": "code",
      "execution_count": null,
      "metadata": {
        "id": "TkLJU4IKYIgE"
      },
      "outputs": [],
      "source": [
        "np.random.seed(4856)\n",
        "hm = HashManager(shingle_dict)"
      ]
    },
    {
      "cell_type": "markdown",
      "metadata": {
        "id": "kCdlGWKkYIgE"
      },
      "source": [
        "###  Mini-Hashing Performance\n",
        "\n",
        "Now you will compute and compare similarity scores between the simple mini-hash approximation and the full Jaccard similarity using the shingled documents.\n",
        "\n",
        "The following functions are provided:   \n",
        "1. `trueSimScores` function computes the Jaccard similarities of each possible combination of the shingled documents.   \n",
        "2. `sigSimScores` function computes the Jarracd similarities between each possible combination of mini-hashes of a document.  \n",
        "3. `candidatePairs` function finds combinations of mini-hashes that have a similarity greater than the threshold.  \n",
        "4. `printScoreComparison` function prints the comparison between the mini-hash similarity and the full Jaccard similarity. Similarities computed by Jaccard similarity on the full set of shingles are assumed to be the ground truth.  \n",
        "5. `accMatrix`function prints some summary statistics comparing the similarity methods.    \n",
        "\n",
        "Execute this code and examine the results.   "
      ]
    },
    {
      "cell_type": "code",
      "execution_count": null,
      "metadata": {
        "id": "VEFlmAEIYIgF"
      },
      "outputs": [],
      "source": [
        "def trueSimScores(doc_shingles):\n",
        "    pair_labels = []\n",
        "    pair_sims = []\n",
        "    idxs = range(len(doc_shingles))\n",
        "    for x1, x2 in itertools.combinations(zip(idxs,doc_shingles), 2):\n",
        "        pair_labels.append((x1[0], x2[0]))\n",
        "        pair_sims.append(jaccardSim(x1[1], x2[1]))\n",
        "    return dict(zip(pair_labels, pair_sims))\n",
        "\n",
        "def sigSimScores(sig_mat):\n",
        "    cols = sig_mat.T\n",
        "    idxs = range(sig_mat.shape[1])\n",
        "\n",
        "    pair_labels = []\n",
        "    pair_sims = []\n",
        "    for (i,col1), (j,col2) in itertools.combinations(zip(idxs, cols),2):\n",
        "        pair_labels.append((i,j))\n",
        "        pair_sims.append(np.mean(col1==col2))\n",
        "    return dict(zip(pair_labels, pair_sims))\n",
        "\n",
        "def printScoreComparison(true_dict, approx_dict):\n",
        "    print(f\"Comparison of similarity scores between mini-hash approximation and full Jaccard similarity\")\n",
        "    print(\"Pair\\t\\tApprox\\t\\tTrue\\t\\t%Error\")\n",
        "    errors =[]\n",
        "    for pair, true_value in true_dict.items():\n",
        "        approx_value = approx_dict[pair]\n",
        "        err = abs(true_value-approx_value)/true_value\n",
        "        errors.append(err)\n",
        "        print(f\"{pair}\\t\\t{approx_value:.3f}\\t\\t{true_value:.3f}\\t\\t{100*err:.2f}\")\n",
        "    print(f\"Variance = {np.var(errors)}\")\n",
        "\n",
        "def candidatePairs(score_dict, threshold):\n",
        "    return set(pair for pair, scr in score_dict.items() if scr>=threshold)\n",
        "\n",
        "def accMatrix(true_dict, approx_dict, threshold):\n",
        "    true_pairs = candidatePairs(true_dict, threshold)\n",
        "    approx_pairs = candidatePairs(approx_dict, threshold)\n",
        "\n",
        "    false_negatives = len(true_pairs.difference(approx_pairs))\n",
        "    false_positives = len(approx_pairs.difference(true_pairs))\n",
        "\n",
        "    print('\\n')\n",
        "    print(f\"False negatives: {false_negatives}\")\n",
        "    print(f\"Potential false positives: {false_positives}\")\n",
        "\n",
        "np.random.seed(9844)\n",
        "sig_mat = hm(doc_shingles, 10)\n",
        "true_score_dict = trueSimScores(doc_shingles)\n",
        "approx_score_dict = sigSimScores(sig_mat)\n",
        "printScoreComparison(true_score_dict, approx_score_dict)\n",
        "\n",
        "threshold = 0.25\n",
        "print('\\n\\nComparison of similarity measure methods at threshold = ' + str(threshold))\n",
        "print(\"Pairs by full Jaccard similarity:\",candidatePairs(true_score_dict, threshold))\n",
        "print(\"Candidate pairs from mini-hashing:\",candidatePairs(approx_score_dict, threshold))\n",
        "accMatrix(true_score_dict, approx_score_dict, threshold)\n"
      ]
    },
    {
      "cell_type": "markdown",
      "metadata": {
        "id": "CopEzTHUYIgF"
      },
      "source": [
        "> **Exercise 3-4** Provide short answers to the following questions:    \n",
        "> 1. Tables of performance statistics are printed above. The first table compares the pair-wise similarity measures. The second table compares the similar pairs found by both methods. What do these summaries tell you about the variance of the mini-hash approximation and why is this result expected.\n",
        "> 2. Based on the results displayued, explain the false negatives and false positives counts given the pairs found by the full Jaccard similarity and mini-hashing.      \n",
        "> **End of exercise.**"
      ]
    },
    {
      "cell_type": "markdown",
      "metadata": {
        "id": "O-NSWZy7YIgF"
      },
      "source": [
        "> **Answers:**    \n",
        "> 1.     \n",
        "> 2.     "
      ]
    },
    {
      "cell_type": "markdown",
      "metadata": {
        "id": "WcfhTcQLYIgF"
      },
      "source": [
        "## Locality Sensitive Hashing\n",
        "\n",
        "### Banding Signature Matrix\n",
        "\n",
        "You have just seen that the basic mini-hashing algorithm has high variance. Algorithms which band the signature matrix can significantly reduce this variance, by averaging out independent errors. Mini-hash estimates of similarity are computed for each of $b$ bands of the signature matrix. If the signature matrix has $n$ rows, we divide it into $b$ bands each of width $r$, such that $n = b*r$.\n",
        "\n",
        "Let $p$ be the true similarity score (match percent) between a pair. The probability of matching every hash in a band is:\n",
        "\n",
        "$$\\text{prob. all hashes match } = p^r$$\n",
        "\n",
        "The probability of one of $r$ hashes mismatch is:  \n",
        "\n",
        "$$\\text{prob. one hash mismatch } = 1 - p^r$$\n",
        "\n",
        "Now, the probability that at least 1 of the 𝑟 mini-hashes disagree in the 𝑏 bands:\n",
        "\n",
        "$$\\text{prob. no bands match } = (1-p^r)^b$$\n",
        "\n",
        "Therefore, the probability that the $b$ bands do match, is:\n",
        "\n",
        "$$P(\\geq 1\\text{ match}) = 1-(1-p^r)^b$$\n",
        "\n",
        "For a decision threshold of $1/2$, the decision criteria used is that two variables are a candidate pair if $p \\geq 1/2$. For a fixed value of $n$, the number of mini-hashes, one can tune the mini-hash by choosing $r$ and $b$ to approximately a step function around the true value of $p$. The goal is to find all true candidate pairs while minimizing false positive detections. This requirement dictates that some analysis is required to optimize for specific problems.  \n",
        "\n",
        "The code in the cell below computes and displays the decision curves for a fixed $n$ for various values of ${r,b}$.  "
      ]
    },
    {
      "cell_type": "code",
      "execution_count": null,
      "metadata": {
        "id": "OmRpDBMpYIgF"
      },
      "outputs": [],
      "source": [
        "import matplotlib.pyplot as plt\n",
        "n = 200\n",
        "ops = [(2,100),(4,50),(10,20),(20,10),(50,4),(100,2)]\n",
        "yval = lambda p,r,b: 1-(1-p**r)**b\n",
        "pts = np.linspace(0,1,100)\n",
        "for op in ops:\n",
        "    plt.plot(pts, yval(pts,op[0],op[1]), label=op)\n",
        "plt.hlines(0.5,0,1, linestyles ='dashed', colors ='k')\n",
        "plt.vlines(0.5,0,1, linestyles ='-.', colors ='k')\n",
        "plt.legend()\n",
        "plt.xlabel('p')\n",
        "plt.ylabel('Probability')\n",
        "plt.title(\"legend: (r,b). p_true=0.5 (vertical line)\")\n",
        "plt.show()"
      ]
    },
    {
      "cell_type": "markdown",
      "metadata": {
        "id": "dv473a0GYIgF"
      },
      "source": [
        "> **Exercise 3-5:** Examine the curves in the plot and provide short .\n",
        "> 1. How does the position of the curve change with values of r and b for a fixed n and how does this change the optimal decision threshold?\n",
        "> 2. How will the rate of true positives and false positives change with r and b? Hint, note how the steepness of the curve changes with r and b.    \n",
        "> **End of exercise.**"
      ]
    },
    {
      "cell_type": "markdown",
      "metadata": {
        "id": "X9GePHx7YIgF"
      },
      "source": [
        "> **Answers:**    \n",
        "> 1.    \n",
        "> 2.    "
      ]
    },
    {
      "cell_type": "markdown",
      "metadata": {
        "id": "J68cq4thYIgG"
      },
      "source": [
        "### Finding optimal parameters\n",
        "\n",
        "Consider the variables for the decision problem of determining which pairs of variables are similar:  \n",
        "- $p$, the **crossover point** or **decision point**, values above p are considered similar.   \n",
        "- $b$, the number of bands of the signature matrix.  \n",
        "- $r$, the number of mini-hashes in each band.  \n",
        "- $n$, the number of samples, with $n=br$.\n",
        "\n",
        "For a fixed $n, p$ it is possible to solve for the optimal values r,b. Conversely of a fixed $n,r,b$ we can determine the crossover point $p$ for the decision, $p=f(b,r)$. Let's start with $p=1/2$.\n",
        "$$1/2 = 1-(1-p^r)^b$$\n",
        "$$ 1-p^r = 2^{-1/b}$$\n",
        "$$p = (1-2^{-1/b})^{1/r} = (1-e^{-(1/b)\\ln2})^{1/r} \\approx (1/b)^{1/r}*\\text{const}$$\n",
        "\n",
        "If we fix $r$ and $p$, we can find the required number of bands to be about\n",
        "$b \\approx 1/p^r$\n",
        "\n",
        "You have already scene how changing $r$ and $b$ for a fixed $n$ shifts the decision curve. The code in the cell below plots the decision function curve for several optimal values of $r,b$ with increasing $n$. The values of $r$ are considered optimal since the crossing point, $p=0.5, for each combination. Execute the code and examine the results.      "
      ]
    },
    {
      "cell_type": "code",
      "execution_count": null,
      "metadata": {
        "id": "7pNkHSCuYIgG"
      },
      "outputs": [],
      "source": [
        "x = np.linspace(0,1,100)\n",
        "for b,r,col in [(5,3,'r'),(40,6,'b'),(150,8,'g'),(700,10,'b')]:\n",
        "    y = 1-(1-x**r)**b\n",
        "    plt.plot(x,y,c=col,label=f\"b={b},r={r}, n={b*r}\")\n",
        "plt.hlines(0.5,0,1, linestyles ='dashed', colors ='k')\n",
        "plt.vlines(0.5,0,1, linestyles ='-.', colors ='k')\n",
        "plt.legend()\n",
        "plt.xlabel('p')\n",
        "plt.ylabel('Probability')\n",
        "\n",
        "plt.legend()\n",
        "plt.show()"
      ]
    },
    {
      "cell_type": "markdown",
      "metadata": {
        "id": "ggARL-UwYIgG"
      },
      "source": [
        "> **Exercise 3-6:** Keeping in mind that a steeper curve is a better decision function, for optimal $r,b$, what do these curves tell you about the value of increasing $n$.    \n",
        "> **End of exercise.**"
      ]
    },
    {
      "cell_type": "markdown",
      "metadata": {
        "id": "AgpqqYETYIgG"
      },
      "source": [
        "> **Answer:**     "
      ]
    },
    {
      "cell_type": "markdown",
      "metadata": {
        "id": "Jk9Wy51iYIgG"
      },
      "source": [
        "### LSH with Banded Mini-Hash\n",
        "\n",
        "Let's try a simple example of banded mini-hashing. Specifically, the OR-AND method is applied to a banded signature matrix.       \n",
        "The code in the cell below implements the algorithm is a straight-forward way. While not optimal in terms of computational complexity, the code is intended to make the algorithm clear. The functions provided are:    \n",
        "1. `bandedCandidatePair`, is a function which first computes a logical array of matches between two columns, then divides that array into $b$ bands and determines if any of these bands are all true values, or all matches. The signature matrix is divided into bands using [numpy.array_split](https://numpy.org/doc/stable/reference/generated/numpy.array_split.html).\n",
        "2. `bandedCandidatePairs`, calls the bandedCandidatePair function for each combination of columns, and if that function returns a logical true (a match of at least one band) the keys for the pair are added to the pairs list.\n",
        "\n",
        "Execute the code and examine the results.  "
      ]
    },
    {
      "cell_type": "code",
      "execution_count": null,
      "metadata": {
        "id": "bSf0XrILYIgG"
      },
      "outputs": [],
      "source": [
        "def bandedCandidatePair(col1, col2, b, r):\n",
        "    \"\"\"Returns a boolean if the two columns are a candidate pair\n",
        "    inputs must obey n=len(col1)=len(col2)=b*r\"\"\"\n",
        "    n = len(col1)\n",
        "    assert(n==b*r)\n",
        "    assert(n==len(col2))\n",
        "    truth_array = (col1==col2)\n",
        "    return any(all(band) for band in np.array_split(truth_array,b))\n",
        "\n",
        "def bandedCandidatePairs(sig_mat, b, r):\n",
        "    d = sig_mat.shape[1]\n",
        "    idxs = range(d)\n",
        "    cols = [sig_mat[:,i] for i in range(d)]\n",
        "    pairs = set()\n",
        "    for (i,col1), (j,col2) in itertools.combinations(zip(idxs,cols),2):\n",
        "        if bandedCandidatePair(col1,col2,b,r):\n",
        "            pairs.add((i,j))\n",
        "    return pairs\n",
        "\n",
        "# set p = 0.3 arbitrarily\n",
        "p = 0.25\n",
        "n = 120\n",
        "b = 20\n",
        "r = 6\n",
        "\n",
        "# see how many candidate pairs we got right!\n",
        "np.random.seed(57988)\n",
        "sig_mat = hm(doc_shingles, n)\n",
        "true_score_dict = trueSimScores(doc_shingles)\n",
        "\n",
        "print(\"\\nPairs found by Jaccard similarity of all shingles:\",candidatePairs(true_score_dict, p))\n",
        "print(\"Pairs found with LSH:\",bandedCandidatePairs(sig_mat, b, r))\n",
        "print(\"Simple MinHash pairs:\",candidatePairs(approx_score_dict, p))"
      ]
    },
    {
      "cell_type": "markdown",
      "metadata": {
        "id": "2MTs5YLHYIgG"
      },
      "source": [
        "> **Exercise 03-7:** Provide short answers to the following questions:    \n",
        "> 1. Examine the code in the `return` statement of the `bandedCandidatePair` function. Explain why this code implements the OR-AND construction algorithm.  \n",
        "> 2. Compare the candidate pairs found by the three methods. Given the composition of document 4 which errors are made in terms of false positive and false negative by each of the methods, and what does this result tell you about their respective accuracies?"
      ]
    },
    {
      "cell_type": "markdown",
      "metadata": {
        "id": "Qf49OFHMYIgG"
      },
      "source": [
        "> **Answers:**\n",
        "> 1.     \n",
        "> 2.     "
      ]
    },
    {
      "cell_type": "markdown",
      "metadata": {
        "id": "O1NOCc1jYIgG"
      },
      "source": [
        "### Efficient LSH algorithm  \n",
        "\n",
        "The banded OR-AND mini-hashing has produced better results than simple mini-hashing. However, the algorithm used required matching $\\frac{n(n-1)}{2}$ or $\\mathcal{O}(n^2)$ matching operations. Clever use of a hash table allows us to create an equivalent algorithm with  $\\mathcal{O}(n)$ time complexity.   \n",
        "\n",
        "The code in the cell below uses a hash table constructed with a [collections.defaultdict](https://docs.python.org/3/library/collections.html#collections.defaultdict) to match candidate pairs. Execute the code and examine the results.   "
      ]
    },
    {
      "cell_type": "code",
      "execution_count": null,
      "metadata": {
        "id": "CtLJhe5aYIgH"
      },
      "outputs": [],
      "source": [
        "def fastCandidatePairs(sig_mat, b, r):\n",
        "    n, d = sig_mat.shape\n",
        "    assert(n==b*r)\n",
        "    hashbuckets = collections.defaultdict(set)\n",
        "    bands = np.array_split(sig_mat, b, axis=0)\n",
        "    for i,band in enumerate(bands):\n",
        "        for j in range(d):\n",
        "            # The last value must be made a string, to prevent accidental\n",
        "            # key collisions of r+1 integers when we really only want\n",
        "            # keys of r integers plus a band index\n",
        "            band_id = tuple(list(band[:,j])+[str(i)])\n",
        "            hashbuckets[band_id].add(j)\n",
        "    candidate_pairs = set()\n",
        "    for bucket in hashbuckets.values():\n",
        "        if len(bucket) > 1:\n",
        "            for pair in itertools.combinations(bucket, 2):\n",
        "                candidate_pairs.add(pair)\n",
        "    return candidate_pairs\n",
        "\n",
        "\n",
        "#p = 0.30\n",
        "p = 0.25\n",
        "n = 120\n",
        "b = 20\n",
        "r = 6\n",
        "\n",
        "# see how many candidate pairs we got right!\n",
        "np.random.seed(1267)\n",
        "sig_mat = hm(doc_shingles, n)\n",
        "true_score_dict = trueSimScores(doc_shingles)\n",
        "approx_score_dict = sigSimScores(sig_mat)\n",
        "print('True pairs:\\t', candidatePairs(true_score_dict, p))\n",
        "print(\"LSH pairs:\\t\", bandedCandidatePairs(sig_mat, b, r))\n",
        "print(\"Fast LSH pairs:\\t\", fastCandidatePairs(sig_mat, b, r))\n",
        "print(\"MinHash pairs:\\t\", candidatePairs(approx_score_dict, p))"
      ]
    },
    {
      "cell_type": "markdown",
      "metadata": {
        "id": "joCgPgA7YIgH"
      },
      "source": [
        "> **Exercise 03-8:** Examine the `fastCandidatePairs` function. Explain why this algorithm is equivalent to the OR-AND construction examined for Exercise 03-6, but yet can run in $O(n)$ time.    \n",
        "> **End of Exercise.**"
      ]
    },
    {
      "cell_type": "markdown",
      "metadata": {
        "id": "nVLztJB3YIgH"
      },
      "source": [
        "> **Answer:**     "
      ]
    },
    {
      "cell_type": "markdown",
      "metadata": {
        "id": "U2ltXoiSYIgH"
      },
      "source": [
        "> **Exercise 03-9:** The LSH and fast LSH algorithms both make the same error in this case. Is there an efficient way to improve on this result? Yes. We can take advantage of the fact that most similar pairs hash to the same bucket, we can do the following:    \n",
        "> 1. Find the full Jacard similarities of only the pairs in the bucket. The limited number of pairs candidates makes this calculation efficient.    \n",
        "> 2. Filter the full Jarard similarities by a threshold.       \n",
        "> Examine and execute the code in the cell below.   "
      ]
    },
    {
      "cell_type": "code",
      "execution_count": null,
      "metadata": {
        "id": "cBKONM_rYIgH"
      },
      "outputs": [],
      "source": [
        "pair_labels = []\n",
        "pair_sims = []\n",
        "for x1, x2 in bandedCandidatePairs(sig_mat, b, r):\n",
        "    pair_labels.append((x1,x2))\n",
        "    pair_sims.append(jaccardSim(doc_shingles[x1],doc_shingles[x2]))\n",
        "\n",
        "print('The similaritiy of the pairs in the bucket = ' + str(np.round(pair_sims, 3)))\n",
        "threshold = 0.25\n",
        "print(f\"**True similarity scores**\")\n",
        "print(\"Pair\\tScore\")\n",
        "print(\"-\"*14)\n",
        "for pair, score in zip(pair_labels, pair_sims):\n",
        "    if score > threshold: print(f\"{pair}\\t{score:.3f}\")"
      ]
    },
    {
      "cell_type": "markdown",
      "metadata": {
        "id": "RFBBIEmxYIgH"
      },
      "source": [
        "> This simple algorithm has filtered out false positive errors. Explain why this approach is compuationally efficeint compare to testing pairwise similarities.  "
      ]
    },
    {
      "cell_type": "markdown",
      "metadata": {
        "id": "wxpJn6rVYIgH"
      },
      "source": [
        "> **Answer:**     "
      ]
    },
    {
      "cell_type": "markdown",
      "metadata": {
        "id": "FbQD1dEpYIgH"
      },
      "source": [
        "#### Copywrite 2022, 2023, 2024 Stephen F Elston. All rights reserved.  "
      ]
    },
    {
      "cell_type": "code",
      "execution_count": null,
      "metadata": {
        "id": "FiPVa-H-YIgH"
      },
      "outputs": [],
      "source": []
    }
  ],
  "metadata": {
    "kernelspec": {
      "display_name": "Python 3 (ipykernel)",
      "language": "python",
      "name": "python3"
    },
    "language_info": {
      "codemirror_mode": {
        "name": "ipython",
        "version": 3
      },
      "file_extension": ".py",
      "mimetype": "text/x-python",
      "name": "python",
      "nbconvert_exporter": "python",
      "pygments_lexer": "ipython3",
      "version": "3.9.18"
    },
    "colab": {
      "provenance": []
    }
  },
  "nbformat": 4,
  "nbformat_minor": 0
}