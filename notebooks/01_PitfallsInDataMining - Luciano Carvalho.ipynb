{
  "cells": [
    {
      "cell_type": "markdown",
      "metadata": {
        "id": "h1RlT65qzFWh"
      },
      "source": [
        "# Assignment 01 - Pitfalls in Data Mining     \n",
        "## CSCI E-108\n",
        "\n",
        "The goal of data mining is to find important relationships in large complex datasets. These dataset typically contain a large number of variables. The **high-dimensional** nature of the data leads to some commonly encountered pitfalls which lead to incorrect inferences.   \n",
        "\n",
        "In this assignment you will gain a bit of experience with three important concepts in data mining at a small scale. These methods are essential as the scale increases:  \n",
        "\n",
        "1. **False Discovery Rate Control:** The goal of data mining is to find important relationships in large complex datasets. These dataset typically contain a large number of variables. The **high-dimensional** nature of the data leads to some commonly encountered pitfalls of incorrect inference, **false discovery**. A related problem is cutting off a large-scale analysis when a desired relationship is 'found'. This practice of **p-value mining** often leads to unwarranted inferences. You will apply false discovery rate (FDR) control methods to address this problem.   \n",
        "2. **Key-Value Pairs:** Large scale data is typically managed using key-value (KV) pairs. The exercises in this assignment give you some experience working with KV pair data management.  \n",
        "3. **Map and Reduce Processes:** Much of large scale data mining requires use of a split-apply-combine approach. The data is split into manageable chunks, analytic transformations are applied, and the result combined or aggregated. A commonly used class of a split-apply-combine algorithm is MapReduce.\n",
        "\n",
        "In order to keep the scope of this assignment manageable, you will use limited versions of KV pair management and MapReduce. Specifically, you will use common Python tools to implement these concepts rather than dedicated large scale analytic platforms."
      ]
    },
    {
      "cell_type": "markdown",
      "metadata": {
        "id": "0S3Xop2wzFWi"
      },
      "source": [
        "## Multiple Hypothesis Tesing\n",
        "\n",
        "Testing multiple hypothesis in high-dimensional data is problematic. Exhaustively testing all pairwise relationships between variables in a data set is a commonly used, but generally misleading, from of **multiple comparisons**. The chance of finding false significance, using such a **data dredging** approach, can be surprisingly high.\n",
        "\n",
        "In this exercise you will perform multiple comparisons on **only 20 identically distributed independent (iid)** variables. Ideally, such tests should not find significant relationships, but the actual result is quite different.\n",
        "\n",
        "To get started, execute the code in the cell below to load the required packages."
      ]
    },
    {
      "cell_type": "code",
      "execution_count": 25,
      "metadata": {
        "id": "PGJPD7W7zFWi"
      },
      "outputs": [],
      "source": [
        "import pandas as pd\n",
        "import numpy as np\n",
        "import numpy.random as nr\n",
        "from scipy.stats import ttest_ind, f_oneway\n",
        "from itertools import product, combinations\n",
        "import matplotlib.pyplot as plt\n",
        "import seaborn as sns\n",
        "from scipy.special import comb\n",
        "import math\n",
        "import time\n",
        "\n",
        "pd.set_option(\"display.max_rows\", None, \"display.max_columns\", None)"
      ]
    },
    {
      "cell_type": "code",
      "execution_count": 26,
      "metadata": {
        "id": "b_JZnWutzFWj",
        "outputId": "b1455be8-2c58-4a4f-dd2b-569ebffb6012",
        "colab": {
          "base_uri": "https://localhost:8080/",
          "height": 35
        }
      },
      "outputs": [
        {
          "output_type": "execute_result",
          "data": {
            "text/plain": [
              "'0.19.3'"
            ],
            "application/vnd.google.colaboratory.intrinsic+json": {
              "type": "string"
            }
          },
          "metadata": {},
          "execution_count": 26
        }
      ],
      "source": [
        "import skimage\n",
        "skimage.__version__"
      ]
    },
    {
      "cell_type": "markdown",
      "metadata": {
        "id": "hPlc_WkIzFWk"
      },
      "source": [
        "In this exercise you will apply a [t-test](https://www.statisticshowto.com/probability-and-statistics/t-test/) to all pairwise combinations of identical Normally distributed variables. In this case, we will create a data set with 20 iid Normal distributions of 1000 samples each. Execute the code in the cell below to find this data and display the mean and variance of each variable.  "
      ]
    },
    {
      "cell_type": "code",
      "execution_count": 27,
      "metadata": {
        "id": "VDj3uRzXzFWk",
        "outputId": "f967ba63-d419-4b23-ab8c-54aace78809b",
        "colab": {
          "base_uri": "https://localhost:8080/"
        }
      },
      "outputs": [
        {
          "output_type": "stream",
          "name": "stdout",
          "text": [
            "The means of the columns are\n",
            " [-1.16191649e-01  2.80829317e-02 -1.78516419e-02 -1.44691489e-02\n",
            "  3.03718152e-02  1.20007442e-02 -9.58845606e-05  1.98662580e-03\n",
            "  4.94154934e-02 -4.11640866e-02 -6.32977862e-03 -5.93868192e-02\n",
            " -2.56373595e-02  1.43568791e-02 -1.44725765e-02 -1.37023955e-02\n",
            "  1.80622439e-02  5.87029691e-02 -2.02650514e-02 -1.56346106e-02]\n",
            "\n",
            "The variances of the columns are\n",
            " [0.94834508 1.04744241 1.0258018  0.96977571 1.0089001  1.04113864\n",
            " 1.00657222 0.99192594 1.04713487 1.04329434 1.04023108 0.96791346\n",
            " 1.03706907 1.07179865 1.01431404 1.05060289 1.02054329 0.9686211\n",
            " 1.02810287 0.99521555]\n"
          ]
        }
      ],
      "source": [
        "ncolumns = 20\n",
        "nr.seed(234)\n",
        "normal_vars = nr.normal(size=(1000,ncolumns))\n",
        "print('The means of the columns are\\n', np.mean(normal_vars, axis = 0))\n",
        "print('\\nThe variances of the columns are\\n', np.var(normal_vars, axis = 0))"
      ]
    },
    {
      "cell_type": "markdown",
      "metadata": {
        "id": "OnTSjJS0zFWk"
      },
      "source": [
        "Notice that means are close to 0.0 and variances are close to 1.0 respectively. As expected, there is not much difference between these variables.\n",
        "\n",
        "How many of these t-tests will show **significance** at the 0.05 cut-off level? With 20 variables there are 190 unique pairwise combinations. We expect to find a number of falsely significant test results from this many pairwise tests."
      ]
    },
    {
      "cell_type": "markdown",
      "metadata": {
        "id": "CbIc118wzFWk"
      },
      "source": [
        "## Creating a hash\n",
        "\n",
        "The goal of this exercise is to compute pairwise hypothesis tests of the differences in means for each of the iid Normal vectors. Here you will compute the **key-value**, $[K,V]$, pairs. Each key must represent an index for the two vectors used to compute the test statistic. The keys will then be used to index the results of the hypothesis tests.\n",
        "\n",
        "The question is, how can we create a hash from the keys for the pair of vectors? In this case to we will use a simple, but far from optimal hash. For the two vector indicies $i, j$, for some key and modulo, $m$, we will compute the hash as:  \n",
        "\n",
        "$$h(i,j) = \\big(i + key*(j+1) \\big) mod\\ m$$"
      ]
    },
    {
      "cell_type": "markdown",
      "metadata": {
        "id": "ykTE5jP3zFWk"
      },
      "source": [
        "> **Exercise 1-1:** Given that our space of vectors is actually quite small, just 20, we do not need a sophisticated and scalable hash function. We take advantage of the fact that Pandas data frames use hash tables for index lookup. This hashed key is used to store and retrieve the values using the indicies of a Pandas data frame, in about $O(N)$ time.     \n",
        "\n",
        "> In this exercise you will test a simple hash function and its inverse. Examine the code below and notice that the hash function encodes the two indexes into a single integer by simple additional and multiplication. The modulo operation limits the size of the hash table. However, to keep things simple you will not implement any hash collision resolution mechanism. As a result, the size of the table is set much larger than required.  \n",
        "\n",
        "> To test this hash, do the following:    \n",
        "> 1. Create a function called `hash_function` to compute the hash using the formula given above. The arguments to the function are $i$ and $j$, the $hash\\_key$ and the $modulo$, the divisor for the modulo operator, $\\%$. The number of buckets in the hash table is determined by the $modulo$ argument. The defaults of the arguments are $hash\\_key=64$ and $modulo=1024$. The hash function, $h(i,j)$, is then:\n",
        "> $$h(i,j) = \\big(i + (j+1)*hash\\_key \\big)\\ \\%\\ modulo$$\n",
        "> Setting modulo much greater than number of the possible hashes, limits the probability of hash collisions.\n",
        "> 2. Complete the missing code in the `print_hashes` function.\n",
        ">    -  Use the Python [ittertools.combinations](https://docs.python.org/3/library/itertools.html#itertools.combinations) function to create an itterator for all unique pairwise combinations of indexes i and j. The arguments to the combinaitons function are `range(ncolumns)` choose 2, since the comparisons are pairwise.\n",
        ">    -  Within the loop call the hash_function with the values of $i$ and $j$ as arguments.\n",
        ">    -  Append the hash computed to 'hash_list'   "
      ]
    },
    {
      "cell_type": "code",
      "execution_count": 28,
      "metadata": {
        "id": "0Cg6BY5hzFWk",
        "outputId": "d26692db-4053-4ebb-cd6a-a66e2df1e249",
        "colab": {
          "base_uri": "https://localhost:8080/"
        }
      },
      "outputs": [
        {
          "output_type": "stream",
          "name": "stdout",
          "text": [
            "Hash for (0, 1) is 128\n",
            "Hash for (0, 2) is 192\n",
            "Hash for (0, 3) is 256\n",
            "Hash for (0, 4) is 320\n",
            "Hash for (0, 5) is 384\n",
            "Hash for (0, 6) is 448\n",
            "Hash for (0, 7) is 512\n",
            "Hash for (0, 8) is 576\n",
            "Hash for (0, 9) is 640\n",
            "Hash for (0, 10) is 704\n",
            "Hash for (0, 11) is 768\n",
            "Hash for (0, 12) is 832\n",
            "Hash for (0, 13) is 896\n",
            "Hash for (0, 14) is 960\n",
            "Hash for (0, 15) is 0\n",
            "Hash for (0, 16) is 64\n",
            "Hash for (0, 17) is 128\n",
            "Hash for (0, 18) is 192\n",
            "Hash for (0, 19) is 256\n",
            "Hash for (1, 2) is 193\n",
            "Hash for (1, 3) is 257\n",
            "Hash for (1, 4) is 321\n",
            "Hash for (1, 5) is 385\n",
            "Hash for (1, 6) is 449\n",
            "Hash for (1, 7) is 513\n",
            "Hash for (1, 8) is 577\n",
            "Hash for (1, 9) is 641\n",
            "Hash for (1, 10) is 705\n",
            "Hash for (1, 11) is 769\n",
            "Hash for (1, 12) is 833\n",
            "Hash for (1, 13) is 897\n",
            "Hash for (1, 14) is 961\n",
            "Hash for (1, 15) is 1\n",
            "Hash for (1, 16) is 65\n",
            "Hash for (1, 17) is 129\n",
            "Hash for (1, 18) is 193\n",
            "Hash for (1, 19) is 257\n",
            "Hash for (2, 3) is 258\n",
            "Hash for (2, 4) is 322\n",
            "Hash for (2, 5) is 386\n",
            "Hash for (2, 6) is 450\n",
            "Hash for (2, 7) is 514\n",
            "Hash for (2, 8) is 578\n",
            "Hash for (2, 9) is 642\n",
            "Hash for (2, 10) is 706\n",
            "Hash for (2, 11) is 770\n",
            "Hash for (2, 12) is 834\n",
            "Hash for (2, 13) is 898\n",
            "Hash for (2, 14) is 962\n",
            "Hash for (2, 15) is 2\n",
            "Hash for (2, 16) is 66\n",
            "Hash for (2, 17) is 130\n",
            "Hash for (2, 18) is 194\n",
            "Hash for (2, 19) is 258\n",
            "Hash for (3, 4) is 323\n",
            "Hash for (3, 5) is 387\n",
            "Hash for (3, 6) is 451\n",
            "Hash for (3, 7) is 515\n",
            "Hash for (3, 8) is 579\n",
            "Hash for (3, 9) is 643\n",
            "Hash for (3, 10) is 707\n",
            "Hash for (3, 11) is 771\n",
            "Hash for (3, 12) is 835\n",
            "Hash for (3, 13) is 899\n",
            "Hash for (3, 14) is 963\n",
            "Hash for (3, 15) is 3\n",
            "Hash for (3, 16) is 67\n",
            "Hash for (3, 17) is 131\n",
            "Hash for (3, 18) is 195\n",
            "Hash for (3, 19) is 259\n",
            "Hash for (4, 5) is 388\n",
            "Hash for (4, 6) is 452\n",
            "Hash for (4, 7) is 516\n",
            "Hash for (4, 8) is 580\n",
            "Hash for (4, 9) is 644\n",
            "Hash for (4, 10) is 708\n",
            "Hash for (4, 11) is 772\n",
            "Hash for (4, 12) is 836\n",
            "Hash for (4, 13) is 900\n",
            "Hash for (4, 14) is 964\n",
            "Hash for (4, 15) is 4\n",
            "Hash for (4, 16) is 68\n",
            "Hash for (4, 17) is 132\n",
            "Hash for (4, 18) is 196\n",
            "Hash for (4, 19) is 260\n",
            "Hash for (5, 6) is 453\n",
            "Hash for (5, 7) is 517\n",
            "Hash for (5, 8) is 581\n",
            "Hash for (5, 9) is 645\n",
            "Hash for (5, 10) is 709\n",
            "Hash for (5, 11) is 773\n",
            "Hash for (5, 12) is 837\n",
            "Hash for (5, 13) is 901\n",
            "Hash for (5, 14) is 965\n",
            "Hash for (5, 15) is 5\n",
            "Hash for (5, 16) is 69\n",
            "Hash for (5, 17) is 133\n",
            "Hash for (5, 18) is 197\n",
            "Hash for (5, 19) is 261\n",
            "Hash for (6, 7) is 518\n",
            "Hash for (6, 8) is 582\n",
            "Hash for (6, 9) is 646\n",
            "Hash for (6, 10) is 710\n",
            "Hash for (6, 11) is 774\n",
            "Hash for (6, 12) is 838\n",
            "Hash for (6, 13) is 902\n",
            "Hash for (6, 14) is 966\n",
            "Hash for (6, 15) is 6\n",
            "Hash for (6, 16) is 70\n",
            "Hash for (6, 17) is 134\n",
            "Hash for (6, 18) is 198\n",
            "Hash for (6, 19) is 262\n",
            "Hash for (7, 8) is 583\n",
            "Hash for (7, 9) is 647\n",
            "Hash for (7, 10) is 711\n",
            "Hash for (7, 11) is 775\n",
            "Hash for (7, 12) is 839\n",
            "Hash for (7, 13) is 903\n",
            "Hash for (7, 14) is 967\n",
            "Hash for (7, 15) is 7\n",
            "Hash for (7, 16) is 71\n",
            "Hash for (7, 17) is 135\n",
            "Hash for (7, 18) is 199\n",
            "Hash for (7, 19) is 263\n",
            "Hash for (8, 9) is 648\n",
            "Hash for (8, 10) is 712\n",
            "Hash for (8, 11) is 776\n",
            "Hash for (8, 12) is 840\n",
            "Hash for (8, 13) is 904\n",
            "Hash for (8, 14) is 968\n",
            "Hash for (8, 15) is 8\n",
            "Hash for (8, 16) is 72\n",
            "Hash for (8, 17) is 136\n",
            "Hash for (8, 18) is 200\n",
            "Hash for (8, 19) is 264\n",
            "Hash for (9, 10) is 713\n",
            "Hash for (9, 11) is 777\n",
            "Hash for (9, 12) is 841\n",
            "Hash for (9, 13) is 905\n",
            "Hash for (9, 14) is 969\n",
            "Hash for (9, 15) is 9\n",
            "Hash for (9, 16) is 73\n",
            "Hash for (9, 17) is 137\n",
            "Hash for (9, 18) is 201\n",
            "Hash for (9, 19) is 265\n",
            "Hash for (10, 11) is 778\n",
            "Hash for (10, 12) is 842\n",
            "Hash for (10, 13) is 906\n",
            "Hash for (10, 14) is 970\n",
            "Hash for (10, 15) is 10\n",
            "Hash for (10, 16) is 74\n",
            "Hash for (10, 17) is 138\n",
            "Hash for (10, 18) is 202\n",
            "Hash for (10, 19) is 266\n",
            "Hash for (11, 12) is 843\n",
            "Hash for (11, 13) is 907\n",
            "Hash for (11, 14) is 971\n",
            "Hash for (11, 15) is 11\n",
            "Hash for (11, 16) is 75\n",
            "Hash for (11, 17) is 139\n",
            "Hash for (11, 18) is 203\n",
            "Hash for (11, 19) is 267\n",
            "Hash for (12, 13) is 908\n",
            "Hash for (12, 14) is 972\n",
            "Hash for (12, 15) is 12\n",
            "Hash for (12, 16) is 76\n",
            "Hash for (12, 17) is 140\n",
            "Hash for (12, 18) is 204\n",
            "Hash for (12, 19) is 268\n",
            "Hash for (13, 14) is 973\n",
            "Hash for (13, 15) is 13\n",
            "Hash for (13, 16) is 77\n",
            "Hash for (13, 17) is 141\n",
            "Hash for (13, 18) is 205\n",
            "Hash for (13, 19) is 269\n",
            "Hash for (14, 15) is 14\n",
            "Hash for (14, 16) is 78\n",
            "Hash for (14, 17) is 142\n",
            "Hash for (14, 18) is 206\n",
            "Hash for (14, 19) is 270\n",
            "Hash for (15, 16) is 79\n",
            "Hash for (15, 17) is 143\n",
            "Hash for (15, 18) is 207\n",
            "Hash for (15, 19) is 271\n",
            "Hash for (16, 17) is 144\n",
            "Hash for (16, 18) is 208\n",
            "Hash for (16, 19) is 272\n",
            "Hash for (17, 18) is 209\n",
            "Hash for (17, 19) is 273\n",
            "Hash for (18, 19) is 274\n"
          ]
        }
      ],
      "source": [
        "modulo=1024\n",
        "hash_key=64\n",
        "\n",
        "def hash_function(i, j, hash_key=64, modulo=1024):\n",
        "    return (i + (j + 1) * hash_key) % modulo\n",
        "\n",
        "def print_hashes(hash_key, modulo=1024, print_hash=True):\n",
        "    hash_list = []\n",
        "    for i, j in combinations(range(20), 2):\n",
        "        h = hash_function(i, j, hash_key, modulo)\n",
        "        hash_list.append(h)\n",
        "        if print_hash:\n",
        "            print(f\"Hash for ({i}, {j}) is {h}\")\n",
        "    return hash_list\n",
        "\n",
        "hash_list = print_hashes(hash_key=hash_key)"
      ]
    },
    {
      "cell_type": "markdown",
      "metadata": {
        "id": "Gdm7wJ5kzFWl"
      },
      "source": [
        "> 3. The next question is how good is this hash function. We can run a simple test by plotting the hash values computed. Execute the code in the cell below to display a histogram and a cumulative distribution plot of the hash values."
      ]
    },
    {
      "cell_type": "code",
      "execution_count": 29,
      "metadata": {
        "id": "lYfGlG5dzFWl",
        "outputId": "2002ff93-49a6-4e08-e1b6-d0fe847d243f",
        "colab": {
          "base_uri": "https://localhost:8080/",
          "height": 969
        }
      },
      "outputs": [
        {
          "output_type": "display_data",
          "data": {
            "text/plain": [
              "<Figure size 2000x600 with 1 Axes>"
            ],
            "image/png": "[encoded data removed]"
          },
          "metadata": {}
        },
        {
          "output_type": "stream",
          "name": "stdout",
          "text": [
            "[1. 1. 1. ... 1. 1. 1.]\n"
          ]
        },
        {
          "output_type": "display_data",
          "data": {
            "text/plain": [
              "<Figure size 600x600 with 1 Axes>"
            ],
            "image/png": "[encoded data removed]"
          },
          "metadata": {}
        }
      ],
      "source": [
        "def plot_hash_keys(hashes, bins=1024, modulo=1024):\n",
        "    fig, ax = plt.subplots(figsize=(20, 6))\n",
        "    counts, bins, _ = ax.hist(hashes, bins=bins);\n",
        "    ax.set_ylabel('Count of keys');\n",
        "    ax.set_xlabel('Hash value');\n",
        "    ax.set_title('Count of keys vs. hash values');\n",
        "    ax.set_xlim(0.0, modulo)\n",
        "    plt.show();\n",
        "    print(counts)\n",
        "    fig, ax = plt.subplots(figsize=(6,6))\n",
        "    ax.plot(range(len(counts)), np.cumsum(counts))\n",
        "    ax.plot([0.0,len(counts)], [0.0,len(hashes)], color='red');\n",
        "    ax.set_ylabel('Cumulative Sum');\n",
        "    ax.set_xlabel('Hash index');\n",
        "    ax.set_title('Cumulative sum of hash values');\n",
        "    ax.set_xlim(0.0, modulo)\n",
        "    plt.show();\n",
        "\n",
        "plot_hash_keys(hash_list)"
      ]
    },
    {
      "cell_type": "code",
      "source": [
        "## Copied code from questions #5 and #6 here to analyze the initial batch\n",
        "\n",
        "print(f\"Length of the hash value list: {len(hash_list)}\")\n",
        "\n",
        "unique_hash_values = np.unique(hash_list)\n",
        "print(f\"Length of the unique hash values list: {len(unique_hash_values)}\")\n",
        "\n",
        "num_collisions = len(hash_list) - len(unique_hash_values)\n",
        "print(f\"Number of hash collisions: {num_collisions}\")\n"
      ],
      "metadata": {
        "colab": {
          "base_uri": "https://localhost:8080/"
        },
        "id": "kOzSJSrpt7-S",
        "outputId": "a462d0bf-1c7e-4b7f-d798-afb5b5f239ef"
      },
      "execution_count": 30,
      "outputs": [
        {
          "output_type": "stream",
          "name": "stdout",
          "text": [
            "Length of the hash value list: 190\n",
            "Length of the unique hash values list: 184\n",
            "Number of hash collisions: 6\n"
          ]
        }
      ]
    },
    {
      "cell_type": "markdown",
      "metadata": {
        "id": "pHfLNK6yzFWl"
      },
      "source": [
        "> This hash funciton is not ideal. One can see the deviation from a uniform disitribution of the hash key values.\n",
        ">    - The hash key values are clustered, and not uniformly distributed.\n",
        ">    - The cumulative distribution function deviates significantly from uniform. A hypothtical unifrom distribution would follow the red line.\n",
        ">\n",
        "> 4. The foregoing hash function used a binary key. Often using a prime number as a key gives a more uniform distribution of the hash values. To test this idea, execute the code in the cell below.    "
      ]
    },
    {
      "cell_type": "code",
      "execution_count": 31,
      "metadata": {
        "id": "42gTxF_8zFWl",
        "outputId": "f627cdba-23a6-4685-ec26-96675ad2dbab",
        "colab": {
          "base_uri": "https://localhost:8080/",
          "height": 971
        }
      },
      "outputs": [
        {
          "output_type": "display_data",
          "data": {
            "text/plain": [
              "<Figure size 2000x600 with 1 Axes>"
            ],
            "image/png": "[encoded data removed]"
          },
          "metadata": {}
        },
        {
          "output_type": "stream",
          "name": "stdout",
          "text": [
            "[1. 1. 1. ... 1. 1. 1.]\n"
          ]
        },
        {
          "output_type": "display_data",
          "data": {
            "text/plain": [
              "<Figure size 600x600 with 1 Axes>"
            ],
            "image/png": "[encoded data removed]"
          },
          "metadata": {}
        }
      ],
      "source": [
        "key=7873\n",
        "hash_list = print_hashes(key,  print_hash=False)\n",
        "plot_hash_keys(hash_list)"
      ]
    },
    {
      "cell_type": "markdown",
      "metadata": {
        "id": "rtEyYgjNzFWl"
      },
      "source": [
        "> The histograms of the two hash functions look similar, but there is a noticable improvement in the cumulative distirbution plot using a prime number key.  \n",
        ">\n",
        "> The next question we should ask about this hash function with the prime number key is if there are any hash collisions. To find out, do the following.     \n",
        "> 5. Print the length of the hash value list.  \n",
        "> 6. Print the length of the unique hash values. You can find the unique values in a list with the [numpy.unique](https://numpy.org/doc/stable/reference/generated/numpy.unique.html) function."
      ]
    },
    {
      "cell_type": "code",
      "execution_count": 32,
      "metadata": {
        "id": "ZObZyxnPzFWl",
        "colab": {
          "base_uri": "https://localhost:8080/"
        },
        "outputId": "872bc034-98e1-49e9-a84f-23c4aaac19d5"
      },
      "outputs": [
        {
          "output_type": "stream",
          "name": "stdout",
          "text": [
            "Length of the hash value list: 190\n",
            "Length of the unique hash values list: 190\n",
            "Number of hash collisions: 0\n"
          ]
        }
      ],
      "source": [
        "## Put your code below.\n",
        "\n",
        "print(f\"Length of the hash value list: {len(hash_list)}\")\n",
        "\n",
        "unique_hash_values = np.unique(hash_list)\n",
        "print(f\"Length of the unique hash values list: {len(unique_hash_values)}\")\n",
        "\n",
        "num_collisions = len(hash_list) - len(unique_hash_values)\n",
        "print(f\"Number of hash collisions: {num_collisions}\")\n",
        "\n"
      ]
    },
    {
      "cell_type": "markdown",
      "metadata": {
        "id": "ALL0t-yRzFWl"
      },
      "source": [
        "> Examine the results you have Created and answer these questions.\n",
        "> 1. An ideal hash function should not exhibit lumpiness or clustering of the hash values. Examine the histograms of the hash values generated with the prime number key. Do you see any evidence of lumpiness in the distribution of the hash values and what does this tell you about deviation from ideal behavior.  \n",
        "> 2. Compare the cummulative distibution plots of the two hash functions. Which of these hash functions is closer to the uniform distribution and why?\n",
        "> 3. What does your previous observation tell you about the choice of hash keys?   \n",
        "> 4. Is there any evidence of hash key collisions and why?     \n",
        "> **End of exercise.**"
      ]
    },
    {
      "cell_type": "markdown",
      "metadata": {
        "id": "uws6MR03zFWl"
      },
      "source": [
        "> **Answers:**\n",
        "\n",
        ">  1. When examining the histograms of the hash values generated with the prime number key, there is less evidence of lumpiness or clustering compared to the initial binary key. The initial hash function shows some clustering, indicated by uneven bars in the histogram, suggesting a deviation from ideal behavior. This tells us that the initial hash function did not distribute hash values uniformly, resulting in some keys being more common than others\n",
        "\n",
        ">  2. The hash function with the prime number key 7873 is closer to the uniform distribution. This is evident from the cumulative distribution plot aligning more closely with the red line. The initial binary key's cumulative distribution deviates more from the line, indicating less uniformity and more clustering\n",
        "\n",
        ">  3. The observation that the hash function with the prime number key performs better suggests that choosing prime numbers as hash keys generally leads to a more uniform distribution of hash values because prime numbers help to reduce the likelihood of hash value clustering and collisions. The initial key resulted in more clustering and collisions, that's why it'ss important to choose the right key in hash functions\n",
        "\n",
        ">  4. There is evidence of hash key collisions in the initial results, as the length of the hash value list (190) does not match the length of the unique hash values list (184), indicating 6 collisions. This means that some pairs of indices produced the same hash value with the initial binary key, leading to collisions. In contrast, the prime number key resulted in no collisions, confirming its effectiveness in distributing hash values uniquely and uniformly"
      ]
    },
    {
      "cell_type": "markdown",
      "metadata": {
        "id": "KsLG1xTozFWm"
      },
      "source": [
        "## A MapReduce Example   \n",
        "\n",
        "In the following steps you will use a simplified MapReduce framework to find and sort every possible pairwise t-test result for the `normal_vars` table. To do so you must find all **combinations** of keys, $\\{i,j\\}$. The MapReduce processes you will create, are intended to create a table of these unique pairwise key combinations. The t-test is then computed from the values in the `normal_vars` table in the Reduce process. This MapReduce process only creates the required key combinations. The values remain in the `normal_vars` table. This approach simplifies some of the bookkeeping.     \n",
        "\n",
        "In a bit more details the steps for this algorithm are:   \n",
        "- The **Map process** builds a hash table with the hash of i,j as key and i,j as values. As has been noted most of this hash table will contain NaNs. The hash table is still relatively small, since the values of the vectors used for the statistical calculations are not stored in the table, only the results. Please don't be confused by the switching roles of i,j as they act as keys and values at different times.   \n",
        "- The **Shuffle** scans the hash table for non-empty rows (not NaN values for i,j) and builds a table of unique combination of keys i and j.   \n",
        "- The **Reduce process** uses the keys i,j from the Shuffle process to look up the columns of the numeric random variables in the `normal_vars` table. The resulting table contains the i,j pairs as the keys for the random variable lookup. The t-test is applied to these numeric values. The results are sorted and returned.   \n",
        "\n",
        "It is clear that at this small scale one could compute the t-test results for the combinations of the random variables directly. The point of the exercises is to get some experience working with key-value pairs and the MapReduce framework.  "
      ]
    },
    {
      "cell_type": "markdown",
      "metadata": {
        "id": "p0f-avH_zFWm"
      },
      "source": [
        "### The map process\n",
        "\n",
        "We are constructing this example a map and a reduce process. The processes are intended to compute the hypothesis test for differences of means between all the pairs of vectors. The first step is the map process, which creates the keys, or values of $i$ and $j$ for these pairs. This is an example of a **similarity join**.    \n",
        "\n",
        "> **Computational Note:** In this exercise you will create your own simple hash table using a Pandas data frame. The data frame will be indexed by the key value computed by hashing the $[i,j]$ pairs, which gives nearly $O(n)$ performance for lookups. This implementation is only for demonstration purposes only and has several significant limitations compared to a production quality implementation.\n",
        "> 1. You will use a fixed length data frame. We take advantage of the fact the index lookup in Pandas data frames uses a hash table. In other words, referencing a row (or column) of a Pandas data frame is a key-value lookup using a hash table.\n",
        "> 2. You will not implement a collision resolution mechanism so a larger table is required, which is not particularly memory efficient. At scale, a sparse representation of the table would be used.     \n",
        "> 3. You will not implement any table resizing mechanism. Again, a fixed size table is limited in the quantity of data the table can store and also results in poor memory utilization.  \n",
        "> As an alternative, we could use the hashed $[K,V]$ pairs of a Python dictionary. However, a dictionary only allows one key value and we are working with 2, $\\{i,j\\}$. You could create a hash and then hash this hash with the built in function. In this case we will take the more direct route just described. If you are not familiar with Python dictionaries you can find a short tutorial [here](https://www.tutorialspoint.com/python_data_structure/python_hash_table.htm), as well as many other places on the web.   \n",
        "\n",
        "> **Exercise 1-2:** You will now create the code for the map which build a data frame with $i, j$ key pairs indexed by the hash. By the following steps you will create code that represents a map task.  a\n",
        "> 1. Create a data frame with two columns $i$ and $j$ with number of rows $= modulo$ and set all values to $= numpy.nan$.\n",
        "> 2. Create a loop over all combinations of the pairs of i and j.   \n",
        "> 2. Compute the hash value for the indexes, i and j.  \n",
        "> 4. Add the $i$ and $j$ values to the row indexed by the hash value.  \n",
        "> 5. Return the hash table.\n",
        "> 6. Execute the function to create the hash table.\n",
        "> 7. Compute and print the length of the hash table."
      ]
    },
    {
      "cell_type": "code",
      "execution_count": 35,
      "metadata": {
        "id": "jhN_iyxSzFWm",
        "colab": {
          "base_uri": "https://localhost:8080/",
          "height": 1000
        },
        "outputId": "4d7c4c8a-2637-42ce-932f-33fc7208ae1d"
      },
      "outputs": [
        {
          "output_type": "stream",
          "name": "stdout",
          "text": [
            "Hash for (0, 1) is 386\n",
            "Hash for (0, 2) is 67\n",
            "Hash for (0, 3) is 772\n",
            "Hash for (0, 4) is 453\n",
            "Hash for (0, 5) is 134\n",
            "Hash for (0, 6) is 839\n",
            "Hash for (0, 7) is 520\n",
            "Hash for (0, 8) is 201\n",
            "Hash for (0, 9) is 906\n",
            "Hash for (0, 10) is 587\n",
            "Hash for (0, 11) is 268\n",
            "Hash for (0, 12) is 973\n",
            "Hash for (0, 13) is 654\n",
            "Hash for (0, 14) is 335\n",
            "Hash for (0, 15) is 16\n",
            "Hash for (0, 16) is 721\n",
            "Hash for (0, 17) is 402\n",
            "Hash for (0, 18) is 83\n",
            "Hash for (0, 19) is 788\n",
            "Hash for (1, 2) is 68\n",
            "Hash for (1, 3) is 773\n",
            "Hash for (1, 4) is 454\n",
            "Hash for (1, 5) is 135\n",
            "Hash for (1, 6) is 840\n",
            "Hash for (1, 7) is 521\n",
            "Hash for (1, 8) is 202\n",
            "Hash for (1, 9) is 907\n",
            "Hash for (1, 10) is 588\n",
            "Hash for (1, 11) is 269\n",
            "Hash for (1, 12) is 974\n",
            "Hash for (1, 13) is 655\n",
            "Hash for (1, 14) is 336\n",
            "Hash for (1, 15) is 17\n",
            "Hash for (1, 16) is 722\n",
            "Hash for (1, 17) is 403\n",
            "Hash for (1, 18) is 84\n",
            "Hash for (1, 19) is 789\n",
            "Hash for (2, 3) is 774\n",
            "Hash for (2, 4) is 455\n",
            "Hash for (2, 5) is 136\n",
            "Hash for (2, 6) is 841\n",
            "Hash for (2, 7) is 522\n",
            "Hash for (2, 8) is 203\n",
            "Hash for (2, 9) is 908\n",
            "Hash for (2, 10) is 589\n",
            "Hash for (2, 11) is 270\n",
            "Hash for (2, 12) is 975\n",
            "Hash for (2, 13) is 656\n",
            "Hash for (2, 14) is 337\n",
            "Hash for (2, 15) is 18\n",
            "Hash for (2, 16) is 723\n",
            "Hash for (2, 17) is 404\n",
            "Hash for (2, 18) is 85\n",
            "Hash for (2, 19) is 790\n",
            "Hash for (3, 4) is 456\n",
            "Hash for (3, 5) is 137\n",
            "Hash for (3, 6) is 842\n",
            "Hash for (3, 7) is 523\n",
            "Hash for (3, 8) is 204\n",
            "Hash for (3, 9) is 909\n",
            "Hash for (3, 10) is 590\n",
            "Hash for (3, 11) is 271\n",
            "Hash for (3, 12) is 976\n",
            "Hash for (3, 13) is 657\n",
            "Hash for (3, 14) is 338\n",
            "Hash for (3, 15) is 19\n",
            "Hash for (3, 16) is 724\n",
            "Hash for (3, 17) is 405\n",
            "Hash for (3, 18) is 86\n",
            "Hash for (3, 19) is 791\n",
            "Hash for (4, 5) is 138\n",
            "Hash for (4, 6) is 843\n",
            "Hash for (4, 7) is 524\n",
            "Hash for (4, 8) is 205\n",
            "Hash for (4, 9) is 910\n",
            "Hash for (4, 10) is 591\n",
            "Hash for (4, 11) is 272\n",
            "Hash for (4, 12) is 977\n",
            "Hash for (4, 13) is 658\n",
            "Hash for (4, 14) is 339\n",
            "Hash for (4, 15) is 20\n",
            "Hash for (4, 16) is 725\n",
            "Hash for (4, 17) is 406\n",
            "Hash for (4, 18) is 87\n",
            "Hash for (4, 19) is 792\n",
            "Hash for (5, 6) is 844\n",
            "Hash for (5, 7) is 525\n",
            "Hash for (5, 8) is 206\n",
            "Hash for (5, 9) is 911\n",
            "Hash for (5, 10) is 592\n",
            "Hash for (5, 11) is 273\n",
            "Hash for (5, 12) is 978\n",
            "Hash for (5, 13) is 659\n",
            "Hash for (5, 14) is 340\n",
            "Hash for (5, 15) is 21\n",
            "Hash for (5, 16) is 726\n",
            "Hash for (5, 17) is 407\n",
            "Hash for (5, 18) is 88\n",
            "Hash for (5, 19) is 793\n",
            "Hash for (6, 7) is 526\n",
            "Hash for (6, 8) is 207\n",
            "Hash for (6, 9) is 912\n",
            "Hash for (6, 10) is 593\n",
            "Hash for (6, 11) is 274\n",
            "Hash for (6, 12) is 979\n",
            "Hash for (6, 13) is 660\n",
            "Hash for (6, 14) is 341\n",
            "Hash for (6, 15) is 22\n",
            "Hash for (6, 16) is 727\n",
            "Hash for (6, 17) is 408\n",
            "Hash for (6, 18) is 89\n",
            "Hash for (6, 19) is 794\n",
            "Hash for (7, 8) is 208\n",
            "Hash for (7, 9) is 913\n",
            "Hash for (7, 10) is 594\n",
            "Hash for (7, 11) is 275\n",
            "Hash for (7, 12) is 980\n",
            "Hash for (7, 13) is 661\n",
            "Hash for (7, 14) is 342\n",
            "Hash for (7, 15) is 23\n",
            "Hash for (7, 16) is 728\n",
            "Hash for (7, 17) is 409\n",
            "Hash for (7, 18) is 90\n",
            "Hash for (7, 19) is 795\n",
            "Hash for (8, 9) is 914\n",
            "Hash for (8, 10) is 595\n",
            "Hash for (8, 11) is 276\n",
            "Hash for (8, 12) is 981\n",
            "Hash for (8, 13) is 662\n",
            "Hash for (8, 14) is 343\n",
            "Hash for (8, 15) is 24\n",
            "Hash for (8, 16) is 729\n",
            "Hash for (8, 17) is 410\n",
            "Hash for (8, 18) is 91\n",
            "Hash for (8, 19) is 796\n",
            "Hash for (9, 10) is 596\n",
            "Hash for (9, 11) is 277\n",
            "Hash for (9, 12) is 982\n",
            "Hash for (9, 13) is 663\n",
            "Hash for (9, 14) is 344\n",
            "Hash for (9, 15) is 25\n",
            "Hash for (9, 16) is 730\n",
            "Hash for (9, 17) is 411\n",
            "Hash for (9, 18) is 92\n",
            "Hash for (9, 19) is 797\n",
            "Hash for (10, 11) is 278\n",
            "Hash for (10, 12) is 983\n",
            "Hash for (10, 13) is 664\n",
            "Hash for (10, 14) is 345\n",
            "Hash for (10, 15) is 26\n",
            "Hash for (10, 16) is 731\n",
            "Hash for (10, 17) is 412\n",
            "Hash for (10, 18) is 93\n",
            "Hash for (10, 19) is 798\n",
            "Hash for (11, 12) is 984\n",
            "Hash for (11, 13) is 665\n",
            "Hash for (11, 14) is 346\n",
            "Hash for (11, 15) is 27\n",
            "Hash for (11, 16) is 732\n",
            "Hash for (11, 17) is 413\n",
            "Hash for (11, 18) is 94\n",
            "Hash for (11, 19) is 799\n",
            "Hash for (12, 13) is 666\n",
            "Hash for (12, 14) is 347\n",
            "Hash for (12, 15) is 28\n",
            "Hash for (12, 16) is 733\n",
            "Hash for (12, 17) is 414\n",
            "Hash for (12, 18) is 95\n",
            "Hash for (12, 19) is 800\n",
            "Hash for (13, 14) is 348\n",
            "Hash for (13, 15) is 29\n",
            "Hash for (13, 16) is 734\n",
            "Hash for (13, 17) is 415\n",
            "Hash for (13, 18) is 96\n",
            "Hash for (13, 19) is 801\n",
            "Hash for (14, 15) is 30\n",
            "Hash for (14, 16) is 735\n",
            "Hash for (14, 17) is 416\n",
            "Hash for (14, 18) is 97\n",
            "Hash for (14, 19) is 802\n",
            "Hash for (15, 16) is 736\n",
            "Hash for (15, 17) is 417\n",
            "Hash for (15, 18) is 98\n",
            "Hash for (15, 19) is 803\n",
            "Hash for (16, 17) is 418\n",
            "Hash for (16, 18) is 99\n",
            "Hash for (16, 19) is 804\n",
            "Hash for (17, 18) is 100\n",
            "Hash for (17, 19) is 805\n",
            "Hash for (18, 19) is 806\n",
            "length of the table = 1024\n",
            "number of non-NaN rows = 190\n"
          ]
        },
        {
          "output_type": "execute_result",
          "data": {
            "text/plain": [
              "      i     j\n",
              "0   NaN   NaN\n",
              "1   NaN   NaN\n",
              "2   NaN   NaN\n",
              "3   NaN   NaN\n",
              "4   NaN   NaN\n",
              "5   NaN   NaN\n",
              "6   NaN   NaN\n",
              "7   NaN   NaN\n",
              "8   NaN   NaN\n",
              "9   NaN   NaN\n",
              "10  NaN   NaN\n",
              "11  NaN   NaN\n",
              "12  NaN   NaN\n",
              "13  NaN   NaN\n",
              "14  NaN   NaN\n",
              "15  NaN   NaN\n",
              "16  0.0  15.0\n",
              "17  1.0  15.0\n",
              "18  2.0  15.0\n",
              "19  3.0  15.0"
            ],
            "text/html": [
              "\n",
              "  <div id=\"df-43508838-6098-48ed-9981-8aceb3608358\" class=\"colab-df-container\">\n",
              "    <div>\n",
              "<style scoped>\n",
              "    .dataframe tbody tr th:only-of-type {\n",
              "        vertical-align: middle;\n",
              "    }\n",
              "\n",
              "    .dataframe tbody tr th {\n",
              "        vertical-align: top;\n",
              "    }\n",
              "\n",
              "    .dataframe thead th {\n",
              "        text-align: right;\n",
              "    }\n",
              "</style>\n",
              "<table border=\"1\" class=\"dataframe\">\n",
              "  <thead>\n",
              "    <tr style=\"text-align: right;\">\n",
              "      <th></th>\n",
              "      <th>i</th>\n",
              "      <th>j</th>\n",
              "    </tr>\n",
              "  </thead>\n",
              "  <tbody>\n",
              "    <tr>\n",
              "      <th>0</th>\n",
              "      <td>NaN</td>\n",
              "      <td>NaN</td>\n",
              "    </tr>\n",
              "    <tr>\n",
              "      <th>1</th>\n",
              "      <td>NaN</td>\n",
              "      <td>NaN</td>\n",
              "    </tr>\n",
              "    <tr>\n",
              "      <th>2</th>\n",
              "      <td>NaN</td>\n",
              "      <td>NaN</td>\n",
              "    </tr>\n",
              "    <tr>\n",
              "      <th>3</th>\n",
              "      <td>NaN</td>\n",
              "      <td>NaN</td>\n",
              "    </tr>\n",
              "    <tr>\n",
              "      <th>4</th>\n",
              "      <td>NaN</td>\n",
              "      <td>NaN</td>\n",
              "    </tr>\n",
              "    <tr>\n",
              "      <th>5</th>\n",
              "      <td>NaN</td>\n",
              "      <td>NaN</td>\n",
              "    </tr>\n",
              "    <tr>\n",
              "      <th>6</th>\n",
              "      <td>NaN</td>\n",
              "      <td>NaN</td>\n",
              "    </tr>\n",
              "    <tr>\n",
              "      <th>7</th>\n",
              "      <td>NaN</td>\n",
              "      <td>NaN</td>\n",
              "    </tr>\n",
              "    <tr>\n",
              "      <th>8</th>\n",
              "      <td>NaN</td>\n",
              "      <td>NaN</td>\n",
              "    </tr>\n",
              "    <tr>\n",
              "      <th>9</th>\n",
              "      <td>NaN</td>\n",
              "      <td>NaN</td>\n",
              "    </tr>\n",
              "    <tr>\n",
              "      <th>10</th>\n",
              "      <td>NaN</td>\n",
              "      <td>NaN</td>\n",
              "    </tr>\n",
              "    <tr>\n",
              "      <th>11</th>\n",
              "      <td>NaN</td>\n",
              "      <td>NaN</td>\n",
              "    </tr>\n",
              "    <tr>\n",
              "      <th>12</th>\n",
              "      <td>NaN</td>\n",
              "      <td>NaN</td>\n",
              "    </tr>\n",
              "    <tr>\n",
              "      <th>13</th>\n",
              "      <td>NaN</td>\n",
              "      <td>NaN</td>\n",
              "    </tr>\n",
              "    <tr>\n",
              "      <th>14</th>\n",
              "      <td>NaN</td>\n",
              "      <td>NaN</td>\n",
              "    </tr>\n",
              "    <tr>\n",
              "      <th>15</th>\n",
              "      <td>NaN</td>\n",
              "      <td>NaN</td>\n",
              "    </tr>\n",
              "    <tr>\n",
              "      <th>16</th>\n",
              "      <td>0.0</td>\n",
              "      <td>15.0</td>\n",
              "    </tr>\n",
              "    <tr>\n",
              "      <th>17</th>\n",
              "      <td>1.0</td>\n",
              "      <td>15.0</td>\n",
              "    </tr>\n",
              "    <tr>\n",
              "      <th>18</th>\n",
              "      <td>2.0</td>\n",
              "      <td>15.0</td>\n",
              "    </tr>\n",
              "    <tr>\n",
              "      <th>19</th>\n",
              "      <td>3.0</td>\n",
              "      <td>15.0</td>\n",
              "    </tr>\n",
              "  </tbody>\n",
              "</table>\n",
              "</div>\n",
              "    <div class=\"colab-df-buttons\">\n",
              "\n",
              "  <div class=\"colab-df-container\">\n",
              "    <button class=\"colab-df-convert\" onclick=\"convertToInteractive('df-43508838-6098-48ed-9981-8aceb3608358')\"\n",
              "            title=\"Convert this dataframe to an interactive table.\"\n",
              "            style=\"display:none;\">\n",
              "\n",
              "  <svg xmlns=\"http://www.w3.org/2000/svg\" height=\"24px\" viewBox=\"0 -960 960 960\">\n",
              "    <path d=\"M120-120v-720h720v720H120Zm60-500h600v-160H180v160Zm220 220h160v-160H400v160Zm0 220h160v-160H400v160ZM180-400h160v-160H180v160Zm440 0h160v-160H620v160ZM180-180h160v-160H180v160Zm440 0h160v-160H620v160Z\"/>\n",
              "  </svg>\n",
              "    </button>\n",
              "\n",
              "  <style>\n",
              "    .colab-df-container {\n",
              "      display:flex;\n",
              "      gap: 12px;\n",
              "    }\n",
              "\n",
              "    .colab-df-convert {\n",
              "      background-color: #E8F0FE;\n",
              "      border: none;\n",
              "      border-radius: 50%;\n",
              "      cursor: pointer;\n",
              "      display: none;\n",
              "      fill: #1967D2;\n",
              "      height: 32px;\n",
              "      padding: 0 0 0 0;\n",
              "      width: 32px;\n",
              "    }\n",
              "\n",
              "    .colab-df-convert:hover {\n",
              "      background-color: #E2EBFA;\n",
              "      box-shadow: 0px 1px 2px rgba(60, 64, 67, 0.3), 0px 1px 3px 1px rgba(60, 64, 67, 0.15);\n",
              "      fill: #174EA6;\n",
              "    }\n",
              "\n",
              "    .colab-df-buttons div {\n",
              "      margin-bottom: 4px;\n",
              "    }\n",
              "\n",
              "    [theme=dark] .colab-df-convert {\n",
              "      background-color: #3B4455;\n",
              "      fill: #D2E3FC;\n",
              "    }\n",
              "\n",
              "    [theme=dark] .colab-df-convert:hover {\n",
              "      background-color: #434B5C;\n",
              "      box-shadow: 0px 1px 3px 1px rgba(0, 0, 0, 0.15);\n",
              "      filter: drop-shadow(0px 1px 2px rgba(0, 0, 0, 0.3));\n",
              "      fill: #FFFFFF;\n",
              "    }\n",
              "  </style>\n",
              "\n",
              "    <script>\n",
              "      const buttonEl =\n",
              "        document.querySelector('#df-43508838-6098-48ed-9981-8aceb3608358 button.colab-df-convert');\n",
              "      buttonEl.style.display =\n",
              "        google.colab.kernel.accessAllowed ? 'block' : 'none';\n",
              "\n",
              "      async function convertToInteractive(key) {\n",
              "        const element = document.querySelector('#df-43508838-6098-48ed-9981-8aceb3608358');\n",
              "        const dataTable =\n",
              "          await google.colab.kernel.invokeFunction('convertToInteractive',\n",
              "                                                    [key], {});\n",
              "        if (!dataTable) return;\n",
              "\n",
              "        const docLinkHtml = 'Like what you see? Visit the ' +\n",
              "          '<a target=\"_blank\" href=https://colab.research.google.com/notebooks/data_table.ipynb>data table notebook</a>'\n",
              "          + ' to learn more about interactive tables.';\n",
              "        element.innerHTML = '';\n",
              "        dataTable['output_type'] = 'display_data';\n",
              "        await google.colab.output.renderOutput(dataTable, element);\n",
              "        const docLink = document.createElement('div');\n",
              "        docLink.innerHTML = docLinkHtml;\n",
              "        element.appendChild(docLink);\n",
              "      }\n",
              "    </script>\n",
              "  </div>\n",
              "\n",
              "\n",
              "<div id=\"df-eb45702d-5c2f-403a-83f9-12b8fb839df6\">\n",
              "  <button class=\"colab-df-quickchart\" onclick=\"quickchart('df-eb45702d-5c2f-403a-83f9-12b8fb839df6')\"\n",
              "            title=\"Suggest charts\"\n",
              "            style=\"display:none;\">\n",
              "\n",
              "<svg xmlns=\"http://www.w3.org/2000/svg\" height=\"24px\"viewBox=\"0 0 24 24\"\n",
              "     width=\"24px\">\n",
              "    <g>\n",
              "        <path d=\"M19 3H5c-1.1 0-2 .9-2 2v14c0 1.1.9 2 2 2h14c1.1 0 2-.9 2-2V5c0-1.1-.9-2-2-2zM9 17H7v-7h2v7zm4 0h-2V7h2v10zm4 0h-2v-4h2v4z\"/>\n",
              "    </g>\n",
              "</svg>\n",
              "  </button>\n",
              "\n",
              "<style>\n",
              "  .colab-df-quickchart {\n",
              "      --bg-color: #E8F0FE;\n",
              "      --fill-color: #1967D2;\n",
              "      --hover-bg-color: #E2EBFA;\n",
              "      --hover-fill-color: #174EA6;\n",
              "      --disabled-fill-color: #AAA;\n",
              "      --disabled-bg-color: #DDD;\n",
              "  }\n",
              "\n",
              "  [theme=dark] .colab-df-quickchart {\n",
              "      --bg-color: #3B4455;\n",
              "      --fill-color: #D2E3FC;\n",
              "      --hover-bg-color: #434B5C;\n",
              "      --hover-fill-color: #FFFFFF;\n",
              "      --disabled-bg-color: #3B4455;\n",
              "      --disabled-fill-color: #666;\n",
              "  }\n",
              "\n",
              "  .colab-df-quickchart {\n",
              "    background-color: var(--bg-color);\n",
              "    border: none;\n",
              "    border-radius: 50%;\n",
              "    cursor: pointer;\n",
              "    display: none;\n",
              "    fill: var(--fill-color);\n",
              "    height: 32px;\n",
              "    padding: 0;\n",
              "    width: 32px;\n",
              "  }\n",
              "\n",
              "  .colab-df-quickchart:hover {\n",
              "    background-color: var(--hover-bg-color);\n",
              "    box-shadow: 0 1px 2px rgba(60, 64, 67, 0.3), 0 1px 3px 1px rgba(60, 64, 67, 0.15);\n",
              "    fill: var(--button-hover-fill-color);\n",
              "  }\n",
              "\n",
              "  .colab-df-quickchart-complete:disabled,\n",
              "  .colab-df-quickchart-complete:disabled:hover {\n",
              "    background-color: var(--disabled-bg-color);\n",
              "    fill: var(--disabled-fill-color);\n",
              "    box-shadow: none;\n",
              "  }\n",
              "\n",
              "  .colab-df-spinner {\n",
              "    border: 2px solid var(--fill-color);\n",
              "    border-color: transparent;\n",
              "    border-bottom-color: var(--fill-color);\n",
              "    animation:\n",
              "      spin 1s steps(1) infinite;\n",
              "  }\n",
              "\n",
              "  @keyframes spin {\n",
              "    0% {\n",
              "      border-color: transparent;\n",
              "      border-bottom-color: var(--fill-color);\n",
              "      border-left-color: var(--fill-color);\n",
              "    }\n",
              "    20% {\n",
              "      border-color: transparent;\n",
              "      border-left-color: var(--fill-color);\n",
              "      border-top-color: var(--fill-color);\n",
              "    }\n",
              "    30% {\n",
              "      border-color: transparent;\n",
              "      border-left-color: var(--fill-color);\n",
              "      border-top-color: var(--fill-color);\n",
              "      border-right-color: var(--fill-color);\n",
              "    }\n",
              "    40% {\n",
              "      border-color: transparent;\n",
              "      border-right-color: var(--fill-color);\n",
              "      border-top-color: var(--fill-color);\n",
              "    }\n",
              "    60% {\n",
              "      border-color: transparent;\n",
              "      border-right-color: var(--fill-color);\n",
              "    }\n",
              "    80% {\n",
              "      border-color: transparent;\n",
              "      border-right-color: var(--fill-color);\n",
              "      border-bottom-color: var(--fill-color);\n",
              "    }\n",
              "    90% {\n",
              "      border-color: transparent;\n",
              "      border-bottom-color: var(--fill-color);\n",
              "    }\n",
              "  }\n",
              "</style>\n",
              "\n",
              "  <script>\n",
              "    async function quickchart(key) {\n",
              "      const quickchartButtonEl =\n",
              "        document.querySelector('#' + key + ' button');\n",
              "      quickchartButtonEl.disabled = true;  // To prevent multiple clicks.\n",
              "      quickchartButtonEl.classList.add('colab-df-spinner');\n",
              "      try {\n",
              "        const charts = await google.colab.kernel.invokeFunction(\n",
              "            'suggestCharts', [key], {});\n",
              "      } catch (error) {\n",
              "        console.error('Error during call to suggestCharts:', error);\n",
              "      }\n",
              "      quickchartButtonEl.classList.remove('colab-df-spinner');\n",
              "      quickchartButtonEl.classList.add('colab-df-quickchart-complete');\n",
              "    }\n",
              "    (() => {\n",
              "      let quickchartButtonEl =\n",
              "        document.querySelector('#df-eb45702d-5c2f-403a-83f9-12b8fb839df6 button');\n",
              "      quickchartButtonEl.style.display =\n",
              "        google.colab.kernel.accessAllowed ? 'block' : 'none';\n",
              "    })();\n",
              "  </script>\n",
              "</div>\n",
              "\n",
              "    </div>\n",
              "  </div>\n"
            ],
            "application/vnd.google.colaboratory.intrinsic+json": {
              "type": "dataframe",
              "variable_name": "hash_table",
              "summary": "{\n  \"name\": \"hash_table\",\n  \"rows\": 1024,\n  \"fields\": [\n    {\n      \"column\": \"i\",\n      \"properties\": {\n        \"dtype\": \"number\",\n        \"std\": 4.594682917363407,\n        \"min\": 0.0,\n        \"max\": 18.0,\n        \"num_unique_values\": 19,\n        \"samples\": [\n          0.0,\n          5.0,\n          11.0\n        ],\n        \"semantic_type\": \"\",\n        \"description\": \"\"\n      }\n    },\n    {\n      \"column\": \"j\",\n      \"properties\": {\n        \"dtype\": \"number\",\n        \"std\": 4.594682917363407,\n        \"min\": 1.0,\n        \"max\": 19.0,\n        \"num_unique_values\": 19,\n        \"samples\": [\n          15.0,\n          11.0,\n          10.0\n        ],\n        \"semantic_type\": \"\",\n        \"description\": \"\"\n      }\n    }\n  ]\n}"
            }
          },
          "metadata": {},
          "execution_count": 35
        }
      ],
      "source": [
        "def map_hypothesis(vars, hash_key, modulo):\n",
        "    #1: Create a data frame with two columns i and j with number of rows = modulo\n",
        "    hash_table = pd.DataFrame(np.nan, index=range(modulo), columns=['i', 'j'])\n",
        "\n",
        "    #2: Loop over all combinations of the pairs of i and j\n",
        "    for i, j in combinations(range(vars.shape[1]), 2):\n",
        "        #3: Compute the hash value for the indexes, i and j\n",
        "        h = hash_function(i, j, hash_key, modulo)\n",
        "\n",
        "        print(f'Hash for ({i}, {j}) is {h}') # to debug the hash value\n",
        "\n",
        "        #4: Add the i and j values to the row indexed by the hash value\n",
        "        hash_table.at[h, 'i'] = i\n",
        "        hash_table.at[h, 'j'] = j\n",
        "\n",
        "    #5: Retunr the hash table and number of columns\n",
        "    ncolumns = len(hash_table.dropna())\n",
        "    return hash_table, ncolumns\n",
        "\n",
        "# Before executing the funvtion - Generate normally distributed variables\n",
        "ncolumns = 20\n",
        "nr.seed(234)\n",
        "normal_vars = nr.normal(size=(1000, ncolumns))\n",
        "\n",
        "hash_key = 7873\n",
        "modulo = 1024\n",
        "\n",
        "#6: Executing the Function\n",
        "hash_table, nhashes = map_hypothesis(normal_vars, hash_key, modulo)\n",
        "#7: Printing the Length\n",
        "print('length of the table = ' + str(len(hash_table)))\n",
        "print('number of non-NaN rows = ' + str(nhashes))\n",
        "hash_table.head(20)"
      ]
    },
    {
      "cell_type": "markdown",
      "metadata": {
        "id": "XJBcBXjHzFWm"
      },
      "source": [
        "> **End of exercise.**"
      ]
    },
    {
      "cell_type": "markdown",
      "metadata": {
        "id": "m5DyVDi3zFWm"
      },
      "source": [
        "### The shuffle and reduce task\n",
        "\n",
        "Now that you have the keys for the pairwise combinations of the vectors it is time to perform the reduce process. The reduce process computes the pair-wise t-statistics and p-values. These statistical values are indexed by the keys of the pair of vectors. This process reduces the full vectors of values down to just two numbers for each pair of vectors.\n",
        "\n",
        "> **Exercise 1-3:** You will now create and apply the following code for the reduce process:   \n",
        "> 1. Create an empty data frame, called  `test_results`, with columns, `i`, `j`, `t_statistic`, and `p_value`, and length of the previously created hash table.    \n",
        "> 2. Iterate over the combinations of possible $\\{i,j \\}$ values.  \n",
        "> 3. For the $i,j$ pairs index the values in the random variable vectors of the `normal_vars` data frame and use them to compute the pair-wise t-statistic and p-value with the [scipy.stats.ttest_ind](https://docs.scipy.org/doc/scipy/reference/generated/scipy.stats.ttest_ind.html) function.\n",
        "> 4. Assign the values to the row in the data frame indexed by the hash value of $\\{i,j \\}$. Use the `hash_function` previously created. Index the data frame using the Pandas `loc` method.     \n",
        "> 5. Return the data frame, sorted in ascending order, using the [Pandas.DataFrame.sort_values](https://turned.pydata.org/docs/reference/api/pandas.DataFrame.sort_values.html).    \n",
        "> 6. Execute your function and save the returned data frame.   \n",
        "> 7. Display the first 10 rows of the data frame.  "
      ]
    },
    {
      "cell_type": "code",
      "execution_count": null,
      "metadata": {
        "id": "jGIG7lxNzFWm"
      },
      "outputs": [],
      "source": [
        "def reduce_significance(hash_table, values, hash_key, modulo):\n",
        "    ## Your code goes here.\n",
        "\n",
        "\n",
        "\n",
        "\n",
        "\n",
        "\n",
        "\n",
        "\n",
        "    return test_results.sort_values('p_value', axis=0, ascending=True)\n",
        "\n",
        "test_stats = reduce_significance(hash_table, normal_vars, hash_key, modulo)\n",
        "test_stats.head(10)"
      ]
    },
    {
      "cell_type": "markdown",
      "metadata": {
        "id": "nOH1YrnPzFWm"
      },
      "source": [
        "> 9. In the cell below, create a filter for the pair-wise test cases which are significant and save these cases in a new data frame.\n",
        "> 10. Print the number (len) of significant results.\n",
        "> 11. Print the rows with the significant test results."
      ]
    },
    {
      "cell_type": "code",
      "execution_count": null,
      "metadata": {
        "id": "pAgUDvTYzFWm"
      },
      "outputs": [],
      "source": [
        "significance_level = 0.05\n",
        "## Put your code below.\n",
        "\n",
        "\n",
        "\n"
      ]
    },
    {
      "cell_type": "markdown",
      "metadata": {
        "id": "8qHkXcVAzFWn"
      },
      "source": [
        "> Notice the large number of apparently 'significant' test results. Answer the following questions:  \n",
        "> 1. Is the number of false positive cases approximately what you expected given that the vectors are iid Normal random variables?    \n",
        "> 2. Examine which of the iid Normal vectors contribute to the false positive results. Are there vectors which contribute multiple times?   \n",
        "> **End of exercise.**"
      ]
    },
    {
      "cell_type": "markdown",
      "metadata": {
        "id": "oT7mgMfpzFWn"
      },
      "source": [
        ">  **Answers:**   \n",
        "> 1.            \n",
        "> 2.     "
      ]
    },
    {
      "cell_type": "markdown",
      "metadata": {
        "id": "0GFL-eINzFWn"
      },
      "source": [
        "### Bonferroni correction  \n",
        "\n",
        "Several adjustments to the multiple comparisons problem have been proposed. Dunn published a method know as the **Bonferroni correction** in 1961. The Bonferroni correction is a widely used method to reduce the false positive rate of hypothesis tests.  The adjustment is simple:\n",
        "$$\\alpha_b = \\frac{\\alpha}{m}\\\\\n",
        "with\\\\\n",
        "m =\\ number\\ of\\ groups$$\n",
        "\n",
        "Can the Bonferroni correction help? Yes, by greatly increasing the confidence level required for a statistically significant result. The problem with the Bonferroni correction is the reduction in power as the  grows smaller. For big data problems with large numbers of groups, this issue can be especially serious. In fact, the Bonferroni correction can often lead to significant numbers of missed discoveries, or Type II errors.\n",
        "\n",
        "> **Exercise 1-4:** You will now apply the Bonferroni correction to determining the significance of the p-values of the pair-wise t-tests. Do the following:\n",
        "> 1. Compute the Bonferroni significance level.\n",
        "> 2. Apply this cutoff to the p-values of all of the cases.\n",
        "> 3. Print the number of false discoveries, or Type I errors.\n",
        "> Execute your code and examine the results"
      ]
    },
    {
      "cell_type": "code",
      "execution_count": null,
      "metadata": {
        "id": "tFNP0GZAzFWn"
      },
      "outputs": [],
      "source": [
        "## Your code goes below\n",
        "\n",
        "\n"
      ]
    },
    {
      "cell_type": "markdown",
      "metadata": {
        "id": "8a0yBon9zFWn"
      },
      "source": [
        "> Does using the  Bonferroni correction reduce false significance tests, or even eliminate them?           "
      ]
    },
    {
      "cell_type": "markdown",
      "metadata": {
        "id": "lmPlV7G3zFWn"
      },
      "source": [
        "> **Answer:**       "
      ]
    },
    {
      "cell_type": "markdown",
      "metadata": {
        "id": "ksiEF1Q4zFWn"
      },
      "source": [
        "> But, can we detect small effect with Bonferroni correction, as this method significantly reduces power of tests? Execute the code in the cell below, which compares a standard Normal to a Normal with a small mean (effect size), to find out."
      ]
    },
    {
      "cell_type": "code",
      "execution_count": null,
      "metadata": {
        "id": "HsD_Mq8zzFWn"
      },
      "outputs": [],
      "source": [
        "nr.seed(567)\n",
        "print(significance_bonferroni)\n",
        "print(ttest_ind(normal_vars[:,0], nr.normal(loc = 0.01, size=1000)))"
      ]
    },
    {
      "cell_type": "markdown",
      "metadata": {
        "id": "_aRIrK_gzFWn"
      },
      "source": [
        "> Provide a short answer to these questions:        \n",
        "> 1. Given the Bonferroni correction and this difference in means, would this result be considered significant or would it be a type II error, and why?    \n",
        "> 2. What does this result tell you about the downside of the Bonferroni correction as a FDR control method, in terms of finding significant results?      \n",
        "> **End of exercise.**"
      ]
    },
    {
      "cell_type": "markdown",
      "metadata": {
        "id": "Jwp1bqDczFWn"
      },
      "source": [
        "> **Answers:**      \n",
        "> 1.      \n",
        "> 2.     "
      ]
    },
    {
      "cell_type": "markdown",
      "metadata": {
        "id": "ghqhzVC7zFWo"
      },
      "source": [
        "## Improved False Discovery Rate Control Methods\n",
        "\n",
        "We have seen the potential pitfalls of multiple hypothesis testing. Further, we have seen that a simple approach to **false discovery rate (FDR) control** is not effective. You will now apply more sophisticated FDR control methods.\n",
        "\n",
        "The specific problem we will explore is to determine which genes lead to expression of a certain disease. In this example, there are gene expression data for 97 patients. Some of these patients have ulcerative colitis, a condition believed not to be inheritable, and others have Crohn's disease, which is believed to be genetically inherited.    \n",
        "\n",
        "One approach to this problem is to perform hypothesis tests on the expression of the genes between patients with the two conditions. Since there are over 10,000 genes there is considerable chance for false discovery. Therefore, careful application of FDR control is required.\n",
        "\n",
        "To continue with the example, execute the code in the cell below to load the data and print the dimensionality of the data frame."
      ]
    },
    {
      "cell_type": "code",
      "execution_count": null,
      "metadata": {
        "id": "hl4tW3VWzFWo"
      },
      "outputs": [],
      "source": [
        "gene_data = pd.read_csv('../data/ColonDiseaseGeneData-Cleaned.csv')\n",
        "print(gene_data.shape)"
      ]
    },
    {
      "cell_type": "markdown",
      "metadata": {
        "id": "gbYII1_TzFWo"
      },
      "source": [
        "There are data from 97 patients (rows) with 10,497 genes (features in columns). A large number of pairwise hypothesis tests are required!     \n",
        "\n",
        "Execute the code in the cell below to view the first 5 columns of the data frame, which includes the expression of the first 4 genes.  "
      ]
    },
    {
      "cell_type": "code",
      "execution_count": null,
      "metadata": {
        "id": "5b8J32YVzFWq"
      },
      "outputs": [],
      "source": [
        " print(gene_data.iloc[:,:5])"
      ]
    },
    {
      "cell_type": "markdown",
      "metadata": {
        "id": "jee0yYZczFWr"
      },
      "source": [
        "You will apply two FDR control methods to these data to reduce the FDR rate, and compare the results to the Bonferroni method. These methods control the FDR, while not being overly conservative on true positive results, like the Bonferronic correction."
      ]
    },
    {
      "cell_type": "markdown",
      "metadata": {
        "id": "ASUIGee9zFWr"
      },
      "source": [
        "### Holm's method\n",
        "\n",
        "The first of these **Holm's method**. Holm's method operates on the ordered set of p-values, $D = \\{ p_{(1)}, p_{(2)}, p_{(3)}, \\ldots, p_{(n)} \\}$. The threshold is dynamic with the order of the P-value. For the $ith$ p-value, $p(i)$ for $N$ pairwise tests is:  \n",
        "\n",
        "$$p(i) \\le Threshold(Holm's) = \\frac{\\alpha}{N - i + 1}$$\n",
        "\n",
        "For example: for the 10th ordered p-value with 1,000 total tests (genes) and significance level of 0.05, the cutoff is:\n",
        "\n",
        "$$p(10) \\le \\frac{0.05}{1000 - 10 + 1} = 0.00005045$$"
      ]
    },
    {
      "cell_type": "markdown",
      "metadata": {
        "id": "OegiFDOezFWr"
      },
      "source": [
        "### Map process  \n",
        "\n",
        "> **Exercise 01-5:** To start the processing of these data you will first create and execute code for a map process. The map process groups the data by the patient's disease into 2 data frames, `ulcerative`, and `crohns`. The keys for each of these key-value pairs are the gene identifier. Notice that one key is all that is needed in this case. Now do the following to create and execute a function, `map_gene` to do the following:   \n",
        "> 1. Create a logical mask and group the values by `Disease State`.\n",
        "> 2. Use the mask to divide the original data frame into two data frames, one for ulcerative colitis and one for Crohns diseasse.\n",
        "> 3. Return the transpose of the two data frames, removing the `Disease State` column. The result of this operation should be data frames with gene expressions for each patient in the columns and the gene identifier as the row index.\n",
        "> 4. Print the heads of the two data frames.  "
      ]
    },
    {
      "cell_type": "code",
      "execution_count": null,
      "metadata": {
        "id": "Y0a4oKghzFWr"
      },
      "outputs": [],
      "source": [
        "def map_gene(gene_data):\n",
        "    ## Your code goes below\n",
        "\n",
        "\n",
        "\n",
        "\n",
        "    return ulcerative.iloc[:,1:].transpose(), crohns.iloc[:,1:].transpose()\n",
        "\n",
        "ulcerative, crohns = map_gene(gene_data)"
      ]
    },
    {
      "cell_type": "markdown",
      "metadata": {
        "id": "9t68ZlQtzFWr"
      },
      "source": [
        "> 3. Execute the code in the two cells below to display the heads of these data frames and examine the results."
      ]
    },
    {
      "cell_type": "code",
      "execution_count": null,
      "metadata": {
        "id": "8FSBEKAqzFWr"
      },
      "outputs": [],
      "source": [
        "ulcerative.head()"
      ]
    },
    {
      "cell_type": "code",
      "execution_count": null,
      "metadata": {
        "id": "BqaNZVETzFWs"
      },
      "outputs": [],
      "source": [
        "crohns.head()"
      ]
    },
    {
      "cell_type": "markdown",
      "metadata": {
        "id": "hj_XDIM7zFWs"
      },
      "source": [
        "### Reduce process\n",
        "\n",
        "> **Exercise 01-6:** With the key-value pairs organized by disease state, it is time to create and execute code of a reduce process. The reduce process will compute the pairwise t-statistics and p-values for each gene and return the sorted results. Specifically, your `gene_test` with arguments of the two mapped data frames will do the following:   \n",
        "> 1. Create an empty results data frame with using the hash key (gene identifier) as an index and columns t_statistics, and p-value.\n",
        "> 2. Use a `for` loop to iterate over the keys of either data frame.  \n",
        "> 3. Compute the t-statistic and p-value for the gene (key) for the pairwise tests between the data frames.\n",
        "> 4. Assign the values to the row in the data frame using the gene identifier as index with the Pandas `loc` method.    \n",
        "> 5. Sort the results data frame, `inplace`, into ascending order.\n",
        "> 6. Return the resulting data frame.\n",
        "> 7. Call the function and print the first 10 rows of the data frame.  "
      ]
    },
    {
      "cell_type": "code",
      "execution_count": null,
      "metadata": {
        "id": "SVob36C2zFWs"
      },
      "outputs": [],
      "source": [
        "def gene_test(ulcerative, crohns):\n",
        "    test_results = test_results = pd.DataFrame(index = ulcerative.index, columns=['t_statistic','p_value'])\n",
        "    ## Put your code below.\n",
        "\n",
        "\n",
        "\n",
        "\n",
        "\n",
        "\n",
        "    return test_results\n",
        "\n",
        "gene_statistics = gene_test(ulcerative, crohns)\n",
        "gene_statistics.head(10)"
      ]
    },
    {
      "cell_type": "markdown",
      "metadata": {
        "id": "4DR_WEkzzFWs"
      },
      "source": [
        "### Significance of results\n",
        "\n",
        "With the gene data reduced to the t-test statistics, you will now determine the significance of these tests. It is important to understand that scientists believe that expression of a disease, like Corhn's, is only in a small number of genes, less than approximately 100.  \n",
        "\n",
        "> **Exercise 01-6:** As a first step in understanding the gene expression significance complete and execute the code in the cell below to find the number of 'significant' genes using the simple single hypothesis test cutoff criteria.  "
      ]
    },
    {
      "cell_type": "code",
      "execution_count": null,
      "metadata": {
        "id": "OR2jt2QpzFWs"
      },
      "outputs": [],
      "source": [
        "significance_level =0.05\n",
        "## Put your code below.\n",
        "\n"
      ]
    },
    {
      "cell_type": "markdown",
      "metadata": {
        "id": "qZCdEcoWzFWs"
      },
      "source": [
        "> Does this large number of 'statistically significant' results appear credible, given that only a few genes are thought to have significant expression for this disease and why in terms of FDR?    \n",
        "> **End of exercise.**     "
      ]
    },
    {
      "cell_type": "markdown",
      "metadata": {
        "id": "38giSQ6azFWs"
      },
      "source": [
        "> **Answer:**     "
      ]
    },
    {
      "cell_type": "markdown",
      "metadata": {
        "id": "_Ui-IBBEzFWt"
      },
      "source": [
        "> **Exercise 01-7:** We have already seen that the Bonferroni correction is a rather conservative approach to testing the significance of large numbers of hypotheses. You will now use the Bonferroni correction to test the significance of the gene expression, by completing the code in the cell below. In this case, the number of pairwise tests is the number of rows in the `gene_statistics` table."
      ]
    },
    {
      "cell_type": "code",
      "execution_count": null,
      "metadata": {
        "id": "uHw576AJzFWt"
      },
      "outputs": [],
      "source": [
        "## Put your code below.\n",
        "\n",
        "\n",
        "\n"
      ]
    },
    {
      "cell_type": "markdown",
      "metadata": {
        "id": "mQ1eTs8IzFWt"
      },
      "source": [
        "> Does the foregoing result seems reasonable in terms of discovery rate and FDR control?    \n",
        "> **End of exercise.**   "
      ]
    },
    {
      "cell_type": "markdown",
      "metadata": {
        "id": "siEUJFzyzFWt"
      },
      "source": [
        "> **Answer:**     "
      ]
    },
    {
      "cell_type": "markdown",
      "metadata": {
        "id": "gp76XNI7zFWt"
      },
      "source": [
        "> **Exercise 01-08:** It may well be the case that the foregoing results using the Bonferroni correction is too conservative. You will now apply the Holms method to determining significance of the gene expression test results. In the cell below complete the `holms_significance` function with arguments of the results data frame and the significance level. This function does the following:  \n",
        "> 1. Find the number of test results and compute the denominator used for the cutoff calculation.\n",
        "> 2. Compute the vector of thresholds using the Holms formula. Use the Python `range`function to get the values of the index i. But, keep in mind that range produces a zero-indexed iterator, and the algorithm needs a one-indexed list.  Use the [numpy.divide](https://numpy.org/doc/stable/reference/generated/numpy.divide.html) function to perform the vector divide. Save these threshold values in a data frame in a 'holms_threshold' column.   \n",
        "> 3. Using the threshold values compute a logical vector and save it in a logical type column named 'significant' in the data frame.\n",
        "> 4. Return the data frame.\n",
        "> Finally, execute the function and save the results in a data frame. Then find and print the length of the subset where the 'significance' value is True."
      ]
    },
    {
      "cell_type": "code",
      "execution_count": null,
      "metadata": {
        "id": "OLf_-bXOzFWt"
      },
      "outputs": [],
      "source": [
        "def holms_significance(test_results, significance):\n",
        "    ## First compute the thresholds for each of the ordered tests\n",
        "    ## Put your code below.\n",
        "\n",
        "\n",
        "\n",
        "\n",
        "\n",
        "    return test_results\n",
        "\n",
        "holms_results = holms_significance(gene_statistics, significance_level)\n",
        "len(holms_results.loc[holms_results.loc[:,'significant'],:])"
      ]
    },
    {
      "cell_type": "markdown",
      "metadata": {
        "id": "OzmkUZ6MzFWt"
      },
      "source": [
        "> Consider the differences between the calculation of the Bonferroni correction and Holm's threshold. Do you expect any practical difference in the number of significant tests given ordering by the p-value index, $i$? What is the meaning of the similarity or difference of the actual results in this case?  \n",
        "> **End of exercise.**"
      ]
    },
    {
      "cell_type": "markdown",
      "metadata": {
        "id": "11C60Fl2zFWt"
      },
      "source": [
        "> **Answer:**      "
      ]
    },
    {
      "cell_type": "markdown",
      "metadata": {
        "id": "ZKJ1W2ybzFWu"
      },
      "source": [
        "You can visualize the results of the Holm's method test. The plot has two key elements:  \n",
        "1. Plot the curve of the p-values vs. the order number, i. The line is color coded by significance or not.\n",
        "2. Plot the threshold line. This line is straight since the threshold is a linear function of i."
      ]
    },
    {
      "cell_type": "code",
      "execution_count": null,
      "metadata": {
        "id": "PuXXfh35zFWu"
      },
      "outputs": [],
      "source": [
        "def plot_significance(results, threshold):\n",
        "    results['number'] = range(len(results))\n",
        "    fig, ax = plt.subplots(figsize=(8, 6))\n",
        "    sns.lineplot(x='number',y=threshold, data=results, ax=ax, color='black', linewidth=0.5)\n",
        "    sns.scatterplot(x='number',y='p_value', hue='significant', data=results, s=3, ax=ax)\n",
        "    ax.set_title('Significance of gene expression')\n",
        "    ax.set_xlabel('Gene number')\n",
        "    ax.set_ylabel('p-value')\n",
        "\n",
        "plot_significance(holms_results.iloc[:150,:].copy(), 'holms_threshold')"
      ]
    },
    {
      "cell_type": "markdown",
      "metadata": {
        "id": "Cmxu13WYzFWu"
      },
      "source": [
        "Notice the following about this plot:  \n",
        "1. The p-value significance line crosses the threshold point at an apparent break point.   \n",
        "2. The significant p-values are all very small since there are so many tests.\n",
        "3. The Holm's threshold is does not change very much over the first 150 test results."
      ]
    },
    {
      "cell_type": "markdown",
      "metadata": {
        "id": "dZRYEDPRzFWu"
      },
      "source": [
        "### Benjamini-Hochberg FDR Control\n",
        "\n",
        "The Benjamini-Hochberg FDR control algorithm is another way to control false discoveries. Stat with an ordered set of $n$ p-values, $D = \\{ p_{(1)}, p_{(2)}, p_{(3)}, \\ldots, p_{(n)} \\}$ we define a false discovery rate, $q$:\n",
        "\n",
        "$$FDR(D) \\le q$$\n",
        "\n",
        "The cutoff threshold for the ith p-value is then:\n",
        "$$p_{(i)} \\le Threshold(D_q) = \\frac{q}{n} i$$"
      ]
    },
    {
      "cell_type": "markdown",
      "metadata": {
        "id": "b-5nVPqozFWu"
      },
      "source": [
        "> **Exercise 01-9:** In this exercise you will apply the Benjamini-Hochberg FDR control algorithm for testing the significance of the gene expressions. The `BH_significance` function is quite similar to the Holm's method function you have already created. Given the large number of genes you must use a low false discovery rate, $q = 0.001$, or 1 out of 1,000.\n",
        "> Execute your function, saving the result. Then print the number of significant cases."
      ]
    },
    {
      "cell_type": "code",
      "execution_count": null,
      "metadata": {
        "id": "PKixC0P0zFWu"
      },
      "outputs": [],
      "source": [
        "def BH_significance(test_results, false_discovery_tollerance):\n",
        "    ## First compute the thresholds for each of the ordered tests\n",
        "    ## Put your code below.\n",
        "\n",
        "\n",
        "\n",
        "\n",
        "\n",
        "    return test_results\n",
        "\n",
        "BH_results = BH_significance(gene_statistics, 0.001)\n",
        "len(BH_results.loc[BH_results.loc[:,'significant'],:])"
      ]
    },
    {
      "cell_type": "markdown",
      "metadata": {
        "id": "H6kUMnrszFWu"
      },
      "source": [
        "> This result differs from the first two FDR control methods you have applied. Given the false discovery parameter of 0.001 do you think this is a reasonable result and why?"
      ]
    },
    {
      "cell_type": "markdown",
      "metadata": {
        "id": "AqjBoDnVzFWu"
      },
      "source": [
        "> **Answer:**      "
      ]
    },
    {
      "cell_type": "markdown",
      "metadata": {
        "id": "3Apj2t01zFWu"
      },
      "source": [
        "Finally, execute the code in the cell below and examine the resulting plot."
      ]
    },
    {
      "cell_type": "code",
      "execution_count": null,
      "metadata": {
        "id": "NNPF4ibJzFWv"
      },
      "outputs": [],
      "source": [
        "plot_significance(BH_results.iloc[:150,:].copy(), 'bh_threshold')"
      ]
    },
    {
      "cell_type": "markdown",
      "metadata": {
        "id": "MfCnm6MfzFWv"
      },
      "source": [
        "> **Exercise 01-10**: Compare the plots of results of the Benjamini-Hochberg FDR control method to those of Holm's method. Why does the Benjamini-Hochberg FDR control method give a more dynamic or adaptive result for the case where $i << n$?"
      ]
    },
    {
      "cell_type": "markdown",
      "metadata": {
        "id": "AmRmr0SWzFWv"
      },
      "source": [
        "> **Answer:**     "
      ]
    },
    {
      "cell_type": "markdown",
      "metadata": {
        "id": "fRIwwiFPzFWv"
      },
      "source": [
        "##### Copyright 2021, 2022, 2023, 2024 Stephen F. Elston. All rights reserved."
      ]
    }
  ],
  "metadata": {
    "kernelspec": {
      "display_name": "Python 3 (ipykernel)",
      "language": "python",
      "name": "python3"
    },
    "language_info": {
      "codemirror_mode": {
        "name": "ipython",
        "version": 3
      },
      "file_extension": ".py",
      "mimetype": "text/x-python",
      "name": "python",
      "nbconvert_exporter": "python",
      "pygments_lexer": "ipython3",
      "version": "3.9.18"
    },
    "colab": {
      "provenance": []
    }
  },
  "nbformat": 4,
  "nbformat_minor": 0
}