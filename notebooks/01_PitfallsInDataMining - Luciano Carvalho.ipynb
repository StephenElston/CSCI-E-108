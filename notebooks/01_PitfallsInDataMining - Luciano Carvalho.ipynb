{
 "cells": [
  {
   "cell_type": "markdown",
   "metadata": {},
   "source": [
    "# Assignment 01 - Pitfalls in Data Mining     \n",
    "## CSCI E-108\n",
    "\n",
    "The goal of data mining is to find important relationships in large complex datasets. These dataset typically contain a large number of variables. The **high-dimensional** nature of the data leads to some commonly encountered pitfalls which lead to incorrect inferences.   \n",
    "\n",
    "In this assignment you will gain a bit of experience with three important concepts in data mining at a small scale. These methods are essential as the scale increases:  \n",
    "\n",
    "1. **False Discovery Rate Control:** The goal of data mining is to find important relationships in large complex datasets. These dataset typically contain a large number of variables. The **high-dimensional** nature of the data leads to some commonly encountered pitfalls of incorrect inference, **false discovery**. A related problem is cutting off a large-scale analysis when a desired relationship is 'found'. This practice of **p-value mining** often leads to unwarranted inferences. You will apply false discovery rate (FDR) control methods to address this problem.   \n",
    "2. **Key-Value Pairs:** Large scale data is typically managed using key-value (KV) pairs. The exercises in this assignment give you some experience working with KV pair data management.  \n",
    "3. **Map and Reduce Processes:** Much of large scale data mining requires use of a split-apply-combine approach. The data is split into manageable chunks, analytic transformations are applied, and the result combined or aggregated. A commonly used class of a split-apply-combine algorithm is MapReduce. \n",
    "\n",
    "In order to keep the scope of this assignment manageable, you will use limited versions of KV pair management and MapReduce. Specifically, you will use common Python tools to implement these concepts rather than dedicated large scale analytic platforms. "
   ]
  },
  {
   "cell_type": "markdown",
   "metadata": {},
   "source": [
    "## Multiple Hypothesis Tesing\n",
    "\n",
    "Testing multiple hypothesis in high-dimensional data is problematic. Exhaustively testing all pairwise relationships between variables in a data set is a commonly used, but generally misleading, from of **multiple comparisons**. The chance of finding false significance, using such a **data dredging** approach, can be surprisingly high. \n",
    "\n",
    "In this exercise you will perform multiple comparisons on **only 20 identically distributed independent (iid)** variables. Ideally, such tests should not find significant relationships, but the actual result is quite different. \n",
    "\n",
    "To get started, execute the code in the cell below to load the required packages. "
   ]
  },
  {
   "cell_type": "code",
   "execution_count": 25,
   "metadata": {},
   "outputs": [],
   "source": [
    "import pandas as pd\n",
    "import numpy as np\n",
    "import numpy.random as nr\n",
    "from scipy.stats import ttest_ind, f_oneway\n",
    "from itertools import product, combinations\n",
    "import matplotlib.pyplot as plt\n",
    "import seaborn as sns\n",
    "from scipy.special import comb\n",
    "import math\n",
    "import time\n",
    "\n",
    "pd.set_option(\"display.max_rows\", None, \"display.max_columns\", None)"
   ]
  },
  {
   "cell_type": "code",
   "execution_count": 26,
   "metadata": {},
   "outputs": [
    {
     "data": {
      "text/plain": [
       "'0.22.0'"
      ]
     },
     "execution_count": 26,
     "metadata": {},
     "output_type": "execute_result"
    }
   ],
   "source": [
    "import skimage\n",
    "skimage.__version__"
   ]
  },
  {
   "cell_type": "markdown",
   "metadata": {},
   "source": [
    "In this exercise you will apply a [t-test](https://www.statisticshowto.com/probability-and-statistics/t-test/) to all pairwise combinations of identical Normally distributed variables. In this case, we will create a data set with 20 iid Normal distributions of 1000 samples each. Execute the code in the cell below to find this data and display the mean and variance of each variable.  "
   ]
  },
  {
   "cell_type": "code",
   "execution_count": 27,
   "metadata": {},
   "outputs": [
    {
     "name": "stdout",
     "output_type": "stream",
     "text": [
      "The means of the columns are\n",
      " [-1.16191649e-01  2.80829317e-02 -1.78516419e-02 -1.44691489e-02\n",
      "  3.03718152e-02  1.20007442e-02 -9.58845606e-05  1.98662580e-03\n",
      "  4.94154934e-02 -4.11640866e-02 -6.32977862e-03 -5.93868192e-02\n",
      " -2.56373595e-02  1.43568791e-02 -1.44725765e-02 -1.37023955e-02\n",
      "  1.80622439e-02  5.87029691e-02 -2.02650514e-02 -1.56346106e-02]\n",
      "\n",
      "The variances of the columns are\n",
      " [0.94834508 1.04744241 1.0258018  0.96977571 1.0089001  1.04113864\n",
      " 1.00657222 0.99192594 1.04713487 1.04329434 1.04023108 0.96791346\n",
      " 1.03706907 1.07179865 1.01431404 1.05060289 1.02054329 0.9686211\n",
      " 1.02810287 0.99521555]\n"
     ]
    }
   ],
   "source": [
    "ncolumns = 20\n",
    "nr.seed(234)\n",
    "normal_vars = nr.normal(size=(1000,ncolumns))\n",
    "print('The means of the columns are\\n', np.mean(normal_vars, axis = 0))\n",
    "print('\\nThe variances of the columns are\\n', np.var(normal_vars, axis = 0))"
   ]
  },
  {
   "cell_type": "markdown",
   "metadata": {},
   "source": [
    "Notice that means are close to 0.0 and variances are close to 1.0 respectively. As expected, there is not much difference between these variables.\n",
    "\n",
    "How many of these t-tests will show **significance** at the 0.05 cut-off level? With 20 variables there are 190 unique pairwise combinations. We expect to find a number of falsely significant test results from this many pairwise tests. "
   ]
  },
  {
   "cell_type": "markdown",
   "metadata": {},
   "source": [
    "## Creating a hash \n",
    "\n",
    "The goal of this exercise is to compute pairwise hypothesis tests of the differences in means for each of the iid Normal vectors. Here you will compute the **key-value**, $[K,V]$, pairs. Each key must represent an index for the two vectors used to compute the test statistic. The keys will then be used to index the results of the hypothesis tests. \n",
    "\n",
    "The question is, how can we create a hash from the keys for the pair of vectors? In this case to we will use a simple, but far from optimal hash. For the two vector indicies $i, j$, for some key and modulo, $m$, we will compute the hash as:  \n",
    "\n",
    "$$h(i,j) = \\big(i + key*(j+1) \\big) mod\\ m$$"
   ]
  },
  {
   "cell_type": "markdown",
   "metadata": {},
   "source": [
    "> **Exercise 1-1:** Given that our space of vectors is actually quite small, just 20, we do not need a sophisticated and scalable hash function. We take advantage of the fact that Pandas data frames use hash tables for index lookup. This hashed key is used to store and retrieve the values using the indicies of a Pandas data frame, in about $O(N)$ time.     \n",
    "\n",
    "> In this exercise you will test a simple hash function and its inverse. Examine the code below and notice that the hash function encodes the two indexes into a single integer by simple additional and multiplication. The modulo operation limits the size of the hash table. However, to keep things simple you will not implement any hash collision resolution mechanism. As a result, the size of the table is set much larger than required.  \n",
    "\n",
    "> To test this hash, do the following:    \n",
    "> 1. Create a function called `hash_function` to compute the hash using the formula given above. The arguments to the function are $i$ and $j$, the $hash\\_key$ and the $modulo$, the divisor for the modulo operator, $\\%$. The number of buckets in the hash table is determined by the $modulo$ argument. The defaults of the arguments are $hash\\_key=64$ and $modulo=1024$. The hash function, $h(i,j)$, is then:\n",
    "> $$h(i,j) = \\big(i + (j+1)*hash\\_key \\big)\\ \\%\\ modulo$$\n",
    "> Setting modulo much greater than number of the possible hashes, limits the probability of hash collisions. \n",
    "> 2. Complete the missing code in the `print_hashes` function.\n",
    ">    -  Use the Python [ittertools.combinations](https://docs.python.org/3/library/itertools.html#itertools.combinations) function to create an itterator for all unique pairwise combinations of indexes i and j. The arguments to the combinaitons function are `range(ncolumns)` choose 2, since the comparisons are pairwise.\n",
    ">    -  Within the loop call the hash_function with the values of $i$ and $j$ as arguments.\n",
    ">    -  Append the hash computed to 'hash_list'   "
   ]
  },
  {
   "cell_type": "code",
   "execution_count": 28,
   "metadata": {},
   "outputs": [
    {
     "name": "stdout",
     "output_type": "stream",
     "text": [
      "i = 0  j = 1   hash = 128\n",
      "i = 0  j = 2   hash = 192\n",
      "i = 0  j = 3   hash = 256\n",
      "i = 0  j = 4   hash = 320\n",
      "i = 0  j = 5   hash = 384\n",
      "i = 0  j = 6   hash = 448\n",
      "i = 0  j = 7   hash = 512\n",
      "i = 0  j = 8   hash = 576\n",
      "i = 0  j = 9   hash = 640\n",
      "i = 0  j = 10   hash = 704\n",
      "i = 0  j = 11   hash = 768\n",
      "i = 0  j = 12   hash = 832\n",
      "i = 0  j = 13   hash = 896\n",
      "i = 0  j = 14   hash = 960\n",
      "i = 0  j = 15   hash = 0\n",
      "i = 0  j = 16   hash = 64\n",
      "i = 0  j = 17   hash = 128\n",
      "i = 0  j = 18   hash = 192\n",
      "i = 0  j = 19   hash = 256\n",
      "i = 1  j = 2   hash = 193\n",
      "i = 1  j = 3   hash = 257\n",
      "i = 1  j = 4   hash = 321\n",
      "i = 1  j = 5   hash = 385\n",
      "i = 1  j = 6   hash = 449\n",
      "i = 1  j = 7   hash = 513\n",
      "i = 1  j = 8   hash = 577\n",
      "i = 1  j = 9   hash = 641\n",
      "i = 1  j = 10   hash = 705\n",
      "i = 1  j = 11   hash = 769\n",
      "i = 1  j = 12   hash = 833\n",
      "i = 1  j = 13   hash = 897\n",
      "i = 1  j = 14   hash = 961\n",
      "i = 1  j = 15   hash = 1\n",
      "i = 1  j = 16   hash = 65\n",
      "i = 1  j = 17   hash = 129\n",
      "i = 1  j = 18   hash = 193\n",
      "i = 1  j = 19   hash = 257\n",
      "i = 2  j = 3   hash = 258\n",
      "i = 2  j = 4   hash = 322\n",
      "i = 2  j = 5   hash = 386\n",
      "i = 2  j = 6   hash = 450\n",
      "i = 2  j = 7   hash = 514\n",
      "i = 2  j = 8   hash = 578\n",
      "i = 2  j = 9   hash = 642\n",
      "i = 2  j = 10   hash = 706\n",
      "i = 2  j = 11   hash = 770\n",
      "i = 2  j = 12   hash = 834\n",
      "i = 2  j = 13   hash = 898\n",
      "i = 2  j = 14   hash = 962\n",
      "i = 2  j = 15   hash = 2\n",
      "i = 2  j = 16   hash = 66\n",
      "i = 2  j = 17   hash = 130\n",
      "i = 2  j = 18   hash = 194\n",
      "i = 2  j = 19   hash = 258\n",
      "i = 3  j = 4   hash = 323\n",
      "i = 3  j = 5   hash = 387\n",
      "i = 3  j = 6   hash = 451\n",
      "i = 3  j = 7   hash = 515\n",
      "i = 3  j = 8   hash = 579\n",
      "i = 3  j = 9   hash = 643\n",
      "i = 3  j = 10   hash = 707\n",
      "i = 3  j = 11   hash = 771\n",
      "i = 3  j = 12   hash = 835\n",
      "i = 3  j = 13   hash = 899\n",
      "i = 3  j = 14   hash = 963\n",
      "i = 3  j = 15   hash = 3\n",
      "i = 3  j = 16   hash = 67\n",
      "i = 3  j = 17   hash = 131\n",
      "i = 3  j = 18   hash = 195\n",
      "i = 3  j = 19   hash = 259\n"
     ]
    }
   ],
   "source": [
    "modulo=1024\n",
    "hash_key=64\n",
    "\n",
    "def hash_function(i, j, hash_key, modulo):\n",
    "    ## Put your code below\n",
    "    \n",
    "\n",
    "def print_hashes(hash_key, modulo=1024, print_hash=True):\n",
    "    hash_list = []\n",
    "    ## Put your code below\n",
    "    \n",
    "\n",
    "\n",
    "\n",
    "\n",
    "    \n",
    "    return(hash_list)        \n",
    "hash_list = print_hashes(hash_key=hash_key)            "
   ]
  },
  {
   "cell_type": "markdown",
   "metadata": {},
   "source": [
    "> 3. The next question is how good is this hash function. We can run a simple test by plotting the hash values computed. Execute the code in the cell below to display a histogram and a cumulative distribution plot of the hash values. "
   ]
  },
  {
   "cell_type": "code",
   "execution_count": 29,
   "metadata": {},
   "outputs": [
    {
     "data": {
      "image/png": "[encoded data removed]",
      "text/plain": [
       "<Figure size 2000x600 with 1 Axes>"
      ]
     },
     "metadata": {},
     "output_type": "display_data"
    },
    {
     "name": "stdout",
     "output_type": "stream",
     "text": [
      "[1. 1. 1. ... 1. 1. 1.]\n"
     ]
    },
    {
     "data": {
      "image/png": "[encoded data removed]",
      "text/plain": [
       "<Figure size 600x600 with 1 Axes>"
      ]
     },
     "metadata": {},
     "output_type": "display_data"
    }
   ],
   "source": [
    "def plot_hash_keys(hashes, bins=1024, modulo=1024):\n",
    "    fig, ax = plt.subplots(figsize=(20, 6))\n",
    "    counts, bins, _ = ax.hist(hashes, bins=bins);\n",
    "    ax.set_ylabel('Count of keys');\n",
    "    ax.set_xlabel('Hash value');\n",
    "    ax.set_title('Count of keys vs. hash values');\n",
    "    ax.set_xlim(0.0, modulo)\n",
    "    plt.show();\n",
    "    print(counts)\n",
    "    fig, ax = plt.subplots(figsize=(6,6))\n",
    "    ax.plot(range(len(counts)), np.cumsum(counts))\n",
    "    ax.plot([0.0,len(counts)], [0.0,len(hashes)], color='red');\n",
    "    ax.set_ylabel('Cumulative Sum');\n",
    "    ax.set_xlabel('Hash index');\n",
    "    ax.set_title('Cumulative sum of hash values');\n",
    "    ax.set_xlim(0.0, modulo)\n",
    "    plt.show();\n",
    "    \n",
    "plot_hash_keys(hash_list)    "
   ]
  },
  {
   "cell_type": "markdown",
   "metadata": {},
   "source": [
    "> This hash funciton is not ideal. One can see the deviation from a uniform disitribution of the hash key values.\n",
    ">    - The hash key values are clustered, and not uniformly distributed.\n",
    ">    - The cumulative distribution function deviates significantly from uniform. A hypothtical unifrom distribution would follow the red line.\n",
    ">\n",
    "> 4. The foregoing hash function used a binary key. Often using a prime number as a key gives a more uniform distribution of the hash values. To test this idea, execute the code in the cell below.    "
   ]
  },
  {
   "cell_type": "code",
   "execution_count": 30,
   "metadata": {},
   "outputs": [
    {
     "data": {
      "image/png": "[encoded data removed]",
      "text/plain": [
       "<Figure size 2000x600 with 1 Axes>"
      ]
     },
     "metadata": {},
     "output_type": "display_data"
    },
    {
     "name": "stdout",
     "output_type": "stream",
     "text": [
      "[1. 1. 1. ... 1. 1. 1.]\n"
     ]
    },
    {
     "data": {
      "image/png": "[encoded data removed]",
      "text/plain": [
       "<Figure size 600x600 with 1 Axes>"
      ]
     },
     "metadata": {},
     "output_type": "display_data"
    }
   ],
   "source": [
    "key=7873\n",
    "hash_list = print_hashes(key,  print_hash=False)  \n",
    "plot_hash_keys(hash_list)"
   ]
  },
  {
   "cell_type": "markdown",
   "metadata": {},
   "source": [
    "> The histograms of the two hash functions look similar, but there is a noticable improvement in the cumulative distirbution plot using a prime number key.  \n",
    ">\n",
    "> The next question we should ask about this hash function with the prime number key is if there are any hash collisions. To find out, do the following.     \n",
    "> 5. Print the length of the hash value list.  \n",
    "> 6. Print the length of the unique hash values. You can find the unique values in a list with the [numpy.unique](https://numpy.org/doc/stable/reference/generated/numpy.unique.html) function. "
   ]
  },
  {
   "cell_type": "code",
   "execution_count": 31,
   "metadata": {},
   "outputs": [
    {
     "name": "stdout",
     "output_type": "stream",
     "text": [
      "190\n",
      "190\n"
     ]
    }
   ],
   "source": [
    "## Put your code below. \n",
    "\n",
    "\n"
   ]
  },
  {
   "cell_type": "markdown",
   "metadata": {},
   "source": [
    "> Examine the results you have Created and answer these questions.\n",
    "> 1. An ideal hash function should not exhibit lumpiness or clustering of the hash values. Examine the histograms of the hash values generated with the prime number key. Do you see any evidence of lumpiness in the distribution of the hash values and what does this tell you about deviation from ideal behavior.  \n",
    "> 2. Compare the cummulative distibution plots of the two hash functions. Which of these hash functions is closer to the uniform distribution and why?\n",
    "> 3. What does your previous observation tell you about the choice of hash keys?   \n",
    "> 4. Is there any evidence of hash key collisions and why?     \n",
    "> **End of exercise.**"
   ]
  },
  {
   "cell_type": "markdown",
   "metadata": {},
   "source": [
    "> **Answers:**\n",
    "> 1.       \n",
    "> 2.      \n",
    "> 3.     \n",
    "> 4.     "
   ]
  },
  {
   "cell_type": "markdown",
   "metadata": {},
   "source": [
    "## A MapReduce Example   \n",
    "\n",
    "In the following steps you will use a simplified MapReduce framework to find and sort every possible pairwise t-test result for the `normal_vars` table. To do so you must find all **combinations** of keys, $\\{i,j\\}$. The MapReduce processes you will create, are intended to create a table of these unique pairwise key combinations. The t-test is then computed from the values in the `normal_vars` table in the Reduce process. This MapReduce process only creates the required key combinations. The values remain in the `normal_vars` table. This approach simplifies some of the bookkeeping.     \n",
    "\n",
    "In a bit more details the steps for this algorithm are:   \n",
    "- The **Map process** builds a hash table with the hash of i,j as key and i,j as values. As has been noted most of this hash table will contain NaNs. The hash table is still relatively small, since the values of the vectors used for the statistical calculations are not stored in the table, only the results. Please don't be confused by the switching roles of i,j as they act as keys and values at different times.   \n",
    "- The **Shuffle** scans the hash table for non-empty rows (not NaN values for i,j) and builds a table of unique combination of keys i and j.   \n",
    "- The **Reduce process** uses the keys i,j from the Shuffle process to look up the columns of the numeric random variables in the `normal_vars` table. The resulting table contains the i,j pairs as the keys for the random variable lookup. The t-test is applied to these numeric values. The results are sorted and returned.   \n",
    "\n",
    "It is clear that at this small scale one could compute the t-test results for the combinations of the random variables directly. The point of the exercises is to get some experience working with key-value pairs and the MapReduce framework.  "
   ]
  },
  {
   "cell_type": "markdown",
   "metadata": {},
   "source": [
    "### The map process\n",
    "\n",
    "We are constructing this example a map and a reduce process. The processes are intended to compute the hypothesis test for differences of means between all the pairs of vectors. The first step is the map process, which creates the keys, or values of $i$ and $j$ for these pairs. This is an example of a **similarity join**.    \n",
    "\n",
    "> **Computational Note:** In this exercise you will create your own simple hash table using a Pandas data frame. The data frame will be indexed by the key value computed by hashing the $[i,j]$ pairs, which gives nearly $O(n)$ performance for lookups. This implementation is only for demonstration purposes only and has several significant limitations compared to a production quality implementation. \n",
    "> 1. You will use a fixed length data frame. We take advantage of the fact the index lookup in Pandas data frames uses a hash table. In other words, referencing a row (or column) of a Pandas data frame is a key-value lookup using a hash table. \n",
    "> 2. You will not implement a collision resolution mechanism so a larger table is required, which is not particularly memory efficient. At scale, a sparse representation of the table would be used.     \n",
    "> 3. You will not implement any table resizing mechanism. Again, a fixed size table is limited in the quantity of data the table can store and also results in poor memory utilization.  \n",
    "> As an alternative, we could use the hashed $[K,V]$ pairs of a Python dictionary. However, a dictionary only allows one key value and we are working with 2, $\\{i,j\\}$. You could create a hash and then hash this hash with the built in function. In this case we will take the more direct route just described. If you are not familiar with Python dictionaries you can find a short tutorial [here](https://www.tutorialspoint.com/python_data_structure/python_hash_table.htm), as well as many other places on the web.   \n",
    "\n",
    "> **Exercise 1-2:** You will now create the code for the map which build a data frame with $i, j$ key pairs indexed by the hash. By the following steps you will create code that represents a map task.  a\n",
    "> 1. Create a data frame with two columns $i$ and $j$ with number of rows $= modulo$ and set all values to $= numpy.nan$.\n",
    "> 2. Create a loop over all combinations of the pairs of i and j.   \n",
    "> 2. Compute the hash value for the indexes, i and j.  \n",
    "> 4. Add the $i$ and $j$ values to the row indexed by the hash value.  \n",
    "> 5. Return the hash table.\n",
    "> 6. Execute the function to create the hash table.\n",
    "> 7. Compute and print the length of the hash table. "
   ]
  },
  {
   "cell_type": "code",
   "execution_count": 32,
   "metadata": {},
   "outputs": [
    {
     "name": "stdout",
     "output_type": "stream",
     "text": [
      "length of the table = 1024\n"
     ]
    },
    {
     "data": {
      "text/html": [
       "<div>\n",
       "<style scoped>\n",
       "    .dataframe tbody tr th:only-of-type {\n",
       "        vertical-align: middle;\n",
       "    }\n",
       "\n",
       "    .dataframe tbody tr th {\n",
       "        vertical-align: top;\n",
       "    }\n",
       "\n",
       "    .dataframe thead th {\n",
       "        text-align: right;\n",
       "    }\n",
       "</style>\n",
       "<table border=\"1\" class=\"dataframe\">\n",
       "  <thead>\n",
       "    <tr style=\"text-align: right;\">\n",
       "      <th></th>\n",
       "      <th>i</th>\n",
       "      <th>j</th>\n",
       "    </tr>\n",
       "  </thead>\n",
       "  <tbody>\n",
       "    <tr>\n",
       "      <th>0</th>\n",
       "      <td>0.0</td>\n",
       "      <td>19.0</td>\n",
       "    </tr>\n",
       "    <tr>\n",
       "      <th>1</th>\n",
       "      <td>1.0</td>\n",
       "      <td>2.0</td>\n",
       "    </tr>\n",
       "    <tr>\n",
       "      <th>2</th>\n",
       "      <td>NaN</td>\n",
       "      <td>NaN</td>\n",
       "    </tr>\n",
       "    <tr>\n",
       "      <th>3</th>\n",
       "      <td>NaN</td>\n",
       "      <td>NaN</td>\n",
       "    </tr>\n",
       "    <tr>\n",
       "      <th>4</th>\n",
       "      <td>NaN</td>\n",
       "      <td>NaN</td>\n",
       "    </tr>\n",
       "  </tbody>\n",
       "</table>\n",
       "</div>"
      ],
      "text/plain": [
       "     i     j\n",
       "0  0.0  19.0\n",
       "1  1.0   2.0\n",
       "2  NaN   NaN\n",
       "3  NaN   NaN\n",
       "4  NaN   NaN"
      ]
     },
     "execution_count": 32,
     "metadata": {},
     "output_type": "execute_result"
    }
   ],
   "source": [
    "def map_hypothesis(vars, hash_key, modulo):\n",
    "    ## Put your code below. \n",
    "    \n",
    "        \n",
    "\n",
    "        \n",
    "    return hash_table, ncolumns\n",
    "\n",
    "hash_key=7873\n",
    "modulo = 1024\n",
    "hash_table, nhashes = map_hypothesis(normal_vars, hash_key, modulo)\n",
    "print('length of the table = ' + str(len(hash_table)))\n",
    "hash_table.head()"
   ]
  },
  {
   "cell_type": "markdown",
   "metadata": {},
   "source": [
    "> **End of exercise.**"
   ]
  },
  {
   "cell_type": "markdown",
   "metadata": {},
   "source": [
    "### The shuffle and reduce task\n",
    "\n",
    "Now that you have the keys for the pairwise combinations of the vectors it is time to perform the reduce process. The reduce process computes the pair-wise t-statistics and p-values. These statistical values are indexed by the keys of the pair of vectors. This process reduces the full vectors of values down to just two numbers for each pair of vectors. \n",
    "\n",
    "> **Exercise 1-3:** You will now create and apply the following code for the reduce process:   \n",
    "> 1. Create an empty data frame, called  `test_results`, with columns, `i`, `j`, `t_statistic`, and `p_value`, and length of the previously created hash table.    \n",
    "> 2. Iterate over the combinations of possible $\\{i,j \\}$ values.  \n",
    "> 3. For the $i,j$ pairs index the values in the random variable vectors of the `normal_vars` data frame and use them to compute the pair-wise t-statistic and p-value with the [scipy.stats.ttest_ind](https://docs.scipy.org/doc/scipy/reference/generated/scipy.stats.ttest_ind.html) function.\n",
    "> 4. Assign the values to the row in the data frame indexed by the hash value of $\\{i,j \\}$. Use the `hash_function` previously created. Index the data frame using the Pandas `loc` method.     \n",
    "> 5. Return the data frame, sorted in ascending order, using the [Pandas.DataFrame.sort_values](https://turned.pydata.org/docs/reference/api/pandas.DataFrame.sort_values.html).    \n",
    "> 6. Execute your function and save the returned data frame.   \n",
    "> 7. Display the first 10 rows of the data frame.  "
   ]
  },
  {
   "cell_type": "code",
   "execution_count": 33,
   "metadata": {},
   "outputs": [
    {
     "data": {
      "text/html": [
       "<div>\n",
       "<style scoped>\n",
       "    .dataframe tbody tr th:only-of-type {\n",
       "        vertical-align: middle;\n",
       "    }\n",
       "\n",
       "    .dataframe tbody tr th {\n",
       "        vertical-align: top;\n",
       "    }\n",
       "\n",
       "    .dataframe thead th {\n",
       "        text-align: right;\n",
       "    }\n",
       "</style>\n",
       "<table border=\"1\" class=\"dataframe\">\n",
       "  <thead>\n",
       "    <tr style=\"text-align: right;\">\n",
       "      <th></th>\n",
       "      <th>i</th>\n",
       "      <th>j</th>\n",
       "      <th>t_statistic</th>\n",
       "      <th>p_value</th>\n",
       "    </tr>\n",
       "  </thead>\n",
       "  <tbody>\n",
       "    <tr>\n",
       "      <th>402</th>\n",
       "      <td>0</td>\n",
       "      <td>17</td>\n",
       "      <td>-3.992565</td>\n",
       "      <td>0.000068</td>\n",
       "    </tr>\n",
       "    <tr>\n",
       "      <th>201</th>\n",
       "      <td>0</td>\n",
       "      <td>8</td>\n",
       "      <td>-3.705426</td>\n",
       "      <td>0.000217</td>\n",
       "    </tr>\n",
       "    <tr>\n",
       "      <th>453</th>\n",
       "      <td>0</td>\n",
       "      <td>4</td>\n",
       "      <td>-3.311203</td>\n",
       "      <td>0.000946</td>\n",
       "    </tr>\n",
       "    <tr>\n",
       "      <th>386</th>\n",
       "      <td>0</td>\n",
       "      <td>1</td>\n",
       "      <td>-3.227865</td>\n",
       "      <td>0.001267</td>\n",
       "    </tr>\n",
       "    <tr>\n",
       "      <th>721</th>\n",
       "      <td>0</td>\n",
       "      <td>16</td>\n",
       "      <td>-3.02412</td>\n",
       "      <td>0.002525</td>\n",
       "    </tr>\n",
       "    <tr>\n",
       "      <th>654</th>\n",
       "      <td>0</td>\n",
       "      <td>13</td>\n",
       "      <td>-2.903111</td>\n",
       "      <td>0.003735</td>\n",
       "    </tr>\n",
       "    <tr>\n",
       "      <th>134</th>\n",
       "      <td>0</td>\n",
       "      <td>5</td>\n",
       "      <td>-2.872598</td>\n",
       "      <td>0.004114</td>\n",
       "    </tr>\n",
       "    <tr>\n",
       "      <th>413</th>\n",
       "      <td>11</td>\n",
       "      <td>17</td>\n",
       "      <td>-2.682146</td>\n",
       "      <td>0.007375</td>\n",
       "    </tr>\n",
       "    <tr>\n",
       "      <th>520</th>\n",
       "      <td>0</td>\n",
       "      <td>7</td>\n",
       "      <td>-2.68157</td>\n",
       "      <td>0.007388</td>\n",
       "    </tr>\n",
       "    <tr>\n",
       "      <th>839</th>\n",
       "      <td>0</td>\n",
       "      <td>6</td>\n",
       "      <td>-2.62443</td>\n",
       "      <td>0.008746</td>\n",
       "    </tr>\n",
       "  </tbody>\n",
       "</table>\n",
       "</div>"
      ],
      "text/plain": [
       "      i   j t_statistic   p_value\n",
       "402   0  17   -3.992565  0.000068\n",
       "201   0   8   -3.705426  0.000217\n",
       "453   0   4   -3.311203  0.000946\n",
       "386   0   1   -3.227865  0.001267\n",
       "721   0  16    -3.02412  0.002525\n",
       "654   0  13   -2.903111  0.003735\n",
       "134   0   5   -2.872598  0.004114\n",
       "413  11  17   -2.682146  0.007375\n",
       "520   0   7    -2.68157  0.007388\n",
       "839   0   6    -2.62443  0.008746"
      ]
     },
     "execution_count": 33,
     "metadata": {},
     "output_type": "execute_result"
    }
   ],
   "source": [
    "def reduce_significance(hash_table, values, hash_key, modulo):  \n",
    "    ## Your code goes here. \n",
    "   \n",
    "\n",
    "\n",
    "\n",
    "\n",
    "\n",
    "\n",
    "    \n",
    "    return test_results.sort_values('p_value', axis=0, ascending=True)      \n",
    "        \n",
    "test_stats = reduce_significance(hash_table, normal_vars, hash_key, modulo)       \n",
    "test_stats.head(10)"
   ]
  },
  {
   "cell_type": "markdown",
   "metadata": {},
   "source": [
    "> 9. In the cell below, create a filter for the pair-wise test cases which are significant and save these cases in a new data frame. \n",
    "> 10. Print the number (len) of significant results.\n",
    "> 11. Print the rows with the significant test results."
   ]
  },
  {
   "cell_type": "code",
   "execution_count": 34,
   "metadata": {},
   "outputs": [
    {
     "name": "stdout",
     "output_type": "stream",
     "text": [
      "22\n",
      "      i   j t_statistic   p_value\n",
      "402   0  17   -3.992565  0.000068\n",
      "201   0   8   -3.705426  0.000217\n",
      "453   0   4   -3.311203  0.000946\n",
      "386   0   1   -3.227865  0.001267\n",
      "721   0  16    -3.02412  0.002525\n",
      "654   0  13   -2.903111  0.003735\n",
      "134   0   5   -2.872598  0.004114\n",
      "413  11  17   -2.682146  0.007375\n",
      "520   0   7    -2.68157  0.007388\n",
      "839   0   6    -2.62443  0.008746\n",
      "587   0  10     -2.4624  0.013885\n",
      "276   8  11     2.42258  0.015499\n",
      "772   0   3   -2.321463  0.020362\n",
      "335   0  14   -2.294894  0.021842\n",
      "16    0  15   -2.291186  0.022056\n",
      "788   0  19   -2.279797  0.022725\n",
      "411   9  17   -2.225359  0.026168\n",
      "67    0   2   -2.212194  0.027066\n",
      "83    0  18   -2.156647  0.031152\n",
      "973   0  12   -2.031263   0.04236\n",
      "272   4  11    2.017791  0.043747\n",
      "914   8   9    1.980137  0.047825\n"
     ]
    }
   ],
   "source": [
    "significance_level = 0.05\n",
    "## Put your code below. \n",
    "\n",
    "\n",
    "\n"
   ]
  },
  {
   "cell_type": "markdown",
   "metadata": {},
   "source": [
    "> Notice the large number of apparently 'significant' test results. Answer the following questions:  \n",
    "> 1. Is the number of false positive cases approximately what you expected given that the vectors are iid Normal random variables?    \n",
    "> 2. Examine which of the iid Normal vectors contribute to the false positive results. Are there vectors which contribute multiple times?   \n",
    "> **End of exercise.**"
   ]
  },
  {
   "cell_type": "markdown",
   "metadata": {},
   "source": [
    ">  **Answers:**   \n",
    "> 1.            \n",
    "> 2.     "
   ]
  },
  {
   "cell_type": "markdown",
   "metadata": {},
   "source": [
    "### Bonferroni correction  \n",
    "\n",
    "Several adjustments to the multiple comparisons problem have been proposed. Dunn published a method know as the **Bonferroni correction** in 1961. The Bonferroni correction is a widely used method to reduce the false positive rate of hypothesis tests.  The adjustment is simple:\n",
    "$$\\alpha_b = \\frac{\\alpha}{m}\\\\\n",
    "with\\\\ \n",
    "m =\\ number\\ of\\ groups$$\n",
    "\n",
    "Can the Bonferroni correction help? Yes, by greatly increasing the confidence level required for a statistically significant result. The problem with the Bonferroni correction is the reduction in power as the  grows smaller. For big data problems with large numbers of groups, this issue can be especially serious. In fact, the Bonferroni correction can often lead to significant numbers of missed discoveries, or Type II errors. \n",
    "\n",
    "> **Exercise 1-4:** You will now apply the Bonferroni correction to determining the significance of the p-values of the pair-wise t-tests. Do the following:\n",
    "> 1. Compute the Bonferroni significance level. \n",
    "> 2. Apply this cutoff to the p-values of all of the cases.\n",
    "> 3. Print the number of false discoveries, or Type I errors. \n",
    "> Execute your code and examine the results"
   ]
  },
  {
   "cell_type": "code",
   "execution_count": 35,
   "metadata": {},
   "outputs": [
    {
     "data": {
      "text/plain": [
       "2"
      ]
     },
     "execution_count": 35,
     "metadata": {},
     "output_type": "execute_result"
    }
   ],
   "source": [
    "## Your code goes below \n",
    "\n",
    "\n"
   ]
  },
  {
   "cell_type": "markdown",
   "metadata": {},
   "source": [
    "> Does using the  Bonferroni correction reduce false significance tests, or even eliminate them?           "
   ]
  },
  {
   "cell_type": "markdown",
   "metadata": {},
   "source": [
    "> **Answer:**       "
   ]
  },
  {
   "cell_type": "markdown",
   "metadata": {},
   "source": [
    "> But, can we detect small effect with Bonferroni correction, as this method significantly reduces power of tests? Execute the code in the cell below, which compares a standard Normal to a Normal with a small mean (effect size), to find out. "
   ]
  },
  {
   "cell_type": "code",
   "execution_count": 36,
   "metadata": {},
   "outputs": [
    {
     "name": "stdout",
     "output_type": "stream",
     "text": [
      "0.0002631578947368421\n",
      "TtestResult(statistic=-2.495534881466432, pvalue=0.012656841327097457, df=1998.0)\n"
     ]
    }
   ],
   "source": [
    "nr.seed(567)\n",
    "print(significance_bonferroni)\n",
    "print(ttest_ind(normal_vars[:,0], nr.normal(loc = 0.01, size=1000)))"
   ]
  },
  {
   "cell_type": "markdown",
   "metadata": {},
   "source": [
    "> Provide a short answer to these questions:        \n",
    "> 1. Given the Bonferroni correction and this difference in means, would this result be considered significant or would it be a type II error, and why?    \n",
    "> 2. What does this result tell you about the downside of the Bonferroni correction as a FDR control method, in terms of finding significant results?      \n",
    "> **End of exercise.**"
   ]
  },
  {
   "cell_type": "markdown",
   "metadata": {},
   "source": [
    "> **Answers:**      \n",
    "> 1.      \n",
    "> 2.     "
   ]
  },
  {
   "cell_type": "markdown",
   "metadata": {},
   "source": [
    "## Improved False Discovery Rate Control Methods \n",
    "\n",
    "We have seen the potential pitfalls of multiple hypothesis testing. Further, we have seen that a simple approach to **false discovery rate (FDR) control** is not effective. You will now apply more sophisticated FDR control methods. \n",
    "\n",
    "The specific problem we will explore is to determine which genes lead to expression of a certain disease. In this example, there are gene expression data for 97 patients. Some of these patients have ulcerative colitis, a condition believed not to be inheritable, and others have Crohn's disease, which is believed to be genetically inherited.    \n",
    "\n",
    "One approach to this problem is to perform hypothesis tests on the expression of the genes between patients with the two conditions. Since there are over 10,000 genes there is considerable chance for false discovery. Therefore, careful application of FDR control is required.\n",
    "\n",
    "To continue with the example, execute the code in the cell below to load the data and print the dimensionality of the data frame. "
   ]
  },
  {
   "cell_type": "code",
   "execution_count": 37,
   "metadata": {},
   "outputs": [
    {
     "name": "stdout",
     "output_type": "stream",
     "text": [
      "(97, 10498)\n"
     ]
    }
   ],
   "source": [
    "gene_data = pd.read_csv('../data/ColonDiseaseGeneData-Cleaned.csv')\n",
    "print(gene_data.shape)"
   ]
  },
  {
   "cell_type": "markdown",
   "metadata": {},
   "source": [
    "There are data from 97 patients (rows) with 10,497 genes (features in columns). A large number of pairwise hypothesis tests are required!     \n",
    "\n",
    "Execute the code in the cell below to view the first 5 columns of the data frame, which includes the expression of the first 4 genes.  "
   ]
  },
  {
   "cell_type": "code",
   "execution_count": 38,
   "metadata": {},
   "outputs": [
    {
     "name": "stdout",
     "output_type": "stream",
     "text": [
      "              Disease State  FAM138F  LOC100133331  LOC100132062  LOC388312\n",
      "0   Ulcerative Colitis (UC)   7.2980        8.5650        8.7778     9.2365\n",
      "1   Ulcerative Colitis (UC)   8.0751        8.3536        8.7785     9.4256\n",
      "2   Ulcerative Colitis (UC)   6.8458        8.8254        9.1960     9.8835\n",
      "3   Ulcerative Colitis (UC)   7.6507        8.1838        8.2845     8.8011\n",
      "4   Ulcerative Colitis (UC)   7.3524        8.4415        8.6630     9.1292\n",
      "5   Ulcerative Colitis (UC)   7.2811        8.4023        8.6892     9.3487\n",
      "6   Ulcerative Colitis (UC)   7.8913        8.8026        8.6892     8.4706\n",
      "7   Ulcerative Colitis (UC)   7.0641        8.5498        8.7145     9.0538\n",
      "8   Ulcerative Colitis (UC)   7.5266        8.8004        9.1334     9.8241\n",
      "9   Ulcerative Colitis (UC)   7.0322        8.8119        9.1838     9.8496\n",
      "10  Ulcerative Colitis (UC)   7.0657        8.6229        8.9592     9.5281\n",
      "11  Ulcerative Colitis (UC)   7.5924        8.5463        9.1006     9.7927\n",
      "12  Ulcerative Colitis (UC)   7.0600        8.7177        9.0183     9.6008\n",
      "13  Ulcerative Colitis (UC)   7.1898        8.9140        9.4450    10.1850\n",
      "14  Ulcerative Colitis (UC)   7.2143        8.5502        8.8953     9.5342\n",
      "15  Ulcerative Colitis (UC)   7.0964        8.7591        9.2912     9.9657\n",
      "16  Ulcerative Colitis (UC)   7.2198        9.2102        9.7642    10.5014\n",
      "17  Ulcerative Colitis (UC)   7.3403        9.4456       10.0189    10.7591\n",
      "18  Ulcerative Colitis (UC)   7.4461        8.5284        8.7357     9.2506\n",
      "19  Ulcerative Colitis (UC)   7.3455        8.6927        9.0602     9.7192\n",
      "20  Ulcerative Colitis (UC)   7.0880        8.2631        8.4369     8.8794\n",
      "21  Ulcerative Colitis (UC)   7.2825        8.7345        9.1484     9.7872\n",
      "22  Ulcerative Colitis (UC)   7.1724        8.3719        8.7555     9.4038\n",
      "23  Ulcerative Colitis (UC)   6.8806        8.5305        8.8483     9.3340\n",
      "24     Crohn's Disease (CD)   7.2068        8.7216        8.9883     9.4779\n",
      "25     Crohn's Disease (CD)   7.8298        8.9175        9.1842     9.6337\n",
      "26     Crohn's Disease (CD)   7.2091        8.9301        9.2968     9.8979\n",
      "27     Crohn's Disease (CD)   7.0550        8.5439        8.8213     9.4340\n",
      "28     Crohn's Disease (CD)   7.1302        8.4071        8.6142     9.0457\n",
      "29     Crohn's Disease (CD)   7.5896        8.6109        8.8517     9.3895\n",
      "30     Crohn's Disease (CD)   7.1414        8.5179        8.7155     9.1508\n",
      "31     Crohn's Disease (CD)   7.5786        8.5027        8.6525     8.9109\n",
      "32     Crohn's Disease (CD)   7.3579        8.4111        8.6590     9.1606\n",
      "33     Crohn's Disease (CD)   7.2707        8.4076        8.8388     9.4837\n",
      "34     Crohn's Disease (CD)   8.0351        8.0996        8.1967     8.6139\n",
      "35     Crohn's Disease (CD)   7.5432        8.3209        8.6573     9.2815\n",
      "36     Crohn's Disease (CD)   7.1810        8.2516        8.4162     8.9155\n",
      "37     Crohn's Disease (CD)   7.5264        8.7270        9.0187     9.5883\n",
      "38     Crohn's Disease (CD)   7.3716        8.4931        8.7526     9.2896\n",
      "39     Crohn's Disease (CD)   7.4850        8.3430        8.5856     9.1303\n",
      "40     Crohn's Disease (CD)   7.4165        8.2109        8.3940     8.8056\n",
      "41     Crohn's Disease (CD)   6.9773        8.3712        8.7869     9.4372\n",
      "42     Crohn's Disease (CD)   7.8786        8.1959        8.5050     9.0982\n",
      "43     Crohn's Disease (CD)   7.5083        8.5155        8.7980     9.3524\n",
      "44     Crohn's Disease (CD)   7.0880        8.4385        8.8253     9.4505\n",
      "45     Crohn's Disease (CD)   6.8838        8.4538        8.7470     9.2828\n",
      "46     Crohn's Disease (CD)   6.8119        8.3748        8.5175     8.9693\n",
      "47     Crohn's Disease (CD)   7.2496        8.9122        9.4422    10.1554\n",
      "48     Crohn's Disease (CD)   6.8267        8.9778        9.3882    10.0778\n",
      "49     Crohn's Disease (CD)   7.0636        9.4644       10.0785    10.8549\n",
      "50     Crohn's Disease (CD)   7.6835        9.3493        9.8959    10.6338\n",
      "51     Crohn's Disease (CD)   7.2210        8.7814        9.1714     9.8162\n",
      "52     Crohn's Disease (CD)   6.8487        8.8734        9.2340     9.8769\n",
      "53     Crohn's Disease (CD)   7.5918        8.2312        8.5544     9.1008\n",
      "54     Crohn's Disease (CD)   7.1678        8.1288        8.3662     8.9679\n",
      "55     Crohn's Disease (CD)   7.3017        9.2388        9.7731    10.5605\n",
      "56     Crohn's Disease (CD)   7.1610        9.7806       10.4121    11.2396\n",
      "57     Crohn's Disease (CD)   7.2261        9.3428        9.8967    10.6759\n",
      "58     Crohn's Disease (CD)   7.1593        9.3831        9.8278    10.5998\n",
      "59     Crohn's Disease (CD)   7.1019        8.3430        8.5420     8.9747\n",
      "60     Crohn's Disease (CD)   7.3116        8.4065        8.4365     8.6799\n",
      "61     Crohn's Disease (CD)   7.8494        8.3663        8.7258     9.3271\n",
      "62     Crohn's Disease (CD)   7.2701        8.4757        8.8142     9.3429\n",
      "63     Crohn's Disease (CD)   7.5647        8.8474        9.1067     9.6523\n",
      "64     Crohn's Disease (CD)   7.2515        8.6235        8.8586     9.3837\n",
      "65     Crohn's Disease (CD)   7.1507        8.8505        9.3616    10.0741\n",
      "66     Crohn's Disease (CD)   7.4678        8.3267        8.4853     8.8199\n",
      "67     Crohn's Disease (CD)   7.5946        8.6988        9.0260     9.5730\n",
      "68     Crohn's Disease (CD)   7.4190        8.4272        8.7151     9.3093\n",
      "69     Crohn's Disease (CD)   7.1283        8.6103        9.0461     9.6250\n",
      "70     Crohn's Disease (CD)   7.1075        8.6806        9.0847     9.6714\n",
      "71     Crohn's Disease (CD)   7.5319        8.8390        9.2998     9.9908\n",
      "72     Crohn's Disease (CD)   7.4337        8.1981        8.4922     9.0470\n",
      "73     Crohn's Disease (CD)   6.8102        8.4159        8.7216     9.2068\n",
      "74     Crohn's Disease (CD)   6.7455        8.4007        8.6120     9.0240\n",
      "75     Crohn's Disease (CD)   7.4960        9.1633        9.4830    10.0791\n",
      "76     Crohn's Disease (CD)   7.2845        8.9434        9.1429     9.6071\n",
      "77     Crohn's Disease (CD)   7.0643        8.2883        8.6007     9.1311\n",
      "78     Crohn's Disease (CD)   7.3322        8.6903        9.0542     9.6266\n",
      "79     Crohn's Disease (CD)   7.2334        8.4386        8.6074     9.0808\n",
      "80     Crohn's Disease (CD)   7.1355        8.1473        8.4648     9.0846\n",
      "81     Crohn's Disease (CD)   7.3307        8.6789        9.1033     9.6172\n",
      "82     Crohn's Disease (CD)   7.3263        8.6000        8.7555     9.1330\n",
      "83     Crohn's Disease (CD)   7.5301        8.5545        8.6041     8.8550\n",
      "84     Crohn's Disease (CD)   7.2411        8.5200        8.9117     9.4735\n",
      "85     Crohn's Disease (CD)   7.7174        8.6790        8.9892     9.5009\n",
      "86     Crohn's Disease (CD)   7.8088        8.7493        8.9242     9.2937\n",
      "87     Crohn's Disease (CD)   6.8142        9.1015        9.6005    10.3573\n",
      "88     Crohn's Disease (CD)   7.0029        8.8982        9.1675     9.7203\n",
      "89     Crohn's Disease (CD)   7.1317        8.5958        8.9374     9.6554\n",
      "90     Crohn's Disease (CD)   7.2842        8.9521        9.2933     9.8822\n",
      "91     Crohn's Disease (CD)   7.0717        8.7461        9.1679     9.7870\n",
      "92     Crohn's Disease (CD)   7.3420        8.3204        8.5116     8.9684\n",
      "93     Crohn's Disease (CD)   6.6286        9.7240       10.2898    11.1171\n",
      "94     Crohn's Disease (CD)   6.7240        9.5739       10.2080    11.0556\n",
      "95     Crohn's Disease (CD)   7.5894        9.7265       10.3238    11.1514\n",
      "96     Crohn's Disease (CD)   7.4378        8.8964        9.3807    10.1370\n"
     ]
    }
   ],
   "source": [
    " print(gene_data.iloc[:,:5])      "
   ]
  },
  {
   "cell_type": "markdown",
   "metadata": {},
   "source": [
    "You will apply two FDR control methods to these data to reduce the FDR rate, and compare the results to the Bonferroni method. These methods control the FDR, while not being overly conservative on true positive results, like the Bonferronic correction. "
   ]
  },
  {
   "cell_type": "markdown",
   "metadata": {},
   "source": [
    "### Holm's method\n",
    "\n",
    "The first of these **Holm's method**. Holm's method operates on the ordered set of p-values, $D = \\{ p_{(1)}, p_{(2)}, p_{(3)}, \\ldots, p_{(n)} \\}$. The threshold is dynamic with the order of the P-value. For the $ith$ p-value, $p(i)$ for $N$ pairwise tests is:  \n",
    "\n",
    "$$p(i) \\le Threshold(Holm's) = \\frac{\\alpha}{N - i + 1}$$\n",
    "\n",
    "For example: for the 10th ordered p-value with 1,000 total tests (genes) and significance level of 0.05, the cutoff is:   \n",
    "\n",
    "$$p(10) \\le \\frac{0.05}{1000 - 10 + 1} = 0.00005045$$"
   ]
  },
  {
   "cell_type": "markdown",
   "metadata": {},
   "source": [
    "### Map process  \n",
    "\n",
    "> **Exercise 01-5:** To start the processing of these data you will first create and execute code for a map process. The map process groups the data by the patient's disease into 2 data frames, `ulcerative`, and `crohns`. The keys for each of these key-value pairs are the gene identifier. Notice that one key is all that is needed in this case. Now do the following to create and execute a function, `map_gene` to do the following:   \n",
    "> 1. Create a logical mask and group the values by `Disease State`.\n",
    "> 2. Use the mask to divide the original data frame into two data frames, one for ulcerative colitis and one for Crohns diseasse.\n",
    "> 3. Return the transpose of the two data frames, removing the `Disease State` column. The result of this operation should be data frames with gene expressions for each patient in the columns and the gene identifier as the row index. \n",
    "> 4. Print the heads of the two data frames.  "
   ]
  },
  {
   "cell_type": "code",
   "execution_count": 39,
   "metadata": {},
   "outputs": [],
   "source": [
    "def map_gene(gene_data):  \n",
    "    ## Your code goes below \n",
    "    \n",
    "\n",
    "\n",
    "    \n",
    "    return ulcerative.iloc[:,1:].transpose(), crohns.iloc[:,1:].transpose()\n",
    "    \n",
    "ulcerative, crohns = map_gene(gene_data)    "
   ]
  },
  {
   "cell_type": "markdown",
   "metadata": {},
   "source": [
    "> 3. Execute the code in the two cells below to display the heads of these data frames and examine the results. "
   ]
  },
  {
   "cell_type": "code",
   "execution_count": 40,
   "metadata": {},
   "outputs": [
    {
     "data": {
      "text/html": [
       "<div>\n",
       "<style scoped>\n",
       "    .dataframe tbody tr th:only-of-type {\n",
       "        vertical-align: middle;\n",
       "    }\n",
       "\n",
       "    .dataframe tbody tr th {\n",
       "        vertical-align: top;\n",
       "    }\n",
       "\n",
       "    .dataframe thead th {\n",
       "        text-align: right;\n",
       "    }\n",
       "</style>\n",
       "<table border=\"1\" class=\"dataframe\">\n",
       "  <thead>\n",
       "    <tr style=\"text-align: right;\">\n",
       "      <th></th>\n",
       "      <th>0</th>\n",
       "      <th>1</th>\n",
       "      <th>2</th>\n",
       "      <th>3</th>\n",
       "      <th>4</th>\n",
       "      <th>5</th>\n",
       "      <th>6</th>\n",
       "      <th>7</th>\n",
       "      <th>8</th>\n",
       "      <th>9</th>\n",
       "      <th>10</th>\n",
       "      <th>11</th>\n",
       "      <th>12</th>\n",
       "      <th>13</th>\n",
       "      <th>14</th>\n",
       "      <th>15</th>\n",
       "      <th>16</th>\n",
       "      <th>17</th>\n",
       "      <th>18</th>\n",
       "      <th>19</th>\n",
       "      <th>20</th>\n",
       "      <th>21</th>\n",
       "      <th>22</th>\n",
       "      <th>23</th>\n",
       "    </tr>\n",
       "  </thead>\n",
       "  <tbody>\n",
       "    <tr>\n",
       "      <th>FAM138F</th>\n",
       "      <td>7.2980</td>\n",
       "      <td>8.0751</td>\n",
       "      <td>6.8458</td>\n",
       "      <td>7.6507</td>\n",
       "      <td>7.3524</td>\n",
       "      <td>7.2811</td>\n",
       "      <td>7.8913</td>\n",
       "      <td>7.0641</td>\n",
       "      <td>7.5266</td>\n",
       "      <td>7.0322</td>\n",
       "      <td>7.0657</td>\n",
       "      <td>7.5924</td>\n",
       "      <td>7.0600</td>\n",
       "      <td>7.1898</td>\n",
       "      <td>7.2143</td>\n",
       "      <td>7.0964</td>\n",
       "      <td>7.2198</td>\n",
       "      <td>7.3403</td>\n",
       "      <td>7.4461</td>\n",
       "      <td>7.3455</td>\n",
       "      <td>7.0880</td>\n",
       "      <td>7.2825</td>\n",
       "      <td>7.1724</td>\n",
       "      <td>6.8806</td>\n",
       "    </tr>\n",
       "    <tr>\n",
       "      <th>LOC100133331</th>\n",
       "      <td>8.5650</td>\n",
       "      <td>8.3536</td>\n",
       "      <td>8.8254</td>\n",
       "      <td>8.1838</td>\n",
       "      <td>8.4415</td>\n",
       "      <td>8.4023</td>\n",
       "      <td>8.8026</td>\n",
       "      <td>8.5498</td>\n",
       "      <td>8.8004</td>\n",
       "      <td>8.8119</td>\n",
       "      <td>8.6229</td>\n",
       "      <td>8.5463</td>\n",
       "      <td>8.7177</td>\n",
       "      <td>8.9140</td>\n",
       "      <td>8.5502</td>\n",
       "      <td>8.7591</td>\n",
       "      <td>9.2102</td>\n",
       "      <td>9.4456</td>\n",
       "      <td>8.5284</td>\n",
       "      <td>8.6927</td>\n",
       "      <td>8.2631</td>\n",
       "      <td>8.7345</td>\n",
       "      <td>8.3719</td>\n",
       "      <td>8.5305</td>\n",
       "    </tr>\n",
       "    <tr>\n",
       "      <th>LOC100132062</th>\n",
       "      <td>8.7778</td>\n",
       "      <td>8.7785</td>\n",
       "      <td>9.1960</td>\n",
       "      <td>8.2845</td>\n",
       "      <td>8.6630</td>\n",
       "      <td>8.6892</td>\n",
       "      <td>8.6892</td>\n",
       "      <td>8.7145</td>\n",
       "      <td>9.1334</td>\n",
       "      <td>9.1838</td>\n",
       "      <td>8.9592</td>\n",
       "      <td>9.1006</td>\n",
       "      <td>9.0183</td>\n",
       "      <td>9.4450</td>\n",
       "      <td>8.8953</td>\n",
       "      <td>9.2912</td>\n",
       "      <td>9.7642</td>\n",
       "      <td>10.0189</td>\n",
       "      <td>8.7357</td>\n",
       "      <td>9.0602</td>\n",
       "      <td>8.4369</td>\n",
       "      <td>9.1484</td>\n",
       "      <td>8.7555</td>\n",
       "      <td>8.8483</td>\n",
       "    </tr>\n",
       "    <tr>\n",
       "      <th>LOC388312</th>\n",
       "      <td>9.2365</td>\n",
       "      <td>9.4256</td>\n",
       "      <td>9.8835</td>\n",
       "      <td>8.8011</td>\n",
       "      <td>9.1292</td>\n",
       "      <td>9.3487</td>\n",
       "      <td>8.4706</td>\n",
       "      <td>9.0538</td>\n",
       "      <td>9.8241</td>\n",
       "      <td>9.8496</td>\n",
       "      <td>9.5281</td>\n",
       "      <td>9.7927</td>\n",
       "      <td>9.6008</td>\n",
       "      <td>10.1850</td>\n",
       "      <td>9.5342</td>\n",
       "      <td>9.9657</td>\n",
       "      <td>10.5014</td>\n",
       "      <td>10.7591</td>\n",
       "      <td>9.2506</td>\n",
       "      <td>9.7192</td>\n",
       "      <td>8.8794</td>\n",
       "      <td>9.7872</td>\n",
       "      <td>9.4038</td>\n",
       "      <td>9.3340</td>\n",
       "    </tr>\n",
       "    <tr>\n",
       "      <th>BC016143</th>\n",
       "      <td>7.3570</td>\n",
       "      <td>7.4431</td>\n",
       "      <td>7.5415</td>\n",
       "      <td>7.7199</td>\n",
       "      <td>7.4482</td>\n",
       "      <td>7.4577</td>\n",
       "      <td>8.6198</td>\n",
       "      <td>7.9258</td>\n",
       "      <td>7.4278</td>\n",
       "      <td>7.8487</td>\n",
       "      <td>7.3141</td>\n",
       "      <td>7.3871</td>\n",
       "      <td>7.5602</td>\n",
       "      <td>7.3844</td>\n",
       "      <td>7.2356</td>\n",
       "      <td>8.1990</td>\n",
       "      <td>7.4642</td>\n",
       "      <td>7.4081</td>\n",
       "      <td>7.7304</td>\n",
       "      <td>7.5309</td>\n",
       "      <td>7.9830</td>\n",
       "      <td>7.9588</td>\n",
       "      <td>7.5957</td>\n",
       "      <td>7.4893</td>\n",
       "    </tr>\n",
       "  </tbody>\n",
       "</table>\n",
       "</div>"
      ],
      "text/plain": [
       "                  0       1       2       3       4       5       6       7   \\\n",
       "FAM138F       7.2980  8.0751  6.8458  7.6507  7.3524  7.2811  7.8913  7.0641   \n",
       "LOC100133331  8.5650  8.3536  8.8254  8.1838  8.4415  8.4023  8.8026  8.5498   \n",
       "LOC100132062  8.7778  8.7785  9.1960  8.2845  8.6630  8.6892  8.6892  8.7145   \n",
       "LOC388312     9.2365  9.4256  9.8835  8.8011  9.1292  9.3487  8.4706  9.0538   \n",
       "BC016143      7.3570  7.4431  7.5415  7.7199  7.4482  7.4577  8.6198  7.9258   \n",
       "\n",
       "                  8       9       10      11      12       13      14      15  \\\n",
       "FAM138F       7.5266  7.0322  7.0657  7.5924  7.0600   7.1898  7.2143  7.0964   \n",
       "LOC100133331  8.8004  8.8119  8.6229  8.5463  8.7177   8.9140  8.5502  8.7591   \n",
       "LOC100132062  9.1334  9.1838  8.9592  9.1006  9.0183   9.4450  8.8953  9.2912   \n",
       "LOC388312     9.8241  9.8496  9.5281  9.7927  9.6008  10.1850  9.5342  9.9657   \n",
       "BC016143      7.4278  7.8487  7.3141  7.3871  7.5602   7.3844  7.2356  8.1990   \n",
       "\n",
       "                   16       17      18      19      20      21      22      23  \n",
       "FAM138F        7.2198   7.3403  7.4461  7.3455  7.0880  7.2825  7.1724  6.8806  \n",
       "LOC100133331   9.2102   9.4456  8.5284  8.6927  8.2631  8.7345  8.3719  8.5305  \n",
       "LOC100132062   9.7642  10.0189  8.7357  9.0602  8.4369  9.1484  8.7555  8.8483  \n",
       "LOC388312     10.5014  10.7591  9.2506  9.7192  8.8794  9.7872  9.4038  9.3340  \n",
       "BC016143       7.4642   7.4081  7.7304  7.5309  7.9830  7.9588  7.5957  7.4893  "
      ]
     },
     "execution_count": 40,
     "metadata": {},
     "output_type": "execute_result"
    }
   ],
   "source": [
    "ulcerative.head()"
   ]
  },
  {
   "cell_type": "code",
   "execution_count": 41,
   "metadata": {},
   "outputs": [
    {
     "data": {
      "text/html": [
       "<div>\n",
       "<style scoped>\n",
       "    .dataframe tbody tr th:only-of-type {\n",
       "        vertical-align: middle;\n",
       "    }\n",
       "\n",
       "    .dataframe tbody tr th {\n",
       "        vertical-align: top;\n",
       "    }\n",
       "\n",
       "    .dataframe thead th {\n",
       "        text-align: right;\n",
       "    }\n",
       "</style>\n",
       "<table border=\"1\" class=\"dataframe\">\n",
       "  <thead>\n",
       "    <tr style=\"text-align: right;\">\n",
       "      <th></th>\n",
       "      <th>24</th>\n",
       "      <th>25</th>\n",
       "      <th>26</th>\n",
       "      <th>27</th>\n",
       "      <th>28</th>\n",
       "      <th>29</th>\n",
       "      <th>30</th>\n",
       "      <th>31</th>\n",
       "      <th>32</th>\n",
       "      <th>33</th>\n",
       "      <th>34</th>\n",
       "      <th>35</th>\n",
       "      <th>36</th>\n",
       "      <th>37</th>\n",
       "      <th>38</th>\n",
       "      <th>39</th>\n",
       "      <th>40</th>\n",
       "      <th>41</th>\n",
       "      <th>42</th>\n",
       "      <th>43</th>\n",
       "      <th>44</th>\n",
       "      <th>45</th>\n",
       "      <th>46</th>\n",
       "      <th>47</th>\n",
       "      <th>48</th>\n",
       "      <th>49</th>\n",
       "      <th>50</th>\n",
       "      <th>51</th>\n",
       "      <th>52</th>\n",
       "      <th>53</th>\n",
       "      <th>54</th>\n",
       "      <th>55</th>\n",
       "      <th>56</th>\n",
       "      <th>57</th>\n",
       "      <th>58</th>\n",
       "      <th>59</th>\n",
       "      <th>60</th>\n",
       "      <th>61</th>\n",
       "      <th>62</th>\n",
       "      <th>63</th>\n",
       "      <th>64</th>\n",
       "      <th>65</th>\n",
       "      <th>66</th>\n",
       "      <th>67</th>\n",
       "      <th>68</th>\n",
       "      <th>69</th>\n",
       "      <th>70</th>\n",
       "      <th>71</th>\n",
       "      <th>72</th>\n",
       "      <th>73</th>\n",
       "      <th>74</th>\n",
       "      <th>75</th>\n",
       "      <th>76</th>\n",
       "      <th>77</th>\n",
       "      <th>78</th>\n",
       "      <th>79</th>\n",
       "      <th>80</th>\n",
       "      <th>81</th>\n",
       "      <th>82</th>\n",
       "      <th>83</th>\n",
       "      <th>84</th>\n",
       "      <th>85</th>\n",
       "      <th>86</th>\n",
       "      <th>87</th>\n",
       "      <th>88</th>\n",
       "      <th>89</th>\n",
       "      <th>90</th>\n",
       "      <th>91</th>\n",
       "      <th>92</th>\n",
       "      <th>93</th>\n",
       "      <th>94</th>\n",
       "      <th>95</th>\n",
       "      <th>96</th>\n",
       "    </tr>\n",
       "  </thead>\n",
       "  <tbody>\n",
       "    <tr>\n",
       "      <th>FAM138F</th>\n",
       "      <td>7.2068</td>\n",
       "      <td>7.8298</td>\n",
       "      <td>7.2091</td>\n",
       "      <td>7.0550</td>\n",
       "      <td>7.1302</td>\n",
       "      <td>7.5896</td>\n",
       "      <td>7.1414</td>\n",
       "      <td>7.5786</td>\n",
       "      <td>7.3579</td>\n",
       "      <td>7.2707</td>\n",
       "      <td>8.0351</td>\n",
       "      <td>7.5432</td>\n",
       "      <td>7.1810</td>\n",
       "      <td>7.5264</td>\n",
       "      <td>7.3716</td>\n",
       "      <td>7.4850</td>\n",
       "      <td>7.4165</td>\n",
       "      <td>6.9773</td>\n",
       "      <td>7.8786</td>\n",
       "      <td>7.5083</td>\n",
       "      <td>7.0880</td>\n",
       "      <td>6.8838</td>\n",
       "      <td>6.8119</td>\n",
       "      <td>7.2496</td>\n",
       "      <td>6.8267</td>\n",
       "      <td>7.0636</td>\n",
       "      <td>7.6835</td>\n",
       "      <td>7.2210</td>\n",
       "      <td>6.8487</td>\n",
       "      <td>7.5918</td>\n",
       "      <td>7.1678</td>\n",
       "      <td>7.3017</td>\n",
       "      <td>7.1610</td>\n",
       "      <td>7.2261</td>\n",
       "      <td>7.1593</td>\n",
       "      <td>7.1019</td>\n",
       "      <td>7.3116</td>\n",
       "      <td>7.8494</td>\n",
       "      <td>7.2701</td>\n",
       "      <td>7.5647</td>\n",
       "      <td>7.2515</td>\n",
       "      <td>7.1507</td>\n",
       "      <td>7.4678</td>\n",
       "      <td>7.5946</td>\n",
       "      <td>7.4190</td>\n",
       "      <td>7.1283</td>\n",
       "      <td>7.1075</td>\n",
       "      <td>7.5319</td>\n",
       "      <td>7.4337</td>\n",
       "      <td>6.8102</td>\n",
       "      <td>6.7455</td>\n",
       "      <td>7.4960</td>\n",
       "      <td>7.2845</td>\n",
       "      <td>7.0643</td>\n",
       "      <td>7.3322</td>\n",
       "      <td>7.2334</td>\n",
       "      <td>7.1355</td>\n",
       "      <td>7.3307</td>\n",
       "      <td>7.3263</td>\n",
       "      <td>7.5301</td>\n",
       "      <td>7.2411</td>\n",
       "      <td>7.7174</td>\n",
       "      <td>7.8088</td>\n",
       "      <td>6.8142</td>\n",
       "      <td>7.0029</td>\n",
       "      <td>7.1317</td>\n",
       "      <td>7.2842</td>\n",
       "      <td>7.0717</td>\n",
       "      <td>7.3420</td>\n",
       "      <td>6.6286</td>\n",
       "      <td>6.7240</td>\n",
       "      <td>7.5894</td>\n",
       "      <td>7.4378</td>\n",
       "    </tr>\n",
       "    <tr>\n",
       "      <th>LOC100133331</th>\n",
       "      <td>8.7216</td>\n",
       "      <td>8.9175</td>\n",
       "      <td>8.9301</td>\n",
       "      <td>8.5439</td>\n",
       "      <td>8.4071</td>\n",
       "      <td>8.6109</td>\n",
       "      <td>8.5179</td>\n",
       "      <td>8.5027</td>\n",
       "      <td>8.4111</td>\n",
       "      <td>8.4076</td>\n",
       "      <td>8.0996</td>\n",
       "      <td>8.3209</td>\n",
       "      <td>8.2516</td>\n",
       "      <td>8.7270</td>\n",
       "      <td>8.4931</td>\n",
       "      <td>8.3430</td>\n",
       "      <td>8.2109</td>\n",
       "      <td>8.3712</td>\n",
       "      <td>8.1959</td>\n",
       "      <td>8.5155</td>\n",
       "      <td>8.4385</td>\n",
       "      <td>8.4538</td>\n",
       "      <td>8.3748</td>\n",
       "      <td>8.9122</td>\n",
       "      <td>8.9778</td>\n",
       "      <td>9.4644</td>\n",
       "      <td>9.3493</td>\n",
       "      <td>8.7814</td>\n",
       "      <td>8.8734</td>\n",
       "      <td>8.2312</td>\n",
       "      <td>8.1288</td>\n",
       "      <td>9.2388</td>\n",
       "      <td>9.7806</td>\n",
       "      <td>9.3428</td>\n",
       "      <td>9.3831</td>\n",
       "      <td>8.3430</td>\n",
       "      <td>8.4065</td>\n",
       "      <td>8.3663</td>\n",
       "      <td>8.4757</td>\n",
       "      <td>8.8474</td>\n",
       "      <td>8.6235</td>\n",
       "      <td>8.8505</td>\n",
       "      <td>8.3267</td>\n",
       "      <td>8.6988</td>\n",
       "      <td>8.4272</td>\n",
       "      <td>8.6103</td>\n",
       "      <td>8.6806</td>\n",
       "      <td>8.8390</td>\n",
       "      <td>8.1981</td>\n",
       "      <td>8.4159</td>\n",
       "      <td>8.4007</td>\n",
       "      <td>9.1633</td>\n",
       "      <td>8.9434</td>\n",
       "      <td>8.2883</td>\n",
       "      <td>8.6903</td>\n",
       "      <td>8.4386</td>\n",
       "      <td>8.1473</td>\n",
       "      <td>8.6789</td>\n",
       "      <td>8.6000</td>\n",
       "      <td>8.5545</td>\n",
       "      <td>8.5200</td>\n",
       "      <td>8.6790</td>\n",
       "      <td>8.7493</td>\n",
       "      <td>9.1015</td>\n",
       "      <td>8.8982</td>\n",
       "      <td>8.5958</td>\n",
       "      <td>8.9521</td>\n",
       "      <td>8.7461</td>\n",
       "      <td>8.3204</td>\n",
       "      <td>9.7240</td>\n",
       "      <td>9.5739</td>\n",
       "      <td>9.7265</td>\n",
       "      <td>8.8964</td>\n",
       "    </tr>\n",
       "    <tr>\n",
       "      <th>LOC100132062</th>\n",
       "      <td>8.9883</td>\n",
       "      <td>9.1842</td>\n",
       "      <td>9.2968</td>\n",
       "      <td>8.8213</td>\n",
       "      <td>8.6142</td>\n",
       "      <td>8.8517</td>\n",
       "      <td>8.7155</td>\n",
       "      <td>8.6525</td>\n",
       "      <td>8.6590</td>\n",
       "      <td>8.8388</td>\n",
       "      <td>8.1967</td>\n",
       "      <td>8.6573</td>\n",
       "      <td>8.4162</td>\n",
       "      <td>9.0187</td>\n",
       "      <td>8.7526</td>\n",
       "      <td>8.5856</td>\n",
       "      <td>8.3940</td>\n",
       "      <td>8.7869</td>\n",
       "      <td>8.5050</td>\n",
       "      <td>8.7980</td>\n",
       "      <td>8.8253</td>\n",
       "      <td>8.7470</td>\n",
       "      <td>8.5175</td>\n",
       "      <td>9.4422</td>\n",
       "      <td>9.3882</td>\n",
       "      <td>10.0785</td>\n",
       "      <td>9.8959</td>\n",
       "      <td>9.1714</td>\n",
       "      <td>9.2340</td>\n",
       "      <td>8.5544</td>\n",
       "      <td>8.3662</td>\n",
       "      <td>9.7731</td>\n",
       "      <td>10.4121</td>\n",
       "      <td>9.8967</td>\n",
       "      <td>9.8278</td>\n",
       "      <td>8.5420</td>\n",
       "      <td>8.4365</td>\n",
       "      <td>8.7258</td>\n",
       "      <td>8.8142</td>\n",
       "      <td>9.1067</td>\n",
       "      <td>8.8586</td>\n",
       "      <td>9.3616</td>\n",
       "      <td>8.4853</td>\n",
       "      <td>9.0260</td>\n",
       "      <td>8.7151</td>\n",
       "      <td>9.0461</td>\n",
       "      <td>9.0847</td>\n",
       "      <td>9.2998</td>\n",
       "      <td>8.4922</td>\n",
       "      <td>8.7216</td>\n",
       "      <td>8.6120</td>\n",
       "      <td>9.4830</td>\n",
       "      <td>9.1429</td>\n",
       "      <td>8.6007</td>\n",
       "      <td>9.0542</td>\n",
       "      <td>8.6074</td>\n",
       "      <td>8.4648</td>\n",
       "      <td>9.1033</td>\n",
       "      <td>8.7555</td>\n",
       "      <td>8.6041</td>\n",
       "      <td>8.9117</td>\n",
       "      <td>8.9892</td>\n",
       "      <td>8.9242</td>\n",
       "      <td>9.6005</td>\n",
       "      <td>9.1675</td>\n",
       "      <td>8.9374</td>\n",
       "      <td>9.2933</td>\n",
       "      <td>9.1679</td>\n",
       "      <td>8.5116</td>\n",
       "      <td>10.2898</td>\n",
       "      <td>10.2080</td>\n",
       "      <td>10.3238</td>\n",
       "      <td>9.3807</td>\n",
       "    </tr>\n",
       "    <tr>\n",
       "      <th>LOC388312</th>\n",
       "      <td>9.4779</td>\n",
       "      <td>9.6337</td>\n",
       "      <td>9.8979</td>\n",
       "      <td>9.4340</td>\n",
       "      <td>9.0457</td>\n",
       "      <td>9.3895</td>\n",
       "      <td>9.1508</td>\n",
       "      <td>8.9109</td>\n",
       "      <td>9.1606</td>\n",
       "      <td>9.4837</td>\n",
       "      <td>8.6139</td>\n",
       "      <td>9.2815</td>\n",
       "      <td>8.9155</td>\n",
       "      <td>9.5883</td>\n",
       "      <td>9.2896</td>\n",
       "      <td>9.1303</td>\n",
       "      <td>8.8056</td>\n",
       "      <td>9.4372</td>\n",
       "      <td>9.0982</td>\n",
       "      <td>9.3524</td>\n",
       "      <td>9.4505</td>\n",
       "      <td>9.2828</td>\n",
       "      <td>8.9693</td>\n",
       "      <td>10.1554</td>\n",
       "      <td>10.0778</td>\n",
       "      <td>10.8549</td>\n",
       "      <td>10.6338</td>\n",
       "      <td>9.8162</td>\n",
       "      <td>9.8769</td>\n",
       "      <td>9.1008</td>\n",
       "      <td>8.9679</td>\n",
       "      <td>10.5605</td>\n",
       "      <td>11.2396</td>\n",
       "      <td>10.6759</td>\n",
       "      <td>10.5998</td>\n",
       "      <td>8.9747</td>\n",
       "      <td>8.6799</td>\n",
       "      <td>9.3271</td>\n",
       "      <td>9.3429</td>\n",
       "      <td>9.6523</td>\n",
       "      <td>9.3837</td>\n",
       "      <td>10.0741</td>\n",
       "      <td>8.8199</td>\n",
       "      <td>9.5730</td>\n",
       "      <td>9.3093</td>\n",
       "      <td>9.6250</td>\n",
       "      <td>9.6714</td>\n",
       "      <td>9.9908</td>\n",
       "      <td>9.0470</td>\n",
       "      <td>9.2068</td>\n",
       "      <td>9.0240</td>\n",
       "      <td>10.0791</td>\n",
       "      <td>9.6071</td>\n",
       "      <td>9.1311</td>\n",
       "      <td>9.6266</td>\n",
       "      <td>9.0808</td>\n",
       "      <td>9.0846</td>\n",
       "      <td>9.6172</td>\n",
       "      <td>9.1330</td>\n",
       "      <td>8.8550</td>\n",
       "      <td>9.4735</td>\n",
       "      <td>9.5009</td>\n",
       "      <td>9.2937</td>\n",
       "      <td>10.3573</td>\n",
       "      <td>9.7203</td>\n",
       "      <td>9.6554</td>\n",
       "      <td>9.8822</td>\n",
       "      <td>9.7870</td>\n",
       "      <td>8.9684</td>\n",
       "      <td>11.1171</td>\n",
       "      <td>11.0556</td>\n",
       "      <td>11.1514</td>\n",
       "      <td>10.1370</td>\n",
       "    </tr>\n",
       "    <tr>\n",
       "      <th>BC016143</th>\n",
       "      <td>8.0481</td>\n",
       "      <td>8.1224</td>\n",
       "      <td>7.8660</td>\n",
       "      <td>7.4640</td>\n",
       "      <td>7.7226</td>\n",
       "      <td>7.4770</td>\n",
       "      <td>7.7176</td>\n",
       "      <td>8.1704</td>\n",
       "      <td>7.8795</td>\n",
       "      <td>7.4256</td>\n",
       "      <td>7.6490</td>\n",
       "      <td>7.5086</td>\n",
       "      <td>7.3649</td>\n",
       "      <td>7.5547</td>\n",
       "      <td>7.4353</td>\n",
       "      <td>7.2359</td>\n",
       "      <td>7.6896</td>\n",
       "      <td>7.3325</td>\n",
       "      <td>7.5772</td>\n",
       "      <td>8.0188</td>\n",
       "      <td>7.7060</td>\n",
       "      <td>7.5093</td>\n",
       "      <td>7.4226</td>\n",
       "      <td>7.3826</td>\n",
       "      <td>7.4499</td>\n",
       "      <td>7.6519</td>\n",
       "      <td>7.3737</td>\n",
       "      <td>7.5800</td>\n",
       "      <td>7.5518</td>\n",
       "      <td>7.6202</td>\n",
       "      <td>7.3509</td>\n",
       "      <td>7.6288</td>\n",
       "      <td>7.8099</td>\n",
       "      <td>7.5718</td>\n",
       "      <td>7.6041</td>\n",
       "      <td>7.6090</td>\n",
       "      <td>8.1176</td>\n",
       "      <td>7.5379</td>\n",
       "      <td>7.8327</td>\n",
       "      <td>7.5541</td>\n",
       "      <td>7.8376</td>\n",
       "      <td>7.9190</td>\n",
       "      <td>7.8672</td>\n",
       "      <td>7.5682</td>\n",
       "      <td>7.4784</td>\n",
       "      <td>7.8521</td>\n",
       "      <td>7.6496</td>\n",
       "      <td>7.3517</td>\n",
       "      <td>7.4401</td>\n",
       "      <td>7.6754</td>\n",
       "      <td>7.8093</td>\n",
       "      <td>8.0799</td>\n",
       "      <td>7.8189</td>\n",
       "      <td>7.9144</td>\n",
       "      <td>7.9798</td>\n",
       "      <td>7.6367</td>\n",
       "      <td>7.5875</td>\n",
       "      <td>7.3403</td>\n",
       "      <td>7.6071</td>\n",
       "      <td>7.7039</td>\n",
       "      <td>7.9817</td>\n",
       "      <td>7.8251</td>\n",
       "      <td>8.0923</td>\n",
       "      <td>7.8580</td>\n",
       "      <td>8.2655</td>\n",
       "      <td>7.4652</td>\n",
       "      <td>7.6534</td>\n",
       "      <td>8.0463</td>\n",
       "      <td>7.7518</td>\n",
       "      <td>7.6910</td>\n",
       "      <td>7.8168</td>\n",
       "      <td>7.7033</td>\n",
       "      <td>7.4519</td>\n",
       "    </tr>\n",
       "  </tbody>\n",
       "</table>\n",
       "</div>"
      ],
      "text/plain": [
       "                  24      25      26      27      28      29      30      31  \\\n",
       "FAM138F       7.2068  7.8298  7.2091  7.0550  7.1302  7.5896  7.1414  7.5786   \n",
       "LOC100133331  8.7216  8.9175  8.9301  8.5439  8.4071  8.6109  8.5179  8.5027   \n",
       "LOC100132062  8.9883  9.1842  9.2968  8.8213  8.6142  8.8517  8.7155  8.6525   \n",
       "LOC388312     9.4779  9.6337  9.8979  9.4340  9.0457  9.3895  9.1508  8.9109   \n",
       "BC016143      8.0481  8.1224  7.8660  7.4640  7.7226  7.4770  7.7176  8.1704   \n",
       "\n",
       "                  32      33      34      35      36      37      38      39  \\\n",
       "FAM138F       7.3579  7.2707  8.0351  7.5432  7.1810  7.5264  7.3716  7.4850   \n",
       "LOC100133331  8.4111  8.4076  8.0996  8.3209  8.2516  8.7270  8.4931  8.3430   \n",
       "LOC100132062  8.6590  8.8388  8.1967  8.6573  8.4162  9.0187  8.7526  8.5856   \n",
       "LOC388312     9.1606  9.4837  8.6139  9.2815  8.9155  9.5883  9.2896  9.1303   \n",
       "BC016143      7.8795  7.4256  7.6490  7.5086  7.3649  7.5547  7.4353  7.2359   \n",
       "\n",
       "                  40      41      42      43      44      45      46       47  \\\n",
       "FAM138F       7.4165  6.9773  7.8786  7.5083  7.0880  6.8838  6.8119   7.2496   \n",
       "LOC100133331  8.2109  8.3712  8.1959  8.5155  8.4385  8.4538  8.3748   8.9122   \n",
       "LOC100132062  8.3940  8.7869  8.5050  8.7980  8.8253  8.7470  8.5175   9.4422   \n",
       "LOC388312     8.8056  9.4372  9.0982  9.3524  9.4505  9.2828  8.9693  10.1554   \n",
       "BC016143      7.6896  7.3325  7.5772  8.0188  7.7060  7.5093  7.4226   7.3826   \n",
       "\n",
       "                   48       49       50      51      52      53      54  \\\n",
       "FAM138F        6.8267   7.0636   7.6835  7.2210  6.8487  7.5918  7.1678   \n",
       "LOC100133331   8.9778   9.4644   9.3493  8.7814  8.8734  8.2312  8.1288   \n",
       "LOC100132062   9.3882  10.0785   9.8959  9.1714  9.2340  8.5544  8.3662   \n",
       "LOC388312     10.0778  10.8549  10.6338  9.8162  9.8769  9.1008  8.9679   \n",
       "BC016143       7.4499   7.6519   7.3737  7.5800  7.5518  7.6202  7.3509   \n",
       "\n",
       "                   55       56       57       58      59      60      61  \\\n",
       "FAM138F        7.3017   7.1610   7.2261   7.1593  7.1019  7.3116  7.8494   \n",
       "LOC100133331   9.2388   9.7806   9.3428   9.3831  8.3430  8.4065  8.3663   \n",
       "LOC100132062   9.7731  10.4121   9.8967   9.8278  8.5420  8.4365  8.7258   \n",
       "LOC388312     10.5605  11.2396  10.6759  10.5998  8.9747  8.6799  9.3271   \n",
       "BC016143       7.6288   7.8099   7.5718   7.6041  7.6090  8.1176  7.5379   \n",
       "\n",
       "                  62      63      64       65      66      67      68      69  \\\n",
       "FAM138F       7.2701  7.5647  7.2515   7.1507  7.4678  7.5946  7.4190  7.1283   \n",
       "LOC100133331  8.4757  8.8474  8.6235   8.8505  8.3267  8.6988  8.4272  8.6103   \n",
       "LOC100132062  8.8142  9.1067  8.8586   9.3616  8.4853  9.0260  8.7151  9.0461   \n",
       "LOC388312     9.3429  9.6523  9.3837  10.0741  8.8199  9.5730  9.3093  9.6250   \n",
       "BC016143      7.8327  7.5541  7.8376   7.9190  7.8672  7.5682  7.4784  7.8521   \n",
       "\n",
       "                  70      71      72      73      74       75      76      77  \\\n",
       "FAM138F       7.1075  7.5319  7.4337  6.8102  6.7455   7.4960  7.2845  7.0643   \n",
       "LOC100133331  8.6806  8.8390  8.1981  8.4159  8.4007   9.1633  8.9434  8.2883   \n",
       "LOC100132062  9.0847  9.2998  8.4922  8.7216  8.6120   9.4830  9.1429  8.6007   \n",
       "LOC388312     9.6714  9.9908  9.0470  9.2068  9.0240  10.0791  9.6071  9.1311   \n",
       "BC016143      7.6496  7.3517  7.4401  7.6754  7.8093   8.0799  7.8189  7.9144   \n",
       "\n",
       "                  78      79      80      81      82      83      84      85  \\\n",
       "FAM138F       7.3322  7.2334  7.1355  7.3307  7.3263  7.5301  7.2411  7.7174   \n",
       "LOC100133331  8.6903  8.4386  8.1473  8.6789  8.6000  8.5545  8.5200  8.6790   \n",
       "LOC100132062  9.0542  8.6074  8.4648  9.1033  8.7555  8.6041  8.9117  8.9892   \n",
       "LOC388312     9.6266  9.0808  9.0846  9.6172  9.1330  8.8550  9.4735  9.5009   \n",
       "BC016143      7.9798  7.6367  7.5875  7.3403  7.6071  7.7039  7.9817  7.8251   \n",
       "\n",
       "                  86       87      88      89      90      91      92  \\\n",
       "FAM138F       7.8088   6.8142  7.0029  7.1317  7.2842  7.0717  7.3420   \n",
       "LOC100133331  8.7493   9.1015  8.8982  8.5958  8.9521  8.7461  8.3204   \n",
       "LOC100132062  8.9242   9.6005  9.1675  8.9374  9.2933  9.1679  8.5116   \n",
       "LOC388312     9.2937  10.3573  9.7203  9.6554  9.8822  9.7870  8.9684   \n",
       "BC016143      8.0923   7.8580  8.2655  7.4652  7.6534  8.0463  7.7518   \n",
       "\n",
       "                   93       94       95       96  \n",
       "FAM138F        6.6286   6.7240   7.5894   7.4378  \n",
       "LOC100133331   9.7240   9.5739   9.7265   8.8964  \n",
       "LOC100132062  10.2898  10.2080  10.3238   9.3807  \n",
       "LOC388312     11.1171  11.0556  11.1514  10.1370  \n",
       "BC016143       7.6910   7.8168   7.7033   7.4519  "
      ]
     },
     "execution_count": 41,
     "metadata": {},
     "output_type": "execute_result"
    }
   ],
   "source": [
    "crohns.head()"
   ]
  },
  {
   "cell_type": "markdown",
   "metadata": {},
   "source": [
    "### Reduce process \n",
    "\n",
    "> **Exercise 01-6:** With the key-value pairs organized by disease state, it is time to create and execute code of a reduce process. The reduce process will compute the pairwise t-statistics and p-values for each gene and return the sorted results. Specifically, your `gene_test` with arguments of the two mapped data frames will do the following:   \n",
    "> 1. Create an empty results data frame with using the hash key (gene identifier) as an index and columns t_statistics, and p-value.\n",
    "> 2. Use a `for` loop to iterate over the keys of either data frame.  \n",
    "> 3. Compute the t-statistic and p-value for the gene (key) for the pairwise tests between the data frames.\n",
    "> 4. Assign the values to the row in the data frame using the gene identifier as index with the Pandas `loc` method.    \n",
    "> 5. Sort the results data frame, `inplace`, into ascending order.\n",
    "> 6. Return the resulting data frame.\n",
    "> 7. Call the function and print the first 10 rows of the data frame.  "
   ]
  },
  {
   "cell_type": "code",
   "execution_count": 42,
   "metadata": {},
   "outputs": [
    {
     "data": {
      "text/html": [
       "<div>\n",
       "<style scoped>\n",
       "    .dataframe tbody tr th:only-of-type {\n",
       "        vertical-align: middle;\n",
       "    }\n",
       "\n",
       "    .dataframe tbody tr th {\n",
       "        vertical-align: top;\n",
       "    }\n",
       "\n",
       "    .dataframe thead th {\n",
       "        text-align: right;\n",
       "    }\n",
       "</style>\n",
       "<table border=\"1\" class=\"dataframe\">\n",
       "  <thead>\n",
       "    <tr style=\"text-align: right;\">\n",
       "      <th></th>\n",
       "      <th>t_statistic</th>\n",
       "      <th>p_value</th>\n",
       "    </tr>\n",
       "  </thead>\n",
       "  <tbody>\n",
       "    <tr>\n",
       "      <th>CPQ</th>\n",
       "      <td>-6.868466</td>\n",
       "      <td>0.0</td>\n",
       "    </tr>\n",
       "    <tr>\n",
       "      <th>FOSB</th>\n",
       "      <td>6.356964</td>\n",
       "      <td>0.0</td>\n",
       "    </tr>\n",
       "    <tr>\n",
       "      <th>GBA3</th>\n",
       "      <td>-6.162788</td>\n",
       "      <td>0.0</td>\n",
       "    </tr>\n",
       "    <tr>\n",
       "      <th>LMNA</th>\n",
       "      <td>5.98175</td>\n",
       "      <td>0.0</td>\n",
       "    </tr>\n",
       "    <tr>\n",
       "      <th>DMKN</th>\n",
       "      <td>5.881375</td>\n",
       "      <td>0.0</td>\n",
       "    </tr>\n",
       "    <tr>\n",
       "      <th>NT5DC3</th>\n",
       "      <td>5.857816</td>\n",
       "      <td>0.0</td>\n",
       "    </tr>\n",
       "    <tr>\n",
       "      <th>EPB41L3</th>\n",
       "      <td>-5.761396</td>\n",
       "      <td>0.0</td>\n",
       "    </tr>\n",
       "    <tr>\n",
       "      <th>NR1H4</th>\n",
       "      <td>-5.74931</td>\n",
       "      <td>0.0</td>\n",
       "    </tr>\n",
       "    <tr>\n",
       "      <th>LOC284454</th>\n",
       "      <td>5.68883</td>\n",
       "      <td>0.0</td>\n",
       "    </tr>\n",
       "    <tr>\n",
       "      <th>NR4A2</th>\n",
       "      <td>5.664503</td>\n",
       "      <td>0.0</td>\n",
       "    </tr>\n",
       "  </tbody>\n",
       "</table>\n",
       "</div>"
      ],
      "text/plain": [
       "          t_statistic p_value\n",
       "CPQ         -6.868466     0.0\n",
       "FOSB         6.356964     0.0\n",
       "GBA3        -6.162788     0.0\n",
       "LMNA          5.98175     0.0\n",
       "DMKN         5.881375     0.0\n",
       "NT5DC3       5.857816     0.0\n",
       "EPB41L3     -5.761396     0.0\n",
       "NR1H4        -5.74931     0.0\n",
       "LOC284454     5.68883     0.0\n",
       "NR4A2        5.664503     0.0"
      ]
     },
     "execution_count": 42,
     "metadata": {},
     "output_type": "execute_result"
    }
   ],
   "source": [
    "def gene_test(ulcerative, crohns):  \n",
    "    test_results = test_results = pd.DataFrame(index = ulcerative.index, columns=['t_statistic','p_value'])\n",
    "    ## Put your code below. \n",
    "   \n",
    "\n",
    "\n",
    "\n",
    "\n",
    "    \n",
    "    return test_results\n",
    "    \n",
    "gene_statistics = gene_test(ulcerative, crohns)    \n",
    "gene_statistics.head(10)"
   ]
  },
  {
   "cell_type": "markdown",
   "metadata": {},
   "source": [
    "### Significance of results \n",
    "\n",
    "With the gene data reduced to the t-test statistics, you will now determine the significance of these tests. It is important to understand that scientists believe that expression of a disease, like Corhn's, is only in a small number of genes, less than approximately 100.  \n",
    "\n",
    "> **Exercise 01-6:** As a first step in understanding the gene expression significance complete and execute the code in the cell below to find the number of 'significant' genes using the simple single hypothesis test cutoff criteria.  "
   ]
  },
  {
   "cell_type": "code",
   "execution_count": 43,
   "metadata": {},
   "outputs": [
    {
     "data": {
      "text/plain": [
       "2548"
      ]
     },
     "execution_count": 43,
     "metadata": {},
     "output_type": "execute_result"
    }
   ],
   "source": [
    "significance_level =0.05\n",
    "## Put your code below. \n",
    "\n"
   ]
  },
  {
   "cell_type": "markdown",
   "metadata": {},
   "source": [
    "> Does this large number of 'statistically significant' results appear credible, given that only a few genes are thought to have significant expression for this disease and why in terms of FDR?    \n",
    "> **End of exercise.**     "
   ]
  },
  {
   "cell_type": "markdown",
   "metadata": {},
   "source": [
    "> **Answer:**     "
   ]
  },
  {
   "cell_type": "markdown",
   "metadata": {},
   "source": [
    "> **Exercise 01-7:** We have already seen that the Bonferroni correction is a rather conservative approach to testing the significance of large numbers of hypotheses. You will now use the Bonferroni correction to test the significance of the gene expression, by completing the code in the cell below. In this case, the number of pairwise tests is the number of rows in the `gene_statistics` table. "
   ]
  },
  {
   "cell_type": "code",
   "execution_count": 44,
   "metadata": {},
   "outputs": [
    {
     "data": {
      "text/plain": [
       "59"
      ]
     },
     "execution_count": 44,
     "metadata": {},
     "output_type": "execute_result"
    }
   ],
   "source": [
    "## Put your code below. \n",
    "\n",
    "\n",
    "\n"
   ]
  },
  {
   "cell_type": "markdown",
   "metadata": {},
   "source": [
    "> Does the foregoing result seems reasonable in terms of discovery rate and FDR control?    \n",
    "> **End of exercise.**   "
   ]
  },
  {
   "cell_type": "markdown",
   "metadata": {},
   "source": [
    "> **Answer:**     "
   ]
  },
  {
   "cell_type": "markdown",
   "metadata": {},
   "source": [
    "> **Exercise 01-08:** It may well be the case that the foregoing results using the Bonferroni correction is too conservative. You will now apply the Holms method to determining significance of the gene expression test results. In the cell below complete the `holms_significance` function with arguments of the results data frame and the significance level. This function does the following:  \n",
    "> 1. Find the number of test results and compute the denominator used for the cutoff calculation. \n",
    "> 2. Compute the vector of thresholds using the Holms formula. Use the Python `range`function to get the values of the index i. But, keep in mind that range produces a zero-indexed iterator, and the algorithm needs a one-indexed list.  Use the [numpy.divide](https://numpy.org/doc/stable/reference/generated/numpy.divide.html) function to perform the vector divide. Save these threshold values in a data frame in a 'holms_threshold' column.   \n",
    "> 3. Using the threshold values compute a logical vector and save it in a logical type column named 'significant' in the data frame.\n",
    "> 4. Return the data frame.\n",
    "> Finally, execute the function and save the results in a data frame. Then find and print the length of the subset where the 'significance' value is True. "
   ]
  },
  {
   "cell_type": "code",
   "execution_count": 45,
   "metadata": {},
   "outputs": [
    {
     "data": {
      "text/plain": [
       "59"
      ]
     },
     "execution_count": 45,
     "metadata": {},
     "output_type": "execute_result"
    }
   ],
   "source": [
    "def holms_significance(test_results, significance):\n",
    "    ## First compute the thresholds for each of the ordered tests\n",
    "    ## Put your code below. \n",
    "   \n",
    "\n",
    "\n",
    "\n",
    "    \n",
    "    return test_results\n",
    "\n",
    "holms_results = holms_significance(gene_statistics, significance_level)    \n",
    "len(holms_results.loc[holms_results.loc[:,'significant'],:])"
   ]
  },
  {
   "cell_type": "markdown",
   "metadata": {},
   "source": [
    "> Consider the differences between the calculation of the Bonferroni correction and Holm's threshold. Do you expect any practical difference in the number of significant tests given ordering by the p-value index, $i$? What is the meaning of the similarity or difference of the actual results in this case?  \n",
    "> **End of exercise.**"
   ]
  },
  {
   "cell_type": "markdown",
   "metadata": {},
   "source": [
    "> **Answer:**      "
   ]
  },
  {
   "cell_type": "markdown",
   "metadata": {},
   "source": [
    "You can visualize the results of the Holm's method test. The plot has two key elements:  \n",
    "1. Plot the curve of the p-values vs. the order number, i. The line is color coded by significance or not.\n",
    "2. Plot the threshold line. This line is straight since the threshold is a linear function of i."
   ]
  },
  {
   "cell_type": "code",
   "execution_count": 46,
   "metadata": {},
   "outputs": [
    {
     "data": {
      "image/png": "[encoded data removed]",
      "text/plain": [
       "<Figure size 800x600 with 1 Axes>"
      ]
     },
     "metadata": {},
     "output_type": "display_data"
    }
   ],
   "source": [
    "def plot_significance(results, threshold):\n",
    "    results['number'] = range(len(results))\n",
    "    fig, ax = plt.subplots(figsize=(8, 6))\n",
    "    sns.lineplot(x='number',y=threshold, data=results, ax=ax, color='black', linewidth=0.5)\n",
    "    sns.scatterplot(x='number',y='p_value', hue='significant', data=results, s=3, ax=ax)\n",
    "    ax.set_title('Significance of gene expression')\n",
    "    ax.set_xlabel('Gene number')\n",
    "    ax.set_ylabel('p-value')\n",
    "    \n",
    "plot_significance(holms_results.iloc[:150,:].copy(), 'holms_threshold')    "
   ]
  },
  {
   "cell_type": "markdown",
   "metadata": {},
   "source": [
    "Notice the following about this plot:  \n",
    "1. The p-value significance line crosses the threshold point at an apparent break point.   \n",
    "2. The significant p-values are all very small since there are so many tests.\n",
    "3. The Holm's threshold is does not change very much over the first 150 test results. "
   ]
  },
  {
   "cell_type": "markdown",
   "metadata": {},
   "source": [
    "### Benjamini-Hochberg FDR Control \n",
    "\n",
    "The Benjamini-Hochberg FDR control algorithm is another way to control false discoveries. Stat with an ordered set of $n$ p-values, $D = \\{ p_{(1)}, p_{(2)}, p_{(3)}, \\ldots, p_{(n)} \\}$ we define a false discovery rate, $q$:\n",
    "\n",
    "$$FDR(D) \\le q$$\n",
    "\n",
    "The cutoff threshold for the ith p-value is then:\n",
    "$$p_{(i)} \\le Threshold(D_q) = \\frac{q}{n} i$$"
   ]
  },
  {
   "cell_type": "markdown",
   "metadata": {},
   "source": [
    "> **Exercise 01-9:** In this exercise you will apply the Benjamini-Hochberg FDR control algorithm for testing the significance of the gene expressions. The `BH_significance` function is quite similar to the Holm's method function you have already created. Given the large number of genes you must use a low false discovery rate, $q = 0.001$, or 1 out of 1,000. \n",
    "> Execute your function, saving the result. Then print the number of significant cases. "
   ]
  },
  {
   "cell_type": "code",
   "execution_count": 47,
   "metadata": {},
   "outputs": [
    {
     "data": {
      "text/plain": [
       "70"
      ]
     },
     "execution_count": 47,
     "metadata": {},
     "output_type": "execute_result"
    }
   ],
   "source": [
    "def BH_significance(test_results, false_discovery_tollerance):\n",
    "    ## First compute the thresholds for each of the ordered tests\n",
    "    ## Put your code below. \n",
    "   \n",
    "\n",
    "\n",
    "\n",
    "    \n",
    "    return test_results\n",
    "\n",
    "BH_results = BH_significance(gene_statistics, 0.001)    \n",
    "len(BH_results.loc[BH_results.loc[:,'significant'],:])"
   ]
  },
  {
   "cell_type": "markdown",
   "metadata": {},
   "source": [
    "> This result differs from the first two FDR control methods you have applied. Given the false discovery parameter of 0.001 do you think this is a reasonable result and why? "
   ]
  },
  {
   "cell_type": "markdown",
   "metadata": {},
   "source": [
    "> **Answer:**      "
   ]
  },
  {
   "cell_type": "markdown",
   "metadata": {},
   "source": [
    "Finally, execute the code in the cell below and examine the resulting plot."
   ]
  },
  {
   "cell_type": "code",
   "execution_count": 48,
   "metadata": {},
   "outputs": [
    {
     "data": {
      "image/png": "[encoded data removed]",
      "text/plain": [
       "<Figure size 800x600 with 1 Axes>"
      ]
     },
     "metadata": {},
     "output_type": "display_data"
    }
   ],
   "source": [
    "plot_significance(BH_results.iloc[:150,:].copy(), 'bh_threshold')    "
   ]
  },
  {
   "cell_type": "markdown",
   "metadata": {},
   "source": [
    "> **Exercise 01-10**: Compare the plots of results of the Benjamini-Hochberg FDR control method to those of Holm's method. Why does the Benjamini-Hochberg FDR control method give a more dynamic or adaptive result for the case where $i << n$? "
   ]
  },
  {
   "cell_type": "markdown",
   "metadata": {},
   "source": [
    "> **Answer:**     "
   ]
  },
  {
   "cell_type": "markdown",
   "metadata": {},
   "source": [
    "##### Copyright 2021, 2022, 2023, 2024 Stephen F. Elston. All rights reserved. "
   ]
  }
 ],
 "metadata": {
  "kernelspec": {
   "display_name": "Python 3 (ipykernel)",
   "language": "python",
   "name": "python3"
  },
  "language_info": {
   "codemirror_mode": {
    "name": "ipython",
    "version": 3
   },
   "file_extension": ".py",
   "mimetype": "text/x-python",
   "name": "python",
   "nbconvert_exporter": "python",
   "pygments_lexer": "ipython3",
   "version": "3.9.18"
  }
 },
 "nbformat": 4,
 "nbformat_minor": 4
}
