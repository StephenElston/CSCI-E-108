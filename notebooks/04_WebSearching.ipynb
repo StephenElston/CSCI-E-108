{
  "cells": [
    {
      "cell_type": "markdown",
      "id": "967b4d75",
      "metadata": {
        "id": "967b4d75"
      },
      "source": [
        "# Assignment 04\n",
        "## Web Search\n",
        "## CSCI E-108\n",
        "### Luciano Carvalho\n",
        "\n",
        "> **Instructions:** For this assignment you will complete the exercises shown. Most exercises involve creating and executing some Python code. Additionally, most exercises have questions for you to answer. You can answer questions by creating a Markdown cell and writing your answer. If you are not familiar with Markdown, you can find a brief tutorial [here](https://www.markdownguide.org/cheat-sheet/).     \n",
        "\n",
        "In this assignment you will gain some experience and insight into how web search algorithms work. Specifically, you will implement versions of three algorithms, simple PageRank, damped PageRank, and the HITS algorithm. All three of these algorithms use a **directed graph model** of the web.   \n",
        "\n",
        "The small data examples and coding methods used here are not directly scalable to web sized problems. Rather, the point is for you to understand the basic characteristics of these web search algorithms. Web scale searching requires massive resources not readily available to most people."
      ]
    },
    {
      "cell_type": "markdown",
      "id": "c4218530",
      "metadata": {
        "id": "c4218530"
      },
      "source": [
        "## Simple PageRank Example\n",
        "\n",
        "To get a feeling for the basics of the PageRank algorithm you will create and test simple code.\n",
        "\n",
        "As a first step, execute the code in the cell below to import the packages you will need for the exercises."
      ]
    },
    {
      "cell_type": "code",
      "execution_count": 1,
      "id": "60a1d748",
      "metadata": {
        "id": "60a1d748"
      },
      "outputs": [],
      "source": [
        "import numpy as np"
      ]
    },
    {
      "cell_type": "markdown",
      "id": "320e8bbe",
      "metadata": {
        "id": "320e8bbe"
      },
      "source": [
        "### Directed Graph of Web Pages\n",
        "\n",
        "We will start with a simple example. Figure 1 shows a set of web pages and their hyperlinks. This is a **directed graph** with the **pages as nodes** and the **hyperlinks as the directed edges**. This graph is **complete**. Every page is accessible from any other page, possibly with visits to intermediate nodes required.  \n",
        "\n",
        "<img src=\"../images/Web1.png\" alt=\"Drawing\" style=\"width:500px; height:400px\"/>\n",
        "<center>Figure 1: A small set of web pages</center>\n",
        "\n",
        "The directed edges of the graph define the association between the nodes. For the **association matrix**, a directed edge, or hyperlink, runs from a node's column to the terminal node's row. The association is binary. The directed edge either exists or it does not."
      ]
    },
    {
      "cell_type": "markdown",
      "id": "af1a3f1b",
      "metadata": {
        "id": "af1a3f1b"
      },
      "source": [
        "> **Exercise 04-1:** In the cell below you will create the association matrix and the initial page probability vector. Do the following:  \n",
        "> 1. Create the association matrix, $A$, using [numpy.array](https://numpy.org/doc/stable/reference/generated/numpy.array.html). This matrix is constructed with a 1 where a page in a column has a directed edge linking to another page in a row, and 0 elsewhere. In matrix notation, the element $a_{i,j}$ indicates the presence or absence of a directed edge from node $n_j$ to node $n_i$.   \n",
        "> 2. Print the shape of your association matrix as a check.\n",
        "> 3. Print the in degree and out degree of each node in your association matrix, using [numpy.sum](https://numpy.org/doc/stable/reference/generated/numpy.sum.html). Set the argument `axis` to 1 to sum across rows and 0 to sum down columns."
      ]
    },
    {
      "cell_type": "code",
      "execution_count": 8,
      "id": "78bcdbf0",
      "metadata": {
        "colab": {
          "base_uri": "https://localhost:8080/"
        },
        "id": "78bcdbf0",
        "outputId": "ccf06b49-e289-4d9a-ca04-783a87c98564"
      },
      "outputs": [
        {
          "output_type": "stream",
          "name": "stdout",
          "text": [
            "Shape of the association matrix: (5, 5)\n",
            "In-Degree of each node: [2 2 2 3 2]\n",
            "Out-Degree of each node: [3 3 1 2 2]\n"
          ]
        }
      ],
      "source": [
        "# Association matrix based on the provided graph\n",
        "A = np.array([\n",
        "    [0, 1, 1, 1, 0],  # Page 1\n",
        "    [1, 0, 0, 1, 1],  # Page 2\n",
        "    [0, 0, 0, 1, 0],  # Page 3\n",
        "    [0, 1, 0, 0, 1],  # Page 4\n",
        "    [1, 0, 1, 0, 0]   # Page 5\n",
        "])\n",
        "\n",
        "# Print the shape of the association matrix\n",
        "print(\"Shape of the association matrix:\", A.shape)\n",
        "\n",
        "# Calculate the in-degree and out-degree of each node\n",
        "in_degree = np.sum(A, axis=0)\n",
        "out_degree = np.sum(A, axis=1)\n",
        "\n",
        "print(\"In-Degree of each node:\", in_degree)\n",
        "print(\"Out-Degree of each node:\", out_degree)\n"
      ]
    },
    {
      "cell_type": "markdown",
      "id": "4723ad6b",
      "metadata": {
        "id": "4723ad6b"
      },
      "source": [
        "> Are the out degree and in degree you computed from the association matrix consistent with the graph in Figure 1?    \n",
        "> **End of exercise.**"
      ]
    },
    {
      "cell_type": "markdown",
      "id": "edb63780",
      "metadata": {
        "id": "edb63780"
      },
      "source": [
        "> **Answer:** Yes, the out-degree and in-degree values I computed from the association matrix are consistent with the graph in Figure 1. The in-degrees and out-degrees match the links shown in the graph perfectly"
      ]
    },
    {
      "cell_type": "markdown",
      "id": "e1fc5fd8",
      "metadata": {
        "id": "e1fc5fd8"
      },
      "source": [
        "### Apply Simple Page Rank\n",
        "\n",
        "The normalized transition probability matrix, $M$, is then computed from the association matrix, $A$:\n",
        "\n",
        "$$M = A D^{-1}$$\n",
        "\n",
        "Where, $D^{-1}$ is the inverse of a matrix with the out degree values on the diagonal and zeros elsewhere.  \n",
        "\n",
        "You can see from the foregoing that $M$ distributes the influence of the page by the in|verse of the out degree. In other words, the influence is inversely weighted by the number of pages each page links to."
      ]
    },
    {
      "cell_type": "markdown",
      "id": "2cd99dfa",
      "metadata": {
        "id": "2cd99dfa"
      },
      "source": [
        "> **Exercise 04-2:** You will now compute the normalized transition matrix, $M$. To do so create a function called `norm_association` with the association matrix as the argument. Do the following:\n",
        "> 1. Create your function `norm_association` which will do the following:  \n",
        ">    - Compute the sum of the columns of the association matrix using `numpy.sum` with the `axis=0` argument to sum along columns.\n",
        ">   - Compute the inverse of the column sums as a vector. Be sure to avoid zero divides, which will occur in subsequent exercises. Use the `where` argument of [numpy.divide](https://numpy.org/doc/stable/reference/generated/numpy.divide.html) to do so. If the column sum is 0 the inverse is set to 0.0.   \n",
        ">   - Create a square diagonal matrix from the inverse column sums using [numpy.diag](https://numpy.org/doc/stable/reference/generated/numpy.diag.html) to form the inverse out degree diagonal matrix.\n",
        ">  - Finally, return the matrix product of the association matrix and the (diagonal) inverse out degree matrix using [numpy.matmul](https://numpy.org/doc/stable/reference/generated/numpy.matmul.html).  \n",
        "> 2. Save and print the normalized transition matrix.  \n",
        "> 3. Compute and print the column sums of the normalized transition matrix to ensure they all add to 1.0.\n",
        "> Execute the code you have created and examine the results."
      ]
    },
    {
      "cell_type": "code",
      "execution_count": 9,
      "id": "5f24b853",
      "metadata": {
        "colab": {
          "base_uri": "https://localhost:8080/"
        },
        "id": "5f24b853",
        "outputId": "08e0b379-7abb-4e35-d455-34e565774830"
      },
      "outputs": [
        {
          "output_type": "stream",
          "name": "stdout",
          "text": [
            "Normalized transition matrix:\n",
            " [[0.         0.5        0.5        0.33333333 0.        ]\n",
            " [0.5        0.         0.         0.33333333 0.5       ]\n",
            " [0.         0.         0.         0.33333333 0.        ]\n",
            " [0.         0.5        0.         0.         0.5       ]\n",
            " [0.5        0.         0.5        0.         0.        ]]\n",
            "Column sums of the normalized transition matrix: [1. 1. 1. 1. 1.]\n"
          ]
        }
      ],
      "source": [
        "def norm_association(A):\n",
        "    '''Function to normalize the association matrix by out degree.\n",
        "    The function accounts for cases where the column sum is 0'''\n",
        "\n",
        "    # 1.1 Compute the sum of the columns of the association matrix\n",
        "    col_sums = np.sum(A, axis=0)\n",
        "\n",
        "    # 1.2 Compute the inverse of the column sums, avoiding divide by zero\n",
        "    inv_col_sums = np.divide(1, col_sums, where=col_sums!=0, out=np.zeros_like(col_sums, dtype=float))\n",
        "\n",
        "    # 1.3 Create a square diagonal matrix from the inverse column sums\n",
        "    D_inv = np.diag(inv_col_sums)\n",
        "\n",
        "    # 1.4 Return the matrix product of the association matrix and the inverse out degree matrix\n",
        "    M = np.matmul(A, D_inv)\n",
        "\n",
        "    return M\n",
        "\n",
        "# Code to execute the function and check the column sums\n",
        "\n",
        "# Define the association matrix A\n",
        "A = np.array([\n",
        "    [0, 1, 1, 1, 0],  # Page 1\n",
        "    [1, 0, 0, 1, 1],  # Page 2\n",
        "    [0, 0, 0, 1, 0],  # Page 3\n",
        "    [0, 1, 0, 0, 1],  # Page 4\n",
        "    [1, 0, 1, 0, 0]   # Page 5\n",
        "])\n",
        "\n",
        "# 2. Save and Print the association matrix\n",
        "M = norm_association(A)\n",
        "print(\"Normalized transition matrix:\\n\", M)\n",
        "\n",
        "# 3. Compute and print the column sums of the normalized transition matrix\n",
        "col_sums_M = np.sum(M, axis=0)\n",
        "print(\"Column sums of the normalized transition matrix:\", col_sums_M)\n"
      ]
    },
    {
      "cell_type": "markdown",
      "id": "226c5d12",
      "metadata": {
        "id": "226c5d12"
      },
      "source": [
        "> Provide short answers to the following questions:     \n",
        "> 1. Do the number of non-zero values in each column match the out degree for the corresponding node?     \n",
        "> 2. Are all the column sums 1.0, and why is this required for a transition probability matrix.    \n",
        "> **End of exercise.**"
      ]
    },
    {
      "cell_type": "markdown",
      "id": "7f3fb131",
      "metadata": {
        "id": "7f3fb131"
      },
      "source": [
        "> **Answers:**\n",
        "\n",
        "> 1. Yes, the number of non-zero values in each column matches the out degree for the corresponding node.\n",
        "\n",
        "> 2. Yes, all the column sums are 1.0. This is required because in a transition probability matrix, each column represents the distribution of probability from one node to all other nodes. The sum of probabilities for each node must equal 1 to ensure that the total probability is conserved and properly distributed\n"
      ]
    },
    {
      "cell_type": "markdown",
      "id": "c15a3d18",
      "metadata": {
        "id": "c15a3d18"
      },
      "source": [
        "### Computing the Simple Page Rank\n",
        "\n",
        "With the transition probability matrix, $M$ computed it is time to investigate the convergence of the PageRank algorithm. You can think of the PageRank algorithm as a series of transitions of a Markov Chain. Given the transition probability matrix, $M$, the update, or single Markov transition, of the page probabilities, $p_i$, is computed:\n",
        "\n",
        "$$p_i = M p_{i-1}$$\n",
        "\n",
        "The Markov chain can be executed for a great many transitions. The result of $n$ transitions, starting from an initial set of page probabilities, $p_0$, can be written:  \n",
        "\n",
        "$$p_n = M^n p_{0}$$\n",
        "\n",
        "At convergence the page probabilities, $p_n$, approach a constant or **steady state** value. This steady state probability vector values are the PageRank of the web pages.  "
      ]
    },
    {
      "cell_type": "markdown",
      "id": "7da47d2b",
      "metadata": {
        "id": "7da47d2b"
      },
      "source": [
        "> **Exercise 04-3:** You will now create and execute code with the goal of getting a feel for how the page probabilities change for a single transition of a Markov process. The accomplish this task you will create a function called `transition` with arguments of the the normalized transition probability matrix and the vector of page probabilities. Specifically you will:   \n",
        "> 1. Complete the function `transition` which uses [numpy.dot](https://numpy.org/doc/stable/reference/generated/numpy.dot.html) to compute the product of the transition matrix and the page probability vector.  \n",
        "> 2. Define a state vector p, with uniform initial probabiltes. Print this initial statevector.\n",
        "> 3. Execute the `transition` function on the normalized transition probability matrix and vector of initial page probabilities you have created, saving the result to a new variable name. Print the result.\n",
        "> 4. Print the Euclidean (L2) norm of the difference between the initial page probabilities and the updated page probabilities.\n",
        "> 5. Print the sum of the page probabilities computed with `transition`."
      ]
    },
    {
      "cell_type": "code",
      "execution_count": 11,
      "id": "83e71abd",
      "metadata": {
        "colab": {
          "base_uri": "https://localhost:8080/"
        },
        "id": "83e71abd",
        "outputId": "b58dd837-b1fd-49a0-9609-ff4f8936db8b"
      },
      "outputs": [
        {
          "output_type": "stream",
          "name": "stdout",
          "text": [
            "Initial state vector p0: [0.2 0.2 0.2 0.2 0.2]\n",
            "Updated state vector p1: [0.26666667 0.26666667 0.06666667 0.2        0.2       ]\n",
            "Euclidean (L2) norm of the difference: 0.16329931618554527\n",
            "Sum of the page probabilities: 1.0\n"
          ]
        }
      ],
      "source": [
        "def transition(transition_probs, probs):\n",
        "    '''Function to compute the probabilities resulting from a\n",
        "    single transition of a Markov process'''\n",
        "\n",
        "    # 1. compute the product of the transition matrix and the page prob vector\n",
        "    return np.dot(transition_probs, probs)\n",
        "\n",
        "# Compute probabilities after first state transition and print the summaries\n",
        "\n",
        "# Define the association matrix A\n",
        "A = np.array([\n",
        "    [0, 1, 1, 1, 0],  # Page 1\n",
        "    [1, 0, 0, 1, 1],  # Page 2\n",
        "    [0, 0, 0, 1, 0],  # Page 3\n",
        "    [0, 1, 0, 0, 1],  # Page 4\n",
        "    [1, 0, 1, 0, 0]   # Page 5\n",
        "])\n",
        "\n",
        "# Normalize the association matrix\n",
        "M = norm_association(A)\n",
        "\n",
        "# 2. Define a state vector p, with uniform initial probabilities\n",
        "p0 = np.full(M.shape[0], 1.0 / M.shape[0])\n",
        "print(\"Initial state vector p0:\", p0)\n",
        "\n",
        "# 3. Execute the transition function\n",
        "p1 = transition(M, p0)\n",
        "print(\"Updated state vector p1:\", p1)\n",
        "\n",
        "# 4. Print the Euclidean (L2) norm of the difference\n",
        "l2_norm_diff = np.linalg.norm(p1 - p0)\n",
        "print(\"Euclidean (L2) norm of the difference:\", l2_norm_diff)\n",
        "\n",
        "# 5. Print the sum of the page probabilities computed with transition\n",
        "sum_p1 = np.sum(p1)\n",
        "print(\"Sum of the page probabilities:\", sum_p1)\n"
      ]
    },
    {
      "cell_type": "markdown",
      "id": "63564579",
      "metadata": {
        "id": "63564579"
      },
      "source": [
        "> Provide short answers to the following questions:   \n",
        "> 1. Is the sum of the page probabilities equal to 1.0 as it should be?       \n",
        "> 2. Considering in degree of the pages, are the relative changes in the page probabilities what you would expect and why?    \n",
        "> **End of exercise.**"
      ]
    },
    {
      "cell_type": "markdown",
      "id": "8594649a",
      "metadata": {
        "id": "8594649a"
      },
      "source": [
        "> **Answers:**\n",
        "\n",
        "> 1. Yes, the sum of the page probabilities is equal to 1.0, which is expected for a transition probability matrix\n",
        "\n",
        "> 2. Yes, the relative changes in the page probabilities are what I would expect. Pages with higher in-degrees, like Page 1 and Page 2, see an increase in their probabilities because they receive more links, indicating they are more important or influential in the network. Pages with lower in-degrees, like Page 3, have a lower probability, reflecting their lower influence"
      ]
    },
    {
      "cell_type": "markdown",
      "id": "3434f366",
      "metadata": {
        "id": "3434f366"
      },
      "source": [
        "> **Exercise 04-4:** You will continue with computing transitions of the Markov chain. Use the `transition` function with the normalized transition probability matrix and the page probability vector computed from the first transition as arguments. Your code must do the following:  \n",
        "> 1. Compute and print the resulting page probabilities of the second transition.\n",
        "> 2. Compute and print the Euclidean (L2) norm of the difference between the page probabilities before and after the transition.\n",
        "> 3. Compute and print the sum of the page probabilities.\n",
        "> 4. Display the page probabilities."
      ]
    },
    {
      "cell_type": "code",
      "execution_count": 12,
      "id": "ed8d76cb",
      "metadata": {
        "colab": {
          "base_uri": "https://localhost:8080/"
        },
        "id": "ed8d76cb",
        "outputId": "a6454768-eedf-4586-f8db-a47f107945f1"
      },
      "outputs": [
        {
          "output_type": "stream",
          "name": "stdout",
          "text": [
            "Updated state vector p2: [0.23333333 0.3        0.06666667 0.23333333 0.16666667]\n",
            "Euclidean (L2) norm of the difference (second transition): 0.0666666666666667\n",
            "Sum of the page probabilities (second transition): 1.0000000000000002\n",
            "Page probabilities after second transition: [0.23333333 0.3        0.06666667 0.23333333 0.16666667]\n"
          ]
        }
      ],
      "source": [
        "# Compute the second transition of the Markov chain\n",
        "\n",
        "# 1. Compute and print the resulting page probabilities of the second transition\n",
        "p2 = transition(M, p1)\n",
        "print(\"Updated state vector p2:\", p2)  # Bullet 1\n",
        "\n",
        "# 2. Compute and print the Euclidean (L2) norm of the difference\n",
        "l2_norm_diff_2 = np.linalg.norm(p2 - p1)\n",
        "print(\"Euclidean (L2) norm of the difference (second transition):\", l2_norm_diff_2)  # Bullet 2\n",
        "\n",
        "# 3. Compute and print the sum of the page probabilities\n",
        "sum_p2 = np.sum(p2)\n",
        "print(\"Sum of the page probabilities (second transition):\", sum_p2)  # Bullet 3\n",
        "\n",
        "# 4. Display the page probabilities\n",
        "print(\"Page probabilities after second transition:\", p2)  # Bullet 4\n"
      ]
    },
    {
      "cell_type": "markdown",
      "id": "b94bda45",
      "metadata": {
        "id": "b94bda45"
      },
      "source": [
        "> Note the difference between the Euclidean norms of the differences for the first and second transition calculations. Does the change in this difference from one step to the next indicate the algorithm is converging to the steady state probabilities?  \n",
        "> **End of exercise.**"
      ]
    },
    {
      "cell_type": "markdown",
      "id": "52960810",
      "metadata": {
        "id": "52960810"
      },
      "source": [
        "> **Answer:** Yes, the change in the Euclidean norms of the differences between the first and second transition calculations indicates that the algorithm is converging to the steady state probabilities. The Euclidean norm of the difference decreased from approximately 0.1633 (first transition) to 0.0667 (second transition), showing that the changes in the page probabilities are becoming smaller with each transition. This decreasing trend suggests that the page probabilities are stabilizing and approaching their steady state values"
      ]
    },
    {
      "cell_type": "markdown",
      "id": "6cfc9527",
      "metadata": {
        "id": "6cfc9527"
      },
      "source": [
        "> **Exercise 04-5:** The question now is how does this simplified version of page rank converge with more iterations? To find out, do the following:   \n",
        "> 1. Create a function `pagerank1` having the following arguments, `the normalized transition matrix`, the `initial page probabilities` and a `convergence threshold value of 0.01`, which does the following:  \n",
        ">    - Initialize a euclidean distance norm variable to 1.0 and the resulting page probabilities to a vector of 0.0 values of length equal to the dimension of the transition matrix.   \n",
        ">    - Set a loop counter to 1.  \n",
        ">    - Use a 'while' loop with termination conditions the euclidean distance norm greater than the threshold value AND the loop counter less than 50.  Inside this loop do the following:  \n",
        ">      1. Update the page probabilities using the `transition` function you created.\n",
        ">      2. Compute the Euclidean norm of the difference between the previous and the updated page probabilities following the transition.   \n",
        ">      3. Print the value of the loop counter and the Euclidean norm of the difference.\n",
        ">      4. Copy the updated page probability vector into the input page probability vector.  \n",
        ">      5. Increment the loop counter by 1.\n",
        ">    - Return the page probabilities at convergence.  \n",
        "> 2. Execute your `pagerank1` function using the transition matrix and initial page probability vector."
      ]
    },
    {
      "cell_type": "code",
      "execution_count": 13,
      "id": "b64228ab",
      "metadata": {
        "colab": {
          "base_uri": "https://localhost:8080/"
        },
        "id": "b64228ab",
        "outputId": "0a9d2be2-29cc-4f4e-94b7-5d22c6fb821c"
      },
      "outputs": [
        {
          "output_type": "stream",
          "name": "stdout",
          "text": [
            "Iteration 1: Euclidean norm of the difference: 0.16329931618554527\n",
            "Iteration 2: Euclidean norm of the difference: 0.0666666666666667\n",
            "Iteration 3: Euclidean norm of the difference: 0.04082482904638634\n",
            "Iteration 4: Euclidean norm of the difference: 0.0285989726138528\n",
            "Iteration 5: Euclidean norm of the difference: 0.014829275350043464\n",
            "Iteration 6: Euclidean norm of the difference: 0.006843400694025186\n",
            "Final state probabilities: [0.25300926 0.28472222 0.07546296 0.22523148 0.16157407]\n"
          ]
        }
      ],
      "source": [
        "# 1. Define the PageRank function with a convergence threshold\n",
        "def pagerank1(M, in_probs, threshold=0.01):\n",
        "    # Initialize variables\n",
        "    euclidean_dist = 1.0\n",
        "    page_probabilities = np.array([0.0] * len(M))\n",
        "    i = 1\n",
        "\n",
        "    # Loop until convergence or max iterations\n",
        "    while euclidean_dist > threshold and i < 50:\n",
        "        # 1.1. Update the page probabilities\n",
        "        new_probs = transition(M, in_probs)\n",
        "\n",
        "        # 1.2. Compute the Euclidean norm of the difference\n",
        "        euclidean_dist = np.linalg.norm(new_probs - in_probs)\n",
        "\n",
        "        # 1.3. Print the value of the loop counter and the Euclidean norm of the difference\n",
        "        print(f\"Iteration {i}: Euclidean norm of the difference: {euclidean_dist}\")\n",
        "\n",
        "        # 1.4. Copy the updated page probability vector into the input page probability vector\n",
        "        in_probs = new_probs\n",
        "\n",
        "        # 1.5. Increment the loop counter\n",
        "        i += 1\n",
        "\n",
        "    # Return the page probabilities at convergence\n",
        "    return in_probs\n",
        "\n",
        "# Compute probabilities after a larger number of state transitions\n",
        "# Define the association matrix A\n",
        "A = np.array([\n",
        "    [0, 1, 1, 1, 0],  # Page 1\n",
        "    [1, 0, 0, 1, 1],  # Page 2\n",
        "    [0, 0, 0, 1, 0],  # Page 3\n",
        "    [0, 1, 0, 0, 1],  # Page 4\n",
        "    [1, 0, 1, 0, 0]   # Page 5\n",
        "])\n",
        "\n",
        "# Normalize the association matrix\n",
        "M = norm_association(A)\n",
        "\n",
        "# Define the initial state vector p with uniform initial probabilities\n",
        "p0 = np.full(M.shape[0], 1.0 / M.shape[0])\n",
        "\n",
        "# 2. Execute the pagerank1 function\n",
        "print('Final state probabilities: ' + str(pagerank1(M, p0)))\n"
      ]
    },
    {
      "cell_type": "markdown",
      "id": "0caeedfd",
      "metadata": {
        "id": "0caeedfd"
      },
      "source": [
        "> Provide short answers for the following questions:  \n",
        "> 1. Judged from the rate of decline of the Euclidean distances, does the algorithm appear to converge rapidly and why?\n",
        "> 2.  Does the rank order of the computed page probabilities make sense given the relative degree of the pages of the directed graph?\n",
        "> **End of exercise.**"
      ]
    },
    {
      "cell_type": "markdown",
      "id": "0e95b5c5",
      "metadata": {
        "id": "0e95b5c5"
      },
      "source": [
        "> **Answers:**\n",
        "\n",
        "> 1. Yes, the algorithm appears to converge rapidly. The Euclidean distances between iterations decrease significantly with each step, indicating that the page probabilities are quickly stabilizing to their steady state values.\n",
        "\n",
        "> 2. Yes, the rank order of the computed page probabilities makes sense. Pages with higher in-degrees, which receive more links, have higher PageRank values, reflecting their greater importance or influence in the graph"
      ]
    },
    {
      "cell_type": "markdown",
      "id": "aee2af4a",
      "metadata": {
        "id": "aee2af4a"
      },
      "source": [
        "### Page Rank by Eigendecomposition\n",
        "\n",
        "Consider the relationship:     \n",
        "\n",
        "$$p_i = M p_{i-1}$$      \n",
        "\n",
        "At convergence $p_i = p_{i-1}$ which suggest an eigenvalue-eigenvector problem for some eigenvalue, $\\lambda$:    \n",
        "\n",
        "$$\\lambda p^* = M p^*$$  \n",
        "\n",
        "For the transition probability matrix with normalized columns, the largest eigenvalue has a magnitude 1.0. The eigenvector associated with this eigenvalue is the PageRank vector. To demonstrate this point, the code in the cell below does the following:     \n",
        "1. Compute the eigendecomposition using [numpy.linalg.eig](https://numpy.org/doc/stable/reference/generated/numpy.linalg.eig.html).     \n",
        "2. Print the magnitude of the eigenvalues.  \n",
        "3. Get the eigenvector associated with the first, largest, eigenvalue.     \n",
        "4. Normalize the eigenvector so the values sum to 1.0 and display the results.    "
      ]
    },
    {
      "cell_type": "code",
      "execution_count": 14,
      "id": "2ed1809f",
      "metadata": {
        "colab": {
          "base_uri": "https://localhost:8080/"
        },
        "id": "2ed1809f",
        "outputId": "6e220cfd-fb05-41bd-c0ef-4acdce020576"
      },
      "outputs": [
        {
          "output_type": "stream",
          "name": "stdout",
          "text": [
            "Magnitude of the eigenvalues: [1.00000000e+00 6.04992664e-01 5.86819216e-01 5.86819216e-01\n",
            " 3.95038058e-17]\n",
            "PageRank vector from eigendecomposition: [0.25373134 0.28358209 0.07462687 0.2238806  0.1641791 ]\n"
          ]
        }
      ],
      "source": [
        "# 1. Compute the eigendecomposition of the transition matrix M\n",
        "eigenvalues, eigenvectors = np.linalg.eig(M)\n",
        "\n",
        "# 2. Print the magnitude of the eigenvalues\n",
        "print(\"Magnitude of the eigenvalues:\", np.abs(eigenvalues))\n",
        "\n",
        "# 3. Get the eigenvector associated with the first, largest, eigenvalue\n",
        "principal_eigenvector = eigenvectors[:, np.argmax(np.abs(eigenvalues))]\n",
        "\n",
        "# 4. Normalize the eigenvector so the values sum to 1.0\n",
        "principal_eigenvector = principal_eigenvector / np.sum(principal_eigenvector)\n",
        "\n",
        "# Display the results\n",
        "print(\"PageRank vector from eigendecomposition:\", principal_eigenvector.real)\n"
      ]
    },
    {
      "cell_type": "markdown",
      "id": "752fb6f7",
      "metadata": {
        "id": "752fb6f7"
      },
      "source": [
        "> **Exercise 04-06:** Do the PageRanks computed by the two methods agree to the precision expected with the iterative method?    \n",
        "> **End of exercise.**"
      ]
    },
    {
      "cell_type": "markdown",
      "id": "cce9b1eb",
      "metadata": {
        "id": "cce9b1eb"
      },
      "source": [
        "> **Answer:**\n",
        ">>\n",
        ">> Iterative Method Final State Probabilities:\n",
        ">>\n",
        ">> [0.25300926, 0.28472222, 0.07546296, 0.22523148, 0.16157407]\n",
        ">>\n",
        ">> Eigendecomposition PageRank Vector:\n",
        ">>\n",
        ">> [0.25373134, 0.28358209, 0.07462687, 0.2238806, 0.1641791]\n",
        ">\n",
        "> The values from both methods are very close to each other, with minor differences that are within the expected numerical precision. This small difference can be attributed to the iterative method's convergence criteria and floating-point arithmetic precision. Overall, both methods provide consistent and reliable PageRank values."
      ]
    },
    {
      "cell_type": "markdown",
      "id": "a1959889",
      "metadata": {
        "id": "a1959889"
      },
      "source": [
        "## A More Complicated Example   \n",
        "\n",
        "You will now work with a more complicated example The graph of 6 web pages, shown in Figure 2, is no longer complete. The out degree of page 6 is 0. A random surfer transitioning to page 6 will have no escape, a **spider trap**!\n",
        "\n",
        "<img src=\"../images/Web2.png\" alt=\"Drawing\" style=\"width:500px; height:500px\"/>\n",
        "<center>Figure 3: A small set of web pages with a dead end</center>"
      ]
    },
    {
      "cell_type": "markdown",
      "id": "d4a4270c",
      "metadata": {
        "id": "d4a4270c"
      },
      "source": [
        "> **Exercise 04-7:** You will now create both the normalized transition matrix and the initial page probability vector for the graph of Figure 3. In this exercise you will . Do the following:  \n",
        "> 1. Create the association matrix and save it to a named variable, `A_deadend`. You will need this association marrix for later\n",
        "> 2. Normalize the association matrix using your `norm_association` function. Name your transition matrix `M_deadend`. Print the result.\n",
        "> 3. Create a vector containing the uniformly distributed initial probability values. Save and print the result.   "
      ]
    },
    {
      "cell_type": "code",
      "execution_count": null,
      "id": "82db4316",
      "metadata": {
        "id": "82db4316"
      },
      "outputs": [],
      "source": [
        "## Create the Association Matrix\n",
        "## Put your code below\n",
        "\n",
        "\n",
        "\n",
        "## Normalize the association matrix\n",
        "## Put your code below\n",
        "\n",
        "\n",
        "\n",
        "\n",
        "## Create the equal probability starting values\n",
        "## Put your code below\n",
        "\n",
        "\n"
      ]
    },
    {
      "cell_type": "markdown",
      "id": "210965cd",
      "metadata": {
        "id": "210965cd"
      },
      "source": [
        "> Examine your results. Are the 0 values for the transition probabilities of page 6 consistent with the graph of these pages? and why?      \n",
        "> **End of exercise.**     "
      ]
    },
    {
      "cell_type": "markdown",
      "id": "05e70927",
      "metadata": {
        "id": "05e70927"
      },
      "source": [
        "> **Answers:**        "
      ]
    },
    {
      "cell_type": "markdown",
      "id": "3fab8ae8",
      "metadata": {
        "id": "3fab8ae8"
      },
      "source": [
        "### Apply Simple PageRank Algorithm\n",
        "\n",
        "> **Exercises 04-8:** What happens if you apply the simplified PageRank algorithm to the pages on a graph that is not complete, like the one shown in Figure 2? To find out, execute your `pagerank1` function with arguments `M_deadend`, `p_deadend` and `threshold=0.00001`. The smaller threshold value is to ensure convergence."
      ]
    },
    {
      "cell_type": "code",
      "execution_count": null,
      "id": "dc2a2658",
      "metadata": {
        "id": "dc2a2658"
      },
      "outputs": [],
      "source": [
        "## Put your code below\n",
        "\n"
      ]
    },
    {
      "cell_type": "markdown",
      "id": "6380ffe4",
      "metadata": {
        "id": "6380ffe4"
      },
      "source": [
        "> Now, create and execute code to compute and display the eigenvalues and eigenvectors of the `M_deadend`. Then display the magnitudes of the eigenvalues, and the normalized values of the first eigenvalue (column 0).    "
      ]
    },
    {
      "cell_type": "code",
      "execution_count": null,
      "id": "878b096e",
      "metadata": {
        "id": "878b096e"
      },
      "outputs": [],
      "source": [
        "## Put you code below\n",
        "\n",
        "\n"
      ]
    },
    {
      "cell_type": "markdown",
      "id": "e59ad36a",
      "metadata": {
        "id": "e59ad36a"
      },
      "source": [
        "> Answer the following questions:  \n",
        "> 1. Examine the page probabilities computed with the iterative methods. Do these PageRank values sum to 1.0 and why is this outcome a problem?       \n",
        "> 2. Examine the eigenvalues of the `M_deadend` matrix. What problem can you see with these eigenvalues?\n",
        "> 3. Notice the PageRank values have only 0 values. What does this tell you about the convergence of a random surfer on this graph?             \n",
        "> **End of exercise.**"
      ]
    },
    {
      "cell_type": "markdown",
      "id": "87a35139",
      "metadata": {
        "id": "87a35139"
      },
      "source": [
        "> **Answers:**   \n",
        "> 1.           \n",
        "> 2.              \n",
        "> 3.          "
      ]
    },
    {
      "cell_type": "markdown",
      "id": "b2a48973",
      "metadata": {
        "id": "b2a48973"
      },
      "source": [
        "### Damped PageRank Algorithm\n",
        "\n",
        "It is clear from the results of the foregoing exercise that the simple PageRank algorithm does not converge to a usable set of page probabilities when faced with graph that is not complete.Fortunately, there is a simple fix, add a damping term. You can think of the damping term as allowing a random surfer to make an arbitrary transition or jump with some small probability. These random jumps help the random surfer to better explore the graph and to escape from spider traps. The jump probabilities from states, $p_i$, are a function of the damping factor $d$:\n",
        "\n",
        "$$Jump\\ Probability = \\frac{(1-d)}{n}$$\n",
        "\n",
        "Where $n$ is the dimension of the transition probability matrix.\n",
        "\n",
        "The updated page probabilities, $p_i$, are then computed with the damped PageRank algorithm as:   \n",
        "\n",
        "$$p_{i} = d * M p_{i-1} + \\frac{(1-d)}{n}$$\n",
        "\n",
        "Where $M$ is the transition probability matrix and p are the initial page probability values.   "
      ]
    },
    {
      "cell_type": "markdown",
      "id": "f4cf21d2",
      "metadata": {
        "id": "f4cf21d2"
      },
      "source": [
        "> **Exercise 04-9:** To implement the PageRank algorithm with a damping factor do the following:  \n",
        "> 1. Create a `transition_damped` function with arguments, the transition probability matrix, the initial page probabilities, and the damping factor, $d=0.85$, which does the following:  \n",
        ">   - Compute the updated page probabili|ties by computing the inner (dot) product of the transition probability matrix with the page probabilities and then multiplying by the damping factor, `d`.    \n",
        ">   - Compute the jump probabilities vector of length the dimension of the transition matrix. Note: the jump probabilities are constant, so you can create code that only computes them once if you so choose.      \n",
        ">   - Return the sum of the damped page probabilities and the jump probabilities.  \n",
        "> 2. Create a `pagerank_damped` function. This function is identical to the `pagerank1` function you already created except that it uses the `transiton_damped` function in place of the `transition` function.  \n",
        "> 3. Call your `pagerank_damped` function using arguments of `M_deadend`, `p_deadend` and `threshold=0.0001` and display the final PageRank vector.\n",
        "> . Compute and display the sum of the values in the PageRank vector."
      ]
    },
    {
      "cell_type": "code",
      "execution_count": null,
      "id": "ca90f6a8",
      "metadata": {
        "id": "ca90f6a8"
      },
      "outputs": [],
      "source": [
        "## Add a damping facgtor to the transiton\n",
        "def transition_damped(transition_probs, probs, d=0.85):\n",
        "    '''Function to compute the probabilities resulting from a\n",
        "    single transition of a Markov process including a damping\n",
        "    factor to deal with dead ends'''\n",
        "    ## Put your code below\n",
        "\n",
        "\n",
        "\n",
        "def pagerank_damped(M, in_probs, d=0.85, threshold = 0.01):\n",
        "    ## function for the PageRank algorithm using the damped transition algorithm\n",
        "    ## Put your code below\n",
        "\n",
        "\n",
        "\n",
        "    return page_probabilities\n",
        "\n",
        "## Execute your funciton\n",
        "damped_rank = pagerank_damped(M_deadend,p_deadend,threshold=0.0001)\n",
        "print(f\"Sum of the PageRank values = {sum(damped_rank)}\")\n",
        "print('Final state probabilities: ' + str(damped_rank))"
      ]
    },
    {
      "cell_type": "markdown",
      "id": "b4abd795",
      "metadata": {
        "id": "b4abd795"
      },
      "source": [
        "> Provide short answers to the following questions:   \n",
        "> 1. Examine the final page probabilities. Does the rank of these page probabilities make sense given the in degree of the pages of this graph?   \n",
        "> 2. Why is it reasonable that the sum of the PageRanks is $< 1.0$?"
      ]
    },
    {
      "cell_type": "markdown",
      "id": "c7927665",
      "metadata": {
        "id": "c7927665"
      },
      "source": [
        "> **Answers:**     \n",
        "> 1.            \n",
        "> 2.             "
      ]
    },
    {
      "cell_type": "markdown",
      "id": "e3d6222f",
      "metadata": {
        "id": "e3d6222f"
      },
      "source": [
        "> Next you will examine the some properties of the damped matrix, $M$. You will do so by the following steps:    \n",
        "> 4. Create a Numpy array of $M$ including the damping, with a damping factor, $d = 0.85$. Display this matrix.  \n",
        "> 5. Compute and display the column sums of the damped matrix.  "
      ]
    },
    {
      "cell_type": "code",
      "execution_count": null,
      "id": "871f9530",
      "metadata": {
        "id": "871f9530"
      },
      "outputs": [],
      "source": [
        "## Put your code below\n",
        "\n",
        "\n",
        "\n",
        "\n",
        "\n",
        "\n",
        "\n",
        "\n"
      ]
    },
    {
      "cell_type": "markdown",
      "id": "3ca1e229",
      "metadata": {
        "id": "3ca1e229"
      },
      "source": [
        "> Examine your results and asnwer these questions:   \n",
        "> 3. How does this array allow the random surfer to 'teleport' (or transition) from any page to any other page even when there is no directed edge?   \n",
        "> 4. Why are the column sums reasonable dispite the obvious devision from aximonatic probability theory?      \n",
        "> **End of exervise.**"
      ]
    },
    {
      "cell_type": "markdown",
      "id": "8ed866eb",
      "metadata": {
        "id": "8ed866eb"
      },
      "source": [
        "> **Answers:**    \n",
        "> 3.       \n",
        "> 4.        "
      ]
    },
    {
      "cell_type": "markdown",
      "id": "a070f23d",
      "metadata": {
        "id": "a070f23d"
      },
      "source": [
        "## Hubs, Authorities, and the HITS Algorithm  \n",
        "\n",
        "The hubs and authorities model is an alternative to PageRank. Rather than using a single metric to rank the importance of web pages, the **HITS** algorithm iteratively updates the **hub score** and **authority score** for each of the pages.\n",
        "\n",
        "The HITS algorithm updates the authority and hub scores iteratively. The authority score is sum of the hubs linked to it. This is computed by the matrix product of the association matrix and hubness vector:\n",
        "$$𝑎= \\beta 𝐴 ℎ$$\n",
        "\n",
        "Hub score is sum of the authorities it links to. The hub score (hubness) is compute by the matrix produce of the authority scores and the transpose of the association matrix:\n",
        "$$ℎ= \\alpha 𝐴^𝑇 a$$\n",
        "\n",
        "The algorithm iterates between updates to $𝑎$ and $ℎ$ until convergence. To ensure convergence, must normalize $𝑎$ and $ℎ$ to have unit Euclidean norm at each iteration. Therefore, the choice of $\\alpha$ and $\\beta$ are can therefore be set to a value of 1.0, and effectively ignored.       "
      ]
    },
    {
      "cell_type": "markdown",
      "id": "57d9ff8d",
      "metadata": {
        "id": "57d9ff8d"
      },
      "source": [
        "> **Exercise 04-10:** To understand the HITS algorithm you will now create and test code for this algorithm. Follow these steps:  \n",
        "> 1. Create a function called `HITS` with arguments of the association matrix, initial hub vector, initial authority vector, and the number of iterations of the algorithm to run. This function does the following inside a loop over the number of iterations:  \n",
        ">    1. Updates the authority vector using the association matrix and the hub vector as argument to the `transition` function.\n",
        ">    2. Normalizes the authority vector by using `numpy.divide` with arguments of the updated authority vector and its L2 norm, computed with [numpy.linalg.norm](https://numpy.org/doc/stable/reference/generated/numpy.linalg.norm.html).  \n",
        ">    3. Updates the hub vector using the transpose of the association matrix and the authority vector as argument to the `transition` function.\n",
        ">    4. Normalizes the hub vector by using `numpy.divide` with arguments of the updated hub vector and its L2 norm, computed with `numpy.linalg.norm`.  \n",
        "> 2. The function returns both the hub and authority vectors\n",
        "> 3. Initialize an initial hub and authority vector of length the dimension of the association matrix with uniformly distributed values of $\\frac{1.0}{dimension(association\\ matrix)}$.  \n",
        "> 4. Display the resulting hub and authority vectors.  \n",
        "> 5. Execute your function using the association matrix for the 6-page network and the initial hub and authority vectors as arguments."
      ]
    },
    {
      "cell_type": "code",
      "execution_count": null,
      "id": "b5426080",
      "metadata": {
        "id": "b5426080"
      },
      "outputs": [],
      "source": [
        "def HITS(association, hub, authority, iters=100):\n",
        "    ## Put your code below\n",
        "\n",
        "\n",
        "\n",
        "\n",
        "    return hub, authority\n",
        "\n",
        "## Compute the intial hub and authority vectors\n",
        "## Put your code below\n",
        "\n",
        "\n",
        "\n",
        "## Execute your funciton\n",
        "hubness, authority = HITS(A_deadend, hub_start, auth_start)\n",
        "print(f\"The hub ranks = {hubness}\")\n",
        "print(f\"The authority ranks = {authority}\")"
      ]
    },
    {
      "cell_type": "markdown",
      "id": "95066c88",
      "metadata": {
        "id": "95066c88"
      },
      "source": [
        "> Examine your results and answer the following questions:\n",
        "> 1. Which three of the pages have the highest hub scores? Considering the graph of the pages, is this ordering consistent?  \n",
        "> 2. Notice the last value of the hub scores. Is this value expected given the graph of the pages?\n",
        "> 3. Which three of the pages have the highest authority. Given the in degree of the pages is this ranking consistent?  \n",
        "> 4. Compare the ranking of the pages based on authority that found with damped PageRank. Are these results consistent?\n",
        "> **End of exercise.**"
      ]
    },
    {
      "cell_type": "markdown",
      "id": "08eb85c2",
      "metadata": {
        "id": "08eb85c2"
      },
      "source": [
        "> **Answers:**     \n",
        "> 1.       \n",
        "> 2.       \n",
        "> 3.          \n",
        "> 4.         "
      ]
    },
    {
      "cell_type": "markdown",
      "id": "f99ee12d",
      "metadata": {
        "id": "f99ee12d"
      },
      "source": [
        "#### Copyright 2021, 2022, 2023, 2024 Stephen F Elston. All rights reserved."
      ]
    },
    {
      "cell_type": "code",
      "execution_count": null,
      "id": "40de75c8",
      "metadata": {
        "id": "40de75c8"
      },
      "outputs": [],
      "source": []
    }
  ],
  "metadata": {
    "kernelspec": {
      "display_name": "Python 3 (ipykernel)",
      "language": "python",
      "name": "python3"
    },
    "language_info": {
      "codemirror_mode": {
        "name": "ipython",
        "version": 3
      },
      "file_extension": ".py",
      "mimetype": "text/x-python",
      "name": "python",
      "nbconvert_exporter": "python",
      "pygments_lexer": "ipython3",
      "version": "3.9.18"
    },
    "colab": {
      "provenance": []
    }
  },
  "nbformat": 4,
  "nbformat_minor": 5
}