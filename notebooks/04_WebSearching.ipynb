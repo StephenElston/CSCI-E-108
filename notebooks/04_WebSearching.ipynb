{
  "cells": [
    {
      "cell_type": "markdown",
      "id": "967b4d75",
      "metadata": {
        "id": "967b4d75"
      },
      "source": [
        "# Assignment 04\n",
        "## Web Search\n",
        "## CSCI E-108\n",
        "### Luciano Carvalho\n",
        "\n",
        "> **Instructions:** For this assignment you will complete the exercises shown. Most exercises involve creating and executing some Python code. Additionally, most exercises have questions for you to answer. You can answer questions by creating a Markdown cell and writing your answer. If you are not familiar with Markdown, you can find a brief tutorial [here](https://www.markdownguide.org/cheat-sheet/).     \n",
        "\n",
        "In this assignment you will gain some experience and insight into how web search algorithms work. Specifically, you will implement versions of three algorithms, simple PageRank, damped PageRank, and the HITS algorithm. All three of these algorithms use a **directed graph model** of the web.   \n",
        "\n",
        "The small data examples and coding methods used here are not directly scalable to web sized problems. Rather, the point is for you to understand the basic characteristics of these web search algorithms. Web scale searching requires massive resources not readily available to most people."
      ]
    },
    {
      "cell_type": "markdown",
      "id": "c4218530",
      "metadata": {
        "id": "c4218530"
      },
      "source": [
        "## Simple PageRank Example\n",
        "\n",
        "To get a feeling for the basics of the PageRank algorithm you will create and test simple code.\n",
        "\n",
        "As a first step, execute the code in the cell below to import the packages you will need for the exercises."
      ]
    },
    {
      "cell_type": "code",
      "execution_count": 1,
      "id": "60a1d748",
      "metadata": {
        "id": "60a1d748"
      },
      "outputs": [],
      "source": [
        "import numpy as np"
      ]
    },
    {
      "cell_type": "markdown",
      "id": "320e8bbe",
      "metadata": {
        "id": "320e8bbe"
      },
      "source": [
        "### Directed Graph of Web Pages\n",
        "\n",
        "We will start with a simple example. Figure 1 shows a set of web pages and their hyperlinks. This is a **directed graph** with the **pages as nodes** and the **hyperlinks as the directed edges**. This graph is **complete**. Every page is accessible from any other page, possibly with visits to intermediate nodes required.  \n",
        "\n",
        "<img src=\"../images/Web1.png\" alt=\"Drawing\" style=\"width:500px; height:400px\"/>\n",
        "<center>Figure 1: A small set of web pages</center>\n",
        "\n",
        "The directed edges of the graph define the association between the nodes. For the **association matrix**, a directed edge, or hyperlink, runs from a node's column to the terminal node's row. The association is binary. The directed edge either exists or it does not."
      ]
    },
    {
      "cell_type": "markdown",
      "id": "af1a3f1b",
      "metadata": {
        "id": "af1a3f1b"
      },
      "source": [
        "> **Exercise 04-1:** In the cell below you will create the association matrix and the initial page probability vector. Do the following:  \n",
        "> 1. Create the association matrix, $A$, using [numpy.array](https://numpy.org/doc/stable/reference/generated/numpy.array.html). This matrix is constructed with a 1 where a page in a column has a directed edge linking to another page in a row, and 0 elsewhere. In matrix notation, the element $a_{i,j}$ indicates the presence or absence of a directed edge from node $n_j$ to node $n_i$.   \n",
        "> 2. Print the shape of your association matrix as a check.\n",
        "> 3. Print the in degree and out degree of each node in your association matrix, using [numpy.sum](https://numpy.org/doc/stable/reference/generated/numpy.sum.html). Set the argument `axis` to 1 to sum across rows and 0 to sum down columns."
      ]
    },
    {
      "cell_type": "code",
      "execution_count": 2,
      "id": "78bcdbf0",
      "metadata": {
        "id": "78bcdbf0"
      },
      "outputs": [],
      "source": [
        "## Create the Association Matrix and print the summary\n",
        "## Put your code below\n",
        "\n",
        "\n",
        "\n",
        "\n",
        "\n",
        "\n"
      ]
    },
    {
      "cell_type": "markdown",
      "id": "4723ad6b",
      "metadata": {
        "id": "4723ad6b"
      },
      "source": [
        "> Are the out degree and in degree you computed from the association matrix consistent with the graph in Figure 1?    \n",
        "> **End of exercise.**"
      ]
    },
    {
      "cell_type": "markdown",
      "id": "edb63780",
      "metadata": {
        "id": "edb63780"
      },
      "source": [
        "> **Answer:**        "
      ]
    },
    {
      "cell_type": "markdown",
      "id": "e1fc5fd8",
      "metadata": {
        "id": "e1fc5fd8"
      },
      "source": [
        "### Apply Simple Page Rank\n",
        "\n",
        "The normalized transition probability matrix, $M$, is then computed from the association matrix, $A$:\n",
        "\n",
        "$$M = A D^{-1}$$\n",
        "\n",
        "Where, $D^{-1}$ is the inverse of a matrix with the out degree values on the diagonal and zeros elsewhere.  \n",
        "\n",
        "You can see from the foregoing that $M$ distributes the influence of the page by the in|verse of the out degree. In other words, the influence is inversely weighted by the number of pages each page links to."
      ]
    },
    {
      "cell_type": "markdown",
      "id": "2cd99dfa",
      "metadata": {
        "id": "2cd99dfa"
      },
      "source": [
        "> **Exercise 04-2:** You will now compute the normalized transition matrix, $M$. To do so create a function called `norm_association` with the association matrix as the argument. Do the following:\n",
        "> 1. Create your function `norm_association` which will do the following:  \n",
        ">    - Compute the sum of the columns of the association matrix using `numpy.sum` with the `axis=0` argument to sum along columns.\n",
        ">   - Compute the inverse of the column sums as a vector. Be sure to avoid zero divides, which will occur in subsequent exercises. Use the `where` argument of [numpy.divide](https://numpy.org/doc/stable/reference/generated/numpy.divide.html) to do so. If the column sum is 0 the inverse is set to 0.0.   \n",
        ">   - Create a square diagonal matrix from the inverse column sums using [numpy.diag](https://numpy.org/doc/stable/reference/generated/numpy.diag.html) to form the inverse out degree diagonal matrix.\n",
        ">  - Finally, return the matrix product of the association matrix and the (diagonal) inverse out degree matrix using [numpy.matmul](https://numpy.org/doc/stable/reference/generated/numpy.matmul.html).  \n",
        "> 2. Save and print the normalized transition matrix.  \n",
        "> 3. Compute and print the column sums of the normalized transition matrix to ensure they all add to 1.0.\n",
        "> Execute the code you have created and examine the results."
      ]
    },
    {
      "cell_type": "code",
      "execution_count": 3,
      "id": "5f24b853",
      "metadata": {
        "id": "5f24b853"
      },
      "outputs": [],
      "source": [
        "def norm_association(A):\n",
        "    '''Function to normalize the association matrix by out degree.\n",
        "    The function accounts for cases where the column sum is 0'''\n",
        "    ## Put your code below\n",
        "\n",
        "\n",
        "\n",
        "\n",
        "\n",
        "\n",
        "## Execute the function and check the column sums\n",
        "\n",
        "\n"
      ]
    },
    {
      "cell_type": "markdown",
      "id": "226c5d12",
      "metadata": {
        "id": "226c5d12"
      },
      "source": [
        "> Provide short answers to the following questions:     \n",
        "> 1. Do the number of non-zero values in each column match the out degree for the corresponding node?     \n",
        "> 2. Are all the column sums 1.0, and why is this required for a transition probability matrix.    \n",
        "> **End of exercise.**"
      ]
    },
    {
      "cell_type": "markdown",
      "id": "7f3fb131",
      "metadata": {
        "id": "7f3fb131"
      },
      "source": [
        "> **Answers:**  \n",
        "> 1.          \n",
        "> 2.           "
      ]
    },
    {
      "cell_type": "markdown",
      "id": "c15a3d18",
      "metadata": {
        "id": "c15a3d18"
      },
      "source": [
        "### Computing the Simple Page Rank\n",
        "\n",
        "With the transition probability matrix, $M$ computed it is time to investigate the convergence of the PageRank algorithm. You can think of the PageRank algorithm as a series of transitions of a Markov Chain. Given the transition probability matrix, $M$, the update, or single Markov transition, of the page probabilities, $p_i$, is computed:\n",
        "\n",
        "$$p_i = M p_{i-1}$$\n",
        "\n",
        "The Markov chain can be executed for a great many transitions. The result of $n$ transitions, starting from an initial set of page probabilities, $p_0$, can be written:  \n",
        "\n",
        "$$p_n = M^n p_{0}$$\n",
        "\n",
        "At convergence the page probabilities, $p_n$, approach a constant or **steady state** value. This steady state probability vector values are the PageRank of the web pages.  "
      ]
    },
    {
      "cell_type": "markdown",
      "id": "7da47d2b",
      "metadata": {
        "id": "7da47d2b"
      },
      "source": [
        "> **Exercise 04-3:** You will now create and execute code with the goal of getting a feel for how the page probabilities change for a single transition of a Markov process. The accomplish this task you will create a function called `transition` with arguments of the the normalized transition probability matrix and the vector of page probabilities. Specifically you will:   \n",
        "> 1. Complete the function `transition` which uses [numpy.dot](https://numpy.org/doc/stable/reference/generated/numpy.dot.html) to compute the product of the transition matrix and the page probability vector.  \n",
        "> 2. Define a state vector p, with uniform initial probabiltes. Print this initial statevector.\n",
        "> 3. Execute the `transition` function on the normalized transition probability matrix and vector of initial page probabilities you have created, saving the result to a new variable name. Print the result.\n",
        "> 4. Print the Euclidean (L2) norm of the difference between the initial page probabilities and the updated page probabilities.\n",
        "> 5. Print the sum of the page probabilities computed with `transition`."
      ]
    },
    {
      "cell_type": "code",
      "execution_count": 4,
      "id": "83e71abd",
      "metadata": {
        "id": "83e71abd"
      },
      "outputs": [],
      "source": [
        "def transition(transition_probs, probs):\n",
        "    '''Function to compute the probabilities resulting from a\n",
        "    single transition of a Markov process'''\n",
        "    ## Put your code below\n",
        "\n",
        "\n",
        "\n",
        "## Compute probabilities after first state transition and print the sumamries\n",
        "## Put your code below\n",
        "\n",
        "\n",
        "\n",
        "\n",
        "\n",
        "\n"
      ]
    },
    {
      "cell_type": "markdown",
      "id": "63564579",
      "metadata": {
        "id": "63564579"
      },
      "source": [
        "> Provide short answers to the following questions:   \n",
        "> 1. Is the sum of the page probabilities equal to 1.0 as it should be?       \n",
        "> 2. Considering in degree of the pages, are the relative changes in the page probabilities what you would expect and why?    \n",
        "> **End of exercise.**"
      ]
    },
    {
      "cell_type": "markdown",
      "id": "8594649a",
      "metadata": {
        "id": "8594649a"
      },
      "source": [
        "> **Answers:**    \n",
        "> 1.            \n",
        "> 2.          "
      ]
    },
    {
      "cell_type": "markdown",
      "id": "3434f366",
      "metadata": {
        "id": "3434f366"
      },
      "source": [
        "> **Exercise 04-4:** You will continue with computing transitions of the Markov chain. Use the `transition` function with the normalized transition probability matrix and the page probability vector computed from the first transition as arguments. Your code must do the following:  \n",
        "> 1. Compute and print the resulting page probabilities of the second transition.\n",
        "> 2. Compute and print the Euclidean (L2) norm of the difference between the page probabilities before and after the transition.\n",
        "> 3. Compute and print the sum of the page probabilities.\n",
        "> 4. Display the page probabilities."
      ]
    },
    {
      "cell_type": "code",
      "execution_count": 5,
      "id": "ed8d76cb",
      "metadata": {
        "id": "ed8d76cb"
      },
      "outputs": [],
      "source": [
        "# Compute probabilities after second state transition\n",
        "## Put your code below\n",
        "\n",
        "\n"
      ]
    },
    {
      "cell_type": "markdown",
      "id": "b94bda45",
      "metadata": {
        "id": "b94bda45"
      },
      "source": [
        "> Note the difference between the Euclidean norms of the differences for the first and second transition calculations. Does the change in this difference from one step to the next indicate the algorithm is converging to the steady state probabilities?  \n",
        "> **End of exercise.**"
      ]
    },
    {
      "cell_type": "markdown",
      "id": "52960810",
      "metadata": {
        "id": "52960810"
      },
      "source": [
        "> **Answer:**               "
      ]
    },
    {
      "cell_type": "markdown",
      "id": "6cfc9527",
      "metadata": {
        "id": "6cfc9527"
      },
      "source": [
        "> **Exercise 04-5:** The question now is how does this simplified version of page rank converge with more iterations? To find out, do the following:   \n",
        "> 1. Create a function `pagerank1` having the following arguments, `the normalized transition matrix`, the `initial page probabilities` and a `convergence threshold value of 0.01`, which does the following:  \n",
        ">    - Initialize a euclidean distance norm variable to 1.0 and the resulting page probabilities to a vector of 0.0 values of length equal to the dimension of the transition matrix.   \n",
        ">    - Set a loop counter to 1.  \n",
        ">    - Use a 'while' loop with termination conditions the euclidean distance norm greater than the threshold value AND the loop counter less than 50.  Inside this loop do the following:  \n",
        ">      1. Update the page probabilities using the `transition` function you created.\n",
        ">      2. Compute the Euclidean norm of the difference between the previous and the updated page probabilities following the transition.   \n",
        ">      3. Print the value of the loop counter and the Euclidean norm of the difference.\n",
        ">      4. Copy the updated page probability vector into the input page probability vector.  \n",
        ">      5. Increment the loop counter by 1.\n",
        ">    - Return the page probabilities at convergence.  \n",
        "> 2. Execute your `pagerank1` function using the transition matrix and initial page probability vector."
      ]
    },
    {
      "cell_type": "code",
      "execution_count": 6,
      "id": "b64228ab",
      "metadata": {
        "colab": {
          "base_uri": "https://localhost:8080/",
          "height": 176
        },
        "id": "b64228ab",
        "outputId": "150e49b7-a965-4cfa-9a3d-8b97b7825217"
      },
      "outputs": [
        {
          "output_type": "error",
          "ename": "NameError",
          "evalue": "name 'M' is not defined",
          "traceback": [
            "\u001b[0;31m---------------------------------------------------------------------------\u001b[0m",
            "\u001b[0;31mNameError\u001b[0m                                 Traceback (most recent call last)",
            "\u001b[0;32m<ipython-input-6-620e13085fff>\u001b[0m in \u001b[0;36m<cell line: 12>\u001b[0;34m()\u001b[0m\n\u001b[1;32m     10\u001b[0m \u001b[0;34m\u001b[0m\u001b[0m\n\u001b[1;32m     11\u001b[0m \u001b[0;31m## Execute your function\u001b[0m\u001b[0;34m\u001b[0m\u001b[0;34m\u001b[0m\u001b[0m\n\u001b[0;32m---> 12\u001b[0;31m \u001b[0mprint\u001b[0m\u001b[0;34m(\u001b[0m\u001b[0;34m'Final state probabilities: '\u001b[0m \u001b[0;34m+\u001b[0m \u001b[0mstr\u001b[0m\u001b[0;34m(\u001b[0m\u001b[0mpagerank1\u001b[0m\u001b[0;34m(\u001b[0m\u001b[0mM\u001b[0m\u001b[0;34m,\u001b[0m\u001b[0mp\u001b[0m\u001b[0;34m)\u001b[0m\u001b[0;34m)\u001b[0m\u001b[0;34m)\u001b[0m\u001b[0;34m\u001b[0m\u001b[0;34m\u001b[0m\u001b[0m\n\u001b[0m",
            "\u001b[0;31mNameError\u001b[0m: name 'M' is not defined"
          ]
        }
      ],
      "source": [
        "# Compute probabilities after a larger number of state transitions\n",
        "def pagerank1(M, in_probs,  threshold = 0.01):\n",
        "    euclidean_dist = 1.0\n",
        "    page_probabilities = np.array([0.0]*len(M))\n",
        "    i = 1\n",
        "    ## Put your code below\n",
        "\n",
        "\n",
        "\n",
        "\n",
        "## Execute your function\n",
        "print('Final state probabilities: ' + str(pagerank1(M,p)))"
      ]
    },
    {
      "cell_type": "markdown",
      "id": "0caeedfd",
      "metadata": {
        "id": "0caeedfd"
      },
      "source": [
        "> Provide short answers for the following questions:  \n",
        "> 1. Judged from the rate of decline of the Euclidean distances, does the algorithm appear to converge rapidly and why?\n",
        "> 2.  Does the rank order of the computed page probabilities make sense given the relative degree of the pages of the directed graph?\n",
        "> **End of exercise.**"
      ]
    },
    {
      "cell_type": "markdown",
      "id": "0e95b5c5",
      "metadata": {
        "id": "0e95b5c5"
      },
      "source": [
        "> **Answers:**   \n",
        "> 1.           \n",
        "> 2.          "
      ]
    },
    {
      "cell_type": "markdown",
      "id": "aee2af4a",
      "metadata": {
        "id": "aee2af4a"
      },
      "source": [
        "### Page Rank by Eigendecomposition\n",
        "\n",
        "Consider the relationship:     \n",
        "\n",
        "$$p_i = M p_{i-1}$$      \n",
        "\n",
        "At convergence $p_i = p_{i-1}$ which suggest an eigenvalue-eigenvector problem for some eigenvalue, $\\lambda$:    \n",
        "\n",
        "$$\\lambda p^* = M p^*$$  \n",
        "\n",
        "For the transition probability matrix with normalized columns, the largest eigenvalue has a magnitude 1.0. The eigenvector associated with this eigenvalue is the PageRank vector. To demonstrate this point, the code in the cell below does the following:     \n",
        "1. Compute the eigendecomposition using [numpy.linalg.eig](https://numpy.org/doc/stable/reference/generated/numpy.linalg.eig.html).     \n",
        "2. Print the magnitude of the eigenvalues.  \n",
        "3. Get the eigenvector associated with the first, largest, eigenvalue.     \n",
        "4. Normalize the eigenvector so the values sum to 1.0 and display the results.    "
      ]
    },
    {
      "cell_type": "code",
      "execution_count": null,
      "id": "2ed1809f",
      "metadata": {
        "id": "2ed1809f"
      },
      "outputs": [],
      "source": [
        "## Put your code below\n",
        "\n",
        "\n",
        "\n",
        "\n",
        "\n",
        "\n"
      ]
    },
    {
      "cell_type": "markdown",
      "id": "752fb6f7",
      "metadata": {
        "id": "752fb6f7"
      },
      "source": [
        "> **Exercise 04-06:** Do the PageRanks computed by the two methods agree to the precision expected with the iterative method?    \n",
        "> **End of exercise.**"
      ]
    },
    {
      "cell_type": "markdown",
      "id": "cce9b1eb",
      "metadata": {
        "id": "cce9b1eb"
      },
      "source": [
        "> **Answer:**                "
      ]
    },
    {
      "cell_type": "markdown",
      "id": "a1959889",
      "metadata": {
        "id": "a1959889"
      },
      "source": [
        "## A More Complicated Example   \n",
        "\n",
        "You will now work with a more complicated example The graph of 6 web pages, shown in Figure 2, is no longer complete. The out degree of page 6 is 0. A random surfer transitioning to page 6 will have no escape, a **spider trap**!\n",
        "\n",
        "<img src=\"../images/Web2.png\" alt=\"Drawing\" style=\"width:500px; height:500px\"/>\n",
        "<center>Figure 3: A small set of web pages with a dead end</center>"
      ]
    },
    {
      "cell_type": "markdown",
      "id": "d4a4270c",
      "metadata": {
        "id": "d4a4270c"
      },
      "source": [
        "> **Exercise 04-7:** You will now create both the normalized transition matrix and the initial page probability vector for the graph of Figure 3. In this exercise you will . Do the following:  \n",
        "> 1. Create the association matrix and save it to a named variable, `A_deadend`. You will need this association marrix for later\n",
        "> 2. Normalize the association matrix using your `norm_association` function. Name your transition matrix `M_deadend`. Print the result.\n",
        "> 3. Create a vector containing the uniformly distributed initial probability values. Save and print the result.   "
      ]
    },
    {
      "cell_type": "code",
      "execution_count": null,
      "id": "82db4316",
      "metadata": {
        "id": "82db4316"
      },
      "outputs": [],
      "source": [
        "## Create the Association Matrix\n",
        "## Put your code below\n",
        "\n",
        "\n",
        "\n",
        "## Normalize the association matrix\n",
        "## Put your code below\n",
        "\n",
        "\n",
        "\n",
        "\n",
        "## Create the equal probability starting values\n",
        "## Put your code below\n",
        "\n",
        "\n"
      ]
    },
    {
      "cell_type": "markdown",
      "id": "210965cd",
      "metadata": {
        "id": "210965cd"
      },
      "source": [
        "> Examine your results. Are the 0 values for the transition probabilities of page 6 consistent with the graph of these pages? and why?      \n",
        "> **End of exercise.**     "
      ]
    },
    {
      "cell_type": "markdown",
      "id": "05e70927",
      "metadata": {
        "id": "05e70927"
      },
      "source": [
        "> **Answers:**        "
      ]
    },
    {
      "cell_type": "markdown",
      "id": "3fab8ae8",
      "metadata": {
        "id": "3fab8ae8"
      },
      "source": [
        "### Apply Simple PageRank Algorithm\n",
        "\n",
        "> **Exercises 04-8:** What happens if you apply the simplified PageRank algorithm to the pages on a graph that is not complete, like the one shown in Figure 2? To find out, execute your `pagerank1` function with arguments `M_deadend`, `p_deadend` and `threshold=0.00001`. The smaller threshold value is to ensure convergence."
      ]
    },
    {
      "cell_type": "code",
      "execution_count": null,
      "id": "dc2a2658",
      "metadata": {
        "id": "dc2a2658"
      },
      "outputs": [],
      "source": [
        "## Put your code below\n",
        "\n"
      ]
    },
    {
      "cell_type": "markdown",
      "id": "6380ffe4",
      "metadata": {
        "id": "6380ffe4"
      },
      "source": [
        "> Now, create and execute code to compute and display the eigenvalues and eigenvectors of the `M_deadend`. Then display the magnitudes of the eigenvalues, and the normalized values of the first eigenvalue (column 0).    "
      ]
    },
    {
      "cell_type": "code",
      "execution_count": null,
      "id": "878b096e",
      "metadata": {
        "id": "878b096e"
      },
      "outputs": [],
      "source": [
        "## Put you code below\n",
        "\n",
        "\n"
      ]
    },
    {
      "cell_type": "markdown",
      "id": "e59ad36a",
      "metadata": {
        "id": "e59ad36a"
      },
      "source": [
        "> Answer the following questions:  \n",
        "> 1. Examine the page probabilities computed with the iterative methods. Do these PageRank values sum to 1.0 and why is this outcome a problem?       \n",
        "> 2. Examine the eigenvalues of the `M_deadend` matrix. What problem can you see with these eigenvalues?\n",
        "> 3. Notice the PageRank values have only 0 values. What does this tell you about the convergence of a random surfer on this graph?             \n",
        "> **End of exercise.**"
      ]
    },
    {
      "cell_type": "markdown",
      "id": "87a35139",
      "metadata": {
        "id": "87a35139"
      },
      "source": [
        "> **Answers:**   \n",
        "> 1.           \n",
        "> 2.              \n",
        "> 3.          "
      ]
    },
    {
      "cell_type": "markdown",
      "id": "b2a48973",
      "metadata": {
        "id": "b2a48973"
      },
      "source": [
        "### Damped PageRank Algorithm\n",
        "\n",
        "It is clear from the results of the foregoing exercise that the simple PageRank algorithm does not converge to a usable set of page probabilities when faced with graph that is not complete.Fortunately, there is a simple fix, add a damping term. You can think of the damping term as allowing a random surfer to make an arbitrary transition or jump with some small probability. These random jumps help the random surfer to better explore the graph and to escape from spider traps. The jump probabilities from states, $p_i$, are a function of the damping factor $d$:\n",
        "\n",
        "$$Jump\\ Probability = \\frac{(1-d)}{n}$$\n",
        "\n",
        "Where $n$ is the dimension of the transition probability matrix.\n",
        "\n",
        "The updated page probabilities, $p_i$, are then computed with the damped PageRank algorithm as:   \n",
        "\n",
        "$$p_{i} = d * M p_{i-1} + \\frac{(1-d)}{n}$$\n",
        "\n",
        "Where $M$ is the transition probability matrix and p are the initial page probability values.   "
      ]
    },
    {
      "cell_type": "markdown",
      "id": "f4cf21d2",
      "metadata": {
        "id": "f4cf21d2"
      },
      "source": [
        "> **Exercise 04-9:** To implement the PageRank algorithm with a damping factor do the following:  \n",
        "> 1. Create a `transition_damped` function with arguments, the transition probability matrix, the initial page probabilities, and the damping factor, $d=0.85$, which does the following:  \n",
        ">   - Compute the updated page probabili|ties by computing the inner (dot) product of the transition probability matrix with the page probabilities and then multiplying by the damping factor, `d`.    \n",
        ">   - Compute the jump probabilities vector of length the dimension of the transition matrix. Note: the jump probabilities are constant, so you can create code that only computes them once if you so choose.      \n",
        ">   - Return the sum of the damped page probabilities and the jump probabilities.  \n",
        "> 2. Create a `pagerank_damped` function. This function is identical to the `pagerank1` function you already created except that it uses the `transiton_damped` function in place of the `transition` function.  \n",
        "> 3. Call your `pagerank_damped` function using arguments of `M_deadend`, `p_deadend` and `threshold=0.0001` and display the final PageRank vector.\n",
        "> . Compute and display the sum of the values in the PageRank vector."
      ]
    },
    {
      "cell_type": "code",
      "execution_count": null,
      "id": "ca90f6a8",
      "metadata": {
        "id": "ca90f6a8"
      },
      "outputs": [],
      "source": [
        "## Add a damping facgtor to the transiton\n",
        "def transition_damped(transition_probs, probs, d=0.85):\n",
        "    '''Function to compute the probabilities resulting from a\n",
        "    single transition of a Markov process including a damping\n",
        "    factor to deal with dead ends'''\n",
        "    ## Put your code below\n",
        "\n",
        "\n",
        "\n",
        "def pagerank_damped(M, in_probs, d=0.85, threshold = 0.01):\n",
        "    ## function for the PageRank algorithm using the damped transition algorithm\n",
        "    ## Put your code below\n",
        "\n",
        "\n",
        "\n",
        "    return page_probabilities\n",
        "\n",
        "## Execute your funciton\n",
        "damped_rank = pagerank_damped(M_deadend,p_deadend,threshold=0.0001)\n",
        "print(f\"Sum of the PageRank values = {sum(damped_rank)}\")\n",
        "print('Final state probabilities: ' + str(damped_rank))"
      ]
    },
    {
      "cell_type": "markdown",
      "id": "b4abd795",
      "metadata": {
        "id": "b4abd795"
      },
      "source": [
        "> Provide short answers to the following questions:   \n",
        "> 1. Examine the final page probabilities. Does the rank of these page probabilities make sense given the in degree of the pages of this graph?   \n",
        "> 2. Why is it reasonable that the sum of the PageRanks is $< 1.0$?"
      ]
    },
    {
      "cell_type": "markdown",
      "id": "c7927665",
      "metadata": {
        "id": "c7927665"
      },
      "source": [
        "> **Answers:**     \n",
        "> 1.            \n",
        "> 2.             "
      ]
    },
    {
      "cell_type": "markdown",
      "id": "e3d6222f",
      "metadata": {
        "id": "e3d6222f"
      },
      "source": [
        "> Next you will examine the some properties of the damped matrix, $M$. You will do so by the following steps:    \n",
        "> 4. Create a Numpy array of $M$ including the damping, with a damping factor, $d = 0.85$. Display this matrix.  \n",
        "> 5. Compute and display the column sums of the damped matrix.  "
      ]
    },
    {
      "cell_type": "code",
      "execution_count": null,
      "id": "871f9530",
      "metadata": {
        "id": "871f9530"
      },
      "outputs": [],
      "source": [
        "## Put your code below\n",
        "\n",
        "\n",
        "\n",
        "\n",
        "\n",
        "\n",
        "\n",
        "\n"
      ]
    },
    {
      "cell_type": "markdown",
      "id": "3ca1e229",
      "metadata": {
        "id": "3ca1e229"
      },
      "source": [
        "> Examine your results and asnwer these questions:   \n",
        "> 3. How does this array allow the random surfer to 'teleport' (or transition) from any page to any other page even when there is no directed edge?   \n",
        "> 4. Why are the column sums reasonable dispite the obvious devision from aximonatic probability theory?      \n",
        "> **End of exervise.**"
      ]
    },
    {
      "cell_type": "markdown",
      "id": "8ed866eb",
      "metadata": {
        "id": "8ed866eb"
      },
      "source": [
        "> **Answers:**    \n",
        "> 3.       \n",
        "> 4.        "
      ]
    },
    {
      "cell_type": "markdown",
      "id": "a070f23d",
      "metadata": {
        "id": "a070f23d"
      },
      "source": [
        "## Hubs, Authorities, and the HITS Algorithm  \n",
        "\n",
        "The hubs and authorities model is an alternative to PageRank. Rather than using a single metric to rank the importance of web pages, the **HITS** algorithm iteratively updates the **hub score** and **authority score** for each of the pages.\n",
        "\n",
        "The HITS algorithm updates the authority and hub scores iteratively. The authority score is sum of the hubs linked to it. This is computed by the matrix product of the association matrix and hubness vector:\n",
        "$$𝑎= \\beta 𝐴 ℎ$$\n",
        "\n",
        "Hub score is sum of the authorities it links to. The hub score (hubness) is compute by the matrix produce of the authority scores and the transpose of the association matrix:\n",
        "$$ℎ= \\alpha 𝐴^𝑇 a$$\n",
        "\n",
        "The algorithm iterates between updates to $𝑎$ and $ℎ$ until convergence. To ensure convergence, must normalize $𝑎$ and $ℎ$ to have unit Euclidean norm at each iteration. Therefore, the choice of $\\alpha$ and $\\beta$ are can therefore be set to a value of 1.0, and effectively ignored.       "
      ]
    },
    {
      "cell_type": "markdown",
      "id": "57d9ff8d",
      "metadata": {
        "id": "57d9ff8d"
      },
      "source": [
        "> **Exercise 04-10:** To understand the HITS algorithm you will now create and test code for this algorithm. Follow these steps:  \n",
        "> 1. Create a function called `HITS` with arguments of the association matrix, initial hub vector, initial authority vector, and the number of iterations of the algorithm to run. This function does the following inside a loop over the number of iterations:  \n",
        ">    1. Updates the authority vector using the association matrix and the hub vector as argument to the `transition` function.\n",
        ">    2. Normalizes the authority vector by using `numpy.divide` with arguments of the updated authority vector and its L2 norm, computed with [numpy.linalg.norm](https://numpy.org/doc/stable/reference/generated/numpy.linalg.norm.html).  \n",
        ">    3. Updates the hub vector using the transpose of the association matrix and the authority vector as argument to the `transition` function.\n",
        ">    4. Normalizes the hub vector by using `numpy.divide` with arguments of the updated hub vector and its L2 norm, computed with `numpy.linalg.norm`.  \n",
        "> 2. The function returns both the hub and authority vectors\n",
        "> 3. Initialize an initial hub and authority vector of length the dimension of the association matrix with uniformly distributed values of $\\frac{1.0}{dimension(association\\ matrix)}$.  \n",
        "> 4. Display the resulting hub and authority vectors.  \n",
        "> 5. Execute your function using the association matrix for the 6-page network and the initial hub and authority vectors as arguments."
      ]
    },
    {
      "cell_type": "code",
      "execution_count": null,
      "id": "b5426080",
      "metadata": {
        "id": "b5426080"
      },
      "outputs": [],
      "source": [
        "def HITS(association, hub, authority, iters=100):\n",
        "    ## Put your code below\n",
        "\n",
        "\n",
        "\n",
        "\n",
        "    return hub, authority\n",
        "\n",
        "## Compute the intial hub and authority vectors\n",
        "## Put your code below\n",
        "\n",
        "\n",
        "\n",
        "## Execute your funciton\n",
        "hubness, authority = HITS(A_deadend, hub_start, auth_start)\n",
        "print(f\"The hub ranks = {hubness}\")\n",
        "print(f\"The authority ranks = {authority}\")"
      ]
    },
    {
      "cell_type": "markdown",
      "id": "95066c88",
      "metadata": {
        "id": "95066c88"
      },
      "source": [
        "> Examine your results and answer the following questions:\n",
        "> 1. Which three of the pages have the highest hub scores? Considering the graph of the pages, is this ordering consistent?  \n",
        "> 2. Notice the last value of the hub scores. Is this value expected given the graph of the pages?\n",
        "> 3. Which three of the pages have the highest authority. Given the in degree of the pages is this ranking consistent?  \n",
        "> 4. Compare the ranking of the pages based on authority that found with damped PageRank. Are these results consistent?\n",
        "> **End of exercise.**"
      ]
    },
    {
      "cell_type": "markdown",
      "id": "08eb85c2",
      "metadata": {
        "id": "08eb85c2"
      },
      "source": [
        "> **Answers:**     \n",
        "> 1.       \n",
        "> 2.       \n",
        "> 3.          \n",
        "> 4.         "
      ]
    },
    {
      "cell_type": "markdown",
      "id": "f99ee12d",
      "metadata": {
        "id": "f99ee12d"
      },
      "source": [
        "#### Copyright 2021, 2022, 2023, 2024 Stephen F Elston. All rights reserved."
      ]
    },
    {
      "cell_type": "code",
      "execution_count": null,
      "id": "40de75c8",
      "metadata": {
        "id": "40de75c8"
      },
      "outputs": [],
      "source": []
    }
  ],
  "metadata": {
    "kernelspec": {
      "display_name": "Python 3 (ipykernel)",
      "language": "python",
      "name": "python3"
    },
    "language_info": {
      "codemirror_mode": {
        "name": "ipython",
        "version": 3
      },
      "file_extension": ".py",
      "mimetype": "text/x-python",
      "name": "python",
      "nbconvert_exporter": "python",
      "pygments_lexer": "ipython3",
      "version": "3.9.18"
    },
    "colab": {
      "provenance": []
    }
  },
  "nbformat": 4,
  "nbformat_minor": 5
}